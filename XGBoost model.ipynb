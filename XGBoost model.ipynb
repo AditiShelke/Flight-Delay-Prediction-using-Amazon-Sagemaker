{
 "cells": [
  {
   "attachments": {},
   "cell_type": "markdown",
   "metadata": {},
   "source": [
    "##### inferences Drawn 2: After performing Feature Engineering \n",
    "### Sensitivity or True Positive Rate (TPR): 5.70%\n",
    "The model correctly identified 5.70% of the positive instances (delayed due to weather) in the test data. This is an improvement compared to the previous result where sensitivity was 0%\n",
    "\n",
    "### Validation AUC (Area Under the ROC Curve): 0.52\n",
    "\n",
    "The AUC score has increased slightly from 0.5 to 0.52. While it's an improvement, the AUC is still close to 0.5, indicating that the model's ability to distinguish between the two classes is not significantly better than random guessing."
   ]
  },
  {
   "cell_type": "markdown",
   "metadata": {},
   "source": [
    "\n",
    "The linear model shows only a little improvement in performance. Try a tree-based ensemble model, which is called *XGBoost*, with Amazon SageMaker."
   ]
  },
  {
   "attachments": {},
   "cell_type": "markdown",
   "metadata": {},
   "source": [
    "### Try the XGBoost model"
   ]
  },
  {
   "cell_type": "code",
   "execution_count": 91,
   "metadata": {
    "tags": []
   },
   "outputs": [
    {
     "name": "stderr",
     "output_type": "stream",
     "text": [
      "INFO:botocore.credentials:Found credentials from IAM Role: BaseNotebookInstanceEc2InstanceRole\n"
     ]
    }
   ],
   "source": [
    "bucket='c86706a1848129l4268063t1w92709148693-flightbucket-1f9k2kig68rxi'\n",
    "prefix='flight-xgb'\n",
    "train_file='flight_train.csv'\n",
    "test_file='flight_test.csv'\n",
    "validate_file='flight_validate.csv'\n",
    "whole_file='flight.csv'\n",
    "s3_resource = boto3.Session().resource('s3')\n",
    "\n",
    "def upload_s3_csv(filename, folder, dataframe):\n",
    "    csv_buffer = io.StringIO()\n",
    "    dataframe.to_csv(csv_buffer, header=False, index=False )\n",
    "    s3_resource.Bucket(bucket).Object(os.path.join(prefix, folder, filename)).put(Body=csv_buffer.getvalue())\n",
    "\n",
    "upload_s3_csv(train_file, 'train', train)\n",
    "upload_s3_csv(test_file, 'test', test)\n",
    "upload_s3_csv(validate_file, 'validate', validate)"
   ]
  },
  {
   "cell_type": "code",
   "execution_count": 92,
   "metadata": {
    "tags": []
   },
   "outputs": [],
   "source": [
    "train_channel = sagemaker.inputs.TrainingInput(\n",
    "    \"s3://{}/{}/train/\".format(bucket,prefix,train_file),\n",
    "    content_type='text/csv')\n",
    "\n",
    "validate_channel = sagemaker.inputs.TrainingInput(\n",
    "    \"s3://{}/{}/validate/\".format(bucket,prefix,validate_file),\n",
    "    content_type='text/csv')\n",
    "\n",
    "data_channels = {'train': train_channel, 'validation': validate_channel}"
   ]
  },
  {
   "cell_type": "code",
   "execution_count": 93,
   "metadata": {
    "tags": []
   },
   "outputs": [
    {
     "name": "stderr",
     "output_type": "stream",
     "text": [
      "INFO:sagemaker.image_uris:Defaulting to only available Python version: py3\n",
      "INFO:sagemaker.image_uris:Defaulting to only supported image scope: cpu.\n"
     ]
    }
   ],
   "source": [
    "from sagemaker.image_uris import retrieve\n",
    "container = retrieve('xgboost',boto3.Session().region_name,'1.0-1')"
   ]
  },
  {
   "cell_type": "code",
   "execution_count": 94,
   "metadata": {
    "tags": []
   },
   "outputs": [
    {
     "name": "stderr",
     "output_type": "stream",
     "text": [
      "INFO:sagemaker:Creating training-job with name: sagemaker-xgboost-2023-06-14-08-14-51-532\n"
     ]
    },
    {
     "name": "stdout",
     "output_type": "stream",
     "text": [
      "2023-06-14 08:14:51 Starting - Starting the training job......\n",
      "2023-06-14 08:15:23 Starting - Preparing the instances for training......\n",
      "2023-06-14 08:16:44 Downloading - Downloading input data......\n",
      "2023-06-14 08:17:24 Training - Downloading the training image...\n",
      "2023-06-14 08:17:55 Training - Training image download completed. Training in progress.\u001b[34m[2023-06-14 08:18:11.962 ip-10-0-208-193.ec2.internal:7 INFO utils.py:27] RULE_JOB_STOP_SIGNAL_FILENAME: None\u001b[0m\n",
      "\u001b[34mINFO:sagemaker-containers:Imported framework sagemaker_xgboost_container.training\u001b[0m\n",
      "\u001b[34mINFO:sagemaker-containers:Failed to parse hyperparameter eval_metric value auc to Json.\u001b[0m\n",
      "\u001b[34mReturning the value itself\u001b[0m\n",
      "\u001b[34mINFO:sagemaker-containers:Failed to parse hyperparameter objective value binary:logistic to Json.\u001b[0m\n",
      "\u001b[34mReturning the value itself\u001b[0m\n",
      "\u001b[34mINFO:sagemaker-containers:No GPUs detected (normal if no gpus installed)\u001b[0m\n",
      "\u001b[34mINFO:sagemaker_xgboost_container.training:Running XGBoost Sagemaker in algorithm mode\u001b[0m\n",
      "\u001b[34mINFO:root:Determined delimiter of CSV input is ','\u001b[0m\n",
      "\u001b[34mINFO:root:Determined delimiter of CSV input is ','\u001b[0m\n",
      "\u001b[34mINFO:root:Determined delimiter of CSV input is ','\u001b[0m\n",
      "\u001b[34mINFO:root:Determined delimiter of CSV input is ','\u001b[0m\n",
      "\u001b[34mINFO:root:Single node training.\u001b[0m\n",
      "\u001b[34m[08:18:16] 1308472x84 matrix with 109911648 entries loaded from /opt/ml/input/data/train?format=csv&label_column=0&delimiter=,\u001b[0m\n",
      "\u001b[34m[08:18:17] 163559x84 matrix with 13738956 entries loaded from /opt/ml/input/data/validation?format=csv&label_column=0&delimiter=,\u001b[0m\n",
      "\u001b[34m[2023-06-14 08:18:17.496 ip-10-0-208-193.ec2.internal:7 INFO json_config.py:91] Creating hook from json_config at /opt/ml/input/config/debughookconfig.json.\u001b[0m\n",
      "\u001b[34m[2023-06-14 08:18:17.497 ip-10-0-208-193.ec2.internal:7 INFO hook.py:201] tensorboard_dir has not been set for the hook. SMDebug will not be exporting tensorboard summaries.\u001b[0m\n",
      "\u001b[34m[2023-06-14 08:18:17.497 ip-10-0-208-193.ec2.internal:7 INFO profiler_config_parser.py:102] User has disabled profiler.\u001b[0m\n",
      "\u001b[34m[2023-06-14 08:18:17.498 ip-10-0-208-193.ec2.internal:7 INFO hook.py:255] Saving to /opt/ml/output/tensors\u001b[0m\n",
      "\u001b[34m[2023-06-14 08:18:17.498 ip-10-0-208-193.ec2.internal:7 INFO state_store.py:77] The checkpoint config file /opt/ml/input/config/checkpointconfig.json does not exist.\u001b[0m\n",
      "\u001b[34mINFO:root:Debug hook created from config\u001b[0m\n",
      "\u001b[34mINFO:root:Train matrix has 1308472 rows\u001b[0m\n",
      "\u001b[34mINFO:root:Validation matrix has 163559 rows\u001b[0m\n",
      "\u001b[34m[0]#011train-auc:0.65409#011validation-auc:0.65282\u001b[0m\n",
      "\u001b[34m[2023-06-14 08:18:22.623 ip-10-0-208-193.ec2.internal:7 INFO hook.py:423] Monitoring the collections: metrics\u001b[0m\n",
      "\u001b[34m[2023-06-14 08:18:22.626 ip-10-0-208-193.ec2.internal:7 INFO hook.py:486] Hook is writing from the hook with pid: 7\u001b[0m\n",
      "\u001b[34m[1]#011train-auc:0.66252#011validation-auc:0.66080\u001b[0m\n",
      "\u001b[34m[2]#011train-auc:0.67051#011validation-auc:0.66872\u001b[0m\n",
      "\u001b[34m[3]#011train-auc:0.67256#011validation-auc:0.67075\u001b[0m\n",
      "\u001b[34m[4]#011train-auc:0.67622#011validation-auc:0.67436\u001b[0m\n",
      "\u001b[34m[5]#011train-auc:0.67900#011validation-auc:0.67704\u001b[0m\n",
      "\u001b[34m[6]#011train-auc:0.68113#011validation-auc:0.67935\u001b[0m\n",
      "\u001b[34m[7]#011train-auc:0.68402#011validation-auc:0.68220\u001b[0m\n",
      "\u001b[34m[8]#011train-auc:0.68574#011validation-auc:0.68431\u001b[0m\n",
      "\u001b[34m[9]#011train-auc:0.68820#011validation-auc:0.68695\u001b[0m\n",
      "\u001b[34m[10]#011train-auc:0.68951#011validation-auc:0.68817\u001b[0m\n",
      "\u001b[34m[11]#011train-auc:0.69093#011validation-auc:0.68967\u001b[0m\n",
      "\u001b[34m[12]#011train-auc:0.69295#011validation-auc:0.69174\u001b[0m\n",
      "\u001b[34m[13]#011train-auc:0.69450#011validation-auc:0.69339\u001b[0m\n",
      "\u001b[34m[14]#011train-auc:0.69639#011validation-auc:0.69526\u001b[0m\n",
      "\u001b[34m[15]#011train-auc:0.69703#011validation-auc:0.69585\u001b[0m\n",
      "\u001b[34m[16]#011train-auc:0.69839#011validation-auc:0.69732\u001b[0m\n",
      "\u001b[34m[17]#011train-auc:0.70000#011validation-auc:0.69896\u001b[0m\n",
      "\u001b[34m[18]#011train-auc:0.70176#011validation-auc:0.70076\u001b[0m\n",
      "\u001b[34m[19]#011train-auc:0.70269#011validation-auc:0.70174\u001b[0m\n",
      "\u001b[34m[20]#011train-auc:0.70363#011validation-auc:0.70261\u001b[0m\n",
      "\u001b[34m[21]#011train-auc:0.70481#011validation-auc:0.70383\u001b[0m\n",
      "\u001b[34m[22]#011train-auc:0.70574#011validation-auc:0.70476\u001b[0m\n",
      "\u001b[34m[23]#011train-auc:0.70652#011validation-auc:0.70551\u001b[0m\n",
      "\u001b[34m[24]#011train-auc:0.70769#011validation-auc:0.70673\u001b[0m\n",
      "\u001b[34m[25]#011train-auc:0.70843#011validation-auc:0.70742\u001b[0m\n",
      "\u001b[34m[26]#011train-auc:0.70977#011validation-auc:0.70863\u001b[0m\n",
      "\u001b[34m[27]#011train-auc:0.71049#011validation-auc:0.70935\u001b[0m\n",
      "\u001b[34m[28]#011train-auc:0.71110#011validation-auc:0.70991\u001b[0m\n",
      "\u001b[34m[29]#011train-auc:0.71155#011validation-auc:0.71031\u001b[0m\n",
      "\u001b[34m[30]#011train-auc:0.71242#011validation-auc:0.71114\u001b[0m\n",
      "\u001b[34m[31]#011train-auc:0.71279#011validation-auc:0.71138\u001b[0m\n",
      "\u001b[34m[32]#011train-auc:0.71346#011validation-auc:0.71203\u001b[0m\n",
      "\u001b[34m[33]#011train-auc:0.71395#011validation-auc:0.71242\u001b[0m\n",
      "\u001b[34m[34]#011train-auc:0.71468#011validation-auc:0.71297\u001b[0m\n",
      "\u001b[34m[35]#011train-auc:0.71513#011validation-auc:0.71333\u001b[0m\n",
      "\u001b[34m[36]#011train-auc:0.71669#011validation-auc:0.71476\u001b[0m\n",
      "\u001b[34m[37]#011train-auc:0.71725#011validation-auc:0.71523\u001b[0m\n",
      "\u001b[34m[38]#011train-auc:0.71800#011validation-auc:0.71593\u001b[0m\n",
      "\u001b[34m[39]#011train-auc:0.71845#011validation-auc:0.71641\u001b[0m\n",
      "\u001b[34m[40]#011train-auc:0.71903#011validation-auc:0.71688\u001b[0m\n",
      "\u001b[34m[41]#011train-auc:0.71943#011validation-auc:0.71729\u001b[0m\n",
      "\u001b[34m[42]#011train-auc:0.72053#011validation-auc:0.71823\u001b[0m\n",
      "\u001b[34m[43]#011train-auc:0.72082#011validation-auc:0.71853\u001b[0m\n",
      "\u001b[34m[44]#011train-auc:0.72104#011validation-auc:0.71869\u001b[0m\n",
      "\u001b[34m[45]#011train-auc:0.72122#011validation-auc:0.71880\u001b[0m\n",
      "\u001b[34m[46]#011train-auc:0.72149#011validation-auc:0.71898\u001b[0m\n",
      "\u001b[34m[47]#011train-auc:0.72182#011validation-auc:0.71924\u001b[0m\n",
      "\u001b[34m[48]#011train-auc:0.72207#011validation-auc:0.71946\u001b[0m\n",
      "\u001b[34m[49]#011train-auc:0.72245#011validation-auc:0.71972\u001b[0m\n",
      "\u001b[34m[50]#011train-auc:0.72263#011validation-auc:0.71996\u001b[0m\n",
      "\u001b[34m[51]#011train-auc:0.72305#011validation-auc:0.72039\u001b[0m\n",
      "\u001b[34m[52]#011train-auc:0.72356#011validation-auc:0.72078\u001b[0m\n",
      "\u001b[34m[53]#011train-auc:0.72371#011validation-auc:0.72084\u001b[0m\n",
      "\u001b[34m[54]#011train-auc:0.72394#011validation-auc:0.72103\u001b[0m\n",
      "\u001b[34m[55]#011train-auc:0.72400#011validation-auc:0.72111\u001b[0m\n",
      "\u001b[34m[56]#011train-auc:0.72418#011validation-auc:0.72121\u001b[0m\n",
      "\u001b[34m[57]#011train-auc:0.72450#011validation-auc:0.72149\u001b[0m\n",
      "\u001b[34m[58]#011train-auc:0.72499#011validation-auc:0.72190\u001b[0m\n",
      "\u001b[34m[59]#011train-auc:0.72514#011validation-auc:0.72201\u001b[0m\n",
      "\u001b[34m[60]#011train-auc:0.72542#011validation-auc:0.72225\u001b[0m\n",
      "\u001b[34m[61]#011train-auc:0.72561#011validation-auc:0.72241\u001b[0m\n",
      "\u001b[34m[62]#011train-auc:0.72604#011validation-auc:0.72282\u001b[0m\n",
      "\u001b[34m[63]#011train-auc:0.72623#011validation-auc:0.72303\u001b[0m\n",
      "\u001b[34m[64]#011train-auc:0.72675#011validation-auc:0.72351\u001b[0m\n",
      "\u001b[34m[65]#011train-auc:0.72693#011validation-auc:0.72366\u001b[0m\n",
      "\u001b[34m[66]#011train-auc:0.72725#011validation-auc:0.72392\u001b[0m\n",
      "\u001b[34m[67]#011train-auc:0.72759#011validation-auc:0.72416\u001b[0m\n",
      "\u001b[34m[68]#011train-auc:0.72762#011validation-auc:0.72419\u001b[0m\n",
      "\u001b[34m[69]#011train-auc:0.72777#011validation-auc:0.72432\u001b[0m\n",
      "\u001b[34m[70]#011train-auc:0.72798#011validation-auc:0.72451\u001b[0m\n",
      "\u001b[34m[71]#011train-auc:0.72835#011validation-auc:0.72487\u001b[0m\n",
      "\u001b[34m[72]#011train-auc:0.72870#011validation-auc:0.72523\u001b[0m\n",
      "\u001b[34m[73]#011train-auc:0.72927#011validation-auc:0.72567\u001b[0m\n",
      "\u001b[34m[74]#011train-auc:0.72944#011validation-auc:0.72580\u001b[0m\n",
      "\u001b[34m[75]#011train-auc:0.72959#011validation-auc:0.72592\u001b[0m\n",
      "\u001b[34m[76]#011train-auc:0.72971#011validation-auc:0.72599\u001b[0m\n",
      "\u001b[34m[77]#011train-auc:0.72990#011validation-auc:0.72610\u001b[0m\n",
      "\u001b[34m[78]#011train-auc:0.73020#011validation-auc:0.72638\u001b[0m\n",
      "\u001b[34m[79]#011train-auc:0.73034#011validation-auc:0.72647\u001b[0m\n",
      "\u001b[34m[80]#011train-auc:0.73049#011validation-auc:0.72660\u001b[0m\n",
      "\u001b[34m[81]#011train-auc:0.73073#011validation-auc:0.72682\u001b[0m\n",
      "\u001b[34m[82]#011train-auc:0.73083#011validation-auc:0.72688\u001b[0m\n",
      "\u001b[34m[83]#011train-auc:0.73117#011validation-auc:0.72714\u001b[0m\n",
      "\u001b[34m[84]#011train-auc:0.73138#011validation-auc:0.72730\u001b[0m\n",
      "\u001b[34m[85]#011train-auc:0.73148#011validation-auc:0.72739\u001b[0m\n",
      "\u001b[34m[86]#011train-auc:0.73174#011validation-auc:0.72762\u001b[0m\n",
      "\u001b[34m[87]#011train-auc:0.73215#011validation-auc:0.72801\u001b[0m\n",
      "\u001b[34m[88]#011train-auc:0.73240#011validation-auc:0.72820\u001b[0m\n",
      "\u001b[34m[89]#011train-auc:0.73258#011validation-auc:0.72827\u001b[0m\n",
      "\u001b[34m[90]#011train-auc:0.73278#011validation-auc:0.72847\u001b[0m\n",
      "\u001b[34m[91]#011train-auc:0.73306#011validation-auc:0.72876\u001b[0m\n",
      "\u001b[34m[92]#011train-auc:0.73309#011validation-auc:0.72879\u001b[0m\n",
      "\u001b[34m[93]#011train-auc:0.73335#011validation-auc:0.72899\u001b[0m\n",
      "\u001b[34m[94]#011train-auc:0.73354#011validation-auc:0.72913\u001b[0m\n",
      "\u001b[34m[95]#011train-auc:0.73389#011validation-auc:0.72944\u001b[0m\n",
      "\u001b[34m[96]#011train-auc:0.73403#011validation-auc:0.72957\u001b[0m\n",
      "\u001b[34m[97]#011train-auc:0.73410#011validation-auc:0.72963\u001b[0m\n",
      "\u001b[34m[98]#011train-auc:0.73425#011validation-auc:0.72975\u001b[0m\n",
      "\u001b[34m[99]#011train-auc:0.73428#011validation-auc:0.72977\u001b[0m\n",
      "\n",
      "2023-06-14 08:22:33 Uploading - Uploading generated training model\n",
      "2023-06-14 08:22:33 Completed - Training job completed\n",
      "Training seconds: 349\n",
      "Billable seconds: 349\n"
     ]
    }
   ],
   "source": [
    "sess = sagemaker.Session()\n",
    "s3_output_location=\"s3://{}/{}/output/\".format(bucket,prefix)\n",
    "\n",
    "xgb = sagemaker.estimator.Estimator(container,\n",
    "                                    role = sagemaker.get_execution_role(), \n",
    "                                    instance_count=1, \n",
    "                                    instance_type=instance_type,\n",
    "                                    output_path=s3_output_location,\n",
    "                                    sagemaker_session=sess)\n",
    "xgb.set_hyperparameters(max_depth=5,\n",
    "                        eta=0.2,\n",
    "                        gamma=4,\n",
    "                        min_child_weight=6,\n",
    "                        subsample=0.8,\n",
    "                        silent=0,\n",
    "                        objective='binary:logistic',\n",
    "                        eval_metric = \"auc\", \n",
    "                        num_round=100)\n",
    "\n",
    "xgb.fit(inputs=data_channels)"
   ]
  },
  {
   "attachments": {},
   "cell_type": "markdown",
   "metadata": {},
   "source": [
    "Use the batch transformer for your new model, and evaluate the model on the test dataset."
   ]
  },
  {
   "cell_type": "code",
   "execution_count": 95,
   "metadata": {
    "tags": []
   },
   "outputs": [],
   "source": [
    "batch_X = test.iloc[:,1:];\n",
    "batch_X_file='batch-in.csv'\n",
    "upload_s3_csv(batch_X_file, 'batch-in', batch_X)"
   ]
  },
  {
   "cell_type": "code",
   "execution_count": 96,
   "metadata": {
    "tags": []
   },
   "outputs": [
    {
     "name": "stderr",
     "output_type": "stream",
     "text": [
      "INFO:sagemaker:Creating model with name: sagemaker-xgboost-2023-06-14-08-23-14-165\n",
      "INFO:sagemaker:Creating transform job with name: sagemaker-xgboost-2023-06-14-08-23-14-872\n"
     ]
    },
    {
     "name": "stdout",
     "output_type": "stream",
     "text": [
      "..................................\u001b[34m[2023-06-14:08:28:51:INFO] No GPUs detected (normal if no gpus installed)\u001b[0m\n",
      "\u001b[34m[2023-06-14:08:28:51:INFO] No GPUs detected (normal if no gpus installed)\u001b[0m\n",
      "\u001b[34m[2023-06-14:08:28:51:INFO] nginx config: \u001b[0m\n",
      "\u001b[34mworker_processes auto;\u001b[0m\n",
      "\u001b[34mdaemon off;\u001b[0m\n",
      "\u001b[34mpid /tmp/nginx.pid;\u001b[0m\n",
      "\u001b[34merror_log  /dev/stderr;\u001b[0m\n",
      "\u001b[34mworker_rlimit_nofile 4096;\u001b[0m\n",
      "\u001b[34mevents {\n",
      "  worker_connections 2048;\u001b[0m\n",
      "\u001b[34m}\u001b[0m\n",
      "\u001b[34mhttp {\n",
      "  include /etc/nginx/mime.types;\n",
      "  default_type application/octet-stream;\n",
      "  access_log /dev/stdout combined;\n",
      "  upstream gunicorn {\n",
      "    server unix:/tmp/gunicorn.sock;\n",
      "  }\n",
      "  server {\n",
      "    listen 8080 deferred;\n",
      "    client_max_body_size 0;\n",
      "    keepalive_timeout 3;\n",
      "    location ~ ^/(ping|invocations|execution-parameters) {\n",
      "      proxy_set_header X-Forwarded-For $proxy_add_x_forwarded_for;\n",
      "      proxy_set_header Host $http_host;\n",
      "      proxy_redirect off;\n",
      "      proxy_read_timeout 60s;\n",
      "      proxy_pass http://gunicorn;\n",
      "    }\n",
      "    location / {\n",
      "      return 404 \"{}\";\n",
      "    }\n",
      "  }\u001b[0m\n",
      "\u001b[34m}\u001b[0m\n",
      "\u001b[34m[2023-06-14 08:28:51 +0000] [19] [INFO] Starting gunicorn 19.10.0\u001b[0m\n",
      "\u001b[34m[2023-06-14 08:28:51 +0000] [19] [INFO] Listening at: unix:/tmp/gunicorn.sock (19)\u001b[0m\n",
      "\u001b[34m[2023-06-14 08:28:51 +0000] [19] [INFO] Using worker: gevent\u001b[0m\n",
      "\u001b[34m[2023-06-14 08:28:51 +0000] [26] [INFO] Booting worker with pid: 26\u001b[0m\n",
      "\u001b[34m[2023-06-14 08:28:52 +0000] [27] [INFO] Booting worker with pid: 27\u001b[0m\n",
      "\u001b[34m[2023-06-14 08:28:52 +0000] [28] [INFO] Booting worker with pid: 28\u001b[0m\n",
      "\u001b[34m[2023-06-14 08:28:52 +0000] [29] [INFO] Booting worker with pid: 29\u001b[0m\n",
      "\u001b[34m[2023-06-14:08:28:58:INFO] No GPUs detected (normal if no gpus installed)\u001b[0m\n",
      "\u001b[34m169.254.255.130 - - [14/Jun/2023:08:28:58 +0000] \"GET /ping HTTP/1.1\" 200 0 \"-\" \"Go-http-client/1.1\"\u001b[0m\n",
      "\u001b[34m169.254.255.130 - - [14/Jun/2023:08:28:58 +0000] \"GET /execution-parameters HTTP/1.1\" 200 84 \"-\" \"Go-http-client/1.1\"\u001b[0m\n",
      "\u001b[34m[2023-06-14:08:28:59:INFO] No GPUs detected (normal if no gpus installed)\u001b[0m\n",
      "\u001b[34m[2023-06-14:08:28:59:INFO] Determined delimiter of CSV input is ','\u001b[0m\n",
      "\u001b[34m[2023-06-14:08:28:59:INFO] No GPUs detected (normal if no gpus installed)\u001b[0m\n",
      "\u001b[34m[2023-06-14:08:29:00:INFO] Determined delimiter of CSV input is ','\u001b[0m\n",
      "\u001b[34m[2023-06-14:08:29:00:INFO] No GPUs detected (normal if no gpus installed)\u001b[0m\n",
      "\u001b[34m[2023-06-14:08:29:00:INFO] Determined delimiter of CSV input is ','\u001b[0m\n",
      "\u001b[34m[2023-06-14:08:29:00:INFO] Determined delimiter of CSV input is ','\u001b[0m\n",
      "\u001b[32m2023-06-14T08:28:58.505:[sagemaker logs]: MaxConcurrentTransforms=4, MaxPayloadInMB=6, BatchStrategy=MULTI_RECORD\u001b[0m\n",
      "\u001b[34m169.254.255.130 - - [14/Jun/2023:08:29:03 +0000] \"POST /invocations HTTP/1.1\" 200 659587 \"-\" \"Go-http-client/1.1\"\u001b[0m\n",
      "\u001b[34m169.254.255.130 - - [14/Jun/2023:08:29:04 +0000] \"POST /invocations HTTP/1.1\" 200 659665 \"-\" \"Go-http-client/1.1\"\u001b[0m\n",
      "\u001b[34m169.254.255.130 - - [14/Jun/2023:08:29:04 +0000] \"POST /invocations HTTP/1.1\" 200 659625 \"-\" \"Go-http-client/1.1\"\u001b[0m\n",
      "\u001b[34m169.254.255.130 - - [14/Jun/2023:08:29:04 +0000] \"POST /invocations HTTP/1.1\" 200 659589 \"-\" \"Go-http-client/1.1\"\u001b[0m\n",
      "\u001b[34m[2023-06-14:08:29:04:INFO] Determined delimiter of CSV input is ','\u001b[0m\n",
      "\u001b[35m169.254.255.130 - - [14/Jun/2023:08:29:03 +0000] \"POST /invocations HTTP/1.1\" 200 659587 \"-\" \"Go-http-client/1.1\"\u001b[0m\n",
      "\u001b[35m169.254.255.130 - - [14/Jun/2023:08:29:04 +0000] \"POST /invocations HTTP/1.1\" 200 659665 \"-\" \"Go-http-client/1.1\"\u001b[0m\n",
      "\u001b[35m169.254.255.130 - - [14/Jun/2023:08:29:04 +0000] \"POST /invocations HTTP/1.1\" 200 659625 \"-\" \"Go-http-client/1.1\"\u001b[0m\n",
      "\u001b[35m169.254.255.130 - - [14/Jun/2023:08:29:04 +0000] \"POST /invocations HTTP/1.1\" 200 659589 \"-\" \"Go-http-client/1.1\"\u001b[0m\n",
      "\u001b[35m[2023-06-14:08:29:04:INFO] Determined delimiter of CSV input is ','\u001b[0m\n",
      "\u001b[34m169.254.255.130 - - [14/Jun/2023:08:29:06 +0000] \"POST /invocations HTTP/1.1\" 200 574724 \"-\" \"Go-http-client/1.1\"\u001b[0m\n",
      "\u001b[35m169.254.255.130 - - [14/Jun/2023:08:29:06 +0000] \"POST /invocations HTTP/1.1\" 200 574724 \"-\" \"Go-http-client/1.1\"\u001b[0m\n",
      "\n",
      "\u001b[34m[2023-06-14:08:28:51:INFO] No GPUs detected (normal if no gpus installed)\u001b[0m\n",
      "\u001b[34m[2023-06-14:08:28:51:INFO] No GPUs detected (normal if no gpus installed)\u001b[0m\n",
      "\u001b[34m[2023-06-14:08:28:51:INFO] nginx config: \u001b[0m\n",
      "\u001b[34mworker_processes auto;\u001b[0m\n",
      "\u001b[34mdaemon off;\u001b[0m\n",
      "\u001b[34mpid /tmp/nginx.pid;\u001b[0m\n",
      "\u001b[34merror_log  /dev/stderr;\u001b[0m\n",
      "\u001b[34mworker_rlimit_nofile 4096;\u001b[0m\n",
      "\u001b[34mevents {\n",
      "  worker_connections 2048;\u001b[0m\n",
      "\u001b[34m}\u001b[0m\n",
      "\u001b[35m[2023-06-14:08:28:51:INFO] No GPUs detected (normal if no gpus installed)\u001b[0m\n",
      "\u001b[35m[2023-06-14:08:28:51:INFO] No GPUs detected (normal if no gpus installed)\u001b[0m\n",
      "\u001b[35m[2023-06-14:08:28:51:INFO] nginx config: \u001b[0m\n",
      "\u001b[35mworker_processes auto;\u001b[0m\n",
      "\u001b[35mdaemon off;\u001b[0m\n",
      "\u001b[35mpid /tmp/nginx.pid;\u001b[0m\n",
      "\u001b[35merror_log  /dev/stderr;\u001b[0m\n",
      "\u001b[35mworker_rlimit_nofile 4096;\u001b[0m\n",
      "\u001b[35mevents {\n",
      "  worker_connections 2048;\u001b[0m\n",
      "\u001b[35m}\u001b[0m\n",
      "\u001b[34mhttp {\n",
      "  include /etc/nginx/mime.types;\n",
      "  default_type application/octet-stream;\n",
      "  access_log /dev/stdout combined;\n",
      "  upstream gunicorn {\n",
      "    server unix:/tmp/gunicorn.sock;\n",
      "  }\n",
      "  server {\n",
      "    listen 8080 deferred;\n",
      "    client_max_body_size 0;\n",
      "    keepalive_timeout 3;\n",
      "    location ~ ^/(ping|invocations|execution-parameters) {\n",
      "      proxy_set_header X-Forwarded-For $proxy_add_x_forwarded_for;\n",
      "      proxy_set_header Host $http_host;\n",
      "      proxy_redirect off;\n",
      "      proxy_read_timeout 60s;\n",
      "      proxy_pass http://gunicorn;\n",
      "    }\n",
      "    location / {\n",
      "      return 404 \"{}\";\n",
      "    }\n",
      "  }\u001b[0m\n",
      "\u001b[34m}\u001b[0m\n",
      "\u001b[34m[2023-06-14 08:28:51 +0000] [19] [INFO] Starting gunicorn 19.10.0\u001b[0m\n",
      "\u001b[34m[2023-06-14 08:28:51 +0000] [19] [INFO] Listening at: unix:/tmp/gunicorn.sock (19)\u001b[0m\n",
      "\u001b[34m[2023-06-14 08:28:51 +0000] [19] [INFO] Using worker: gevent\u001b[0m\n",
      "\u001b[34m[2023-06-14 08:28:51 +0000] [26] [INFO] Booting worker with pid: 26\u001b[0m\n",
      "\u001b[34m[2023-06-14 08:28:52 +0000] [27] [INFO] Booting worker with pid: 27\u001b[0m\n",
      "\u001b[34m[2023-06-14 08:28:52 +0000] [28] [INFO] Booting worker with pid: 28\u001b[0m\n",
      "\u001b[34m[2023-06-14 08:28:52 +0000] [29] [INFO] Booting worker with pid: 29\u001b[0m\n",
      "\u001b[35mhttp {\n",
      "  include /etc/nginx/mime.types;\n",
      "  default_type application/octet-stream;\n",
      "  access_log /dev/stdout combined;\n",
      "  upstream gunicorn {\n",
      "    server unix:/tmp/gunicorn.sock;\n",
      "  }\n",
      "  server {\n",
      "    listen 8080 deferred;\n",
      "    client_max_body_size 0;\n",
      "    keepalive_timeout 3;\n",
      "    location ~ ^/(ping|invocations|execution-parameters) {\n",
      "      proxy_set_header X-Forwarded-For $proxy_add_x_forwarded_for;\n",
      "      proxy_set_header Host $http_host;\n",
      "      proxy_redirect off;\n",
      "      proxy_read_timeout 60s;\n",
      "      proxy_pass http://gunicorn;\n",
      "    }\n",
      "    location / {\n",
      "      return 404 \"{}\";\n",
      "    }\n",
      "  }\u001b[0m\n",
      "\u001b[35m}\u001b[0m\n",
      "\u001b[35m[2023-06-14 08:28:51 +0000] [19] [INFO] Starting gunicorn 19.10.0\u001b[0m\n",
      "\u001b[35m[2023-06-14 08:28:51 +0000] [19] [INFO] Listening at: unix:/tmp/gunicorn.sock (19)\u001b[0m\n",
      "\u001b[35m[2023-06-14 08:28:51 +0000] [19] [INFO] Using worker: gevent\u001b[0m\n",
      "\u001b[35m[2023-06-14 08:28:51 +0000] [26] [INFO] Booting worker with pid: 26\u001b[0m\n",
      "\u001b[35m[2023-06-14 08:28:52 +0000] [27] [INFO] Booting worker with pid: 27\u001b[0m\n",
      "\u001b[35m[2023-06-14 08:28:52 +0000] [28] [INFO] Booting worker with pid: 28\u001b[0m\n",
      "\u001b[35m[2023-06-14 08:28:52 +0000] [29] [INFO] Booting worker with pid: 29\u001b[0m\n",
      "\u001b[34m[2023-06-14:08:28:58:INFO] No GPUs detected (normal if no gpus installed)\u001b[0m\n",
      "\u001b[34m169.254.255.130 - - [14/Jun/2023:08:28:58 +0000] \"GET /ping HTTP/1.1\" 200 0 \"-\" \"Go-http-client/1.1\"\u001b[0m\n",
      "\u001b[34m169.254.255.130 - - [14/Jun/2023:08:28:58 +0000] \"GET /execution-parameters HTTP/1.1\" 200 84 \"-\" \"Go-http-client/1.1\"\u001b[0m\n",
      "\u001b[35m[2023-06-14:08:28:58:INFO] No GPUs detected (normal if no gpus installed)\u001b[0m\n",
      "\u001b[35m169.254.255.130 - - [14/Jun/2023:08:28:58 +0000] \"GET /ping HTTP/1.1\" 200 0 \"-\" \"Go-http-client/1.1\"\u001b[0m\n",
      "\u001b[35m169.254.255.130 - - [14/Jun/2023:08:28:58 +0000] \"GET /execution-parameters HTTP/1.1\" 200 84 \"-\" \"Go-http-client/1.1\"\u001b[0m\n",
      "\u001b[34m[2023-06-14:08:28:59:INFO] No GPUs detected (normal if no gpus installed)\u001b[0m\n",
      "\u001b[35m[2023-06-14:08:28:59:INFO] No GPUs detected (normal if no gpus installed)\u001b[0m\n",
      "\u001b[34m[2023-06-14:08:28:59:INFO] Determined delimiter of CSV input is ','\u001b[0m\n",
      "\u001b[34m[2023-06-14:08:28:59:INFO] No GPUs detected (normal if no gpus installed)\u001b[0m\n",
      "\u001b[34m[2023-06-14:08:29:00:INFO] Determined delimiter of CSV input is ','\u001b[0m\n",
      "\u001b[34m[2023-06-14:08:29:00:INFO] No GPUs detected (normal if no gpus installed)\u001b[0m\n",
      "\u001b[34m[2023-06-14:08:29:00:INFO] Determined delimiter of CSV input is ','\u001b[0m\n",
      "\u001b[34m[2023-06-14:08:29:00:INFO] Determined delimiter of CSV input is ','\u001b[0m\n",
      "\u001b[35m[2023-06-14:08:28:59:INFO] Determined delimiter of CSV input is ','\u001b[0m\n",
      "\u001b[35m[2023-06-14:08:28:59:INFO] No GPUs detected (normal if no gpus installed)\u001b[0m\n",
      "\u001b[35m[2023-06-14:08:29:00:INFO] Determined delimiter of CSV input is ','\u001b[0m\n",
      "\u001b[35m[2023-06-14:08:29:00:INFO] No GPUs detected (normal if no gpus installed)\u001b[0m\n",
      "\u001b[35m[2023-06-14:08:29:00:INFO] Determined delimiter of CSV input is ','\u001b[0m\n",
      "\u001b[35m[2023-06-14:08:29:00:INFO] Determined delimiter of CSV input is ','\u001b[0m\n",
      "\u001b[32m2023-06-14T08:28:58.505:[sagemaker logs]: MaxConcurrentTransforms=4, MaxPayloadInMB=6, BatchStrategy=MULTI_RECORD\u001b[0m\n",
      "\u001b[34m169.254.255.130 - - [14/Jun/2023:08:29:03 +0000] \"POST /invocations HTTP/1.1\" 200 659587 \"-\" \"Go-http-client/1.1\"\u001b[0m\n",
      "\u001b[34m169.254.255.130 - - [14/Jun/2023:08:29:04 +0000] \"POST /invocations HTTP/1.1\" 200 659665 \"-\" \"Go-http-client/1.1\"\u001b[0m\n",
      "\u001b[34m169.254.255.130 - - [14/Jun/2023:08:29:04 +0000] \"POST /invocations HTTP/1.1\" 200 659625 \"-\" \"Go-http-client/1.1\"\u001b[0m\n",
      "\u001b[34m169.254.255.130 - - [14/Jun/2023:08:29:04 +0000] \"POST /invocations HTTP/1.1\" 200 659589 \"-\" \"Go-http-client/1.1\"\u001b[0m\n",
      "\u001b[34m[2023-06-14:08:29:04:INFO] Determined delimiter of CSV input is ','\u001b[0m\n",
      "\u001b[35m169.254.255.130 - - [14/Jun/2023:08:29:03 +0000] \"POST /invocations HTTP/1.1\" 200 659587 \"-\" \"Go-http-client/1.1\"\u001b[0m\n",
      "\u001b[35m169.254.255.130 - - [14/Jun/2023:08:29:04 +0000] \"POST /invocations HTTP/1.1\" 200 659665 \"-\" \"Go-http-client/1.1\"\u001b[0m\n",
      "\u001b[35m169.254.255.130 - - [14/Jun/2023:08:29:04 +0000] \"POST /invocations HTTP/1.1\" 200 659625 \"-\" \"Go-http-client/1.1\"\u001b[0m\n",
      "\u001b[35m169.254.255.130 - - [14/Jun/2023:08:29:04 +0000] \"POST /invocations HTTP/1.1\" 200 659589 \"-\" \"Go-http-client/1.1\"\u001b[0m\n",
      "\u001b[35m[2023-06-14:08:29:04:INFO] Determined delimiter of CSV input is ','\u001b[0m\n",
      "\u001b[34m169.254.255.130 - - [14/Jun/2023:08:29:06 +0000] \"POST /invocations HTTP/1.1\" 200 574724 \"-\" \"Go-http-client/1.1\"\u001b[0m\n",
      "\u001b[35m169.254.255.130 - - [14/Jun/2023:08:29:06 +0000] \"POST /invocations HTTP/1.1\" 200 574724 \"-\" \"Go-http-client/1.1\"\u001b[0m\n"
     ]
    }
   ],
   "source": [
    "batch_output = \"s3://{}/{}/batch-out/\".format(bucket,prefix)\n",
    "batch_input = \"s3://{}/{}/batch-in/{}\".format(bucket,prefix,batch_X_file)\n",
    "\n",
    "xgb_transformer = xgb.transformer(instance_count=1,\n",
    "                                       instance_type=instance_type,\n",
    "                                       strategy='MultiRecord',\n",
    "                                       assemble_with='Line',\n",
    "                                       output_path=batch_output)\n",
    "\n",
    "xgb_transformer.transform(data=batch_input,\n",
    "                         data_type='S3Prefix',\n",
    "                         content_type='text/csv',\n",
    "                         split_type='Line')\n",
    "xgb_transformer.wait()"
   ]
  },
  {
   "attachments": {},
   "cell_type": "markdown",
   "metadata": {},
   "source": [
    "Get the predicted target and test labels."
   ]
  },
  {
   "cell_type": "code",
   "execution_count": 97,
   "metadata": {
    "tags": []
   },
   "outputs": [],
   "source": [
    "s3 = boto3.client('s3')\n",
    "obj = s3.get_object(Bucket=bucket, Key=\"{}/batch-out/{}\".format(prefix,'batch-in.csv.out'))\n",
    "target_predicted = pd.read_csv(io.BytesIO(obj['Body'].read()),',',names=['target'])\n",
    "test_labels = test.iloc[:,0]"
   ]
  },
  {
   "attachments": {},
   "cell_type": "markdown",
   "metadata": {},
   "source": [
    "Calculate the predicted values based on the defined threshold.\n",
    "\n",
    "**Note:** The predicted target will be a score, which must be converted to a binary class."
   ]
  },
  {
   "cell_type": "code",
   "execution_count": 98,
   "metadata": {
    "tags": []
   },
   "outputs": [
    {
     "name": "stdout",
     "output_type": "stream",
     "text": [
      "     target\n",
      "0  0.104096\n",
      "1  0.071859\n",
      "2  0.246088\n",
      "3  0.276562\n",
      "4  0.350543\n",
      "   target\n",
      "0       0\n",
      "1       0\n",
      "2       0\n",
      "3       0\n",
      "4       0\n"
     ]
    }
   ],
   "source": [
    "print(target_predicted.head())\n",
    "\n",
    "def binary_convert(x):\n",
    "    threshold = 0.55\n",
    "    if x > threshold:\n",
    "        return 1\n",
    "    else:\n",
    "        return 0\n",
    "\n",
    "target_predicted['target'] = target_predicted['target'].apply(binary_convert)\n",
    "\n",
    "test_labels = test.iloc[:,0]\n",
    "\n",
    "print(target_predicted.head())"
   ]
  },
  {
   "attachments": {},
   "cell_type": "markdown",
   "metadata": {},
   "source": [
    "Plot a confusion matrix for your `target_predicted` and `test_labels`."
   ]
  },
  {
   "cell_type": "code",
   "execution_count": 99,
   "metadata": {
    "tags": []
   },
   "outputs": [
    {
     "data": {
      "image/png": "[encoded data removed]",
      "text/plain": [
       "<Figure size 640x480 with 1 Axes>"
      ]
     },
     "metadata": {},
     "output_type": "display_data"
    }
   ],
   "source": [
    "plot_confusion_matrix(test_labels , target_predicted)"
   ]
  },
  {
   "attachments": {},
   "cell_type": "markdown",
   "metadata": {},
   "source": [
    "Plot the ROC chart:"
   ]
  },
  {
   "cell_type": "code",
   "execution_count": 100,
   "metadata": {
    "tags": []
   },
   "outputs": [
    {
     "name": "stdout",
     "output_type": "stream",
     "text": [
      "Sensitivity or TPR:  10.048641248944165 %\n",
      "Specificity or TNR:  98.91353133270394 %\n",
      "Precision:  71.07540173053152 %\n",
      "Negative Predictive Value:  80.54062568917173 %\n",
      "False Positive Rate:  1.086468667296055 %\n",
      "False Negative Rate:  89.95135875105584 %\n",
      "False Discovery Rate:  28.924598269468483 %\n",
      "Accuracy:  80.25972279116405 %\n",
      "Validation AUC 0.5448108629082405\n",
      "Figure(640x480)\n"
     ]
    },
    {
     "data": {
      "image/png": "[encoded data removed]",
      "text/plain": [
       "<Figure size 640x480 with 2 Axes>"
      ]
     },
     "metadata": {},
     "output_type": "display_data"
    },
    {
     "data": {
      "text/plain": [
       "<Figure size 640x480 with 0 Axes>"
      ]
     },
     "metadata": {},
     "output_type": "display_data"
    }
   ],
   "source": [
    "plot_roc(test_labels, target_predicted)"
   ]
  }
 ],
 "metadata": {
  "kernelspec": {
   "display_name": "conda_python3",
   "language": "python",
   "name": "conda_python3"
  },
  "language_info": {
   "codemirror_mode": {
    "name": "ipython",
    "version": 3
   },
   "file_extension": ".py",
   "mimetype": "text/x-python",
   "name": "python",
   "nbconvert_exporter": "python",
   "pygments_lexer": "ipython3",
   "version": "3.10.8"
  }
 },
 "nbformat": 4,
 "nbformat_minor": 4
}
