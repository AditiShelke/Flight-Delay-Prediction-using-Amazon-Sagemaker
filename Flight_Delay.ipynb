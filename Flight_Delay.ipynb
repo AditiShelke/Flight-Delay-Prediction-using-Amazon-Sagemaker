{
 "cells": [
  {
   "cell_type": "code",
   "execution_count": 1,
   "metadata": {
    "tags": []
   },
   "outputs": [],
   "source": [
    "import os\n",
    "from pathlib2 import Path\n",
    "from zipfile import ZipFile\n",
    "import time\n",
    "\n",
    "import pandas as pd\n",
    "import numpy as np\n",
    "import subprocess\n",
    "\n",
    "import matplotlib.pyplot as plt\n",
    "import seaborn as sns\n",
    "\n",
    "sns.set()\n",
    "instance_type='ml.m4.xlarge'\n",
    "\n",
    "import warnings\n",
    "warnings.filterwarnings('ignore')\n",
    "\n",
    "%matplotlib inline"
   ]
  },
  {
   "attachments": {},
   "cell_type": "markdown",
   "metadata": {},
   "source": [
    "# Data preprocessing and visualization  \n"
   ]
  },
  {
   "attachments": {},
   "cell_type": "markdown",
   "metadata": {},
   "source": [
    "get from S3 bucket"
   ]
  },
  {
   "cell_type": "code",
   "execution_count": 2,
   "metadata": {
    "tags": []
   },
   "outputs": [
    {
     "name": "stdout",
     "output_type": "stream",
     "text": [
      "download: s3://aws-tc-largeobjects/CUR-TF-200-ACMLFO-1/flight_delay_project/data/On_Time_Reporting_Carrier_On_Time_Performance_1987_present_2014_1.zip to ../project/data/FlightDelays/On_Time_Reporting_Carrier_On_Time_Performance_1987_present_2014_1.zip\n",
      "download: s3://aws-tc-largeobjects/CUR-TF-200-ACMLFO-1/flight_delay_project/data/On_Time_Reporting_Carrier_On_Time_Performance_1987_present_2014_10.zip to ../project/data/FlightDelays/On_Time_Reporting_Carrier_On_Time_Performance_1987_present_2014_10.zip\n",
      "download: s3://aws-tc-largeobjects/CUR-TF-200-ACMLFO-1/flight_delay_project/data/On_Time_Reporting_Carrier_On_Time_Performance_1987_present_2014_12.zip to ../project/data/FlightDelays/On_Time_Reporting_Carrier_On_Time_Performance_1987_present_2014_12.zip\n",
      "download: s3://aws-tc-largeobjects/CUR-TF-200-ACMLFO-1/flight_delay_project/data/On_Time_Reporting_Carrier_On_Time_Performance_1987_present_2014_2.zip to ../project/data/FlightDelays/On_Time_Reporting_Carrier_On_Time_Performance_1987_present_2014_2.zip\n",
      "download: s3://aws-tc-largeobjects/CUR-TF-200-ACMLFO-1/flight_delay_project/data/On_Time_Reporting_Carrier_On_Time_Performance_1987_present_2014_4.zip to ../project/data/FlightDelays/On_Time_Reporting_Carrier_On_Time_Performance_1987_present_2014_4.zip\n",
      "download: s3://aws-tc-largeobjects/CUR-TF-200-ACMLFO-1/flight_delay_project/data/On_Time_Reporting_Carrier_On_Time_Performance_1987_present_2014_5.zip to ../project/data/FlightDelays/On_Time_Reporting_Carrier_On_Time_Performance_1987_present_2014_5.zip\n",
      "download: s3://aws-tc-largeobjects/CUR-TF-200-ACMLFO-1/flight_delay_project/data/On_Time_Reporting_Carrier_On_Time_Performance_1987_present_2014_7.zip to ../project/data/FlightDelays/On_Time_Reporting_Carrier_On_Time_Performance_1987_present_2014_7.zip\n",
      "download: s3://aws-tc-largeobjects/CUR-TF-200-ACMLFO-1/flight_delay_project/data/On_Time_Reporting_Carrier_On_Time_Performance_1987_present_2014_3.zip to ../project/data/FlightDelays/On_Time_Reporting_Carrier_On_Time_Performance_1987_present_2014_3.zip\n",
      "download: s3://aws-tc-largeobjects/CUR-TF-200-ACMLFO-1/flight_delay_project/data/On_Time_Reporting_Carrier_On_Time_Performance_1987_present_2014_11.zip to ../project/data/FlightDelays/On_Time_Reporting_Carrier_On_Time_Performance_1987_present_2014_11.zip\n",
      "download: s3://aws-tc-largeobjects/CUR-TF-200-ACMLFO-1/flight_delay_project/data/On_Time_Reporting_Carrier_On_Time_Performance_1987_present_2014_6.zip to ../project/data/FlightDelays/On_Time_Reporting_Carrier_On_Time_Performance_1987_present_2014_6.zip\n",
      "download: s3://aws-tc-largeobjects/CUR-TF-200-ACMLFO-1/flight_delay_project/data/On_Time_Reporting_Carrier_On_Time_Performance_1987_present_2014_8.zip to ../project/data/FlightDelays/On_Time_Reporting_Carrier_On_Time_Performance_1987_present_2014_8.zip\n",
      "download: s3://aws-tc-largeobjects/CUR-TF-200-ACMLFO-1/flight_delay_project/data/On_Time_Reporting_Carrier_On_Time_Performance_1987_present_2015_11.zip to ../project/data/FlightDelays/On_Time_Reporting_Carrier_On_Time_Performance_1987_present_2015_11.zip\n",
      "download: s3://aws-tc-largeobjects/CUR-TF-200-ACMLFO-1/flight_delay_project/data/On_Time_Reporting_Carrier_On_Time_Performance_1987_present_2015_1.zip to ../project/data/FlightDelays/On_Time_Reporting_Carrier_On_Time_Performance_1987_present_2015_1.zip\n",
      "download: s3://aws-tc-largeobjects/CUR-TF-200-ACMLFO-1/flight_delay_project/data/On_Time_Reporting_Carrier_On_Time_Performance_1987_present_2015_10.zip to ../project/data/FlightDelays/On_Time_Reporting_Carrier_On_Time_Performance_1987_present_2015_10.zip\n",
      "download: s3://aws-tc-largeobjects/CUR-TF-200-ACMLFO-1/flight_delay_project/data/On_Time_Reporting_Carrier_On_Time_Performance_1987_present_2015_3.zip to ../project/data/FlightDelays/On_Time_Reporting_Carrier_On_Time_Performance_1987_present_2015_3.zip\n",
      "download: s3://aws-tc-largeobjects/CUR-TF-200-ACMLFO-1/flight_delay_project/data/On_Time_Reporting_Carrier_On_Time_Performance_1987_present_2015_4.zip to ../project/data/FlightDelays/On_Time_Reporting_Carrier_On_Time_Performance_1987_present_2015_4.zip\n",
      "download: s3://aws-tc-largeobjects/CUR-TF-200-ACMLFO-1/flight_delay_project/data/On_Time_Reporting_Carrier_On_Time_Performance_1987_present_2014_9.zip to ../project/data/FlightDelays/On_Time_Reporting_Carrier_On_Time_Performance_1987_present_2014_9.zip\n",
      "download: s3://aws-tc-largeobjects/CUR-TF-200-ACMLFO-1/flight_delay_project/data/On_Time_Reporting_Carrier_On_Time_Performance_1987_present_2015_2.zip to ../project/data/FlightDelays/On_Time_Reporting_Carrier_On_Time_Performance_1987_present_2015_2.zip\n",
      "download: s3://aws-tc-largeobjects/CUR-TF-200-ACMLFO-1/flight_delay_project/data/On_Time_Reporting_Carrier_On_Time_Performance_1987_present_2015_5.zip to ../project/data/FlightDelays/On_Time_Reporting_Carrier_On_Time_Performance_1987_present_2015_5.zip\n",
      "download: s3://aws-tc-largeobjects/CUR-TF-200-ACMLFO-1/flight_delay_project/data/On_Time_Reporting_Carrier_On_Time_Performance_1987_present_2015_12.zip to ../project/data/FlightDelays/On_Time_Reporting_Carrier_On_Time_Performance_1987_present_2015_12.zip\n",
      "download: s3://aws-tc-largeobjects/CUR-TF-200-ACMLFO-1/flight_delay_project/data/On_Time_Reporting_Carrier_On_Time_Performance_1987_present_2015_8.zip to ../project/data/FlightDelays/On_Time_Reporting_Carrier_On_Time_Performance_1987_present_2015_8.zip\n",
      "download: s3://aws-tc-largeobjects/CUR-TF-200-ACMLFO-1/flight_delay_project/data/On_Time_Reporting_Carrier_On_Time_Performance_1987_present_2015_7.zip to ../project/data/FlightDelays/On_Time_Reporting_Carrier_On_Time_Performance_1987_present_2015_7.zip\n",
      "download: s3://aws-tc-largeobjects/CUR-TF-200-ACMLFO-1/flight_delay_project/data/On_Time_Reporting_Carrier_On_Time_Performance_1987_present_2015_6.zip to ../project/data/FlightDelays/On_Time_Reporting_Carrier_On_Time_Performance_1987_present_2015_6.zip\n",
      "download: s3://aws-tc-largeobjects/CUR-TF-200-ACMLFO-1/flight_delay_project/data/On_Time_Reporting_Carrier_On_Time_Performance_1987_present_2016_1.zip to ../project/data/FlightDelays/On_Time_Reporting_Carrier_On_Time_Performance_1987_present_2016_1.zip\n",
      "download: s3://aws-tc-largeobjects/CUR-TF-200-ACMLFO-1/flight_delay_project/data/On_Time_Reporting_Carrier_On_Time_Performance_1987_present_2016_12.zip to ../project/data/FlightDelays/On_Time_Reporting_Carrier_On_Time_Performance_1987_present_2016_12.zip\n",
      "download: s3://aws-tc-largeobjects/CUR-TF-200-ACMLFO-1/flight_delay_project/data/On_Time_Reporting_Carrier_On_Time_Performance_1987_present_2016_10.zip to ../project/data/FlightDelays/On_Time_Reporting_Carrier_On_Time_Performance_1987_present_2016_10.zip\n",
      "download: s3://aws-tc-largeobjects/CUR-TF-200-ACMLFO-1/flight_delay_project/data/On_Time_Reporting_Carrier_On_Time_Performance_1987_present_2015_9.zip to ../project/data/FlightDelays/On_Time_Reporting_Carrier_On_Time_Performance_1987_present_2015_9.zip\n",
      "download: s3://aws-tc-largeobjects/CUR-TF-200-ACMLFO-1/flight_delay_project/data/On_Time_Reporting_Carrier_On_Time_Performance_1987_present_2016_2.zip to ../project/data/FlightDelays/On_Time_Reporting_Carrier_On_Time_Performance_1987_present_2016_2.zip\n",
      "download: s3://aws-tc-largeobjects/CUR-TF-200-ACMLFO-1/flight_delay_project/data/On_Time_Reporting_Carrier_On_Time_Performance_1987_present_2016_11.zip to ../project/data/FlightDelays/On_Time_Reporting_Carrier_On_Time_Performance_1987_present_2016_11.zip\n",
      "download: s3://aws-tc-largeobjects/CUR-TF-200-ACMLFO-1/flight_delay_project/data/On_Time_Reporting_Carrier_On_Time_Performance_1987_present_2016_4.zip to ../project/data/FlightDelays/On_Time_Reporting_Carrier_On_Time_Performance_1987_present_2016_4.zip\n",
      "download: s3://aws-tc-largeobjects/CUR-TF-200-ACMLFO-1/flight_delay_project/data/On_Time_Reporting_Carrier_On_Time_Performance_1987_present_2016_3.zip to ../project/data/FlightDelays/On_Time_Reporting_Carrier_On_Time_Performance_1987_present_2016_3.zip\n",
      "download: s3://aws-tc-largeobjects/CUR-TF-200-ACMLFO-1/flight_delay_project/data/On_Time_Reporting_Carrier_On_Time_Performance_1987_present_2016_7.zip to ../project/data/FlightDelays/On_Time_Reporting_Carrier_On_Time_Performance_1987_present_2016_7.zip\n",
      "download: s3://aws-tc-largeobjects/CUR-TF-200-ACMLFO-1/flight_delay_project/data/On_Time_Reporting_Carrier_On_Time_Performance_1987_present_2016_6.zip to ../project/data/FlightDelays/On_Time_Reporting_Carrier_On_Time_Performance_1987_present_2016_6.zip\n",
      "download: s3://aws-tc-largeobjects/CUR-TF-200-ACMLFO-1/flight_delay_project/data/On_Time_Reporting_Carrier_On_Time_Performance_1987_present_2016_5.zip to ../project/data/FlightDelays/On_Time_Reporting_Carrier_On_Time_Performance_1987_present_2016_5.zip\n",
      "download: s3://aws-tc-largeobjects/CUR-TF-200-ACMLFO-1/flight_delay_project/data/On_Time_Reporting_Carrier_On_Time_Performance_1987_present_2016_8.zip to ../project/data/FlightDelays/On_Time_Reporting_Carrier_On_Time_Performance_1987_present_2016_8.zip\n",
      "download: s3://aws-tc-largeobjects/CUR-TF-200-ACMLFO-1/flight_delay_project/data/On_Time_Reporting_Carrier_On_Time_Performance_1987_present_2017_11.zip to ../project/data/FlightDelays/On_Time_Reporting_Carrier_On_Time_Performance_1987_present_2017_11.zip\n",
      "download: s3://aws-tc-largeobjects/CUR-TF-200-ACMLFO-1/flight_delay_project/data/On_Time_Reporting_Carrier_On_Time_Performance_1987_present_2017_2.zip to ../project/data/FlightDelays/On_Time_Reporting_Carrier_On_Time_Performance_1987_present_2017_2.zip\n",
      "download: s3://aws-tc-largeobjects/CUR-TF-200-ACMLFO-1/flight_delay_project/data/On_Time_Reporting_Carrier_On_Time_Performance_1987_present_2017_3.zip to ../project/data/FlightDelays/On_Time_Reporting_Carrier_On_Time_Performance_1987_present_2017_3.zip\n",
      "download: s3://aws-tc-largeobjects/CUR-TF-200-ACMLFO-1/flight_delay_project/data/On_Time_Reporting_Carrier_On_Time_Performance_1987_present_2016_9.zip to ../project/data/FlightDelays/On_Time_Reporting_Carrier_On_Time_Performance_1987_present_2016_9.zip\n",
      "download: s3://aws-tc-largeobjects/CUR-TF-200-ACMLFO-1/flight_delay_project/data/On_Time_Reporting_Carrier_On_Time_Performance_1987_present_2017_5.zip to ../project/data/FlightDelays/On_Time_Reporting_Carrier_On_Time_Performance_1987_present_2017_5.zip\n",
      "download: s3://aws-tc-largeobjects/CUR-TF-200-ACMLFO-1/flight_delay_project/data/On_Time_Reporting_Carrier_On_Time_Performance_1987_present_2017_10.zip to ../project/data/FlightDelays/On_Time_Reporting_Carrier_On_Time_Performance_1987_present_2017_10.zip\n",
      "download: s3://aws-tc-largeobjects/CUR-TF-200-ACMLFO-1/flight_delay_project/data/On_Time_Reporting_Carrier_On_Time_Performance_1987_present_2017_1.zip to ../project/data/FlightDelays/On_Time_Reporting_Carrier_On_Time_Performance_1987_present_2017_1.zip\n",
      "download: s3://aws-tc-largeobjects/CUR-TF-200-ACMLFO-1/flight_delay_project/data/On_Time_Reporting_Carrier_On_Time_Performance_1987_present_2017_8.zip to ../project/data/FlightDelays/On_Time_Reporting_Carrier_On_Time_Performance_1987_present_2017_8.zip\n",
      "download: s3://aws-tc-largeobjects/CUR-TF-200-ACMLFO-1/flight_delay_project/data/On_Time_Reporting_Carrier_On_Time_Performance_1987_present_2017_7.zip to ../project/data/FlightDelays/On_Time_Reporting_Carrier_On_Time_Performance_1987_present_2017_7.zip\n",
      "download: s3://aws-tc-largeobjects/CUR-TF-200-ACMLFO-1/flight_delay_project/data/On_Time_Reporting_Carrier_On_Time_Performance_1987_present_2017_4.zip to ../project/data/FlightDelays/On_Time_Reporting_Carrier_On_Time_Performance_1987_present_2017_4.zip\n",
      "download: s3://aws-tc-largeobjects/CUR-TF-200-ACMLFO-1/flight_delay_project/data/On_Time_Reporting_Carrier_On_Time_Performance_1987_present_2017_6.zip to ../project/data/FlightDelays/On_Time_Reporting_Carrier_On_Time_Performance_1987_present_2017_6.zip\n",
      "download: s3://aws-tc-largeobjects/CUR-TF-200-ACMLFO-1/flight_delay_project/data/On_Time_Reporting_Carrier_On_Time_Performance_1987_present_2017_12.zip to ../project/data/FlightDelays/On_Time_Reporting_Carrier_On_Time_Performance_1987_present_2017_12.zip\n",
      "download: s3://aws-tc-largeobjects/CUR-TF-200-ACMLFO-1/flight_delay_project/data/On_Time_Reporting_Carrier_On_Time_Performance_1987_present_2017_9.zip to ../project/data/FlightDelays/On_Time_Reporting_Carrier_On_Time_Performance_1987_present_2017_9.zip\n",
      "download: s3://aws-tc-largeobjects/CUR-TF-200-ACMLFO-1/flight_delay_project/data/On_Time_Reporting_Carrier_On_Time_Performance_1987_present_2018_11.zip to ../project/data/FlightDelays/On_Time_Reporting_Carrier_On_Time_Performance_1987_present_2018_11.zip\n",
      "download: s3://aws-tc-largeobjects/CUR-TF-200-ACMLFO-1/flight_delay_project/data/On_Time_Reporting_Carrier_On_Time_Performance_1987_present_2018_12.zip to ../project/data/FlightDelays/On_Time_Reporting_Carrier_On_Time_Performance_1987_present_2018_12.zip\n",
      "download: s3://aws-tc-largeobjects/CUR-TF-200-ACMLFO-1/flight_delay_project/data/On_Time_Reporting_Carrier_On_Time_Performance_1987_present_2018_10.zip to ../project/data/FlightDelays/On_Time_Reporting_Carrier_On_Time_Performance_1987_present_2018_10.zip\n",
      "download: s3://aws-tc-largeobjects/CUR-TF-200-ACMLFO-1/flight_delay_project/data/On_Time_Reporting_Carrier_On_Time_Performance_1987_present_2018_4.zip to ../project/data/FlightDelays/On_Time_Reporting_Carrier_On_Time_Performance_1987_present_2018_4.zip\n",
      "download: s3://aws-tc-largeobjects/CUR-TF-200-ACMLFO-1/flight_delay_project/data/On_Time_Reporting_Carrier_On_Time_Performance_1987_present_2018_1.zip to ../project/data/FlightDelays/On_Time_Reporting_Carrier_On_Time_Performance_1987_present_2018_1.zip\n",
      "download: s3://aws-tc-largeobjects/CUR-TF-200-ACMLFO-1/flight_delay_project/data/On_Time_Reporting_Carrier_On_Time_Performance_1987_present_2018_6.zip to ../project/data/FlightDelays/On_Time_Reporting_Carrier_On_Time_Performance_1987_present_2018_6.zip\n",
      "download: s3://aws-tc-largeobjects/CUR-TF-200-ACMLFO-1/flight_delay_project/data/On_Time_Reporting_Carrier_On_Time_Performance_1987_present_2018_5.zip to ../project/data/FlightDelays/On_Time_Reporting_Carrier_On_Time_Performance_1987_present_2018_5.zip\n",
      "download: s3://aws-tc-largeobjects/CUR-TF-200-ACMLFO-1/flight_delay_project/data/On_Time_Reporting_Carrier_On_Time_Performance_1987_present_2018_2.zip to ../project/data/FlightDelays/On_Time_Reporting_Carrier_On_Time_Performance_1987_present_2018_2.zip\n",
      "download: s3://aws-tc-largeobjects/CUR-TF-200-ACMLFO-1/flight_delay_project/data/On_Time_Reporting_Carrier_On_Time_Performance_1987_present_2018_3.zip to ../project/data/FlightDelays/On_Time_Reporting_Carrier_On_Time_Performance_1987_present_2018_3.zip\n",
      "download: s3://aws-tc-largeobjects/CUR-TF-200-ACMLFO-1/flight_delay_project/data/On_Time_Reporting_Carrier_On_Time_Performance_1987_present_2018_7.zip to ../project/data/FlightDelays/On_Time_Reporting_Carrier_On_Time_Performance_1987_present_2018_7.zip\n",
      "download: s3://aws-tc-largeobjects/CUR-TF-200-ACMLFO-1/flight_delay_project/data/On_Time_Reporting_Carrier_On_Time_Performance_1987_present_2018_8.zip to ../project/data/FlightDelays/On_Time_Reporting_Carrier_On_Time_Performance_1987_present_2018_8.zip\n",
      "download: s3://aws-tc-largeobjects/CUR-TF-200-ACMLFO-1/flight_delay_project/data/On_Time_Reporting_Carrier_On_Time_Performance_1987_present_2018_9.zip to ../project/data/FlightDelays/On_Time_Reporting_Carrier_On_Time_Performance_1987_present_2018_9.zip\n"
     ]
    }
   ],
   "source": [
    "# download the files\n",
    "\n",
    "zip_path = '/home/ec2-user/SageMaker/project/data/FlightDelays/'\n",
    "base_path = '/home/ec2-user/SageMaker/project/data/FlightDelays/'\n",
    "csv_base_path = '/home/ec2-user/SageMaker/project/data/csvFlightDelays/'\n",
    "\n",
    "!mkdir -p {zip_path}\n",
    "!mkdir -p {csv_base_path}\n",
    "!aws s3 cp s3://aws-tc-largeobjects/CUR-TF-200-ACMLFO-1/flight_delay_project/data/ {zip_path} --recursive\n"
   ]
  },
  {
   "cell_type": "code",
   "execution_count": 3,
   "metadata": {
    "tags": []
   },
   "outputs": [
    {
     "data": {
      "text/plain": [
       "60"
      ]
     },
     "execution_count": 3,
     "metadata": {},
     "output_type": "execute_result"
    }
   ],
   "source": [
    "zip_files = [str(file) for file in list(Path(base_path).iterdir()) if '.zip' in str(file)]\n",
    "len(zip_files)"
   ]
  },
  {
   "attachments": {},
   "cell_type": "markdown",
   "metadata": {},
   "source": [
    "Extract comma-separated values (CSV) files from the .zip files."
   ]
  },
  {
   "cell_type": "code",
   "execution_count": 4,
   "metadata": {
    "tags": []
   },
   "outputs": [
    {
     "name": "stdout",
     "output_type": "stream",
     "text": [
      "Extracting /home/ec2-user/SageMaker/project/data/FlightDelays/On_Time_Reporting_Carrier_On_Time_Performance_1987_present_2016_11.zip \n",
      "Extracting /home/ec2-user/SageMaker/project/data/FlightDelays/On_Time_Reporting_Carrier_On_Time_Performance_1987_present_2016_5.zip \n",
      "Extracting /home/ec2-user/SageMaker/project/data/FlightDelays/On_Time_Reporting_Carrier_On_Time_Performance_1987_present_2014_2.zip \n",
      "Extracting /home/ec2-user/SageMaker/project/data/FlightDelays/On_Time_Reporting_Carrier_On_Time_Performance_1987_present_2018_6.zip \n",
      "Extracting /home/ec2-user/SageMaker/project/data/FlightDelays/On_Time_Reporting_Carrier_On_Time_Performance_1987_present_2017_5.zip \n",
      "Extracting /home/ec2-user/SageMaker/project/data/FlightDelays/On_Time_Reporting_Carrier_On_Time_Performance_1987_present_2017_4.zip \n",
      "Extracting /home/ec2-user/SageMaker/project/data/FlightDelays/On_Time_Reporting_Carrier_On_Time_Performance_1987_present_2015_1.zip \n",
      "Extracting /home/ec2-user/SageMaker/project/data/FlightDelays/On_Time_Reporting_Carrier_On_Time_Performance_1987_present_2015_11.zip \n",
      "Extracting /home/ec2-user/SageMaker/project/data/FlightDelays/On_Time_Reporting_Carrier_On_Time_Performance_1987_present_2018_12.zip \n",
      "Extracting /home/ec2-user/SageMaker/project/data/FlightDelays/On_Time_Reporting_Carrier_On_Time_Performance_1987_present_2018_9.zip \n",
      "Extracting /home/ec2-user/SageMaker/project/data/FlightDelays/On_Time_Reporting_Carrier_On_Time_Performance_1987_present_2016_7.zip \n",
      "Extracting /home/ec2-user/SageMaker/project/data/FlightDelays/On_Time_Reporting_Carrier_On_Time_Performance_1987_present_2017_7.zip \n",
      "Extracting /home/ec2-user/SageMaker/project/data/FlightDelays/On_Time_Reporting_Carrier_On_Time_Performance_1987_present_2018_7.zip \n",
      "Extracting /home/ec2-user/SageMaker/project/data/FlightDelays/On_Time_Reporting_Carrier_On_Time_Performance_1987_present_2015_10.zip \n",
      "Extracting /home/ec2-user/SageMaker/project/data/FlightDelays/On_Time_Reporting_Carrier_On_Time_Performance_1987_present_2014_8.zip \n",
      "Extracting /home/ec2-user/SageMaker/project/data/FlightDelays/On_Time_Reporting_Carrier_On_Time_Performance_1987_present_2015_3.zip \n",
      "Extracting /home/ec2-user/SageMaker/project/data/FlightDelays/On_Time_Reporting_Carrier_On_Time_Performance_1987_present_2014_6.zip \n",
      "Extracting /home/ec2-user/SageMaker/project/data/FlightDelays/On_Time_Reporting_Carrier_On_Time_Performance_1987_present_2017_1.zip \n",
      "Extracting /home/ec2-user/SageMaker/project/data/FlightDelays/On_Time_Reporting_Carrier_On_Time_Performance_1987_present_2016_3.zip \n",
      "Extracting /home/ec2-user/SageMaker/project/data/FlightDelays/On_Time_Reporting_Carrier_On_Time_Performance_1987_present_2015_9.zip \n",
      "Extracting /home/ec2-user/SageMaker/project/data/FlightDelays/On_Time_Reporting_Carrier_On_Time_Performance_1987_present_2016_10.zip \n",
      "Extracting /home/ec2-user/SageMaker/project/data/FlightDelays/On_Time_Reporting_Carrier_On_Time_Performance_1987_present_2015_7.zip \n",
      "Extracting /home/ec2-user/SageMaker/project/data/FlightDelays/On_Time_Reporting_Carrier_On_Time_Performance_1987_present_2014_3.zip \n",
      "Extracting /home/ec2-user/SageMaker/project/data/FlightDelays/On_Time_Reporting_Carrier_On_Time_Performance_1987_present_2017_12.zip \n",
      "Extracting /home/ec2-user/SageMaker/project/data/FlightDelays/On_Time_Reporting_Carrier_On_Time_Performance_1987_present_2016_8.zip \n",
      "Extracting /home/ec2-user/SageMaker/project/data/FlightDelays/On_Time_Reporting_Carrier_On_Time_Performance_1987_present_2017_3.zip \n",
      "Extracting /home/ec2-user/SageMaker/project/data/FlightDelays/On_Time_Reporting_Carrier_On_Time_Performance_1987_present_2018_10.zip \n",
      "Extracting /home/ec2-user/SageMaker/project/data/FlightDelays/On_Time_Reporting_Carrier_On_Time_Performance_1987_present_2015_12.zip \n",
      "Extracting /home/ec2-user/SageMaker/project/data/FlightDelays/On_Time_Reporting_Carrier_On_Time_Performance_1987_present_2016_12.zip \n",
      "Extracting /home/ec2-user/SageMaker/project/data/FlightDelays/On_Time_Reporting_Carrier_On_Time_Performance_1987_present_2016_1.zip \n",
      "Extracting /home/ec2-user/SageMaker/project/data/FlightDelays/On_Time_Reporting_Carrier_On_Time_Performance_1987_present_2017_11.zip \n",
      "Extracting /home/ec2-user/SageMaker/project/data/FlightDelays/On_Time_Reporting_Carrier_On_Time_Performance_1987_present_2014_10.zip \n",
      "Extracting /home/ec2-user/SageMaker/project/data/FlightDelays/On_Time_Reporting_Carrier_On_Time_Performance_1987_present_2018_11.zip \n",
      "Extracting /home/ec2-user/SageMaker/project/data/FlightDelays/On_Time_Reporting_Carrier_On_Time_Performance_1987_present_2017_8.zip \n",
      "Extracting /home/ec2-user/SageMaker/project/data/FlightDelays/On_Time_Reporting_Carrier_On_Time_Performance_1987_present_2014_1.zip \n",
      "Extracting /home/ec2-user/SageMaker/project/data/FlightDelays/On_Time_Reporting_Carrier_On_Time_Performance_1987_present_2016_6.zip \n",
      "Extracting /home/ec2-user/SageMaker/project/data/FlightDelays/On_Time_Reporting_Carrier_On_Time_Performance_1987_present_2015_8.zip \n",
      "Extracting /home/ec2-user/SageMaker/project/data/FlightDelays/On_Time_Reporting_Carrier_On_Time_Performance_1987_present_2015_5.zip \n",
      "Extracting /home/ec2-user/SageMaker/project/data/FlightDelays/On_Time_Reporting_Carrier_On_Time_Performance_1987_present_2014_7.zip \n",
      "Extracting /home/ec2-user/SageMaker/project/data/FlightDelays/On_Time_Reporting_Carrier_On_Time_Performance_1987_present_2017_6.zip \n",
      "Extracting /home/ec2-user/SageMaker/project/data/FlightDelays/On_Time_Reporting_Carrier_On_Time_Performance_1987_present_2018_4.zip \n",
      "Extracting /home/ec2-user/SageMaker/project/data/FlightDelays/On_Time_Reporting_Carrier_On_Time_Performance_1987_present_2018_1.zip \n",
      "Extracting /home/ec2-user/SageMaker/project/data/FlightDelays/On_Time_Reporting_Carrier_On_Time_Performance_1987_present_2015_4.zip \n",
      "Extracting /home/ec2-user/SageMaker/project/data/FlightDelays/On_Time_Reporting_Carrier_On_Time_Performance_1987_present_2014_11.zip \n",
      "Extracting /home/ec2-user/SageMaker/project/data/FlightDelays/On_Time_Reporting_Carrier_On_Time_Performance_1987_present_2017_2.zip \n",
      "Extracting /home/ec2-user/SageMaker/project/data/FlightDelays/On_Time_Reporting_Carrier_On_Time_Performance_1987_present_2018_3.zip \n",
      "Extracting /home/ec2-user/SageMaker/project/data/FlightDelays/On_Time_Reporting_Carrier_On_Time_Performance_1987_present_2018_5.zip \n",
      "Extracting /home/ec2-user/SageMaker/project/data/FlightDelays/On_Time_Reporting_Carrier_On_Time_Performance_1987_present_2015_6.zip \n",
      "Extracting /home/ec2-user/SageMaker/project/data/FlightDelays/On_Time_Reporting_Carrier_On_Time_Performance_1987_present_2017_10.zip \n",
      "Extracting /home/ec2-user/SageMaker/project/data/FlightDelays/On_Time_Reporting_Carrier_On_Time_Performance_1987_present_2014_4.zip \n",
      "Extracting /home/ec2-user/SageMaker/project/data/FlightDelays/On_Time_Reporting_Carrier_On_Time_Performance_1987_present_2014_5.zip \n",
      "Extracting /home/ec2-user/SageMaker/project/data/FlightDelays/On_Time_Reporting_Carrier_On_Time_Performance_1987_present_2017_9.zip \n",
      "Extracting /home/ec2-user/SageMaker/project/data/FlightDelays/On_Time_Reporting_Carrier_On_Time_Performance_1987_present_2018_8.zip \n",
      "Extracting /home/ec2-user/SageMaker/project/data/FlightDelays/On_Time_Reporting_Carrier_On_Time_Performance_1987_present_2016_2.zip \n",
      "Extracting /home/ec2-user/SageMaker/project/data/FlightDelays/On_Time_Reporting_Carrier_On_Time_Performance_1987_present_2014_9.zip \n",
      "Extracting /home/ec2-user/SageMaker/project/data/FlightDelays/On_Time_Reporting_Carrier_On_Time_Performance_1987_present_2016_9.zip \n",
      "Extracting /home/ec2-user/SageMaker/project/data/FlightDelays/On_Time_Reporting_Carrier_On_Time_Performance_1987_present_2016_4.zip \n",
      "Extracting /home/ec2-user/SageMaker/project/data/FlightDelays/On_Time_Reporting_Carrier_On_Time_Performance_1987_present_2015_2.zip \n",
      "Extracting /home/ec2-user/SageMaker/project/data/FlightDelays/On_Time_Reporting_Carrier_On_Time_Performance_1987_present_2018_2.zip \n",
      "Extracting /home/ec2-user/SageMaker/project/data/FlightDelays/On_Time_Reporting_Carrier_On_Time_Performance_1987_present_2014_12.zip \n",
      "Files Extracted\n"
     ]
    }
   ],
   "source": [
    "def zip2csv(zipFile_name , file_path):\n",
    "    \"\"\"\n",
    "    Extract csv from zip files\n",
    "    zipFile_name: name of the zip file\n",
    "    file_path : name of the folder to store csv\n",
    "    \"\"\"\n",
    "\n",
    "    try:\n",
    "        with ZipFile(zipFile_name, 'r') as z: \n",
    "            print(f'Extracting {zipFile_name} ') \n",
    "            z.extractall(path=file_path) \n",
    "    except:\n",
    "        print(f'zip2csv failed for {zipFile_name}')\n",
    "\n",
    "for file in zip_files:\n",
    "    zip2csv(file, csv_base_path)\n",
    "\n",
    "print(\"Files Extracted\")"
   ]
  },
  {
   "cell_type": "code",
   "execution_count": 5,
   "metadata": {
    "tags": []
   },
   "outputs": [
    {
     "data": {
      "text/plain": [
       "60"
      ]
     },
     "execution_count": 5,
     "metadata": {},
     "output_type": "execute_result"
    }
   ],
   "source": [
    "csv_files = [str(file) for file in list(Path(csv_base_path).iterdir()) if '.csv' in str(file)]\n",
    "len(csv_files)"
   ]
  },
  {
   "cell_type": "code",
   "execution_count": 6,
   "metadata": {
    "tags": []
   },
   "outputs": [
    {
     "data": {
      "text/html": [
       "\n",
       "        <iframe\n",
       "            width=\"1000\"\n",
       "            height=\"600\"\n",
       "            src=\"../project/data/csvFlightDelays/readme.html\"\n",
       "            frameborder=\"0\"\n",
       "            allowfullscreen\n",
       "            \n",
       "        ></iframe>\n",
       "        "
      ],
      "text/plain": [
       "<IPython.lib.display.IFrame at 0x7f915a292a40>"
      ]
     },
     "execution_count": 6,
     "metadata": {},
     "output_type": "execute_result"
    }
   ],
   "source": [
    "from IPython.display import IFrame\n",
    "\n",
    "IFrame(src=os.path.relpath(f\"{csv_base_path}readme.html\"), width=1000, height=600)"
   ]
  },
  {
   "attachments": {},
   "cell_type": "markdown",
   "metadata": {},
   "source": [
    "#### Load sample CSV file\n"
   ]
  },
  {
   "cell_type": "code",
   "execution_count": 7,
   "metadata": {
    "tags": []
   },
   "outputs": [],
   "source": [
    "df_temp = pd.read_csv(f\"{csv_base_path}On_Time_Reporting_Carrier_On_Time_Performance_(1987_present)_2018_9.csv\")"
   ]
  },
  {
   "cell_type": "code",
   "execution_count": 9,
   "metadata": {
    "tags": []
   },
   "outputs": [
    {
     "name": "stdout",
     "output_type": "stream",
     "text": [
      "Rows and columns in one CSV file is (585749, 110)\n"
     ]
    }
   ],
   "source": [
    "df_shape = df_temp.shape\n",
    "print(f'Rows and columns in one CSV file is {df_shape}')"
   ]
  },
  {
   "cell_type": "code",
   "execution_count": 10,
   "metadata": {
    "tags": []
   },
   "outputs": [
    {
     "data": {
      "text/html": [
       "<div>\n",
       "<style scoped>\n",
       "    .dataframe tbody tr th:only-of-type {\n",
       "        vertical-align: middle;\n",
       "    }\n",
       "\n",
       "    .dataframe tbody tr th {\n",
       "        vertical-align: top;\n",
       "    }\n",
       "\n",
       "    .dataframe thead th {\n",
       "        text-align: right;\n",
       "    }\n",
       "</style>\n",
       "<table border=\"1\" class=\"dataframe\">\n",
       "  <thead>\n",
       "    <tr style=\"text-align: right;\">\n",
       "      <th></th>\n",
       "      <th>Year</th>\n",
       "      <th>Quarter</th>\n",
       "      <th>Month</th>\n",
       "      <th>DayofMonth</th>\n",
       "      <th>DayOfWeek</th>\n",
       "      <th>FlightDate</th>\n",
       "      <th>Reporting_Airline</th>\n",
       "      <th>DOT_ID_Reporting_Airline</th>\n",
       "      <th>IATA_CODE_Reporting_Airline</th>\n",
       "      <th>Tail_Number</th>\n",
       "      <th>...</th>\n",
       "      <th>Div4TailNum</th>\n",
       "      <th>Div5Airport</th>\n",
       "      <th>Div5AirportID</th>\n",
       "      <th>Div5AirportSeqID</th>\n",
       "      <th>Div5WheelsOn</th>\n",
       "      <th>Div5TotalGTime</th>\n",
       "      <th>Div5LongestGTime</th>\n",
       "      <th>Div5WheelsOff</th>\n",
       "      <th>Div5TailNum</th>\n",
       "      <th>Unnamed: 109</th>\n",
       "    </tr>\n",
       "  </thead>\n",
       "  <tbody>\n",
       "    <tr>\n",
       "      <th>0</th>\n",
       "      <td>2018</td>\n",
       "      <td>3</td>\n",
       "      <td>9</td>\n",
       "      <td>3</td>\n",
       "      <td>1</td>\n",
       "      <td>2018-09-03</td>\n",
       "      <td>9E</td>\n",
       "      <td>20363</td>\n",
       "      <td>9E</td>\n",
       "      <td>N908XJ</td>\n",
       "      <td>...</td>\n",
       "      <td>NaN</td>\n",
       "      <td>NaN</td>\n",
       "      <td>NaN</td>\n",
       "      <td>NaN</td>\n",
       "      <td>NaN</td>\n",
       "      <td>NaN</td>\n",
       "      <td>NaN</td>\n",
       "      <td>NaN</td>\n",
       "      <td>NaN</td>\n",
       "      <td>NaN</td>\n",
       "    </tr>\n",
       "    <tr>\n",
       "      <th>1</th>\n",
       "      <td>2018</td>\n",
       "      <td>3</td>\n",
       "      <td>9</td>\n",
       "      <td>9</td>\n",
       "      <td>7</td>\n",
       "      <td>2018-09-09</td>\n",
       "      <td>9E</td>\n",
       "      <td>20363</td>\n",
       "      <td>9E</td>\n",
       "      <td>N315PQ</td>\n",
       "      <td>...</td>\n",
       "      <td>NaN</td>\n",
       "      <td>NaN</td>\n",
       "      <td>NaN</td>\n",
       "      <td>NaN</td>\n",
       "      <td>NaN</td>\n",
       "      <td>NaN</td>\n",
       "      <td>NaN</td>\n",
       "      <td>NaN</td>\n",
       "      <td>NaN</td>\n",
       "      <td>NaN</td>\n",
       "    </tr>\n",
       "    <tr>\n",
       "      <th>2</th>\n",
       "      <td>2018</td>\n",
       "      <td>3</td>\n",
       "      <td>9</td>\n",
       "      <td>10</td>\n",
       "      <td>1</td>\n",
       "      <td>2018-09-10</td>\n",
       "      <td>9E</td>\n",
       "      <td>20363</td>\n",
       "      <td>9E</td>\n",
       "      <td>N582CA</td>\n",
       "      <td>...</td>\n",
       "      <td>NaN</td>\n",
       "      <td>NaN</td>\n",
       "      <td>NaN</td>\n",
       "      <td>NaN</td>\n",
       "      <td>NaN</td>\n",
       "      <td>NaN</td>\n",
       "      <td>NaN</td>\n",
       "      <td>NaN</td>\n",
       "      <td>NaN</td>\n",
       "      <td>NaN</td>\n",
       "    </tr>\n",
       "    <tr>\n",
       "      <th>3</th>\n",
       "      <td>2018</td>\n",
       "      <td>3</td>\n",
       "      <td>9</td>\n",
       "      <td>13</td>\n",
       "      <td>4</td>\n",
       "      <td>2018-09-13</td>\n",
       "      <td>9E</td>\n",
       "      <td>20363</td>\n",
       "      <td>9E</td>\n",
       "      <td>N292PQ</td>\n",
       "      <td>...</td>\n",
       "      <td>NaN</td>\n",
       "      <td>NaN</td>\n",
       "      <td>NaN</td>\n",
       "      <td>NaN</td>\n",
       "      <td>NaN</td>\n",
       "      <td>NaN</td>\n",
       "      <td>NaN</td>\n",
       "      <td>NaN</td>\n",
       "      <td>NaN</td>\n",
       "      <td>NaN</td>\n",
       "    </tr>\n",
       "    <tr>\n",
       "      <th>4</th>\n",
       "      <td>2018</td>\n",
       "      <td>3</td>\n",
       "      <td>9</td>\n",
       "      <td>14</td>\n",
       "      <td>5</td>\n",
       "      <td>2018-09-14</td>\n",
       "      <td>9E</td>\n",
       "      <td>20363</td>\n",
       "      <td>9E</td>\n",
       "      <td>N600LR</td>\n",
       "      <td>...</td>\n",
       "      <td>NaN</td>\n",
       "      <td>NaN</td>\n",
       "      <td>NaN</td>\n",
       "      <td>NaN</td>\n",
       "      <td>NaN</td>\n",
       "      <td>NaN</td>\n",
       "      <td>NaN</td>\n",
       "      <td>NaN</td>\n",
       "      <td>NaN</td>\n",
       "      <td>NaN</td>\n",
       "    </tr>\n",
       "    <tr>\n",
       "      <th>5</th>\n",
       "      <td>2018</td>\n",
       "      <td>3</td>\n",
       "      <td>9</td>\n",
       "      <td>16</td>\n",
       "      <td>7</td>\n",
       "      <td>2018-09-16</td>\n",
       "      <td>9E</td>\n",
       "      <td>20363</td>\n",
       "      <td>9E</td>\n",
       "      <td>N316PQ</td>\n",
       "      <td>...</td>\n",
       "      <td>NaN</td>\n",
       "      <td>NaN</td>\n",
       "      <td>NaN</td>\n",
       "      <td>NaN</td>\n",
       "      <td>NaN</td>\n",
       "      <td>NaN</td>\n",
       "      <td>NaN</td>\n",
       "      <td>NaN</td>\n",
       "      <td>NaN</td>\n",
       "      <td>NaN</td>\n",
       "    </tr>\n",
       "    <tr>\n",
       "      <th>6</th>\n",
       "      <td>2018</td>\n",
       "      <td>3</td>\n",
       "      <td>9</td>\n",
       "      <td>17</td>\n",
       "      <td>1</td>\n",
       "      <td>2018-09-17</td>\n",
       "      <td>9E</td>\n",
       "      <td>20363</td>\n",
       "      <td>9E</td>\n",
       "      <td>N916XJ</td>\n",
       "      <td>...</td>\n",
       "      <td>NaN</td>\n",
       "      <td>NaN</td>\n",
       "      <td>NaN</td>\n",
       "      <td>NaN</td>\n",
       "      <td>NaN</td>\n",
       "      <td>NaN</td>\n",
       "      <td>NaN</td>\n",
       "      <td>NaN</td>\n",
       "      <td>NaN</td>\n",
       "      <td>NaN</td>\n",
       "    </tr>\n",
       "    <tr>\n",
       "      <th>7</th>\n",
       "      <td>2018</td>\n",
       "      <td>3</td>\n",
       "      <td>9</td>\n",
       "      <td>20</td>\n",
       "      <td>4</td>\n",
       "      <td>2018-09-20</td>\n",
       "      <td>9E</td>\n",
       "      <td>20363</td>\n",
       "      <td>9E</td>\n",
       "      <td>N371CA</td>\n",
       "      <td>...</td>\n",
       "      <td>NaN</td>\n",
       "      <td>NaN</td>\n",
       "      <td>NaN</td>\n",
       "      <td>NaN</td>\n",
       "      <td>NaN</td>\n",
       "      <td>NaN</td>\n",
       "      <td>NaN</td>\n",
       "      <td>NaN</td>\n",
       "      <td>NaN</td>\n",
       "      <td>NaN</td>\n",
       "    </tr>\n",
       "    <tr>\n",
       "      <th>8</th>\n",
       "      <td>2018</td>\n",
       "      <td>3</td>\n",
       "      <td>9</td>\n",
       "      <td>21</td>\n",
       "      <td>5</td>\n",
       "      <td>2018-09-21</td>\n",
       "      <td>9E</td>\n",
       "      <td>20363</td>\n",
       "      <td>9E</td>\n",
       "      <td>N601LR</td>\n",
       "      <td>...</td>\n",
       "      <td>NaN</td>\n",
       "      <td>NaN</td>\n",
       "      <td>NaN</td>\n",
       "      <td>NaN</td>\n",
       "      <td>NaN</td>\n",
       "      <td>NaN</td>\n",
       "      <td>NaN</td>\n",
       "      <td>NaN</td>\n",
       "      <td>NaN</td>\n",
       "      <td>NaN</td>\n",
       "    </tr>\n",
       "    <tr>\n",
       "      <th>9</th>\n",
       "      <td>2018</td>\n",
       "      <td>3</td>\n",
       "      <td>9</td>\n",
       "      <td>23</td>\n",
       "      <td>7</td>\n",
       "      <td>2018-09-23</td>\n",
       "      <td>9E</td>\n",
       "      <td>20363</td>\n",
       "      <td>9E</td>\n",
       "      <td>N906XJ</td>\n",
       "      <td>...</td>\n",
       "      <td>NaN</td>\n",
       "      <td>NaN</td>\n",
       "      <td>NaN</td>\n",
       "      <td>NaN</td>\n",
       "      <td>NaN</td>\n",
       "      <td>NaN</td>\n",
       "      <td>NaN</td>\n",
       "      <td>NaN</td>\n",
       "      <td>NaN</td>\n",
       "      <td>NaN</td>\n",
       "    </tr>\n",
       "  </tbody>\n",
       "</table>\n",
       "<p>10 rows × 110 columns</p>\n",
       "</div>"
      ],
      "text/plain": [
       "   Year  Quarter  Month  DayofMonth  DayOfWeek  FlightDate Reporting_Airline  \\\n",
       "0  2018        3      9           3          1  2018-09-03                9E   \n",
       "1  2018        3      9           9          7  2018-09-09                9E   \n",
       "2  2018        3      9          10          1  2018-09-10                9E   \n",
       "3  2018        3      9          13          4  2018-09-13                9E   \n",
       "4  2018        3      9          14          5  2018-09-14                9E   \n",
       "5  2018        3      9          16          7  2018-09-16                9E   \n",
       "6  2018        3      9          17          1  2018-09-17                9E   \n",
       "7  2018        3      9          20          4  2018-09-20                9E   \n",
       "8  2018        3      9          21          5  2018-09-21                9E   \n",
       "9  2018        3      9          23          7  2018-09-23                9E   \n",
       "\n",
       "   DOT_ID_Reporting_Airline IATA_CODE_Reporting_Airline Tail_Number  ...  \\\n",
       "0                     20363                          9E      N908XJ  ...   \n",
       "1                     20363                          9E      N315PQ  ...   \n",
       "2                     20363                          9E      N582CA  ...   \n",
       "3                     20363                          9E      N292PQ  ...   \n",
       "4                     20363                          9E      N600LR  ...   \n",
       "5                     20363                          9E      N316PQ  ...   \n",
       "6                     20363                          9E      N916XJ  ...   \n",
       "7                     20363                          9E      N371CA  ...   \n",
       "8                     20363                          9E      N601LR  ...   \n",
       "9                     20363                          9E      N906XJ  ...   \n",
       "\n",
       "   Div4TailNum  Div5Airport  Div5AirportID  Div5AirportSeqID Div5WheelsOn  \\\n",
       "0          NaN          NaN            NaN               NaN          NaN   \n",
       "1          NaN          NaN            NaN               NaN          NaN   \n",
       "2          NaN          NaN            NaN               NaN          NaN   \n",
       "3          NaN          NaN            NaN               NaN          NaN   \n",
       "4          NaN          NaN            NaN               NaN          NaN   \n",
       "5          NaN          NaN            NaN               NaN          NaN   \n",
       "6          NaN          NaN            NaN               NaN          NaN   \n",
       "7          NaN          NaN            NaN               NaN          NaN   \n",
       "8          NaN          NaN            NaN               NaN          NaN   \n",
       "9          NaN          NaN            NaN               NaN          NaN   \n",
       "\n",
       "  Div5TotalGTime Div5LongestGTime  Div5WheelsOff Div5TailNum  Unnamed: 109  \n",
       "0            NaN              NaN            NaN         NaN           NaN  \n",
       "1            NaN              NaN            NaN         NaN           NaN  \n",
       "2            NaN              NaN            NaN         NaN           NaN  \n",
       "3            NaN              NaN            NaN         NaN           NaN  \n",
       "4            NaN              NaN            NaN         NaN           NaN  \n",
       "5            NaN              NaN            NaN         NaN           NaN  \n",
       "6            NaN              NaN            NaN         NaN           NaN  \n",
       "7            NaN              NaN            NaN         NaN           NaN  \n",
       "8            NaN              NaN            NaN         NaN           NaN  \n",
       "9            NaN              NaN            NaN         NaN           NaN  \n",
       "\n",
       "[10 rows x 110 columns]"
      ]
     },
     "execution_count": 10,
     "metadata": {},
     "output_type": "execute_result"
    }
   ],
   "source": [
    "df_temp.head(10)"
   ]
  },
  {
   "cell_type": "code",
   "execution_count": 11,
   "metadata": {
    "tags": []
   },
   "outputs": [
    {
     "name": "stdout",
     "output_type": "stream",
     "text": [
      "The column names are :\n",
      "#########\n",
      "Year\n",
      "Quarter\n",
      "Month\n",
      "DayofMonth\n",
      "DayOfWeek\n",
      "FlightDate\n",
      "Reporting_Airline\n",
      "DOT_ID_Reporting_Airline\n",
      "IATA_CODE_Reporting_Airline\n",
      "Tail_Number\n",
      "Flight_Number_Reporting_Airline\n",
      "OriginAirportID\n",
      "OriginAirportSeqID\n",
      "OriginCityMarketID\n",
      "Origin\n",
      "OriginCityName\n",
      "OriginState\n",
      "OriginStateFips\n",
      "OriginStateName\n",
      "OriginWac\n",
      "DestAirportID\n",
      "DestAirportSeqID\n",
      "DestCityMarketID\n",
      "Dest\n",
      "DestCityName\n",
      "DestState\n",
      "DestStateFips\n",
      "DestStateName\n",
      "DestWac\n",
      "CRSDepTime\n",
      "DepTime\n",
      "DepDelay\n",
      "DepDelayMinutes\n",
      "DepDel15\n",
      "DepartureDelayGroups\n",
      "DepTimeBlk\n",
      "TaxiOut\n",
      "WheelsOff\n",
      "WheelsOn\n",
      "TaxiIn\n",
      "CRSArrTime\n",
      "ArrTime\n",
      "ArrDelay\n",
      "ArrDelayMinutes\n",
      "ArrDel15\n",
      "ArrivalDelayGroups\n",
      "ArrTimeBlk\n",
      "Cancelled\n",
      "CancellationCode\n",
      "Diverted\n",
      "CRSElapsedTime\n",
      "ActualElapsedTime\n",
      "AirTime\n",
      "Flights\n",
      "Distance\n",
      "DistanceGroup\n",
      "CarrierDelay\n",
      "WeatherDelay\n",
      "NASDelay\n",
      "SecurityDelay\n",
      "LateAircraftDelay\n",
      "FirstDepTime\n",
      "TotalAddGTime\n",
      "LongestAddGTime\n",
      "DivAirportLandings\n",
      "DivReachedDest\n",
      "DivActualElapsedTime\n",
      "DivArrDelay\n",
      "DivDistance\n",
      "Div1Airport\n",
      "Div1AirportID\n",
      "Div1AirportSeqID\n",
      "Div1WheelsOn\n",
      "Div1TotalGTime\n",
      "Div1LongestGTime\n",
      "Div1WheelsOff\n",
      "Div1TailNum\n",
      "Div2Airport\n",
      "Div2AirportID\n",
      "Div2AirportSeqID\n",
      "Div2WheelsOn\n",
      "Div2TotalGTime\n",
      "Div2LongestGTime\n",
      "Div2WheelsOff\n",
      "Div2TailNum\n",
      "Div3Airport\n",
      "Div3AirportID\n",
      "Div3AirportSeqID\n",
      "Div3WheelsOn\n",
      "Div3TotalGTime\n",
      "Div3LongestGTime\n",
      "Div3WheelsOff\n",
      "Div3TailNum\n",
      "Div4Airport\n",
      "Div4AirportID\n",
      "Div4AirportSeqID\n",
      "Div4WheelsOn\n",
      "Div4TotalGTime\n",
      "Div4LongestGTime\n",
      "Div4WheelsOff\n",
      "Div4TailNum\n",
      "Div5Airport\n",
      "Div5AirportID\n",
      "Div5AirportSeqID\n",
      "Div5WheelsOn\n",
      "Div5TotalGTime\n",
      "Div5LongestGTime\n",
      "Div5WheelsOff\n",
      "Div5TailNum\n",
      "Unnamed: 109\n"
     ]
    }
   ],
   "source": [
    "print(f'The column names are :')\n",
    "print('#########')\n",
    "for col in df_temp.columns:\n",
    "    print(col)"
   ]
  },
  {
   "cell_type": "code",
   "execution_count": 12,
   "metadata": {
    "tags": []
   },
   "outputs": [
    {
     "name": "stdout",
     "output_type": "stream",
     "text": [
      "DepDelay\n",
      "DepDelayMinutes\n",
      "DepDel15\n",
      "DepartureDelayGroups\n",
      "ArrDelay\n",
      "ArrDelayMinutes\n",
      "ArrDel15\n",
      "ArrivalDelayGroups\n",
      "CarrierDelay\n",
      "WeatherDelay\n",
      "NASDelay\n",
      "SecurityDelay\n",
      "LateAircraftDelay\n",
      "DivArrDelay\n"
     ]
    }
   ],
   "source": [
    "for col in df_temp.columns:\n",
    "    if 'del' in col.lower():\n",
    "        print(col)"
   ]
  },
  {
   "cell_type": "code",
   "execution_count": 13,
   "metadata": {
    "tags": []
   },
   "outputs": [
    {
     "name": "stdout",
     "output_type": "stream",
     "text": [
      "The #rows and #columns are  585749  and  110\n",
      "The years in this dataset are:  2018\n",
      "The months covered in this dataset are:  9\n",
      "The date range for data is : 2018-09-01  to  2018-09-30\n",
      "The airlines covered in this dataset are:  ['9E', 'B6', 'WN', 'YV', 'YX', 'EV', 'AA', 'AS', 'DL', 'HA', 'UA', 'F9', 'G4', 'MQ', 'NK', 'OH', 'OO']\n",
      "The Origin airports covered are:  ['DFW', 'LGA', 'MSN', 'MSP', 'ATL', 'BDL', 'VLD', 'JFK', 'RDU', 'CHS', 'DTW', 'GRB', 'PVD', 'SHV', 'FNT', 'PIT', 'RIC', 'RST', 'RSW', 'CVG', 'LIT', 'ORD', 'JAX', 'TRI', 'BOS', 'CWA', 'DCA', 'CHO', 'AVP', 'IND', 'GRR', 'BTR', 'MEM', 'TUL', 'CLE', 'STL', 'BTV', 'OMA', 'MGM', 'TVC', 'SAV', 'GSP', 'EWR', 'OAJ', 'BNA', 'MCI', 'TLH', 'ROC', 'LEX', 'PWM', 'BUF', 'AGS', 'CLT', 'GSO', 'BWI', 'SAT', 'PHL', 'TYS', 'ACK', 'DSM', 'GNV', 'AVL', 'BGR', 'MHT', 'ILM', 'MOT', 'IAH', 'SBN', 'SYR', 'ORF', 'MKE', 'XNA', 'MSY', 'PBI', 'ABE', 'HPN', 'EVV', 'ALB', 'LNK', 'AUS', 'PHF', 'CHA', 'GTR', 'BMI', 'BQK', 'CID', 'CAK', 'ATW', 'ABY', 'CAE', 'SRQ', 'MLI', 'BHM', 'IAD', 'CSG', 'CMH', 'MCO', 'MBS', 'FLL', 'SDF', 'TPA', 'MVY', 'LAS', 'LGB', 'SFO', 'SAN', 'LAX', 'RNO', 'PDX', 'ANC', 'ABQ', 'SLC', 'DEN', 'PHX', 'OAK', 'SMF', 'SJU', 'SEA', 'HOU', 'STX', 'BUR', 'SWF', 'SJC', 'DAB', 'BQN', 'PSE', 'ORH', 'HYA', 'STT', 'ONT', 'HRL', 'ICT', 'ISP', 'LBB', 'MAF', 'MDW', 'OKC', 'PNS', 'SNA', 'TUS', 'AMA', 'BOI', 'CRP', 'DAL', 'ECP', 'ELP', 'GEG', 'LFT', 'MFE', 'MDT', 'JAN', 'COS', 'MOB', 'VPS', 'MTJ', 'DRO', 'GPT', 'BFL', 'MRY', 'SBA', 'PSP', 'FSD', 'BRO', 'RAP', 'COU', 'STS', 'PIA', 'FAT', 'SBP', 'FSM', 'HSV', 'BIS', 'DAY', 'BZN', 'MIA', 'EYW', 'MYR', 'HHH', 'GJT', 'FAR', 'SGF', 'HOB', 'CLL', 'LRD', 'AEX', 'ERI', 'MLU', 'LCH', 'ROA', 'LAW', 'MHK', 'GRK', 'SAF', 'GRI', 'JLN', 'ROW', 'FWA', 'CRW', 'LAN', 'OGG', 'HNL', 'KOA', 'EGE', 'LIH', 'MLB', 'JAC', 'FAI', 'RDM', 'ADQ', 'BET', 'BRW', 'SCC', 'KTN', 'YAK', 'CDV', 'JNU', 'SIT', 'PSG', 'WRG', 'OME', 'OTZ', 'ADK', 'FCA', 'FAY', 'PSC', 'BIL', 'MSO', 'ITO', 'PPG', 'MFR', 'EUG', 'GUM', 'SPN', 'DLH', 'TTN', 'BKG', 'SFB', 'PIE', 'PGD', 'AZA', 'SMX', 'RFD', 'SCK', 'OWB', 'HTS', 'BLV', 'IAG', 'USA', 'GFK', 'BLI', 'ELM', 'PBG', 'LCK', 'GTF', 'OGD', 'IDA', 'PVU', 'TOL', 'PSM', 'CKB', 'HGR', 'SPI', 'STC', 'ACT', 'TYR', 'ABI', 'AZO', 'CMI', 'BPT', 'GCK', 'MQT', 'ALO', 'TXK', 'SPS', 'SWO', 'DBQ', 'SUX', 'SJT', 'GGG', 'LSE', 'LBE', 'ACY', 'LYH', 'PGV', 'HVN', 'EWN', 'DHN', 'PIH', 'IMT', 'WYS', 'CPR', 'SCE', 'HLN', 'SUN', 'ISN', 'CMX', 'EAU', 'LWB', 'SHD', 'LBF', 'HYS', 'SLN', 'EAR', 'VEL', 'CNY', 'GCC', 'RKS', 'PUB', 'LBL', 'MKG', 'PAH', 'CGI', 'UIN', 'BFF', 'DVL', 'JMS', 'LAR', 'SGU', 'PRC', 'ASE', 'RDD', 'ACV', 'OTH', 'COD', 'LWS', 'ABR', 'APN', 'ESC', 'PLN', 'BJI', 'BRD', 'BTM', 'CDC', 'CIU', 'EKO', 'TWF', 'HIB', 'BGM', 'RHI', 'ITH', 'INL', 'FLG', 'YUM', 'MEI', 'PIB', 'HDN']\n",
      "The Destination airports covered are:  ['CVG', 'PWM', 'RDU', 'MSP', 'MSN', 'SHV', 'CLT', 'PIT', 'RIC', 'IAH', 'ATL', 'JFK', 'DCA', 'DTW', 'LGA', 'TYS', 'PVD', 'FNT', 'LIT', 'BUF', 'ORD', 'TRI', 'IND', 'BGR', 'AVP', 'BWI', 'LEX', 'BDL', 'GRR', 'CWA', 'TUL', 'MEM', 'AGS', 'EWR', 'MGM', 'PHL', 'SYR', 'OMA', 'STL', 'TVC', 'ORF', 'CLE', 'ABY', 'BOS', 'OAJ', 'TLH', 'BTR', 'SAT', 'JAX', 'BNA', 'CHO', 'VLD', 'ROC', 'DFW', 'GNV', 'ACK', 'PBI', 'CHS', 'GRB', 'MOT', 'MKE', 'DSM', 'ILM', 'GSO', 'MCI', 'SBN', 'BTV', 'MVY', 'XNA', 'RST', 'EVV', 'HPN', 'RSW', 'MDT', 'ROA', 'GSP', 'MCO', 'CSG', 'SAV', 'PHF', 'ALB', 'CHA', 'ABE', 'BMI', 'MSY', 'IAD', 'GTR', 'CID', 'CAK', 'ATW', 'AUS', 'BQK', 'MLI', 'CAE', 'CMH', 'AVL', 'MBS', 'FLL', 'SDF', 'TPA', 'LNK', 'SRQ', 'MHT', 'BHM', 'LAS', 'SFO', 'SAN', 'RNO', 'LGB', 'ANC', 'PDX', 'SJU', 'ABQ', 'SLC', 'DEN', 'LAX', 'PHX', 'OAK', 'SMF', 'SEA', 'STX', 'BUR', 'DAB', 'SJC', 'SWF', 'HOU', 'BQN', 'PSE', 'ORH', 'HYA', 'STT', 'ONT', 'DAL', 'ECP', 'ELP', 'HRL', 'MAF', 'MDW', 'OKC', 'PNS', 'SNA', 'AMA', 'BOI', 'GEG', 'ICT', 'LBB', 'TUS', 'ISP', 'CRP', 'MFE', 'LFT', 'VPS', 'JAN', 'COS', 'MOB', 'DRO', 'GPT', 'BFL', 'COU', 'SBP', 'MTJ', 'SBA', 'PSP', 'FSD', 'FSM', 'BRO', 'PIA', 'STS', 'FAT', 'RAP', 'MRY', 'HSV', 'BIS', 'DAY', 'BZN', 'MIA', 'EYW', 'MYR', 'HHH', 'GJT', 'FAR', 'MLU', 'LRD', 'CLL', 'LCH', 'FWA', 'GRK', 'SGF', 'HOB', 'LAW', 'MHK', 'SAF', 'JLN', 'ROW', 'GRI', 'AEX', 'CRW', 'LAN', 'ERI', 'HNL', 'KOA', 'OGG', 'EGE', 'LIH', 'JAC', 'MLB', 'RDM', 'BET', 'ADQ', 'BRW', 'SCC', 'FAI', 'JNU', 'CDV', 'YAK', 'SIT', 'KTN', 'WRG', 'PSG', 'OME', 'OTZ', 'ADK', 'FCA', 'BIL', 'PSC', 'FAY', 'MSO', 'ITO', 'PPG', 'MFR', 'DLH', 'EUG', 'GUM', 'SPN', 'TTN', 'BKG', 'AZA', 'SFB', 'LCK', 'BLI', 'SCK', 'PIE', 'RFD', 'PVU', 'PBG', 'BLV', 'PGD', 'SPI', 'USA', 'TOL', 'IDA', 'ELM', 'HTS', 'HGR', 'SMX', 'OGD', 'GFK', 'STC', 'GTF', 'IAG', 'CKB', 'OWB', 'PSM', 'ABI', 'TYR', 'ALO', 'SUX', 'AZO', 'ACT', 'CMI', 'BPT', 'TXK', 'SWO', 'SPS', 'DBQ', 'SJT', 'GGG', 'LSE', 'MQT', 'GCK', 'LBE', 'ACY', 'LYH', 'PGV', 'HVN', 'EWN', 'DHN', 'PIH', 'WYS', 'SCE', 'IMT', 'HLN', 'ASE', 'SUN', 'ISN', 'EAR', 'SGU', 'VEL', 'SHD', 'LWB', 'MKG', 'SLN', 'HYS', 'BFF', 'PUB', 'LBL', 'CMX', 'EAU', 'PAH', 'UIN', 'RKS', 'CGI', 'CNY', 'JMS', 'DVL', 'LAR', 'GCC', 'LBF', 'PRC', 'RDD', 'ACV', 'OTH', 'COD', 'LWS', 'ABR', 'APN', 'PLN', 'BJI', 'CPR', 'BRD', 'BTM', 'CDC', 'CIU', 'ESC', 'EKO', 'ITH', 'HIB', 'BGM', 'TWF', 'RHI', 'INL', 'FLG', 'YUM', 'MEI', 'PIB', 'HDN']\n"
     ]
    }
   ],
   "source": [
    "print(\"The #rows and #columns are \", df_temp.shape[0] , \" and \", df_temp.shape[1])\n",
    "print(\"The years in this dataset are: \", df_temp.Year.unique()[0])\n",
    "print(\"The months covered in this dataset are: \", df_temp.Month.unique()[0])\n",
    "print(\"The date range for data is :\" , min(df_temp.FlightDate), \" to \", max(df_temp.FlightDate))\n",
    "print(\"The airlines covered in this dataset are: \", list(df_temp.Reporting_Airline.unique()))\n",
    "print(\"The Origin airports covered are: \", list(df_temp.Origin.unique()))\n",
    "print(\"The Destination airports covered are: \", list(df_temp.Dest.unique()))"
   ]
  },
  {
   "cell_type": "code",
   "execution_count": 14,
   "metadata": {
    "tags": []
   },
   "outputs": [
    {
     "data": {
      "text/html": [
       "<div>\n",
       "<style scoped>\n",
       "    .dataframe tbody tr th:only-of-type {\n",
       "        vertical-align: middle;\n",
       "    }\n",
       "\n",
       "    .dataframe tbody tr th {\n",
       "        vertical-align: top;\n",
       "    }\n",
       "\n",
       "    .dataframe thead th {\n",
       "        text-align: right;\n",
       "    }\n",
       "</style>\n",
       "<table border=\"1\" class=\"dataframe\">\n",
       "  <thead>\n",
       "    <tr style=\"text-align: right;\">\n",
       "      <th></th>\n",
       "      <th>Origin</th>\n",
       "      <th>Destination</th>\n",
       "    </tr>\n",
       "  </thead>\n",
       "  <tbody>\n",
       "    <tr>\n",
       "      <th>ABE</th>\n",
       "      <td>303</td>\n",
       "      <td>303</td>\n",
       "    </tr>\n",
       "    <tr>\n",
       "      <th>ABI</th>\n",
       "      <td>169</td>\n",
       "      <td>169</td>\n",
       "    </tr>\n",
       "    <tr>\n",
       "      <th>ABQ</th>\n",
       "      <td>2077</td>\n",
       "      <td>2076</td>\n",
       "    </tr>\n",
       "    <tr>\n",
       "      <th>ABR</th>\n",
       "      <td>60</td>\n",
       "      <td>60</td>\n",
       "    </tr>\n",
       "    <tr>\n",
       "      <th>ABY</th>\n",
       "      <td>79</td>\n",
       "      <td>79</td>\n",
       "    </tr>\n",
       "    <tr>\n",
       "      <th>...</th>\n",
       "      <td>...</td>\n",
       "      <td>...</td>\n",
       "    </tr>\n",
       "    <tr>\n",
       "      <th>WRG</th>\n",
       "      <td>60</td>\n",
       "      <td>60</td>\n",
       "    </tr>\n",
       "    <tr>\n",
       "      <th>WYS</th>\n",
       "      <td>52</td>\n",
       "      <td>52</td>\n",
       "    </tr>\n",
       "    <tr>\n",
       "      <th>XNA</th>\n",
       "      <td>1004</td>\n",
       "      <td>1004</td>\n",
       "    </tr>\n",
       "    <tr>\n",
       "      <th>YAK</th>\n",
       "      <td>60</td>\n",
       "      <td>60</td>\n",
       "    </tr>\n",
       "    <tr>\n",
       "      <th>YUM</th>\n",
       "      <td>96</td>\n",
       "      <td>96</td>\n",
       "    </tr>\n",
       "  </tbody>\n",
       "</table>\n",
       "<p>346 rows × 2 columns</p>\n",
       "</div>"
      ],
      "text/plain": [
       "     Origin  Destination\n",
       "ABE     303          303\n",
       "ABI     169          169\n",
       "ABQ    2077         2076\n",
       "ABR      60           60\n",
       "ABY      79           79\n",
       "..      ...          ...\n",
       "WRG      60           60\n",
       "WYS      52           52\n",
       "XNA    1004         1004\n",
       "YAK      60           60\n",
       "YUM      96           96\n",
       "\n",
       "[346 rows x 2 columns]"
      ]
     },
     "execution_count": 14,
     "metadata": {},
     "output_type": "execute_result"
    }
   ],
   "source": [
    "counts = pd.DataFrame({'Origin':df_temp.Origin.value_counts(), 'Destination':df_temp.Dest.value_counts()})\n",
    "counts"
   ]
  },
  {
   "cell_type": "code",
   "execution_count": 16,
   "metadata": {
    "tags": []
   },
   "outputs": [
    {
     "data": {
      "text/html": [
       "<div>\n",
       "<style scoped>\n",
       "    .dataframe tbody tr th:only-of-type {\n",
       "        vertical-align: middle;\n",
       "    }\n",
       "\n",
       "    .dataframe tbody tr th {\n",
       "        vertical-align: top;\n",
       "    }\n",
       "\n",
       "    .dataframe thead th {\n",
       "        text-align: right;\n",
       "    }\n",
       "</style>\n",
       "<table border=\"1\" class=\"dataframe\">\n",
       "  <thead>\n",
       "    <tr style=\"text-align: right;\">\n",
       "      <th></th>\n",
       "      <th>Origin</th>\n",
       "      <th>Destination</th>\n",
       "    </tr>\n",
       "  </thead>\n",
       "  <tbody>\n",
       "    <tr>\n",
       "      <th>ATL</th>\n",
       "      <td>31525</td>\n",
       "      <td>31521</td>\n",
       "    </tr>\n",
       "    <tr>\n",
       "      <th>ORD</th>\n",
       "      <td>28257</td>\n",
       "      <td>28250</td>\n",
       "    </tr>\n",
       "    <tr>\n",
       "      <th>DFW</th>\n",
       "      <td>22802</td>\n",
       "      <td>22795</td>\n",
       "    </tr>\n",
       "    <tr>\n",
       "      <th>DEN</th>\n",
       "      <td>19807</td>\n",
       "      <td>19807</td>\n",
       "    </tr>\n",
       "    <tr>\n",
       "      <th>CLT</th>\n",
       "      <td>19655</td>\n",
       "      <td>19654</td>\n",
       "    </tr>\n",
       "    <tr>\n",
       "      <th>LAX</th>\n",
       "      <td>17875</td>\n",
       "      <td>17873</td>\n",
       "    </tr>\n",
       "    <tr>\n",
       "      <th>SFO</th>\n",
       "      <td>14332</td>\n",
       "      <td>14348</td>\n",
       "    </tr>\n",
       "    <tr>\n",
       "      <th>IAH</th>\n",
       "      <td>14210</td>\n",
       "      <td>14203</td>\n",
       "    </tr>\n",
       "    <tr>\n",
       "      <th>LGA</th>\n",
       "      <td>13850</td>\n",
       "      <td>13850</td>\n",
       "    </tr>\n",
       "    <tr>\n",
       "      <th>MSP</th>\n",
       "      <td>13349</td>\n",
       "      <td>13347</td>\n",
       "    </tr>\n",
       "    <tr>\n",
       "      <th>LAS</th>\n",
       "      <td>13318</td>\n",
       "      <td>13322</td>\n",
       "    </tr>\n",
       "    <tr>\n",
       "      <th>PHX</th>\n",
       "      <td>13126</td>\n",
       "      <td>13128</td>\n",
       "    </tr>\n",
       "    <tr>\n",
       "      <th>DTW</th>\n",
       "      <td>12725</td>\n",
       "      <td>12724</td>\n",
       "    </tr>\n",
       "    <tr>\n",
       "      <th>BOS</th>\n",
       "      <td>12223</td>\n",
       "      <td>12227</td>\n",
       "    </tr>\n",
       "    <tr>\n",
       "      <th>SEA</th>\n",
       "      <td>11872</td>\n",
       "      <td>11877</td>\n",
       "    </tr>\n",
       "  </tbody>\n",
       "</table>\n",
       "</div>"
      ],
      "text/plain": [
       "     Origin  Destination\n",
       "ATL   31525        31521\n",
       "ORD   28257        28250\n",
       "DFW   22802        22795\n",
       "DEN   19807        19807\n",
       "CLT   19655        19654\n",
       "LAX   17875        17873\n",
       "SFO   14332        14348\n",
       "IAH   14210        14203\n",
       "LGA   13850        13850\n",
       "MSP   13349        13347\n",
       "LAS   13318        13322\n",
       "PHX   13126        13128\n",
       "DTW   12725        12724\n",
       "BOS   12223        12227\n",
       "SEA   11872        11877"
      ]
     },
     "execution_count": 16,
     "metadata": {},
     "output_type": "execute_result"
    }
   ],
   "source": [
    "counts.sort_values(by=['Origin'],ascending=False).head(15) # Enter your code here"
   ]
  },
  {
   "cell_type": "code",
   "execution_count": 17,
   "metadata": {
    "tags": []
   },
   "outputs": [],
   "source": [
    "def combine_csv(csv_files, filter_cols, subset_cols, subset_vals, file_name):\n",
    "\n",
    "    \"\"\"\n",
    "    Combine csv files into one Data Frame\n",
    "    csv_files: list of csv file paths\n",
    "    filter_cols: list of columns to filter\n",
    "    subset_cols: list of columns to subset rows\n",
    "    subset_vals: list of list of values to subset rows\n",
    "    \"\"\"\n",
    "\n",
    "    df = pd.DataFrame()\n",
    "    \n",
    "    for file in csv_files:\n",
    "        df_temp = pd.read_csv(file)\n",
    "        df_temp = df_temp[filter_cols]\n",
    "        for col, val in zip(subset_cols,subset_vals):\n",
    "            df_temp = df_temp[df_temp[col].isin(val)]      \n",
    "        \n",
    "        df = pd.concat([df, df_temp], axis=0)\n",
    "      \n",
    "    df.to_csv(file_name, index=False)\n",
    "    print(f'Combined csv stored at {file_name}')"
   ]
  },
  {
   "cell_type": "code",
   "execution_count": 18,
   "metadata": {
    "tags": []
   },
   "outputs": [],
   "source": [
    "#cols is the list of columns to predict Arrival Delay \n",
    "cols = ['Year','Quarter','Month','DayofMonth','DayOfWeek','FlightDate',\n",
    "        'Reporting_Airline','Origin','OriginState','Dest','DestState',\n",
    "        'CRSDepTime','Cancelled','Diverted','Distance','DistanceGroup',\n",
    "        'ArrDelay','ArrDelayMinutes','ArrDel15','AirTime']\n",
    "\n",
    "subset_cols = ['Origin', 'Dest', 'Reporting_Airline']\n",
    "\n",
    "# subset_vals is a list collection of the top origin and destination airports and top 5 airlines\n",
    "subset_vals = [['ATL', 'ORD', 'DFW', 'DEN', 'CLT', 'LAX', 'IAH', 'PHX', 'SFO'], \n",
    "               ['ATL', 'ORD', 'DFW', 'DEN', 'CLT', 'LAX', 'IAH', 'PHX', 'SFO'], \n",
    "               ['UA', 'OO', 'WN', 'AA', 'DL']]"
   ]
  },
  {
   "cell_type": "code",
   "execution_count": 21,
   "metadata": {
    "tags": []
   },
   "outputs": [
    {
     "name": "stdout",
     "output_type": "stream",
     "text": [
      "Combined csv stored at /home/ec2-user/SageMaker/project/data/FlightDelays/combined_files.csv\n",
      "CSVs merged in 5.09 minutes\n"
     ]
    }
   ],
   "source": [
    "start = time.time()\n",
    "combined_csv_filename = f\"{base_path}combined_files.csv\"\n",
    "combine_csv(csv_files, cols, subset_cols, subset_vals, combined_csv_filename)\n",
    "print(f'CSVs merged in {round((time.time() - start)/60,2)} minutes')"
   ]
  },
  {
   "attachments": {},
   "cell_type": "markdown",
   "metadata": {},
   "source": [
    "#### Load the dataset\n",
    "\n",
    "Load the combined dataset."
   ]
  },
  {
   "cell_type": "code",
   "execution_count": 22,
   "metadata": {
    "tags": []
   },
   "outputs": [],
   "source": [
    "data = pd.read_csv(combined_csv_filename)"
   ]
  },
  {
   "cell_type": "code",
   "execution_count": 23,
   "metadata": {
    "tags": []
   },
   "outputs": [
    {
     "data": {
      "text/html": [
       "<div>\n",
       "<style scoped>\n",
       "    .dataframe tbody tr th:only-of-type {\n",
       "        vertical-align: middle;\n",
       "    }\n",
       "\n",
       "    .dataframe tbody tr th {\n",
       "        vertical-align: top;\n",
       "    }\n",
       "\n",
       "    .dataframe thead th {\n",
       "        text-align: right;\n",
       "    }\n",
       "</style>\n",
       "<table border=\"1\" class=\"dataframe\">\n",
       "  <thead>\n",
       "    <tr style=\"text-align: right;\">\n",
       "      <th></th>\n",
       "      <th>Year</th>\n",
       "      <th>Quarter</th>\n",
       "      <th>Month</th>\n",
       "      <th>DayofMonth</th>\n",
       "      <th>DayOfWeek</th>\n",
       "      <th>FlightDate</th>\n",
       "      <th>Reporting_Airline</th>\n",
       "      <th>Origin</th>\n",
       "      <th>OriginState</th>\n",
       "      <th>Dest</th>\n",
       "      <th>DestState</th>\n",
       "      <th>CRSDepTime</th>\n",
       "      <th>Cancelled</th>\n",
       "      <th>Diverted</th>\n",
       "      <th>Distance</th>\n",
       "      <th>DistanceGroup</th>\n",
       "      <th>ArrDelay</th>\n",
       "      <th>ArrDelayMinutes</th>\n",
       "      <th>ArrDel15</th>\n",
       "      <th>AirTime</th>\n",
       "    </tr>\n",
       "  </thead>\n",
       "  <tbody>\n",
       "    <tr>\n",
       "      <th>0</th>\n",
       "      <td>2016</td>\n",
       "      <td>4</td>\n",
       "      <td>11</td>\n",
       "      <td>1</td>\n",
       "      <td>2</td>\n",
       "      <td>2016-11-01</td>\n",
       "      <td>AA</td>\n",
       "      <td>SFO</td>\n",
       "      <td>CA</td>\n",
       "      <td>DFW</td>\n",
       "      <td>TX</td>\n",
       "      <td>1000</td>\n",
       "      <td>0.0</td>\n",
       "      <td>0.0</td>\n",
       "      <td>1464.0</td>\n",
       "      <td>6</td>\n",
       "      <td>-13.0</td>\n",
       "      <td>0.0</td>\n",
       "      <td>0.0</td>\n",
       "      <td>171.0</td>\n",
       "    </tr>\n",
       "    <tr>\n",
       "      <th>1</th>\n",
       "      <td>2016</td>\n",
       "      <td>4</td>\n",
       "      <td>11</td>\n",
       "      <td>2</td>\n",
       "      <td>3</td>\n",
       "      <td>2016-11-02</td>\n",
       "      <td>AA</td>\n",
       "      <td>SFO</td>\n",
       "      <td>CA</td>\n",
       "      <td>DFW</td>\n",
       "      <td>TX</td>\n",
       "      <td>1000</td>\n",
       "      <td>0.0</td>\n",
       "      <td>0.0</td>\n",
       "      <td>1464.0</td>\n",
       "      <td>6</td>\n",
       "      <td>-4.0</td>\n",
       "      <td>0.0</td>\n",
       "      <td>0.0</td>\n",
       "      <td>187.0</td>\n",
       "    </tr>\n",
       "    <tr>\n",
       "      <th>2</th>\n",
       "      <td>2016</td>\n",
       "      <td>4</td>\n",
       "      <td>11</td>\n",
       "      <td>3</td>\n",
       "      <td>4</td>\n",
       "      <td>2016-11-03</td>\n",
       "      <td>AA</td>\n",
       "      <td>SFO</td>\n",
       "      <td>CA</td>\n",
       "      <td>DFW</td>\n",
       "      <td>TX</td>\n",
       "      <td>1000</td>\n",
       "      <td>0.0</td>\n",
       "      <td>0.0</td>\n",
       "      <td>1464.0</td>\n",
       "      <td>6</td>\n",
       "      <td>-3.0</td>\n",
       "      <td>0.0</td>\n",
       "      <td>0.0</td>\n",
       "      <td>183.0</td>\n",
       "    </tr>\n",
       "    <tr>\n",
       "      <th>3</th>\n",
       "      <td>2016</td>\n",
       "      <td>4</td>\n",
       "      <td>11</td>\n",
       "      <td>4</td>\n",
       "      <td>5</td>\n",
       "      <td>2016-11-04</td>\n",
       "      <td>AA</td>\n",
       "      <td>SFO</td>\n",
       "      <td>CA</td>\n",
       "      <td>DFW</td>\n",
       "      <td>TX</td>\n",
       "      <td>1000</td>\n",
       "      <td>0.0</td>\n",
       "      <td>0.0</td>\n",
       "      <td>1464.0</td>\n",
       "      <td>6</td>\n",
       "      <td>39.0</td>\n",
       "      <td>39.0</td>\n",
       "      <td>1.0</td>\n",
       "      <td>186.0</td>\n",
       "    </tr>\n",
       "    <tr>\n",
       "      <th>4</th>\n",
       "      <td>2016</td>\n",
       "      <td>4</td>\n",
       "      <td>11</td>\n",
       "      <td>5</td>\n",
       "      <td>6</td>\n",
       "      <td>2016-11-05</td>\n",
       "      <td>AA</td>\n",
       "      <td>SFO</td>\n",
       "      <td>CA</td>\n",
       "      <td>DFW</td>\n",
       "      <td>TX</td>\n",
       "      <td>1000</td>\n",
       "      <td>0.0</td>\n",
       "      <td>0.0</td>\n",
       "      <td>1464.0</td>\n",
       "      <td>6</td>\n",
       "      <td>-5.0</td>\n",
       "      <td>0.0</td>\n",
       "      <td>0.0</td>\n",
       "      <td>184.0</td>\n",
       "    </tr>\n",
       "  </tbody>\n",
       "</table>\n",
       "</div>"
      ],
      "text/plain": [
       "   Year  Quarter  Month  DayofMonth  DayOfWeek  FlightDate Reporting_Airline  \\\n",
       "0  2016        4     11           1          2  2016-11-01                AA   \n",
       "1  2016        4     11           2          3  2016-11-02                AA   \n",
       "2  2016        4     11           3          4  2016-11-03                AA   \n",
       "3  2016        4     11           4          5  2016-11-04                AA   \n",
       "4  2016        4     11           5          6  2016-11-05                AA   \n",
       "\n",
       "  Origin OriginState Dest DestState  CRSDepTime  Cancelled  Diverted  \\\n",
       "0    SFO          CA  DFW        TX        1000        0.0       0.0   \n",
       "1    SFO          CA  DFW        TX        1000        0.0       0.0   \n",
       "2    SFO          CA  DFW        TX        1000        0.0       0.0   \n",
       "3    SFO          CA  DFW        TX        1000        0.0       0.0   \n",
       "4    SFO          CA  DFW        TX        1000        0.0       0.0   \n",
       "\n",
       "   Distance  DistanceGroup  ArrDelay  ArrDelayMinutes  ArrDel15  AirTime  \n",
       "0    1464.0              6     -13.0              0.0       0.0    171.0  \n",
       "1    1464.0              6      -4.0              0.0       0.0    187.0  \n",
       "2    1464.0              6      -3.0              0.0       0.0    183.0  \n",
       "3    1464.0              6      39.0             39.0       1.0    186.0  \n",
       "4    1464.0              6      -5.0              0.0       0.0    184.0  "
      ]
     },
     "execution_count": 23,
     "metadata": {},
     "output_type": "execute_result"
    }
   ],
   "source": [
    "data.head()"
   ]
  },
  {
   "cell_type": "code",
   "execution_count": 25,
   "metadata": {
    "tags": []
   },
   "outputs": [
    {
     "name": "stdout",
     "output_type": "stream",
     "text": [
      "The #rows and #columns are  1658130  and  20\n",
      "The years in this dataset are:  [2016, 2015, 2014, 2018, 2017]\n",
      "The months covered in this dataset are:  [1, 2, 3, 4, 5, 6, 7, 8, 9, 10, 11, 12]\n",
      "The date range for data is : 2014-01-01  to  2018-12-31\n",
      "The airlines covered in this dataset are:  ['AA', 'DL', 'WN', 'UA', 'OO']\n",
      "The Origin airports covered are:  ['SFO', 'DFW', 'ORD', 'LAX', 'IAH', 'DEN', 'ATL', 'PHX', 'CLT']\n",
      "The Destination airports covered are:  ['DFW', 'SFO', 'ORD', 'LAX', 'CLT', 'PHX', 'IAH', 'DEN', 'ATL']\n"
     ]
    }
   ],
   "source": [
    "print(\"The #rows and #columns are \", data.shape[0] , \" and \", data.shape[1])\n",
    "print(\"The years in this dataset are: \", list(data.Year.unique()))\n",
    "print(\"The months covered in this dataset are: \", sorted(list(data.Month.unique())))\n",
    "print(\"The date range for data is :\" , min(data.FlightDate), \" to \", max(data.FlightDate))\n",
    "print(\"The airlines covered in this dataset are: \", list(data.Reporting_Airline.unique()))\n",
    "print(\"The Origin airports covered are: \", list(data.Origin.unique()))\n",
    "print(\"The Destination airports covered are: \", list(data.Dest.unique()))"
   ]
  },
  {
   "attachments": {},
   "cell_type": "markdown",
   "metadata": {},
   "source": [
    " *1* means that the arrival time delayed more than 15 minutes, and *0* means all other cases.rename the column from **ArrDel15** to *is_delay*"
   ]
  },
  {
   "cell_type": "code",
   "execution_count": 26,
   "metadata": {
    "tags": []
   },
   "outputs": [
    {
     "data": {
      "text/html": [
       "<div>\n",
       "<style scoped>\n",
       "    .dataframe tbody tr th:only-of-type {\n",
       "        vertical-align: middle;\n",
       "    }\n",
       "\n",
       "    .dataframe tbody tr th {\n",
       "        vertical-align: top;\n",
       "    }\n",
       "\n",
       "    .dataframe thead th {\n",
       "        text-align: right;\n",
       "    }\n",
       "</style>\n",
       "<table border=\"1\" class=\"dataframe\">\n",
       "  <thead>\n",
       "    <tr style=\"text-align: right;\">\n",
       "      <th></th>\n",
       "      <th>Year</th>\n",
       "      <th>Quarter</th>\n",
       "      <th>Month</th>\n",
       "      <th>DayofMonth</th>\n",
       "      <th>DayOfWeek</th>\n",
       "      <th>FlightDate</th>\n",
       "      <th>Reporting_Airline</th>\n",
       "      <th>Origin</th>\n",
       "      <th>OriginState</th>\n",
       "      <th>Dest</th>\n",
       "      <th>DestState</th>\n",
       "      <th>CRSDepTime</th>\n",
       "      <th>Cancelled</th>\n",
       "      <th>Diverted</th>\n",
       "      <th>Distance</th>\n",
       "      <th>DistanceGroup</th>\n",
       "      <th>ArrDelay</th>\n",
       "      <th>ArrDelayMinutes</th>\n",
       "      <th>is_delay</th>\n",
       "      <th>AirTime</th>\n",
       "    </tr>\n",
       "  </thead>\n",
       "  <tbody>\n",
       "    <tr>\n",
       "      <th>0</th>\n",
       "      <td>2016</td>\n",
       "      <td>4</td>\n",
       "      <td>11</td>\n",
       "      <td>1</td>\n",
       "      <td>2</td>\n",
       "      <td>2016-11-01</td>\n",
       "      <td>AA</td>\n",
       "      <td>SFO</td>\n",
       "      <td>CA</td>\n",
       "      <td>DFW</td>\n",
       "      <td>TX</td>\n",
       "      <td>1000</td>\n",
       "      <td>0.0</td>\n",
       "      <td>0.0</td>\n",
       "      <td>1464.0</td>\n",
       "      <td>6</td>\n",
       "      <td>-13.0</td>\n",
       "      <td>0.0</td>\n",
       "      <td>0.0</td>\n",
       "      <td>171.0</td>\n",
       "    </tr>\n",
       "    <tr>\n",
       "      <th>1</th>\n",
       "      <td>2016</td>\n",
       "      <td>4</td>\n",
       "      <td>11</td>\n",
       "      <td>2</td>\n",
       "      <td>3</td>\n",
       "      <td>2016-11-02</td>\n",
       "      <td>AA</td>\n",
       "      <td>SFO</td>\n",
       "      <td>CA</td>\n",
       "      <td>DFW</td>\n",
       "      <td>TX</td>\n",
       "      <td>1000</td>\n",
       "      <td>0.0</td>\n",
       "      <td>0.0</td>\n",
       "      <td>1464.0</td>\n",
       "      <td>6</td>\n",
       "      <td>-4.0</td>\n",
       "      <td>0.0</td>\n",
       "      <td>0.0</td>\n",
       "      <td>187.0</td>\n",
       "    </tr>\n",
       "    <tr>\n",
       "      <th>2</th>\n",
       "      <td>2016</td>\n",
       "      <td>4</td>\n",
       "      <td>11</td>\n",
       "      <td>3</td>\n",
       "      <td>4</td>\n",
       "      <td>2016-11-03</td>\n",
       "      <td>AA</td>\n",
       "      <td>SFO</td>\n",
       "      <td>CA</td>\n",
       "      <td>DFW</td>\n",
       "      <td>TX</td>\n",
       "      <td>1000</td>\n",
       "      <td>0.0</td>\n",
       "      <td>0.0</td>\n",
       "      <td>1464.0</td>\n",
       "      <td>6</td>\n",
       "      <td>-3.0</td>\n",
       "      <td>0.0</td>\n",
       "      <td>0.0</td>\n",
       "      <td>183.0</td>\n",
       "    </tr>\n",
       "    <tr>\n",
       "      <th>3</th>\n",
       "      <td>2016</td>\n",
       "      <td>4</td>\n",
       "      <td>11</td>\n",
       "      <td>4</td>\n",
       "      <td>5</td>\n",
       "      <td>2016-11-04</td>\n",
       "      <td>AA</td>\n",
       "      <td>SFO</td>\n",
       "      <td>CA</td>\n",
       "      <td>DFW</td>\n",
       "      <td>TX</td>\n",
       "      <td>1000</td>\n",
       "      <td>0.0</td>\n",
       "      <td>0.0</td>\n",
       "      <td>1464.0</td>\n",
       "      <td>6</td>\n",
       "      <td>39.0</td>\n",
       "      <td>39.0</td>\n",
       "      <td>1.0</td>\n",
       "      <td>186.0</td>\n",
       "    </tr>\n",
       "    <tr>\n",
       "      <th>4</th>\n",
       "      <td>2016</td>\n",
       "      <td>4</td>\n",
       "      <td>11</td>\n",
       "      <td>5</td>\n",
       "      <td>6</td>\n",
       "      <td>2016-11-05</td>\n",
       "      <td>AA</td>\n",
       "      <td>SFO</td>\n",
       "      <td>CA</td>\n",
       "      <td>DFW</td>\n",
       "      <td>TX</td>\n",
       "      <td>1000</td>\n",
       "      <td>0.0</td>\n",
       "      <td>0.0</td>\n",
       "      <td>1464.0</td>\n",
       "      <td>6</td>\n",
       "      <td>-5.0</td>\n",
       "      <td>0.0</td>\n",
       "      <td>0.0</td>\n",
       "      <td>184.0</td>\n",
       "    </tr>\n",
       "  </tbody>\n",
       "</table>\n",
       "</div>"
      ],
      "text/plain": [
       "   Year  Quarter  Month  DayofMonth  DayOfWeek  FlightDate Reporting_Airline  \\\n",
       "0  2016        4     11           1          2  2016-11-01                AA   \n",
       "1  2016        4     11           2          3  2016-11-02                AA   \n",
       "2  2016        4     11           3          4  2016-11-03                AA   \n",
       "3  2016        4     11           4          5  2016-11-04                AA   \n",
       "4  2016        4     11           5          6  2016-11-05                AA   \n",
       "\n",
       "  Origin OriginState Dest DestState  CRSDepTime  Cancelled  Diverted  \\\n",
       "0    SFO          CA  DFW        TX        1000        0.0       0.0   \n",
       "1    SFO          CA  DFW        TX        1000        0.0       0.0   \n",
       "2    SFO          CA  DFW        TX        1000        0.0       0.0   \n",
       "3    SFO          CA  DFW        TX        1000        0.0       0.0   \n",
       "4    SFO          CA  DFW        TX        1000        0.0       0.0   \n",
       "\n",
       "   Distance  DistanceGroup  ArrDelay  ArrDelayMinutes  is_delay  AirTime  \n",
       "0    1464.0              6     -13.0              0.0       0.0    171.0  \n",
       "1    1464.0              6      -4.0              0.0       0.0    187.0  \n",
       "2    1464.0              6      -3.0              0.0       0.0    183.0  \n",
       "3    1464.0              6      39.0             39.0       1.0    186.0  \n",
       "4    1464.0              6      -5.0              0.0       0.0    184.0  "
      ]
     },
     "execution_count": 26,
     "metadata": {},
     "output_type": "execute_result"
    }
   ],
   "source": [
    "data.rename(columns={'ArrDel15': 'is_delay' }, inplace=True) \n",
    "data.head() # Enter your code here"
   ]
  },
  {
   "cell_type": "code",
   "execution_count": 27,
   "metadata": {
    "tags": []
   },
   "outputs": [
    {
     "data": {
      "text/plain": [
       "Year                     0\n",
       "Quarter                  0\n",
       "Month                    0\n",
       "DayofMonth               0\n",
       "DayOfWeek                0\n",
       "FlightDate               0\n",
       "Reporting_Airline        0\n",
       "Origin                   0\n",
       "OriginState              0\n",
       "Dest                     0\n",
       "DestState                0\n",
       "CRSDepTime               0\n",
       "Cancelled                0\n",
       "Diverted                 0\n",
       "Distance                 0\n",
       "DistanceGroup            0\n",
       "ArrDelay             22540\n",
       "ArrDelayMinutes      22540\n",
       "is_delay             22540\n",
       "AirTime              22540\n",
       "dtype: int64"
      ]
     },
     "execution_count": 27,
     "metadata": {},
     "output_type": "execute_result"
    }
   ],
   "source": [
    "data.isnull().sum(axis=0)"
   ]
  },
  {
   "attachments": {},
   "cell_type": "markdown",
   "metadata": {},
   "source": [
    "The arrival delay details and airtime are missing for 22,540 out of 1,658,130 rows, which is 1.3 percent.\n"
   ]
  },
  {
   "cell_type": "code",
   "execution_count": 28,
   "metadata": {
    "tags": []
   },
   "outputs": [
    {
     "data": {
      "text/plain": [
       "Year                 0\n",
       "Quarter              0\n",
       "Month                0\n",
       "DayofMonth           0\n",
       "DayOfWeek            0\n",
       "FlightDate           0\n",
       "Reporting_Airline    0\n",
       "Origin               0\n",
       "OriginState          0\n",
       "Dest                 0\n",
       "DestState            0\n",
       "CRSDepTime           0\n",
       "Cancelled            0\n",
       "Diverted             0\n",
       "Distance             0\n",
       "DistanceGroup        0\n",
       "ArrDelay             0\n",
       "ArrDelayMinutes      0\n",
       "is_delay             0\n",
       "AirTime              0\n",
       "dtype: int64"
      ]
     },
     "execution_count": 28,
     "metadata": {},
     "output_type": "execute_result"
    }
   ],
   "source": [
    "### Remove null columns\n",
    "data = data[~data.is_delay.isnull()]\n",
    "data.isnull().sum(axis = 0)"
   ]
  },
  {
   "attachments": {},
   "cell_type": "markdown",
   "metadata": {},
   "source": [
    "Get the hour of the day in 24-hour-time format from CRSDepTime."
   ]
  },
  {
   "cell_type": "code",
   "execution_count": 29,
   "metadata": {
    "tags": []
   },
   "outputs": [],
   "source": [
    "data['DepHourofDay'] = (data['CRSDepTime']//100)"
   ]
  },
  {
   "attachments": {},
   "cell_type": "markdown",
   "metadata": {},
   "source": [
    "### Data exploration\n",
    "\n"
   ]
  },
  {
   "cell_type": "code",
   "execution_count": 30,
   "metadata": {
    "tags": []
   },
   "outputs": [
    {
     "data": {
      "image/png": "[encoded data removed]",
      "text/plain": [
       "<Figure size 640x480 with 1 Axes>"
      ]
     },
     "metadata": {},
     "output_type": "display_data"
    }
   ],
   "source": [
    "(data.groupby('is_delay').size()/len(data) ).plot(kind='bar')\n",
    "plt.ylabel('Frequency')\n",
    "plt.title('Distribution of classes')\n",
    "plt.show()"
   ]
  },
  {
   "attachments": {},
   "cell_type": "markdown",
   "metadata": {},
   "source": [
    "Run the following two cells and answer the questions."
   ]
  },
  {
   "cell_type": "code",
   "execution_count": 31,
   "metadata": {
    "tags": []
   },
   "outputs": [
    {
     "data": {
      "image/png": "[encoded data removed]",
      "text/plain": [
       "<Figure size 2000x2000 with 6 Axes>"
      ]
     },
     "metadata": {},
     "output_type": "display_data"
    }
   ],
   "source": [
    "viz_columns = ['Month', 'DepHourofDay', 'DayOfWeek', 'Reporting_Airline', 'Origin', 'Dest']\n",
    "fig, axes = plt.subplots(3, 2, figsize=(20,20), squeeze=False)\n",
    "# fig.autofmt_xdate(rotation=90)\n",
    "\n",
    "for idx, column in enumerate(viz_columns):\n",
    "    ax = axes[idx//2, idx%2]\n",
    "    temp = data.groupby(column)['is_delay'].value_counts(normalize=True).rename('percentage').\\\n",
    "    mul(100).reset_index().sort_values(column)\n",
    "    sns.barplot(x=column, y=\"percentage\", hue=\"is_delay\", data=temp, ax=ax)\n",
    "    plt.ylabel('% delay/no-delay')\n",
    "    \n",
    "\n",
    "plt.show()"
   ]
  },
  {
   "cell_type": "code",
   "execution_count": 32,
   "metadata": {
    "tags": []
   },
   "outputs": [
    {
     "data": {
      "image/png": "[encoded data removed]",
      "text/plain": [
       "<Figure size 500x500 with 1 Axes>"
      ]
     },
     "metadata": {},
     "output_type": "display_data"
    }
   ],
   "source": [
    "sns.lmplot( x=\"is_delay\", y=\"Distance\", data=data, fit_reg=False, hue='is_delay', legend=False)\n",
    "plt.legend(loc='center')\n",
    "plt.xlabel('is_delay')\n",
    "plt.ylabel('Distance')\n",
    "plt.show()"
   ]
  },
  {
   "attachments": {},
   "cell_type": "markdown",
   "metadata": {},
   "source": [
    "### Features\n"
   ]
  },
  {
   "cell_type": "code",
   "execution_count": 33,
   "metadata": {
    "tags": []
   },
   "outputs": [
    {
     "data": {
      "text/plain": [
       "Index(['Year', 'Quarter', 'Month', 'DayofMonth', 'DayOfWeek', 'FlightDate',\n",
       "       'Reporting_Airline', 'Origin', 'OriginState', 'Dest', 'DestState',\n",
       "       'CRSDepTime', 'Cancelled', 'Diverted', 'Distance', 'DistanceGroup',\n",
       "       'ArrDelay', 'ArrDelayMinutes', 'is_delay', 'AirTime', 'DepHourofDay'],\n",
       "      dtype='object')"
      ]
     },
     "execution_count": 33,
     "metadata": {},
     "output_type": "execute_result"
    }
   ],
   "source": [
    "data.columns"
   ]
  },
  {
   "cell_type": "code",
   "execution_count": 34,
   "metadata": {
    "tags": []
   },
   "outputs": [
    {
     "data": {
      "text/plain": [
       "Year                   int64\n",
       "Quarter                int64\n",
       "Month                  int64\n",
       "DayofMonth             int64\n",
       "DayOfWeek              int64\n",
       "FlightDate            object\n",
       "Reporting_Airline     object\n",
       "Origin                object\n",
       "OriginState           object\n",
       "Dest                  object\n",
       "DestState             object\n",
       "CRSDepTime             int64\n",
       "Cancelled            float64\n",
       "Diverted             float64\n",
       "Distance             float64\n",
       "DistanceGroup          int64\n",
       "ArrDelay             float64\n",
       "ArrDelayMinutes      float64\n",
       "is_delay             float64\n",
       "AirTime              float64\n",
       "DepHourofDay           int64\n",
       "dtype: object"
      ]
     },
     "execution_count": 34,
     "metadata": {},
     "output_type": "execute_result"
    }
   ],
   "source": [
    "data.dtypes"
   ]
  },
  {
   "cell_type": "code",
   "execution_count": 35,
   "metadata": {
    "tags": []
   },
   "outputs": [],
   "source": [
    "data_orig = data.copy()\n",
    "data = data[[ 'is_delay', 'Quarter', 'Month', 'DayofMonth', 'DayOfWeek', \n",
    "       'Reporting_Airline', 'Origin', 'Dest','Distance','DepHourofDay']]\n",
    "categorical_columns  = ['Quarter', 'Month', 'DayofMonth', 'DayOfWeek', \n",
    "       'Reporting_Airline', 'Origin', 'Dest', 'DepHourofDay']\n",
    "for c in categorical_columns:\n",
    "    data[c] = data[c].astype('category')"
   ]
  },
  {
   "attachments": {},
   "cell_type": "markdown",
   "metadata": {},
   "source": [
    "To use one-hot encoding for the categorical columns that you selected. Then, you can concatenate those generated features to your original dataset."
   ]
  },
  {
   "cell_type": "code",
   "execution_count": 36,
   "metadata": {
    "tags": []
   },
   "outputs": [],
   "source": [
    "data_dummies = pd.get_dummies(categorical_columns, drop_first=True) # Enter your code here\n",
    "data = pd.concat([data, data_dummies], axis = 1)\n",
    "data.drop(categorical_columns,axis=1, inplace=True)"
   ]
  },
  {
   "cell_type": "code",
   "execution_count": 37,
   "metadata": {
    "tags": []
   },
   "outputs": [
    {
     "data": {
      "text/plain": [
       "(1635590, 2)"
      ]
     },
     "execution_count": 37,
     "metadata": {},
     "output_type": "execute_result"
    }
   ],
   "source": [
    "data.shape"
   ]
  },
  {
   "cell_type": "code",
   "execution_count": 41,
   "metadata": {
    "tags": []
   },
   "outputs": [
    {
     "data": {
      "text/plain": [
       "Index(['is_delay', 'Distance'], dtype='object')"
      ]
     },
     "execution_count": 41,
     "metadata": {},
     "output_type": "execute_result"
    }
   ],
   "source": [
    "data.columns"
   ]
  },
  {
   "cell_type": "code",
   "execution_count": 42,
   "metadata": {
    "tags": []
   },
   "outputs": [],
   "source": [
    "data.rename(columns = {'is_delay':'target'}, inplace=True )# Enter your code here"
   ]
  },
  {
   "attachments": {},
   "cell_type": "markdown",
   "metadata": {},
   "source": [
    "# Step 3: Model training and evaluation\n",
    "\n",
    "1. Split the data into train_data, validation_data, and test_data.\n",
    "\n",
    "2. Convert the dataset to an appropriate file format that the Amazon SageMaker training job can use- csv \n",
    "\n",
    "3. Upload the data to your S3 bucket.\n"
   ]
  },
  {
   "attachments": {},
   "cell_type": "markdown",
   "metadata": {},
   "source": [
    "### Train-test split"
   ]
  },
  {
   "cell_type": "code",
   "execution_count": 43,
   "metadata": {
    "tags": []
   },
   "outputs": [],
   "source": [
    "from sklearn.model_selection import train_test_split\n",
    "def split_data(data):\n",
    "    train, test_and_validate = train_test_split(data, test_size=0.2, random_state=42, stratify=data['target'])\n",
    "    test, validate = train_test_split(test_and_validate, test_size=0.5, random_state=42, stratify=test_and_validate['target'])\n",
    "    return train, validate, test"
   ]
  },
  {
   "cell_type": "code",
   "execution_count": 44,
   "metadata": {
    "tags": []
   },
   "outputs": [
    {
     "name": "stdout",
     "output_type": "stream",
     "text": [
      "0.0    1033806\n",
      "1.0     274666\n",
      "Name: target, dtype: int64\n",
      "0.0    129226\n",
      "1.0     34333\n",
      "Name: target, dtype: int64\n",
      "0.0    129226\n",
      "1.0     34333\n",
      "Name: target, dtype: int64\n"
     ]
    }
   ],
   "source": [
    "train, validate, test = split_data(data)\n",
    "print(train['target'].value_counts())\n",
    "print(test['target'].value_counts())\n",
    "print(validate['target'].value_counts())"
   ]
  },
  {
   "attachments": {},
   "cell_type": "markdown",
   "metadata": {},
   "source": [
    "### Baseline classification model"
   ]
  },
  {
   "cell_type": "code",
   "execution_count": 48,
   "metadata": {
    "tags": []
   },
   "outputs": [],
   "source": [
    "import sagemaker\n",
    "from sagemaker.serializers import CSVSerializer\n",
    "from sagemaker.amazon.amazon_estimator import RecordSet\n",
    "import boto3\n",
    "\n",
    "# Instantiate the LinearLearner estimator object with 1 ml.m4.xlarge\n",
    "classifier_estimator = sagemaker.LinearLearner(role=sagemaker.get_execution_role(),\n",
    "                                               instance_count=1,\n",
    "                                               instance_type='ml.m4.xlarge',\n",
    "                                               predictor_type='binary_classifier',\n",
    "                                               binary_classifier_model_selection_criteria='cross_entropy_loss')"
   ]
  },
  {
   "cell_type": "code",
   "execution_count": 51,
   "metadata": {
    "tags": []
   },
   "outputs": [],
   "source": [
    "### Create train, validate, and test records\n",
    "train_records = classifier_estimator.record_set(train.values[:, 1:].astype(np.float32), train.values[:, 0].astype(np.float32), channel='train')\n",
    "val_records = classifier_estimator.record_set(validate.values[:, 1:].astype(np.float32), validate.values[:, 0].astype(np.float32), channel='validation')\n",
    "test_records = classifier_estimator.record_set(test.values[:, 1:].astype(np.float32), test.values[:, 0].astype(np.float32), channel='test')"
   ]
  },
  {
   "cell_type": "code",
   "execution_count": 52,
   "metadata": {
    "tags": []
   },
   "outputs": [
    {
     "name": "stderr",
     "output_type": "stream",
     "text": [
      "INFO:sagemaker.image_uris:Same images used for training and inference. Defaulting to image scope: inference.\n",
      "INFO:sagemaker.image_uris:Ignoring unnecessary instance type: None.\n",
      "INFO:sagemaker:Creating training-job with name: linear-learner-2023-06-14-07-07-15-518\n"
     ]
    },
    {
     "name": "stdout",
     "output_type": "stream",
     "text": [
      "2023-06-14 07:07:15 Starting - Starting the training job......\n",
      "2023-06-14 07:07:46 Starting - Preparing the instances for training......\n",
      "2023-06-14 07:09:06 Downloading - Downloading input data...\n",
      "2023-06-14 07:09:35 Training - Downloading the training image......\n",
      "2023-06-14 07:10:46 Training - Training image download completed. Training in progress....\u001b[34mDocker entrypoint called with argument(s): train\u001b[0m\n",
      "\u001b[34mRunning default environment configuration script\u001b[0m\n",
      "\u001b[34m[06/14/2023 07:11:09 INFO 140326266177344] Reading default configuration from /opt/amazon/lib/python3.7/site-packages/algorithm/resources/default-input.json: {'mini_batch_size': '1000', 'epochs': '15', 'feature_dim': 'auto', 'use_bias': 'true', 'binary_classifier_model_selection_criteria': 'accuracy', 'f_beta': '1.0', 'target_recall': '0.8', 'target_precision': '0.8', 'num_models': 'auto', 'num_calibration_samples': '10000000', 'init_method': 'uniform', 'init_scale': '0.07', 'init_sigma': '0.01', 'init_bias': '0.0', 'optimizer': 'auto', 'loss': 'auto', 'margin': '1.0', 'quantile': '0.5', 'loss_insensitivity': '0.01', 'huber_delta': '1.0', 'num_classes': '1', 'accuracy_top_k': '3', 'wd': 'auto', 'l1': 'auto', 'momentum': 'auto', 'learning_rate': 'auto', 'beta_1': 'auto', 'beta_2': 'auto', 'bias_lr_mult': 'auto', 'bias_wd_mult': 'auto', 'use_lr_scheduler': 'true', 'lr_scheduler_step': 'auto', 'lr_scheduler_factor': 'auto', 'lr_scheduler_minimum_lr': 'auto', 'positive_example_weight_mult': '1.0', 'balance_multiclass_weights': 'false', 'normalize_data': 'true', 'normalize_label': 'auto', 'unbias_data': 'auto', 'unbias_label': 'auto', 'num_point_for_scaler': '10000', '_kvstore': 'auto', '_num_gpus': 'auto', '_num_kv_servers': 'auto', '_log_level': 'info', '_tuning_objective_metric': '', 'early_stopping_patience': '3', 'early_stopping_tolerance': '0.001', '_enable_profiler': 'false'}\u001b[0m\n",
      "\u001b[34m[06/14/2023 07:11:09 INFO 140326266177344] Merging with provided configuration from /opt/ml/input/config/hyperparameters.json: {'binary_classifier_model_selection_criteria': 'cross_entropy_loss', 'feature_dim': '1', 'mini_batch_size': '1000', 'predictor_type': 'binary_classifier'}\u001b[0m\n",
      "\u001b[34m[06/14/2023 07:11:09 INFO 140326266177344] Final configuration: {'mini_batch_size': '1000', 'epochs': '15', 'feature_dim': '1', 'use_bias': 'true', 'binary_classifier_model_selection_criteria': 'cross_entropy_loss', 'f_beta': '1.0', 'target_recall': '0.8', 'target_precision': '0.8', 'num_models': 'auto', 'num_calibration_samples': '10000000', 'init_method': 'uniform', 'init_scale': '0.07', 'init_sigma': '0.01', 'init_bias': '0.0', 'optimizer': 'auto', 'loss': 'auto', 'margin': '1.0', 'quantile': '0.5', 'loss_insensitivity': '0.01', 'huber_delta': '1.0', 'num_classes': '1', 'accuracy_top_k': '3', 'wd': 'auto', 'l1': 'auto', 'momentum': 'auto', 'learning_rate': 'auto', 'beta_1': 'auto', 'beta_2': 'auto', 'bias_lr_mult': 'auto', 'bias_wd_mult': 'auto', 'use_lr_scheduler': 'true', 'lr_scheduler_step': 'auto', 'lr_scheduler_factor': 'auto', 'lr_scheduler_minimum_lr': 'auto', 'positive_example_weight_mult': '1.0', 'balance_multiclass_weights': 'false', 'normalize_data': 'true', 'normalize_label': 'auto', 'unbias_data': 'auto', 'unbias_label': 'auto', 'num_point_for_scaler': '10000', '_kvstore': 'auto', '_num_gpus': 'auto', '_num_kv_servers': 'auto', '_log_level': 'info', '_tuning_objective_metric': '', 'early_stopping_patience': '3', 'early_stopping_tolerance': '0.001', '_enable_profiler': 'false', 'predictor_type': 'binary_classifier'}\u001b[0m\n",
      "\u001b[34m[06/14/2023 07:11:12 WARNING 140326266177344] Loggers have already been setup.\u001b[0m\n",
      "\u001b[34m[06/14/2023 07:11:12 INFO 140326266177344] Final configuration: {'mini_batch_size': '1000', 'epochs': '15', 'feature_dim': '1', 'use_bias': 'true', 'binary_classifier_model_selection_criteria': 'cross_entropy_loss', 'f_beta': '1.0', 'target_recall': '0.8', 'target_precision': '0.8', 'num_models': 'auto', 'num_calibration_samples': '10000000', 'init_method': 'uniform', 'init_scale': '0.07', 'init_sigma': '0.01', 'init_bias': '0.0', 'optimizer': 'auto', 'loss': 'auto', 'margin': '1.0', 'quantile': '0.5', 'loss_insensitivity': '0.01', 'huber_delta': '1.0', 'num_classes': '1', 'accuracy_top_k': '3', 'wd': 'auto', 'l1': 'auto', 'momentum': 'auto', 'learning_rate': 'auto', 'beta_1': 'auto', 'beta_2': 'auto', 'bias_lr_mult': 'auto', 'bias_wd_mult': 'auto', 'use_lr_scheduler': 'true', 'lr_scheduler_step': 'auto', 'lr_scheduler_factor': 'auto', 'lr_scheduler_minimum_lr': 'auto', 'positive_example_weight_mult': '1.0', 'balance_multiclass_weights': 'false', 'normalize_data': 'true', 'normalize_label': 'auto', 'unbias_data': 'auto', 'unbias_label': 'auto', 'num_point_for_scaler': '10000', '_kvstore': 'auto', '_num_gpus': 'auto', '_num_kv_servers': 'auto', '_log_level': 'info', '_tuning_objective_metric': '', 'early_stopping_patience': '3', 'early_stopping_tolerance': '0.001', '_enable_profiler': 'false', 'predictor_type': 'binary_classifier'}\u001b[0m\n",
      "\u001b[34m[06/14/2023 07:11:12 WARNING 140326266177344] Loggers have already been setup.\u001b[0m\n",
      "\u001b[34mProcess 7 is a worker.\u001b[0m\n",
      "\u001b[34m[06/14/2023 07:11:12 INFO 140326266177344] Using default worker.\u001b[0m\n",
      "\u001b[34m[06/14/2023 07:11:12 INFO 140326266177344] Checkpoint loading and saving are disabled.\u001b[0m\n",
      "\u001b[34m[2023-06-14 07:11:12.249] [tensorio] [warning] TensorIO is already initialized; ignoring the initialization routine.\u001b[0m\n",
      "\u001b[34m[2023-06-14 07:11:12.254] [tensorio] [warning] TensorIO is already initialized; ignoring the initialization routine.\u001b[0m\n",
      "\u001b[34m[2023-06-14 07:11:12.291] [tensorio] [info] epoch_stats={\"data_pipeline\": \"/opt/ml/input/data/train\", \"epoch\": 0, \"duration\": 44, \"num_examples\": 1, \"num_bytes\": 48000}\u001b[0m\n",
      "\u001b[34m[06/14/2023 07:11:12 INFO 140326266177344] Create Store: local\u001b[0m\n",
      "\u001b[34m[2023-06-14 07:11:12.375] [tensorio] [info] epoch_stats={\"data_pipeline\": \"/opt/ml/input/data/train\", \"epoch\": 1, \"duration\": 82, \"num_examples\": 11, \"num_bytes\": 528000}\u001b[0m\n",
      "\u001b[34m[06/14/2023 07:11:12 INFO 140326266177344] Scaler algorithm parameters\n",
      " <algorithm.scaler.ScalerAlgorithmStable object at 0x7f9fb1257ad0>\u001b[0m\n",
      "\u001b[34m[06/14/2023 07:11:12 INFO 140326266177344] Scaling model computed with parameters:\n",
      " {'stdev_label': None, 'stdev_weight': \u001b[0m\n",
      "\u001b[34m[535.45856]\u001b[0m\n",
      "\u001b[34m<NDArray 1 @cpu(0)>, 'mean_label': None, 'mean_weight': \u001b[0m\n",
      "\u001b[34m[1007.0083]\u001b[0m\n",
      "\u001b[34m<NDArray 1 @cpu(0)>}\u001b[0m\n",
      "\u001b[34m[06/14/2023 07:11:12 INFO 140326266177344] nvidia-smi: took 0.034 seconds to run.\u001b[0m\n",
      "\u001b[34m[06/14/2023 07:11:12 INFO 140326266177344] nvidia-smi identified 0 GPUs.\u001b[0m\n",
      "\u001b[34m[06/14/2023 07:11:12 INFO 140326266177344] Number of GPUs being used: 0\u001b[0m\n",
      "\u001b[34m#metrics {\"StartTime\": 1686726672.489657, \"EndTime\": 1686726672.4896972, \"Dimensions\": {\"Algorithm\": \"Linear Learner\", \"Host\": \"algo-1\", \"Operation\": \"training\", \"Meta\": \"init_train_data_iter\"}, \"Metrics\": {\"Total Records Seen\": {\"sum\": 12000.0, \"count\": 1, \"min\": 12000, \"max\": 12000}, \"Total Batches Seen\": {\"sum\": 12.0, \"count\": 1, \"min\": 12, \"max\": 12}, \"Max Records Seen Between Resets\": {\"sum\": 11000.0, \"count\": 1, \"min\": 11000, \"max\": 11000}, \"Max Batches Seen Between Resets\": {\"sum\": 11.0, \"count\": 1, \"min\": 11, \"max\": 11}, \"Reset Count\": {\"sum\": 2.0, \"count\": 1, \"min\": 2, \"max\": 2}, \"Number of Records Since Last Reset\": {\"sum\": 0.0, \"count\": 1, \"min\": 0, \"max\": 0}, \"Number of Batches Since Last Reset\": {\"sum\": 0.0, \"count\": 1, \"min\": 0, \"max\": 0}}}\u001b[0m\n",
      "\u001b[34m[2023-06-14 07:11:59.338] [tensorio] [info] epoch_stats={\"data_pipeline\": \"/opt/ml/input/data/train\", \"epoch\": 3, \"duration\": 46848, \"num_examples\": 1309, \"num_bytes\": 62806656}\u001b[0m\n",
      "\u001b[34m#metrics {\"StartTime\": 1686726719.3383644, \"EndTime\": 1686726719.3384614, \"Dimensions\": {\"Algorithm\": \"Linear Learner\", \"Host\": \"algo-1\", \"Operation\": \"training\", \"epoch\": 0, \"model\": 0}, \"Metrics\": {\"train_binary_classification_cross_entropy_objective\": {\"sum\": 0.5150211449952665, \"count\": 1, \"min\": 0.5150211449952665, \"max\": 0.5150211449952665}}}\u001b[0m\n",
      "\u001b[34m#metrics {\"StartTime\": 1686726719.3385808, \"EndTime\": 1686726719.3386023, \"Dimensions\": {\"Algorithm\": \"Linear Learner\", \"Host\": \"algo-1\", \"Operation\": \"training\", \"epoch\": 0, \"model\": 1}, \"Metrics\": {\"train_binary_classification_cross_entropy_objective\": {\"sum\": 0.5150669221090615, \"count\": 1, \"min\": 0.5150669221090615, \"max\": 0.5150669221090615}}}\u001b[0m\n",
      "\u001b[34m#metrics {\"StartTime\": 1686726719.338664, \"EndTime\": 1686726719.3386822, \"Dimensions\": {\"Algorithm\": \"Linear Learner\", \"Host\": \"algo-1\", \"Operation\": \"training\", \"epoch\": 0, \"model\": 2}, \"Metrics\": {\"train_binary_classification_cross_entropy_objective\": {\"sum\": 0.5150211026252957, \"count\": 1, \"min\": 0.5150211026252957, \"max\": 0.5150211026252957}}}\u001b[0m\n",
      "\u001b[34m#metrics {\"StartTime\": 1686726719.3387306, \"EndTime\": 1686726719.3387463, \"Dimensions\": {\"Algorithm\": \"Linear Learner\", \"Host\": \"algo-1\", \"Operation\": \"training\", \"epoch\": 0, \"model\": 3}, \"Metrics\": {\"train_binary_classification_cross_entropy_objective\": {\"sum\": 0.5150669175127596, \"count\": 1, \"min\": 0.5150669175127596, \"max\": 0.5150669175127596}}}\u001b[0m\n",
      "\u001b[34m#metrics {\"StartTime\": 1686726719.338798, \"EndTime\": 1686726719.3388138, \"Dimensions\": {\"Algorithm\": \"Linear Learner\", \"Host\": \"algo-1\", \"Operation\": \"training\", \"epoch\": 0, \"model\": 4}, \"Metrics\": {\"train_binary_classification_cross_entropy_objective\": {\"sum\": 0.5151004183707981, \"count\": 1, \"min\": 0.5151004183707981, \"max\": 0.5151004183707981}}}\u001b[0m\n",
      "\u001b[34m#metrics {\"StartTime\": 1686726719.3388674, \"EndTime\": 1686726719.3388817, \"Dimensions\": {\"Algorithm\": \"Linear Learner\", \"Host\": \"algo-1\", \"Operation\": \"training\", \"epoch\": 0, \"model\": 5}, \"Metrics\": {\"train_binary_classification_cross_entropy_objective\": {\"sum\": 0.5159119693394466, \"count\": 1, \"min\": 0.5159119693394466, \"max\": 0.5159119693394466}}}\u001b[0m\n",
      "\u001b[34m#metrics {\"StartTime\": 1686726719.3389335, \"EndTime\": 1686726719.3389506, \"Dimensions\": {\"Algorithm\": \"Linear Learner\", \"Host\": \"algo-1\", \"Operation\": \"training\", \"epoch\": 0, \"model\": 6}, \"Metrics\": {\"train_binary_classification_cross_entropy_objective\": {\"sum\": 0.5150970207937632, \"count\": 1, \"min\": 0.5150970207937632, \"max\": 0.5150970207937632}}}\u001b[0m\n",
      "\u001b[34m#metrics {\"StartTime\": 1686726719.3390014, \"EndTime\": 1686726719.3390172, \"Dimensions\": {\"Algorithm\": \"Linear Learner\", \"Host\": \"algo-1\", \"Operation\": \"training\", \"epoch\": 0, \"model\": 7}, \"Metrics\": {\"train_binary_classification_cross_entropy_objective\": {\"sum\": 0.5159097627645604, \"count\": 1, \"min\": 0.5159097627645604, \"max\": 0.5159097627645604}}}\u001b[0m\n",
      "\u001b[34m#metrics {\"StartTime\": 1686726719.339052, \"EndTime\": 1686726719.3390608, \"Dimensions\": {\"Algorithm\": \"Linear Learner\", \"Host\": \"algo-1\", \"Operation\": \"training\", \"epoch\": 0, \"model\": 8}, \"Metrics\": {\"train_binary_classification_cross_entropy_objective\": {\"sum\": 0.5150217899940794, \"count\": 1, \"min\": 0.5150217899940794, \"max\": 0.5150217899940794}}}\u001b[0m\n",
      "\u001b[34m#metrics {\"StartTime\": 1686726719.3390896, \"EndTime\": 1686726719.3390975, \"Dimensions\": {\"Algorithm\": \"Linear Learner\", \"Host\": \"algo-1\", \"Operation\": \"training\", \"epoch\": 0, \"model\": 9}, \"Metrics\": {\"train_binary_classification_cross_entropy_objective\": {\"sum\": 0.5150664286015595, \"count\": 1, \"min\": 0.5150664286015595, \"max\": 0.5150664286015595}}}\u001b[0m\n",
      "\u001b[34m#metrics {\"StartTime\": 1686726719.3391268, \"EndTime\": 1686726719.3391347, \"Dimensions\": {\"Algorithm\": \"Linear Learner\", \"Host\": \"algo-1\", \"Operation\": \"training\", \"epoch\": 0, \"model\": 10}, \"Metrics\": {\"train_binary_classification_cross_entropy_objective\": {\"sum\": 0.5150210160654983, \"count\": 1, \"min\": 0.5150210160654983, \"max\": 0.5150210160654983}}}\u001b[0m\n",
      "\u001b[34m#metrics {\"StartTime\": 1686726719.339161, \"EndTime\": 1686726719.3391683, \"Dimensions\": {\"Algorithm\": \"Linear Learner\", \"Host\": \"algo-1\", \"Operation\": \"training\", \"epoch\": 0, \"model\": 11}, \"Metrics\": {\"train_binary_classification_cross_entropy_objective\": {\"sum\": 0.5150666865544217, \"count\": 1, \"min\": 0.5150666865544217, \"max\": 0.5150666865544217}}}\u001b[0m\n",
      "\u001b[34m#metrics {\"StartTime\": 1686726719.3391929, \"EndTime\": 1686726719.3392, \"Dimensions\": {\"Algorithm\": \"Linear Learner\", \"Host\": \"algo-1\", \"Operation\": \"training\", \"epoch\": 0, \"model\": 12}, \"Metrics\": {\"train_binary_classification_cross_entropy_objective\": {\"sum\": 0.5150876780752013, \"count\": 1, \"min\": 0.5150876780752013, \"max\": 0.5150876780752013}}}\u001b[0m\n",
      "\u001b[34m#metrics {\"StartTime\": 1686726719.3392425, \"EndTime\": 1686726719.339258, \"Dimensions\": {\"Algorithm\": \"Linear Learner\", \"Host\": \"algo-1\", \"Operation\": \"training\", \"epoch\": 0, \"model\": 13}, \"Metrics\": {\"train_binary_classification_cross_entropy_objective\": {\"sum\": 0.5158863512791625, \"count\": 1, \"min\": 0.5158863512791625, \"max\": 0.5158863512791625}}}\u001b[0m\n",
      "\u001b[34m#metrics {\"StartTime\": 1686726719.3393, \"EndTime\": 1686726719.3393095, \"Dimensions\": {\"Algorithm\": \"Linear Learner\", \"Host\": \"algo-1\", \"Operation\": \"training\", \"epoch\": 0, \"model\": 14}, \"Metrics\": {\"train_binary_classification_cross_entropy_objective\": {\"sum\": 0.515087806934975, \"count\": 1, \"min\": 0.515087806934975, \"max\": 0.515087806934975}}}\u001b[0m\n",
      "\u001b[34m#metrics {\"StartTime\": 1686726719.3393385, \"EndTime\": 1686726719.3393462, \"Dimensions\": {\"Algorithm\": \"Linear Learner\", \"Host\": \"algo-1\", \"Operation\": \"training\", \"epoch\": 0, \"model\": 15}, \"Metrics\": {\"train_binary_classification_cross_entropy_objective\": {\"sum\": 0.5158862177530924, \"count\": 1, \"min\": 0.5158862177530924, \"max\": 0.5158862177530924}}}\u001b[0m\n",
      "\u001b[34m#metrics {\"StartTime\": 1686726719.339371, \"EndTime\": 1686726719.3393784, \"Dimensions\": {\"Algorithm\": \"Linear Learner\", \"Host\": \"algo-1\", \"Operation\": \"training\", \"epoch\": 0, \"model\": 16}, \"Metrics\": {\"train_binary_classification_cross_entropy_objective\": {\"sum\": 0.5150603184131307, \"count\": 1, \"min\": 0.5150603184131307, \"max\": 0.5150603184131307}}}\u001b[0m\n",
      "\u001b[34m#metrics {\"StartTime\": 1686726719.3394027, \"EndTime\": 1686726719.3394098, \"Dimensions\": {\"Algorithm\": \"Linear Learner\", \"Host\": \"algo-1\", \"Operation\": \"training\", \"epoch\": 0, \"model\": 17}, \"Metrics\": {\"train_binary_classification_cross_entropy_objective\": {\"sum\": 0.5150987665952164, \"count\": 1, \"min\": 0.5150987665952164, \"max\": 0.5150987665952164}}}\u001b[0m\n",
      "\u001b[34m#metrics {\"StartTime\": 1686726719.3394413, \"EndTime\": 1686726719.3394558, \"Dimensions\": {\"Algorithm\": \"Linear Learner\", \"Host\": \"algo-1\", \"Operation\": \"training\", \"epoch\": 0, \"model\": 18}, \"Metrics\": {\"train_binary_classification_cross_entropy_objective\": {\"sum\": 0.5150592960042691, \"count\": 1, \"min\": 0.5150592960042691, \"max\": 0.5150592960042691}}}\u001b[0m\n",
      "\u001b[34m#metrics {\"StartTime\": 1686726719.3394957, \"EndTime\": 1686726719.339505, \"Dimensions\": {\"Algorithm\": \"Linear Learner\", \"Host\": \"algo-1\", \"Operation\": \"training\", \"epoch\": 0, \"model\": 19}, \"Metrics\": {\"train_binary_classification_cross_entropy_objective\": {\"sum\": 0.5150986839551079, \"count\": 1, \"min\": 0.5150986839551079, \"max\": 0.5150986839551079}}}\u001b[0m\n",
      "\u001b[34m#metrics {\"StartTime\": 1686726719.3395312, \"EndTime\": 1686726719.339539, \"Dimensions\": {\"Algorithm\": \"Linear Learner\", \"Host\": \"algo-1\", \"Operation\": \"training\", \"epoch\": 0, \"model\": 20}, \"Metrics\": {\"train_binary_classification_cross_entropy_objective\": {\"sum\": 0.5149946594471596, \"count\": 1, \"min\": 0.5149946594471596, \"max\": 0.5149946594471596}}}\u001b[0m\n",
      "\u001b[34m#metrics {\"StartTime\": 1686726719.3395658, \"EndTime\": 1686726719.3395736, \"Dimensions\": {\"Algorithm\": \"Linear Learner\", \"Host\": \"algo-1\", \"Operation\": \"training\", \"epoch\": 0, \"model\": 21}, \"Metrics\": {\"train_binary_classification_cross_entropy_objective\": {\"sum\": 0.5157347180427762, \"count\": 1, \"min\": 0.5157347180427762, \"max\": 0.5157347180427762}}}\u001b[0m\n",
      "\u001b[34m#metrics {\"StartTime\": 1686726719.3395982, \"EndTime\": 1686726719.3396056, \"Dimensions\": {\"Algorithm\": \"Linear Learner\", \"Host\": \"algo-1\", \"Operation\": \"training\", \"epoch\": 0, \"model\": 22}, \"Metrics\": {\"train_binary_classification_cross_entropy_objective\": {\"sum\": 0.514989769728541, \"count\": 1, \"min\": 0.514989769728541, \"max\": 0.514989769728541}}}\u001b[0m\n",
      "\u001b[34m#metrics {\"StartTime\": 1686726719.3396297, \"EndTime\": 1686726719.3396368, \"Dimensions\": {\"Algorithm\": \"Linear Learner\", \"Host\": \"algo-1\", \"Operation\": \"training\", \"epoch\": 0, \"model\": 23}, \"Metrics\": {\"train_binary_classification_cross_entropy_objective\": {\"sum\": 0.5157336261060989, \"count\": 1, \"min\": 0.5157336261060989, \"max\": 0.5157336261060989}}}\u001b[0m\n",
      "\u001b[34m#metrics {\"StartTime\": 1686726719.3396726, \"EndTime\": 1686726719.3396876, \"Dimensions\": {\"Algorithm\": \"Linear Learner\", \"Host\": \"algo-1\", \"Operation\": \"training\", \"epoch\": 0, \"model\": 24}, \"Metrics\": {\"train_binary_classification_cross_entropy_objective\": {\"sum\": 0.5150783127251022, \"count\": 1, \"min\": 0.5150783127251022, \"max\": 0.5150783127251022}}}\u001b[0m\n",
      "\u001b[34m#metrics {\"StartTime\": 1686726719.3397236, \"EndTime\": 1686726719.339732, \"Dimensions\": {\"Algorithm\": \"Linear Learner\", \"Host\": \"algo-1\", \"Operation\": \"training\", \"epoch\": 0, \"model\": 25}, \"Metrics\": {\"train_binary_classification_cross_entropy_objective\": {\"sum\": 0.5151149481677134, \"count\": 1, \"min\": 0.5151149481677134, \"max\": 0.5151149481677134}}}\u001b[0m\n",
      "\u001b[34m#metrics {\"StartTime\": 1686726719.3397605, \"EndTime\": 1686726719.3397682, \"Dimensions\": {\"Algorithm\": \"Linear Learner\", \"Host\": \"algo-1\", \"Operation\": \"training\", \"epoch\": 0, \"model\": 26}, \"Metrics\": {\"train_binary_classification_cross_entropy_objective\": {\"sum\": 0.5150755682662357, \"count\": 1, \"min\": 0.5150755682662357, \"max\": 0.5150755682662357}}}\u001b[0m\n",
      "\u001b[34m#metrics {\"StartTime\": 1686726719.3397954, \"EndTime\": 1686726719.3398032, \"Dimensions\": {\"Algorithm\": \"Linear Learner\", \"Host\": \"algo-1\", \"Operation\": \"training\", \"epoch\": 0, \"model\": 27}, \"Metrics\": {\"train_binary_classification_cross_entropy_objective\": {\"sum\": 0.5151146831920752, \"count\": 1, \"min\": 0.5151146831920752, \"max\": 0.5151146831920752}}}\u001b[0m\n",
      "\u001b[34m#metrics {\"StartTime\": 1686726719.3398278, \"EndTime\": 1686726719.3398352, \"Dimensions\": {\"Algorithm\": \"Linear Learner\", \"Host\": \"algo-1\", \"Operation\": \"training\", \"epoch\": 0, \"model\": 28}, \"Metrics\": {\"train_binary_classification_cross_entropy_objective\": {\"sum\": 0.5149932144585005, \"count\": 1, \"min\": 0.5149932144585005, \"max\": 0.5149932144585005}}}\u001b[0m\n",
      "\u001b[34m#metrics {\"StartTime\": 1686726719.3398595, \"EndTime\": 1686726719.3398745, \"Dimensions\": {\"Algorithm\": \"Linear Learner\", \"Host\": \"algo-1\", \"Operation\": \"training\", \"epoch\": 0, \"model\": 29}, \"Metrics\": {\"train_binary_classification_cross_entropy_objective\": {\"sum\": 0.5157184982766434, \"count\": 1, \"min\": 0.5157184982766434, \"max\": 0.5157184982766434}}}\u001b[0m\n",
      "\u001b[34m#metrics {\"StartTime\": 1686726719.3399167, \"EndTime\": 1686726719.3399289, \"Dimensions\": {\"Algorithm\": \"Linear Learner\", \"Host\": \"algo-1\", \"Operation\": \"training\", \"epoch\": 0, \"model\": 30}, \"Metrics\": {\"train_binary_classification_cross_entropy_objective\": {\"sum\": 0.515000745160864, \"count\": 1, \"min\": 0.515000745160864, \"max\": 0.515000745160864}}}\u001b[0m\n",
      "\u001b[34m#metrics {\"StartTime\": 1686726719.3399603, \"EndTime\": 1686726719.3399682, \"Dimensions\": {\"Algorithm\": \"Linear Learner\", \"Host\": \"algo-1\", \"Operation\": \"training\", \"epoch\": 0, \"model\": 31}, \"Metrics\": {\"train_binary_classification_cross_entropy_objective\": {\"sum\": 0.51571803230029, \"count\": 1, \"min\": 0.51571803230029, \"max\": 0.51571803230029}}}\u001b[0m\n",
      "\u001b[34m[06/14/2023 07:11:59 INFO 140326266177344] #quality_metric: host=algo-1, epoch=0, train binary_classification_cross_entropy_objective <loss>=0.5150211449952665\u001b[0m\n",
      "\u001b[34m[2023-06-14 07:11:59.362] [tensorio] [info] epoch_stats={\"data_pipeline\": \"/opt/ml/input/data/validation\", \"epoch\": 0, \"duration\": 47112, \"num_examples\": 1, \"num_bytes\": 48000}\u001b[0m\n",
      "\u001b[34m[2023-06-14 07:12:04.509] [tensorio] [info] epoch_stats={\"data_pipeline\": \"/opt/ml/input/data/validation\", \"epoch\": 2, \"duration\": 5146, \"num_examples\": 164, \"num_bytes\": 7850832}\u001b[0m\n",
      "\u001b[34m#metrics {\"StartTime\": 1686726724.51748, \"EndTime\": 1686726724.5175364, \"Dimensions\": {\"Algorithm\": \"Linear Learner\", \"Host\": \"algo-1\", \"Operation\": \"training\", \"epoch\": 0, \"model\": 0}, \"Metrics\": {\"validation_binary_classification_cross_entropy_objective\": {\"sum\": 0.5137310862925301, \"count\": 1, \"min\": 0.5137310862925301, \"max\": 0.5137310862925301}}}\u001b[0m\n",
      "\u001b[34m#metrics {\"StartTime\": 1686726724.5176282, \"EndTime\": 1686726724.5176454, \"Dimensions\": {\"Algorithm\": \"Linear Learner\", \"Host\": \"algo-1\", \"Operation\": \"training\", \"epoch\": 0, \"model\": 1}, \"Metrics\": {\"validation_binary_classification_cross_entropy_objective\": {\"sum\": 0.5144065276795663, \"count\": 1, \"min\": 0.5144065276795663, \"max\": 0.5144065276795663}}}\u001b[0m\n",
      "\u001b[34m#metrics {\"StartTime\": 1686726724.5177135, \"EndTime\": 1686726724.5177298, \"Dimensions\": {\"Algorithm\": \"Linear Learner\", \"Host\": \"algo-1\", \"Operation\": \"training\", \"epoch\": 0, \"model\": 2}, \"Metrics\": {\"validation_binary_classification_cross_entropy_objective\": {\"sum\": 0.5137310954351717, \"count\": 1, \"min\": 0.5137310954351717, \"max\": 0.5137310954351717}}}\u001b[0m\n",
      "\u001b[34m#metrics {\"StartTime\": 1686726724.5177944, \"EndTime\": 1686726724.517812, \"Dimensions\": {\"Algorithm\": \"Linear Learner\", \"Host\": \"algo-1\", \"Operation\": \"training\", \"epoch\": 0, \"model\": 3}, \"Metrics\": {\"validation_binary_classification_cross_entropy_objective\": {\"sum\": 0.5144065228283687, \"count\": 1, \"min\": 0.5144065228283687, \"max\": 0.5144065228283687}}}\u001b[0m\n",
      "\u001b[34m#metrics {\"StartTime\": 1686726724.5178657, \"EndTime\": 1686726724.517882, \"Dimensions\": {\"Algorithm\": \"Linear Learner\", \"Host\": \"algo-1\", \"Operation\": \"training\", \"epoch\": 0, \"model\": 4}, \"Metrics\": {\"validation_binary_classification_cross_entropy_objective\": {\"sum\": 0.5153852340357445, \"count\": 1, \"min\": 0.5153852340357445, \"max\": 0.5153852340357445}}}\u001b[0m\n",
      "\u001b[34m#metrics {\"StartTime\": 1686726724.5179377, \"EndTime\": 1686726724.5179527, \"Dimensions\": {\"Algorithm\": \"Linear Learner\", \"Host\": \"algo-1\", \"Operation\": \"training\", \"epoch\": 0, \"model\": 5}, \"Metrics\": {\"validation_binary_classification_cross_entropy_objective\": {\"sum\": 0.5138734827498816, \"count\": 1, \"min\": 0.5138734827498816, \"max\": 0.5138734827498816}}}\u001b[0m\n",
      "\u001b[34m#metrics {\"StartTime\": 1686726724.518009, \"EndTime\": 1686726724.518021, \"Dimensions\": {\"Algorithm\": \"Linear Learner\", \"Host\": \"algo-1\", \"Operation\": \"training\", \"epoch\": 0, \"model\": 6}, \"Metrics\": {\"validation_binary_classification_cross_entropy_objective\": {\"sum\": 0.5153848716885994, \"count\": 1, \"min\": 0.5153848716885994, \"max\": 0.5153848716885994}}}\u001b[0m\n",
      "\u001b[34m#metrics {\"StartTime\": 1686726724.5180774, \"EndTime\": 1686726724.5180964, \"Dimensions\": {\"Algorithm\": \"Linear Learner\", \"Host\": \"algo-1\", \"Operation\": \"training\", \"epoch\": 0, \"model\": 7}, \"Metrics\": {\"validation_binary_classification_cross_entropy_objective\": {\"sum\": 0.5138744992623672, \"count\": 1, \"min\": 0.5138744992623672, \"max\": 0.5138744992623672}}}\u001b[0m\n",
      "\u001b[34m#metrics {\"StartTime\": 1686726724.5181475, \"EndTime\": 1686726724.51816, \"Dimensions\": {\"Algorithm\": \"Linear Learner\", \"Host\": \"algo-1\", \"Operation\": \"training\", \"epoch\": 0, \"model\": 8}, \"Metrics\": {\"validation_binary_classification_cross_entropy_objective\": {\"sum\": 0.5137319542837346, \"count\": 1, \"min\": 0.5137319542837346, \"max\": 0.5137319542837346}}}\u001b[0m\n",
      "\u001b[34m#metrics {\"StartTime\": 1686726724.518215, \"EndTime\": 1686726724.5182347, \"Dimensions\": {\"Algorithm\": \"Linear Learner\", \"Host\": \"algo-1\", \"Operation\": \"training\", \"epoch\": 0, \"model\": 9}, \"Metrics\": {\"validation_binary_classification_cross_entropy_objective\": {\"sum\": 0.5144063224365901, \"count\": 1, \"min\": 0.5144063224365901, \"max\": 0.5144063224365901}}}\u001b[0m\n",
      "\u001b[34m#metrics {\"StartTime\": 1686726724.5182836, \"EndTime\": 1686726724.5182939, \"Dimensions\": {\"Algorithm\": \"Linear Learner\", \"Host\": \"algo-1\", \"Operation\": \"training\", \"epoch\": 0, \"model\": 10}, \"Metrics\": {\"validation_binary_classification_cross_entropy_objective\": {\"sum\": 0.5137319626800383, \"count\": 1, \"min\": 0.5137319626800383, \"max\": 0.5137319626800383}}}\u001b[0m\n",
      "\u001b[34m#metrics {\"StartTime\": 1686726724.5183623, \"EndTime\": 1686726724.5183752, \"Dimensions\": {\"Algorithm\": \"Linear Learner\", \"Host\": \"algo-1\", \"Operation\": \"training\", \"epoch\": 0, \"model\": 11}, \"Metrics\": {\"validation_binary_classification_cross_entropy_objective\": {\"sum\": 0.5144063243024354, \"count\": 1, \"min\": 0.5144063243024354, \"max\": 0.5144063243024354}}}\u001b[0m\n",
      "\u001b[34m#metrics {\"StartTime\": 1686726724.518435, \"EndTime\": 1686726724.51845, \"Dimensions\": {\"Algorithm\": \"Linear Learner\", \"Host\": \"algo-1\", \"Operation\": \"training\", \"epoch\": 0, \"model\": 12}, \"Metrics\": {\"validation_binary_classification_cross_entropy_objective\": {\"sum\": 0.5153949840100347, \"count\": 1, \"min\": 0.5153949840100347, \"max\": 0.5153949840100347}}}\u001b[0m\n",
      "\u001b[34m#metrics {\"StartTime\": 1686726724.5185218, \"EndTime\": 1686726724.518537, \"Dimensions\": {\"Algorithm\": \"Linear Learner\", \"Host\": \"algo-1\", \"Operation\": \"training\", \"epoch\": 0, \"model\": 13}, \"Metrics\": {\"validation_binary_classification_cross_entropy_objective\": {\"sum\": 0.5138798745759128, \"count\": 1, \"min\": 0.5138798745759128, \"max\": 0.5138798745759128}}}\u001b[0m\n",
      "\u001b[34m#metrics {\"StartTime\": 1686726724.5185962, \"EndTime\": 1686726724.5186121, \"Dimensions\": {\"Algorithm\": \"Linear Learner\", \"Host\": \"algo-1\", \"Operation\": \"training\", \"epoch\": 0, \"model\": 14}, \"Metrics\": {\"validation_binary_classification_cross_entropy_objective\": {\"sum\": 0.5153949659113359, \"count\": 1, \"min\": 0.5153949659113359, \"max\": 0.5153949659113359}}}\u001b[0m\n",
      "\u001b[34m#metrics {\"StartTime\": 1686726724.5186758, \"EndTime\": 1686726724.5186946, \"Dimensions\": {\"Algorithm\": \"Linear Learner\", \"Host\": \"algo-1\", \"Operation\": \"training\", \"epoch\": 0, \"model\": 15}, \"Metrics\": {\"validation_binary_classification_cross_entropy_objective\": {\"sum\": 0.5138799201025366, \"count\": 1, \"min\": 0.5138799201025366, \"max\": 0.5138799201025366}}}\u001b[0m\n",
      "\u001b[34m#metrics {\"StartTime\": 1686726724.51875, \"EndTime\": 1686726724.518768, \"Dimensions\": {\"Algorithm\": \"Linear Learner\", \"Host\": \"algo-1\", \"Operation\": \"training\", \"epoch\": 0, \"model\": 16}, \"Metrics\": {\"validation_binary_classification_cross_entropy_objective\": {\"sum\": 0.5138207233635994, \"count\": 1, \"min\": 0.5138207233635994, \"max\": 0.5138207233635994}}}\u001b[0m\n",
      "\u001b[34m#metrics {\"StartTime\": 1686726724.5188262, \"EndTime\": 1686726724.5188348, \"Dimensions\": {\"Algorithm\": \"Linear Learner\", \"Host\": \"algo-1\", \"Operation\": \"training\", \"epoch\": 0, \"model\": 17}, \"Metrics\": {\"validation_binary_classification_cross_entropy_objective\": {\"sum\": 0.5145203358427688, \"count\": 1, \"min\": 0.5145203358427688, \"max\": 0.5145203358427688}}}\u001b[0m\n",
      "\u001b[34m#metrics {\"StartTime\": 1686726724.5188773, \"EndTime\": 1686726724.5188937, \"Dimensions\": {\"Algorithm\": \"Linear Learner\", \"Host\": \"algo-1\", \"Operation\": \"training\", \"epoch\": 0, \"model\": 18}, \"Metrics\": {\"validation_binary_classification_cross_entropy_objective\": {\"sum\": 0.5138210392511982, \"count\": 1, \"min\": 0.5138210392511982, \"max\": 0.5138210392511982}}}\u001b[0m\n",
      "\u001b[34m#metrics {\"StartTime\": 1686726724.5189447, \"EndTime\": 1686726724.5189555, \"Dimensions\": {\"Algorithm\": \"Linear Learner\", \"Host\": \"algo-1\", \"Operation\": \"training\", \"epoch\": 0, \"model\": 19}, \"Metrics\": {\"validation_binary_classification_cross_entropy_objective\": {\"sum\": 0.5145203145721331, \"count\": 1, \"min\": 0.5145203145721331, \"max\": 0.5145203145721331}}}\u001b[0m\n",
      "\u001b[34m#metrics {\"StartTime\": 1686726724.5190096, \"EndTime\": 1686726724.519023, \"Dimensions\": {\"Algorithm\": \"Linear Learner\", \"Host\": \"algo-1\", \"Operation\": \"training\", \"epoch\": 0, \"model\": 20}, \"Metrics\": {\"validation_binary_classification_cross_entropy_objective\": {\"sum\": 0.5154316613030433, \"count\": 1, \"min\": 0.5154316613030433, \"max\": 0.5154316613030433}}}\u001b[0m\n",
      "\u001b[34m#metrics {\"StartTime\": 1686726724.5190806, \"EndTime\": 1686726724.5190983, \"Dimensions\": {\"Algorithm\": \"Linear Learner\", \"Host\": \"algo-1\", \"Operation\": \"training\", \"epoch\": 0, \"model\": 21}, \"Metrics\": {\"validation_binary_classification_cross_entropy_objective\": {\"sum\": 0.5138231039955383, \"count\": 1, \"min\": 0.5138231039955383, \"max\": 0.5138231039955383}}}\u001b[0m\n",
      "\u001b[34m#metrics {\"StartTime\": 1686726724.5191493, \"EndTime\": 1686726724.5191605, \"Dimensions\": {\"Algorithm\": \"Linear Learner\", \"Host\": \"algo-1\", \"Operation\": \"training\", \"epoch\": 0, \"model\": 22}, \"Metrics\": {\"validation_binary_classification_cross_entropy_objective\": {\"sum\": 0.5154321204875563, \"count\": 1, \"min\": 0.5154321204875563, \"max\": 0.5154321204875563}}}\u001b[0m\n",
      "\u001b[34m#metrics {\"StartTime\": 1686726724.5192149, \"EndTime\": 1686726724.5192313, \"Dimensions\": {\"Algorithm\": \"Linear Learner\", \"Host\": \"algo-1\", \"Operation\": \"training\", \"epoch\": 0, \"model\": 23}, \"Metrics\": {\"validation_binary_classification_cross_entropy_objective\": {\"sum\": 0.5138231150040252, \"count\": 1, \"min\": 0.5138231150040252, \"max\": 0.5138231150040252}}}\u001b[0m\n",
      "\u001b[34m#metrics {\"StartTime\": 1686726724.5192955, \"EndTime\": 1686726724.5193162, \"Dimensions\": {\"Algorithm\": \"Linear Learner\", \"Host\": \"algo-1\", \"Operation\": \"training\", \"epoch\": 0, \"model\": 24}, \"Metrics\": {\"validation_binary_classification_cross_entropy_objective\": {\"sum\": 0.51384119877607, \"count\": 1, \"min\": 0.51384119877607, \"max\": 0.51384119877607}}}\u001b[0m\n",
      "\u001b[34m#metrics {\"StartTime\": 1686726724.5193756, \"EndTime\": 1686726724.5193887, \"Dimensions\": {\"Algorithm\": \"Linear Learner\", \"Host\": \"algo-1\", \"Operation\": \"training\", \"epoch\": 0, \"model\": 25}, \"Metrics\": {\"validation_binary_classification_cross_entropy_objective\": {\"sum\": 0.514521283132396, \"count\": 1, \"min\": 0.514521283132396, \"max\": 0.514521283132396}}}\u001b[0m\n",
      "\u001b[34m#metrics {\"StartTime\": 1686726724.5194352, \"EndTime\": 1686726724.5194533, \"Dimensions\": {\"Algorithm\": \"Linear Learner\", \"Host\": \"algo-1\", \"Operation\": \"training\", \"epoch\": 0, \"model\": 26}, \"Metrics\": {\"validation_binary_classification_cross_entropy_objective\": {\"sum\": 0.5138405212876641, \"count\": 1, \"min\": 0.5138405212876641, \"max\": 0.5138405212876641}}}\u001b[0m\n",
      "\u001b[34m#metrics {\"StartTime\": 1686726724.5195107, \"EndTime\": 1686726724.519527, \"Dimensions\": {\"Algorithm\": \"Linear Learner\", \"Host\": \"algo-1\", \"Operation\": \"training\", \"epoch\": 0, \"model\": 27}, \"Metrics\": {\"validation_binary_classification_cross_entropy_objective\": {\"sum\": 0.5145231642775648, \"count\": 1, \"min\": 0.5145231642775648, \"max\": 0.5145231642775648}}}\u001b[0m\n",
      "\u001b[34m#metrics {\"StartTime\": 1686726724.519565, \"EndTime\": 1686726724.5195785, \"Dimensions\": {\"Algorithm\": \"Linear Learner\", \"Host\": \"algo-1\", \"Operation\": \"training\", \"epoch\": 0, \"model\": 28}, \"Metrics\": {\"validation_binary_classification_cross_entropy_objective\": {\"sum\": 0.5154241619112789, \"count\": 1, \"min\": 0.5154241619112789, \"max\": 0.5154241619112789}}}\u001b[0m\n",
      "\u001b[34m#metrics {\"StartTime\": 1686726724.519606, \"EndTime\": 1686726724.5196166, \"Dimensions\": {\"Algorithm\": \"Linear Learner\", \"Host\": \"algo-1\", \"Operation\": \"training\", \"epoch\": 0, \"model\": 29}, \"Metrics\": {\"validation_binary_classification_cross_entropy_objective\": {\"sum\": 0.5139084483164691, \"count\": 1, \"min\": 0.5139084483164691, \"max\": 0.5139084483164691}}}\u001b[0m\n",
      "\u001b[34m#metrics {\"StartTime\": 1686726724.5196645, \"EndTime\": 1686726724.5196793, \"Dimensions\": {\"Algorithm\": \"Linear Learner\", \"Host\": \"algo-1\", \"Operation\": \"training\", \"epoch\": 0, \"model\": 30}, \"Metrics\": {\"validation_binary_classification_cross_entropy_objective\": {\"sum\": 0.5154238831540005, \"count\": 1, \"min\": 0.5154238831540005, \"max\": 0.5154238831540005}}}\u001b[0m\n",
      "\u001b[34m#metrics {\"StartTime\": 1686726724.519749, \"EndTime\": 1686726724.5197656, \"Dimensions\": {\"Algorithm\": \"Linear Learner\", \"Host\": \"algo-1\", \"Operation\": \"training\", \"epoch\": 0, \"model\": 31}, \"Metrics\": {\"validation_binary_classification_cross_entropy_objective\": {\"sum\": 0.5139127854737243, \"count\": 1, \"min\": 0.5139127854737243, \"max\": 0.5139127854737243}}}\u001b[0m\n",
      "\u001b[34m[06/14/2023 07:12:04 INFO 140326266177344] #quality_metric: host=algo-1, epoch=0, validation binary_classification_cross_entropy_objective <loss>=0.5137310862925301\u001b[0m\n",
      "\u001b[34m[06/14/2023 07:12:04 INFO 140326266177344] #early_stopping_criteria_metric: host=algo-1, epoch=0, criteria=binary_classification_cross_entropy_objective, value=0.5137310862925301\u001b[0m\n",
      "\u001b[34m[06/14/2023 07:12:04 INFO 140326266177344] Epoch 0: Loss improved. Updating best model\u001b[0m\n",
      "\u001b[34m[06/14/2023 07:12:04 INFO 140326266177344] Saving model for epoch: 0\u001b[0m\n",
      "\u001b[34m[06/14/2023 07:12:04 INFO 140326266177344] Saved checkpoint to \"/tmp/tmp3ulu3kri/mx-mod-0000.params\"\u001b[0m\n",
      "\u001b[34m[06/14/2023 07:12:04 INFO 140326266177344] #progress_metric: host=algo-1, completed 6.666666666666667 % of epochs\u001b[0m\n",
      "\u001b[34m#metrics {\"StartTime\": 1686726672.4900079, \"EndTime\": 1686726724.527462, \"Dimensions\": {\"Algorithm\": \"Linear Learner\", \"Host\": \"algo-1\", \"Operation\": \"training\", \"epoch\": 0, \"Meta\": \"training_data_iter\"}, \"Metrics\": {\"Total Records Seen\": {\"sum\": 1320472.0, \"count\": 1, \"min\": 1320472, \"max\": 1320472}, \"Total Batches Seen\": {\"sum\": 1321.0, \"count\": 1, \"min\": 1321, \"max\": 1321}, \"Max Records Seen Between Resets\": {\"sum\": 1308472.0, \"count\": 1, \"min\": 1308472, \"max\": 1308472}, \"Max Batches Seen Between Resets\": {\"sum\": 1309.0, \"count\": 1, \"min\": 1309, \"max\": 1309}, \"Reset Count\": {\"sum\": 3.0, \"count\": 1, \"min\": 3, \"max\": 3}, \"Number of Records Since Last Reset\": {\"sum\": 1308472.0, \"count\": 1, \"min\": 1308472, \"max\": 1308472}, \"Number of Batches Since Last Reset\": {\"sum\": 1309.0, \"count\": 1, \"min\": 1309, \"max\": 1309}}}\u001b[0m\n",
      "\u001b[34m[06/14/2023 07:12:04 INFO 140326266177344] #throughput_metric: host=algo-1, train throughput=25144.740668640352 records/second\u001b[0m\n",
      "\u001b[34m[2023-06-14 07:12:54.048] [tensorio] [info] epoch_stats={\"data_pipeline\": \"/opt/ml/input/data/train\", \"epoch\": 5, \"duration\": 49520, \"num_examples\": 1309, \"num_bytes\": 62806656}\u001b[0m\n",
      "\u001b[34m#metrics {\"StartTime\": 1686726774.0484369, \"EndTime\": 1686726774.0485613, \"Dimensions\": {\"Algorithm\": \"Linear Learner\", \"Host\": \"algo-1\", \"Operation\": \"training\", \"epoch\": 1, \"model\": 0}, \"Metrics\": {\"train_binary_classification_cross_entropy_objective\": {\"sum\": 0.5137999461929368, \"count\": 1, \"min\": 0.5137999461929368, \"max\": 0.5137999461929368}}}\u001b[0m\n",
      "\u001b[34m#metrics {\"StartTime\": 1686726774.0486495, \"EndTime\": 1686726774.0486698, \"Dimensions\": {\"Algorithm\": \"Linear Learner\", \"Host\": \"algo-1\", \"Operation\": \"training\", \"epoch\": 1, \"model\": 1}, \"Metrics\": {\"train_binary_classification_cross_entropy_objective\": {\"sum\": 0.5139084130850042, \"count\": 1, \"min\": 0.5139084130850042, \"max\": 0.5139084130850042}}}\u001b[0m\n",
      "\u001b[34m#metrics {\"StartTime\": 1686726774.0487237, \"EndTime\": 1686726774.0487413, \"Dimensions\": {\"Algorithm\": \"Linear Learner\", \"Host\": \"algo-1\", \"Operation\": \"training\", \"epoch\": 1, \"model\": 2}, \"Metrics\": {\"train_binary_classification_cross_entropy_objective\": {\"sum\": 0.5137999460529479, \"count\": 1, \"min\": 0.5137999460529479, \"max\": 0.5137999460529479}}}\u001b[0m\n",
      "\u001b[34m#metrics {\"StartTime\": 1686726774.0487766, \"EndTime\": 1686726774.048786, \"Dimensions\": {\"Algorithm\": \"Linear Learner\", \"Host\": \"algo-1\", \"Operation\": \"training\", \"epoch\": 1, \"model\": 3}, \"Metrics\": {\"train_binary_classification_cross_entropy_objective\": {\"sum\": 0.5139084128983524, \"count\": 1, \"min\": 0.5139084128983524, \"max\": 0.5139084128983524}}}\u001b[0m\n",
      "\u001b[34m#metrics {\"StartTime\": 1686726774.0488305, \"EndTime\": 1686726774.048848, \"Dimensions\": {\"Algorithm\": \"Linear Learner\", \"Host\": \"algo-1\", \"Operation\": \"training\", \"epoch\": 1, \"model\": 4}, \"Metrics\": {\"train_binary_classification_cross_entropy_objective\": {\"sum\": 0.5142272841660619, \"count\": 1, \"min\": 0.5142272841660619, \"max\": 0.5142272841660619}}}\u001b[0m\n",
      "\u001b[34m#metrics {\"StartTime\": 1686726774.0489178, \"EndTime\": 1686726774.048938, \"Dimensions\": {\"Algorithm\": \"Linear Learner\", \"Host\": \"algo-1\", \"Operation\": \"training\", \"epoch\": 1, \"model\": 5}, \"Metrics\": {\"train_binary_classification_cross_entropy_objective\": {\"sum\": 0.5154669648150056, \"count\": 1, \"min\": 0.5154669648150056, \"max\": 0.5154669648150056}}}\u001b[0m\n",
      "\u001b[34m#metrics {\"StartTime\": 1686726774.0489948, \"EndTime\": 1686726774.0490122, \"Dimensions\": {\"Algorithm\": \"Linear Learner\", \"Host\": \"algo-1\", \"Operation\": \"training\", \"epoch\": 1, \"model\": 6}, \"Metrics\": {\"train_binary_classification_cross_entropy_objective\": {\"sum\": 0.5142272398129151, \"count\": 1, \"min\": 0.5142272398129151, \"max\": 0.5142272398129151}}}\u001b[0m\n",
      "\u001b[34m#metrics {\"StartTime\": 1686726774.049073, \"EndTime\": 1686726774.0490901, \"Dimensions\": {\"Algorithm\": \"Linear Learner\", \"Host\": \"algo-1\", \"Operation\": \"training\", \"epoch\": 1, \"model\": 7}, \"Metrics\": {\"train_binary_classification_cross_entropy_objective\": {\"sum\": 0.5154669616652556, \"count\": 1, \"min\": 0.5154669616652556, \"max\": 0.5154669616652556}}}\u001b[0m\n",
      "\u001b[34m#metrics {\"StartTime\": 1686726774.0491486, \"EndTime\": 1686726774.0491655, \"Dimensions\": {\"Algorithm\": \"Linear Learner\", \"Host\": \"algo-1\", \"Operation\": \"training\", \"epoch\": 1, \"model\": 8}, \"Metrics\": {\"train_binary_classification_cross_entropy_objective\": {\"sum\": 0.5137999113590346, \"count\": 1, \"min\": 0.5137999113590346, \"max\": 0.5137999113590346}}}\u001b[0m\n",
      "\u001b[34m#metrics {\"StartTime\": 1686726774.0492232, \"EndTime\": 1686726774.0492408, \"Dimensions\": {\"Algorithm\": \"Linear Learner\", \"Host\": \"algo-1\", \"Operation\": \"training\", \"epoch\": 1, \"model\": 9}, \"Metrics\": {\"train_binary_classification_cross_entropy_objective\": {\"sum\": 0.5139077888512101, \"count\": 1, \"min\": 0.5139077888512101, \"max\": 0.5139077888512101}}}\u001b[0m\n",
      "\u001b[34m#metrics {\"StartTime\": 1686726774.0493023, \"EndTime\": 1686726774.0493307, \"Dimensions\": {\"Algorithm\": \"Linear Learner\", \"Host\": \"algo-1\", \"Operation\": \"training\", \"epoch\": 1, \"model\": 10}, \"Metrics\": {\"train_binary_classification_cross_entropy_objective\": {\"sum\": 0.5137999126189345, \"count\": 1, \"min\": 0.5137999126189345, \"max\": 0.5137999126189345}}}\u001b[0m\n",
      "\u001b[34m#metrics {\"StartTime\": 1686726774.0493937, \"EndTime\": 1686726774.0494106, \"Dimensions\": {\"Algorithm\": \"Linear Learner\", \"Host\": \"algo-1\", \"Operation\": \"training\", \"epoch\": 1, \"model\": 11}, \"Metrics\": {\"train_binary_classification_cross_entropy_objective\": {\"sum\": 0.5139077887812157, \"count\": 1, \"min\": 0.5139077887812157, \"max\": 0.5139077887812157}}}\u001b[0m\n",
      "\u001b[34m#metrics {\"StartTime\": 1686726774.0494654, \"EndTime\": 1686726774.0494823, \"Dimensions\": {\"Algorithm\": \"Linear Learner\", \"Host\": \"algo-1\", \"Operation\": \"training\", \"epoch\": 1, \"model\": 12}, \"Metrics\": {\"train_binary_classification_cross_entropy_objective\": {\"sum\": 0.5142236925877562, \"count\": 1, \"min\": 0.5142236925877562, \"max\": 0.5142236925877562}}}\u001b[0m\n",
      "\u001b[34m#metrics {\"StartTime\": 1686726774.0495358, \"EndTime\": 1686726774.0495524, \"Dimensions\": {\"Algorithm\": \"Linear Learner\", \"Host\": \"algo-1\", \"Operation\": \"training\", \"epoch\": 1, \"model\": 13}, \"Metrics\": {\"train_binary_classification_cross_entropy_objective\": {\"sum\": 0.5154448134162739, \"count\": 1, \"min\": 0.5154448134162739, \"max\": 0.5154448134162739}}}\u001b[0m\n",
      "\u001b[34m#metrics {\"StartTime\": 1686726774.0496109, \"EndTime\": 1686726774.0496275, \"Dimensions\": {\"Algorithm\": \"Linear Learner\", \"Host\": \"algo-1\", \"Operation\": \"training\", \"epoch\": 1, \"model\": 14}, \"Metrics\": {\"train_binary_classification_cross_entropy_objective\": {\"sum\": 0.514223690977884, \"count\": 1, \"min\": 0.514223690977884, \"max\": 0.514223690977884}}}\u001b[0m\n",
      "\u001b[34m#metrics {\"StartTime\": 1686726774.049685, \"EndTime\": 1686726774.0497022, \"Dimensions\": {\"Algorithm\": \"Linear Learner\", \"Host\": \"algo-1\", \"Operation\": \"training\", \"epoch\": 1, \"model\": 15}, \"Metrics\": {\"train_binary_classification_cross_entropy_objective\": {\"sum\": 0.5154448066501442, \"count\": 1, \"min\": 0.5154448066501442, \"max\": 0.5154448066501442}}}\u001b[0m\n",
      "\u001b[34m#metrics {\"StartTime\": 1686726774.0497756, \"EndTime\": 1686726774.0497947, \"Dimensions\": {\"Algorithm\": \"Linear Learner\", \"Host\": \"algo-1\", \"Operation\": \"training\", \"epoch\": 1, \"model\": 16}, \"Metrics\": {\"train_binary_classification_cross_entropy_objective\": {\"sum\": 0.5138444056846315, \"count\": 1, \"min\": 0.5138444056846315, \"max\": 0.5138444056846315}}}\u001b[0m\n",
      "\u001b[34m#metrics {\"StartTime\": 1686726774.0498552, \"EndTime\": 1686726774.0498726, \"Dimensions\": {\"Algorithm\": \"Linear Learner\", \"Host\": \"algo-1\", \"Operation\": \"training\", \"epoch\": 1, \"model\": 17}, \"Metrics\": {\"train_binary_classification_cross_entropy_objective\": {\"sum\": 0.513942034496809, \"count\": 1, \"min\": 0.513942034496809, \"max\": 0.513942034496809}}}\u001b[0m\n",
      "\u001b[34m#metrics {\"StartTime\": 1686726774.0499313, \"EndTime\": 1686726774.0499487, \"Dimensions\": {\"Algorithm\": \"Linear Learner\", \"Host\": \"algo-1\", \"Operation\": \"training\", \"epoch\": 1, \"model\": 18}, \"Metrics\": {\"train_binary_classification_cross_entropy_objective\": {\"sum\": 0.5138444128940594, \"count\": 1, \"min\": 0.5138444128940594, \"max\": 0.5138444128940594}}}\u001b[0m\n",
      "\u001b[34m#metrics {\"StartTime\": 1686726774.0500188, \"EndTime\": 1686726774.050037, \"Dimensions\": {\"Algorithm\": \"Linear Learner\", \"Host\": \"algo-1\", \"Operation\": \"training\", \"epoch\": 1, \"model\": 19}, \"Metrics\": {\"train_binary_classification_cross_entropy_objective\": {\"sum\": 0.5139420341001738, \"count\": 1, \"min\": 0.5139420341001738, \"max\": 0.5139420341001738}}}\u001b[0m\n",
      "\u001b[34m#metrics {\"StartTime\": 1686726774.050091, \"EndTime\": 1686726774.0501065, \"Dimensions\": {\"Algorithm\": \"Linear Learner\", \"Host\": \"algo-1\", \"Operation\": \"training\", \"epoch\": 1, \"model\": 20}, \"Metrics\": {\"train_binary_classification_cross_entropy_objective\": {\"sum\": 0.5142244160970052, \"count\": 1, \"min\": 0.5142244160970052, \"max\": 0.5142244160970052}}}\u001b[0m\n",
      "\u001b[34m#metrics {\"StartTime\": 1686726774.050164, \"EndTime\": 1686726774.05018, \"Dimensions\": {\"Algorithm\": \"Linear Learner\", \"Host\": \"algo-1\", \"Operation\": \"training\", \"epoch\": 1, \"model\": 21}, \"Metrics\": {\"train_binary_classification_cross_entropy_objective\": {\"sum\": 0.5153079576871447, \"count\": 1, \"min\": 0.5153079576871447, \"max\": 0.5153079576871447}}}\u001b[0m\n",
      "\u001b[34m#metrics {\"StartTime\": 1686726774.0502474, \"EndTime\": 1686726774.050265, \"Dimensions\": {\"Algorithm\": \"Linear Learner\", \"Host\": \"algo-1\", \"Operation\": \"training\", \"epoch\": 1, \"model\": 22}, \"Metrics\": {\"train_binary_classification_cross_entropy_objective\": {\"sum\": 0.5142244714626114, \"count\": 1, \"min\": 0.5142244714626114, \"max\": 0.5142244714626114}}}\u001b[0m\n",
      "\u001b[34m#metrics {\"StartTime\": 1686726774.0503223, \"EndTime\": 1686726774.0503387, \"Dimensions\": {\"Algorithm\": \"Linear Learner\", \"Host\": \"algo-1\", \"Operation\": \"training\", \"epoch\": 1, \"model\": 23}, \"Metrics\": {\"train_binary_classification_cross_entropy_objective\": {\"sum\": 0.5153079566605594, \"count\": 1, \"min\": 0.5153079566605594, \"max\": 0.5153079566605594}}}\u001b[0m\n",
      "\u001b[34m#metrics {\"StartTime\": 1686726774.0504034, \"EndTime\": 1686726774.0504205, \"Dimensions\": {\"Algorithm\": \"Linear Learner\", \"Host\": \"algo-1\", \"Operation\": \"training\", \"epoch\": 1, \"model\": 24}, \"Metrics\": {\"train_binary_classification_cross_entropy_objective\": {\"sum\": 0.5138607730923808, \"count\": 1, \"min\": 0.5138607730923808, \"max\": 0.5138607730923808}}}\u001b[0m\n",
      "\u001b[34m#metrics {\"StartTime\": 1686726774.050479, \"EndTime\": 1686726774.0504951, \"Dimensions\": {\"Algorithm\": \"Linear Learner\", \"Host\": \"algo-1\", \"Operation\": \"training\", \"epoch\": 1, \"model\": 25}, \"Metrics\": {\"train_binary_classification_cross_entropy_objective\": {\"sum\": 0.5139581116842568, \"count\": 1, \"min\": 0.5139581116842568, \"max\": 0.5139581116842568}}}\u001b[0m\n",
      "\u001b[34m#metrics {\"StartTime\": 1686726774.050559, \"EndTime\": 1686726774.0505776, \"Dimensions\": {\"Algorithm\": \"Linear Learner\", \"Host\": \"algo-1\", \"Operation\": \"training\", \"epoch\": 1, \"model\": 26}, \"Metrics\": {\"train_binary_classification_cross_entropy_objective\": {\"sum\": 0.5138607737456622, \"count\": 1, \"min\": 0.5138607737456622, \"max\": 0.5138607737456622}}}\u001b[0m\n",
      "\u001b[34m#metrics {\"StartTime\": 1686726774.0506353, \"EndTime\": 1686726774.0506513, \"Dimensions\": {\"Algorithm\": \"Linear Learner\", \"Host\": \"algo-1\", \"Operation\": \"training\", \"epoch\": 1, \"model\": 27}, \"Metrics\": {\"train_binary_classification_cross_entropy_objective\": {\"sum\": 0.5139581406386255, \"count\": 1, \"min\": 0.5139581406386255, \"max\": 0.5139581406386255}}}\u001b[0m\n",
      "\u001b[34m#metrics {\"StartTime\": 1686726774.0507045, \"EndTime\": 1686726774.0507207, \"Dimensions\": {\"Algorithm\": \"Linear Learner\", \"Host\": \"algo-1\", \"Operation\": \"training\", \"epoch\": 1, \"model\": 28}, \"Metrics\": {\"train_binary_classification_cross_entropy_objective\": {\"sum\": 0.5142409435820506, \"count\": 1, \"min\": 0.5142409435820506, \"max\": 0.5142409435820506}}}\u001b[0m\n",
      "\u001b[34m#metrics {\"StartTime\": 1686726774.0507786, \"EndTime\": 1686726774.0507956, \"Dimensions\": {\"Algorithm\": \"Linear Learner\", \"Host\": \"algo-1\", \"Operation\": \"training\", \"epoch\": 1, \"model\": 29}, \"Metrics\": {\"train_binary_classification_cross_entropy_objective\": {\"sum\": 0.5153005330730287, \"count\": 1, \"min\": 0.5153005330730287, \"max\": 0.5153005330730287}}}\u001b[0m\n",
      "\u001b[34m#metrics {\"StartTime\": 1686726774.0508494, \"EndTime\": 1686726774.050866, \"Dimensions\": {\"Algorithm\": \"Linear Learner\", \"Host\": \"algo-1\", \"Operation\": \"training\", \"epoch\": 1, \"model\": 30}, \"Metrics\": {\"train_binary_classification_cross_entropy_objective\": {\"sum\": 0.5142408573022311, \"count\": 1, \"min\": 0.5142408573022311, \"max\": 0.5142408573022311}}}\u001b[0m\n",
      "\u001b[34m#metrics {\"StartTime\": 1686726774.0509202, \"EndTime\": 1686726774.0509362, \"Dimensions\": {\"Algorithm\": \"Linear Learner\", \"Host\": \"algo-1\", \"Operation\": \"training\", \"epoch\": 1, \"model\": 31}, \"Metrics\": {\"train_binary_classification_cross_entropy_objective\": {\"sum\": 0.5153002212944381, \"count\": 1, \"min\": 0.5153002212944381, \"max\": 0.5153002212944381}}}\u001b[0m\n",
      "\u001b[34m[06/14/2023 07:12:54 INFO 140326266177344] #quality_metric: host=algo-1, epoch=1, train binary_classification_cross_entropy_objective <loss>=0.5137999461929368\u001b[0m\n",
      "\u001b[34m[2023-06-14 07:12:58.042] [tensorio] [info] epoch_stats={\"data_pipeline\": \"/opt/ml/input/data/validation\", \"epoch\": 5, \"duration\": 3966, \"num_examples\": 164, \"num_bytes\": 7850832}\u001b[0m\n",
      "\u001b[34m#metrics {\"StartTime\": 1686726778.049603, \"EndTime\": 1686726778.0496604, \"Dimensions\": {\"Algorithm\": \"Linear Learner\", \"Host\": \"algo-1\", \"Operation\": \"training\", \"epoch\": 1, \"model\": 0}, \"Metrics\": {\"validation_binary_classification_cross_entropy_objective\": {\"sum\": 0.513738445186148, \"count\": 1, \"min\": 0.513738445186148, \"max\": 0.513738445186148}}}\u001b[0m\n",
      "\u001b[34m#metrics {\"StartTime\": 1686726778.0497525, \"EndTime\": 1686726778.0497742, \"Dimensions\": {\"Algorithm\": \"Linear Learner\", \"Host\": \"algo-1\", \"Operation\": \"training\", \"epoch\": 1, \"model\": 1}, \"Metrics\": {\"validation_binary_classification_cross_entropy_objective\": {\"sum\": 0.5145436189791532, \"count\": 1, \"min\": 0.5145436189791532, \"max\": 0.5145436189791532}}}\u001b[0m\n",
      "\u001b[34m#metrics {\"StartTime\": 1686726778.0498443, \"EndTime\": 1686726778.049863, \"Dimensions\": {\"Algorithm\": \"Linear Learner\", \"Host\": \"algo-1\", \"Operation\": \"training\", \"epoch\": 1, \"model\": 2}, \"Metrics\": {\"validation_binary_classification_cross_entropy_objective\": {\"sum\": 0.5137384453727325, \"count\": 1, \"min\": 0.5137384453727325, \"max\": 0.5137384453727325}}}\u001b[0m\n",
      "\u001b[34m#metrics {\"StartTime\": 1686726778.0499222, \"EndTime\": 1686726778.049941, \"Dimensions\": {\"Algorithm\": \"Linear Learner\", \"Host\": \"algo-1\", \"Operation\": \"training\", \"epoch\": 1, \"model\": 3}, \"Metrics\": {\"validation_binary_classification_cross_entropy_objective\": {\"sum\": 0.5145436161803854, \"count\": 1, \"min\": 0.5145436161803854, \"max\": 0.5145436161803854}}}\u001b[0m\n",
      "\u001b[34m#metrics {\"StartTime\": 1686726778.0499988, \"EndTime\": 1686726778.0500147, \"Dimensions\": {\"Algorithm\": \"Linear Learner\", \"Host\": \"algo-1\", \"Operation\": \"training\", \"epoch\": 1, \"model\": 4}, \"Metrics\": {\"validation_binary_classification_cross_entropy_objective\": {\"sum\": 0.5139212241319814, \"count\": 1, \"min\": 0.5139212241319814, \"max\": 0.5139212241319814}}}\u001b[0m\n",
      "\u001b[34m#metrics {\"StartTime\": 1686726778.0500698, \"EndTime\": 1686726778.0500855, \"Dimensions\": {\"Algorithm\": \"Linear Learner\", \"Host\": \"algo-1\", \"Operation\": \"training\", \"epoch\": 1, \"model\": 5}, \"Metrics\": {\"validation_binary_classification_cross_entropy_objective\": {\"sum\": 0.513945078403593, \"count\": 1, \"min\": 0.513945078403593, \"max\": 0.513945078403593}}}\u001b[0m\n",
      "\u001b[34m#metrics {\"StartTime\": 1686726778.050139, \"EndTime\": 1686726778.050158, \"Dimensions\": {\"Algorithm\": \"Linear Learner\", \"Host\": \"algo-1\", \"Operation\": \"training\", \"epoch\": 1, \"model\": 6}, \"Metrics\": {\"validation_binary_classification_cross_entropy_objective\": {\"sum\": 0.513921315931567, \"count\": 1, \"min\": 0.513921315931567, \"max\": 0.513921315931567}}}\u001b[0m\n",
      "\u001b[34m#metrics {\"StartTime\": 1686726778.0502243, \"EndTime\": 1686726778.0502412, \"Dimensions\": {\"Algorithm\": \"Linear Learner\", \"Host\": \"algo-1\", \"Operation\": \"training\", \"epoch\": 1, \"model\": 7}, \"Metrics\": {\"validation_binary_classification_cross_entropy_objective\": {\"sum\": 0.5139451103095467, \"count\": 1, \"min\": 0.5139451103095467, \"max\": 0.5139451103095467}}}\u001b[0m\n",
      "\u001b[34m#metrics {\"StartTime\": 1686726778.0503073, \"EndTime\": 1686726778.0503273, \"Dimensions\": {\"Algorithm\": \"Linear Learner\", \"Host\": \"algo-1\", \"Operation\": \"training\", \"epoch\": 1, \"model\": 8}, \"Metrics\": {\"validation_binary_classification_cross_entropy_objective\": {\"sum\": 0.5137403554385024, \"count\": 1, \"min\": 0.5137403554385024, \"max\": 0.5137403554385024}}}\u001b[0m\n",
      "\u001b[34m#metrics {\"StartTime\": 1686726778.0503983, \"EndTime\": 1686726778.0504184, \"Dimensions\": {\"Algorithm\": \"Linear Learner\", \"Host\": \"algo-1\", \"Operation\": \"training\", \"epoch\": 1, \"model\": 9}, \"Metrics\": {\"validation_binary_classification_cross_entropy_objective\": {\"sum\": 0.5145432974940188, \"count\": 1, \"min\": 0.5145432974940188, \"max\": 0.5145432974940188}}}\u001b[0m\n",
      "\u001b[34m#metrics {\"StartTime\": 1686726778.0504835, \"EndTime\": 1686726778.0505013, \"Dimensions\": {\"Algorithm\": \"Linear Learner\", \"Host\": \"algo-1\", \"Operation\": \"training\", \"epoch\": 1, \"model\": 10}, \"Metrics\": {\"validation_binary_classification_cross_entropy_objective\": {\"sum\": 0.5137403504007203, \"count\": 1, \"min\": 0.5137403504007203, \"max\": 0.5137403504007203}}}\u001b[0m\n",
      "\u001b[34m#metrics {\"StartTime\": 1686726778.0505702, \"EndTime\": 1686726778.050587, \"Dimensions\": {\"Algorithm\": \"Linear Learner\", \"Host\": \"algo-1\", \"Operation\": \"training\", \"epoch\": 1, \"model\": 11}, \"Metrics\": {\"validation_binary_classification_cross_entropy_objective\": {\"sum\": 0.5145433051439843, \"count\": 1, \"min\": 0.5145433051439843, \"max\": 0.5145433051439843}}}\u001b[0m\n",
      "\u001b[34m#metrics {\"StartTime\": 1686726778.0506535, \"EndTime\": 1686726778.0506701, \"Dimensions\": {\"Algorithm\": \"Linear Learner\", \"Host\": \"algo-1\", \"Operation\": \"training\", \"epoch\": 1, \"model\": 12}, \"Metrics\": {\"validation_binary_classification_cross_entropy_objective\": {\"sum\": 0.5139242945669047, \"count\": 1, \"min\": 0.5139242945669047, \"max\": 0.5139242945669047}}}\u001b[0m\n",
      "\u001b[34m#metrics {\"StartTime\": 1686726778.050735, \"EndTime\": 1686726778.0507538, \"Dimensions\": {\"Algorithm\": \"Linear Learner\", \"Host\": \"algo-1\", \"Operation\": \"training\", \"epoch\": 1, \"model\": 13}, \"Metrics\": {\"validation_binary_classification_cross_entropy_objective\": {\"sum\": 0.5139548921897904, \"count\": 1, \"min\": 0.5139548921897904, \"max\": 0.5139548921897904}}}\u001b[0m\n",
      "\u001b[34m#metrics {\"StartTime\": 1686726778.0508149, \"EndTime\": 1686726778.050831, \"Dimensions\": {\"Algorithm\": \"Linear Learner\", \"Host\": \"algo-1\", \"Operation\": \"training\", \"epoch\": 1, \"model\": 14}, \"Metrics\": {\"validation_binary_classification_cross_entropy_objective\": {\"sum\": 0.5139243016571166, \"count\": 1, \"min\": 0.5139243016571166, \"max\": 0.5139243016571166}}}\u001b[0m\n",
      "\u001b[34m#metrics {\"StartTime\": 1686726778.0509007, \"EndTime\": 1686726778.050919, \"Dimensions\": {\"Algorithm\": \"Linear Learner\", \"Host\": \"algo-1\", \"Operation\": \"training\", \"epoch\": 1, \"model\": 15}, \"Metrics\": {\"validation_binary_classification_cross_entropy_objective\": {\"sum\": 0.5139548815544726, \"count\": 1, \"min\": 0.5139548815544726, \"max\": 0.5139548815544726}}}\u001b[0m\n",
      "\u001b[34m#metrics {\"StartTime\": 1686726778.0509908, \"EndTime\": 1686726778.0510075, \"Dimensions\": {\"Algorithm\": \"Linear Learner\", \"Host\": \"algo-1\", \"Operation\": \"training\", \"epoch\": 1, \"model\": 16}, \"Metrics\": {\"validation_binary_classification_cross_entropy_objective\": {\"sum\": 0.5138152329274026, \"count\": 1, \"min\": 0.5138152329274026, \"max\": 0.5138152329274026}}}\u001b[0m\n",
      "\u001b[34m#metrics {\"StartTime\": 1686726778.0510674, \"EndTime\": 1686726778.0510838, \"Dimensions\": {\"Algorithm\": \"Linear Learner\", \"Host\": \"algo-1\", \"Operation\": \"training\", \"epoch\": 1, \"model\": 17}, \"Metrics\": {\"validation_binary_classification_cross_entropy_objective\": {\"sum\": 0.5146546647584812, \"count\": 1, \"min\": 0.5146546647584812, \"max\": 0.5146546647584812}}}\u001b[0m\n",
      "\u001b[34m#metrics {\"StartTime\": 1686726778.05114, \"EndTime\": 1686726778.051157, \"Dimensions\": {\"Algorithm\": \"Linear Learner\", \"Host\": \"algo-1\", \"Operation\": \"training\", \"epoch\": 1, \"model\": 18}, \"Metrics\": {\"validation_binary_classification_cross_entropy_objective\": {\"sum\": 0.5138152217323312, \"count\": 1, \"min\": 0.5138152217323312, \"max\": 0.5138152217323312}}}\u001b[0m\n",
      "\u001b[34m#metrics {\"StartTime\": 1686726778.0512116, \"EndTime\": 1686726778.0512273, \"Dimensions\": {\"Algorithm\": \"Linear Learner\", \"Host\": \"algo-1\", \"Operation\": \"training\", \"epoch\": 1, \"model\": 19}, \"Metrics\": {\"validation_binary_classification_cross_entropy_objective\": {\"sum\": 0.5146546591609454, \"count\": 1, \"min\": 0.5146546591609454, \"max\": 0.5146546591609454}}}\u001b[0m\n",
      "\u001b[34m#metrics {\"StartTime\": 1686726778.05129, \"EndTime\": 1686726778.051308, \"Dimensions\": {\"Algorithm\": \"Linear Learner\", \"Host\": \"algo-1\", \"Operation\": \"training\", \"epoch\": 1, \"model\": 20}, \"Metrics\": {\"validation_binary_classification_cross_entropy_objective\": {\"sum\": 0.5140290123321085, \"count\": 1, \"min\": 0.5140290123321085, \"max\": 0.5140290123321085}}}\u001b[0m\n",
      "\u001b[34m#metrics {\"StartTime\": 1686726778.0513744, \"EndTime\": 1686726778.0513911, \"Dimensions\": {\"Algorithm\": \"Linear Learner\", \"Host\": \"algo-1\", \"Operation\": \"training\", \"epoch\": 1, \"model\": 21}, \"Metrics\": {\"validation_binary_classification_cross_entropy_objective\": {\"sum\": 0.5139639861328948, \"count\": 1, \"min\": 0.5139639861328948, \"max\": 0.5139639861328948}}}\u001b[0m\n",
      "\u001b[34m#metrics {\"StartTime\": 1686726778.0514605, \"EndTime\": 1686726778.051477, \"Dimensions\": {\"Algorithm\": \"Linear Learner\", \"Host\": \"algo-1\", \"Operation\": \"training\", \"epoch\": 1, \"model\": 22}, \"Metrics\": {\"validation_binary_classification_cross_entropy_objective\": {\"sum\": 0.5140288895594919, \"count\": 1, \"min\": 0.5140288895594919, \"max\": 0.5140288895594919}}}\u001b[0m\n",
      "\u001b[34m#metrics {\"StartTime\": 1686726778.0515409, \"EndTime\": 1686726778.0515602, \"Dimensions\": {\"Algorithm\": \"Linear Learner\", \"Host\": \"algo-1\", \"Operation\": \"training\", \"epoch\": 1, \"model\": 23}, \"Metrics\": {\"validation_binary_classification_cross_entropy_objective\": {\"sum\": 0.5139639837072961, \"count\": 1, \"min\": 0.5139639837072961, \"max\": 0.5139639837072961}}}\u001b[0m\n",
      "\u001b[34m#metrics {\"StartTime\": 1686726778.0516238, \"EndTime\": 1686726778.0516436, \"Dimensions\": {\"Algorithm\": \"Linear Learner\", \"Host\": \"algo-1\", \"Operation\": \"training\", \"epoch\": 1, \"model\": 24}, \"Metrics\": {\"validation_binary_classification_cross_entropy_objective\": {\"sum\": 0.5138450924219122, \"count\": 1, \"min\": 0.5138450924219122, \"max\": 0.5138450924219122}}}\u001b[0m\n",
      "\u001b[34m#metrics {\"StartTime\": 1686726778.0517128, \"EndTime\": 1686726778.0517333, \"Dimensions\": {\"Algorithm\": \"Linear Learner\", \"Host\": \"algo-1\", \"Operation\": \"training\", \"epoch\": 1, \"model\": 25}, \"Metrics\": {\"validation_binary_classification_cross_entropy_objective\": {\"sum\": 0.5146601721738696, \"count\": 1, \"min\": 0.5146601721738696, \"max\": 0.5146601721738696}}}\u001b[0m\n",
      "\u001b[34m#metrics {\"StartTime\": 1686726778.0518029, \"EndTime\": 1686726778.0518188, \"Dimensions\": {\"Algorithm\": \"Linear Learner\", \"Host\": \"algo-1\", \"Operation\": \"training\", \"epoch\": 1, \"model\": 26}, \"Metrics\": {\"validation_binary_classification_cross_entropy_objective\": {\"sum\": 0.5138445065465076, \"count\": 1, \"min\": 0.5138445065465076, \"max\": 0.5138445065465076}}}\u001b[0m\n",
      "\u001b[34m#metrics {\"StartTime\": 1686726778.0518854, \"EndTime\": 1686726778.051902, \"Dimensions\": {\"Algorithm\": \"Linear Learner\", \"Host\": \"algo-1\", \"Operation\": \"training\", \"epoch\": 1, \"model\": 27}, \"Metrics\": {\"validation_binary_classification_cross_entropy_objective\": {\"sum\": 0.5146599876417756, \"count\": 1, \"min\": 0.5146599876417756, \"max\": 0.5146599876417756}}}\u001b[0m\n",
      "\u001b[34m#metrics {\"StartTime\": 1686726778.051959, \"EndTime\": 1686726778.0519776, \"Dimensions\": {\"Algorithm\": \"Linear Learner\", \"Host\": \"algo-1\", \"Operation\": \"training\", \"epoch\": 1, \"model\": 28}, \"Metrics\": {\"validation_binary_classification_cross_entropy_objective\": {\"sum\": 0.5140342409902184, \"count\": 1, \"min\": 0.5140342409902184, \"max\": 0.5140342409902184}}}\u001b[0m\n",
      "\u001b[34m#metrics {\"StartTime\": 1686726778.0520418, \"EndTime\": 1686726778.0520594, \"Dimensions\": {\"Algorithm\": \"Linear Learner\", \"Host\": \"algo-1\", \"Operation\": \"training\", \"epoch\": 1, \"model\": 29}, \"Metrics\": {\"validation_binary_classification_cross_entropy_objective\": {\"sum\": 0.5140433289626183, \"count\": 1, \"min\": 0.5140433289626183, \"max\": 0.5140433289626183}}}\u001b[0m\n",
      "\u001b[34m#metrics {\"StartTime\": 1686726778.0521312, \"EndTime\": 1686726778.052152, \"Dimensions\": {\"Algorithm\": \"Linear Learner\", \"Host\": \"algo-1\", \"Operation\": \"training\", \"epoch\": 1, \"model\": 30}, \"Metrics\": {\"validation_binary_classification_cross_entropy_objective\": {\"sum\": 0.5140321717678498, \"count\": 1, \"min\": 0.5140321717678498, \"max\": 0.5140321717678498}}}\u001b[0m\n",
      "\u001b[34m#metrics {\"StartTime\": 1686726778.0522094, \"EndTime\": 1686726778.052226, \"Dimensions\": {\"Algorithm\": \"Linear Learner\", \"Host\": \"algo-1\", \"Operation\": \"training\", \"epoch\": 1, \"model\": 31}, \"Metrics\": {\"validation_binary_classification_cross_entropy_objective\": {\"sum\": 0.5140437971031884, \"count\": 1, \"min\": 0.5140437971031884, \"max\": 0.5140437971031884}}}\u001b[0m\n",
      "\u001b[34m[06/14/2023 07:12:58 INFO 140326266177344] #quality_metric: host=algo-1, epoch=1, validation binary_classification_cross_entropy_objective <loss>=0.513738445186148\u001b[0m\n",
      "\u001b[34m[06/14/2023 07:12:58 INFO 140326266177344] #early_stopping_criteria_metric: host=algo-1, epoch=1, criteria=binary_classification_cross_entropy_objective, value=0.513738445186148\u001b[0m\n",
      "\u001b[34m[06/14/2023 07:12:58 INFO 140326266177344] Saving model for epoch: 1\u001b[0m\n",
      "\u001b[34m[06/14/2023 07:12:58 INFO 140326266177344] Saved checkpoint to \"/tmp/tmpzblm3pon/mx-mod-0000.params\"\u001b[0m\n",
      "\u001b[34m[06/14/2023 07:12:58 INFO 140326266177344] #progress_metric: host=algo-1, completed 13.333333333333334 % of epochs\u001b[0m\n",
      "\u001b[34m#metrics {\"StartTime\": 1686726724.5278108, \"EndTime\": 1686726778.0592241, \"Dimensions\": {\"Algorithm\": \"Linear Learner\", \"Host\": \"algo-1\", \"Operation\": \"training\", \"epoch\": 1, \"Meta\": \"training_data_iter\"}, \"Metrics\": {\"Total Records Seen\": {\"sum\": 2628944.0, \"count\": 1, \"min\": 2628944, \"max\": 2628944}, \"Total Batches Seen\": {\"sum\": 2630.0, \"count\": 1, \"min\": 2630, \"max\": 2630}, \"Max Records Seen Between Resets\": {\"sum\": 1308472.0, \"count\": 1, \"min\": 1308472, \"max\": 1308472}, \"Max Batches Seen Between Resets\": {\"sum\": 1309.0, \"count\": 1, \"min\": 1309, \"max\": 1309}, \"Reset Count\": {\"sum\": 4.0, \"count\": 1, \"min\": 4, \"max\": 4}, \"Number of Records Since Last Reset\": {\"sum\": 1308472.0, \"count\": 1, \"min\": 1308472, \"max\": 1308472}, \"Number of Batches Since Last Reset\": {\"sum\": 1309.0, \"count\": 1, \"min\": 1309, \"max\": 1309}}}\u001b[0m\n",
      "\u001b[34m[06/14/2023 07:12:58 INFO 140326266177344] #throughput_metric: host=algo-1, train throughput=24442.997362935315 records/second\u001b[0m\n",
      "\u001b[34m[2023-06-14 07:13:45.532] [tensorio] [info] epoch_stats={\"data_pipeline\": \"/opt/ml/input/data/train\", \"epoch\": 7, \"duration\": 47472, \"num_examples\": 1309, \"num_bytes\": 62806656}\u001b[0m\n",
      "\u001b[34m#metrics {\"StartTime\": 1686726825.5328968, \"EndTime\": 1686726825.5329888, \"Dimensions\": {\"Algorithm\": \"Linear Learner\", \"Host\": \"algo-1\", \"Operation\": \"training\", \"epoch\": 2, \"model\": 0}, \"Metrics\": {\"train_binary_classification_cross_entropy_objective\": {\"sum\": 0.5137907845500048, \"count\": 1, \"min\": 0.5137907845500048, \"max\": 0.5137907845500048}}}\u001b[0m\n",
      "\u001b[34m#metrics {\"StartTime\": 1686726825.5330837, \"EndTime\": 1686726825.5331042, \"Dimensions\": {\"Algorithm\": \"Linear Learner\", \"Host\": \"algo-1\", \"Operation\": \"training\", \"epoch\": 2, \"model\": 1}, \"Metrics\": {\"train_binary_classification_cross_entropy_objective\": {\"sum\": 0.5139077745490118, \"count\": 1, \"min\": 0.5139077745490118, \"max\": 0.5139077745490118}}}\u001b[0m\n",
      "\u001b[34m#metrics {\"StartTime\": 1686726825.5331697, \"EndTime\": 1686726825.5331867, \"Dimensions\": {\"Algorithm\": \"Linear Learner\", \"Host\": \"algo-1\", \"Operation\": \"training\", \"epoch\": 2, \"model\": 2}, \"Metrics\": {\"train_binary_classification_cross_entropy_objective\": {\"sum\": 0.5137907878164122, \"count\": 1, \"min\": 0.5137907878164122, \"max\": 0.5137907878164122}}}\u001b[0m\n",
      "\u001b[34m#metrics {\"StartTime\": 1686726825.5332437, \"EndTime\": 1686726825.5332606, \"Dimensions\": {\"Algorithm\": \"Linear Learner\", \"Host\": \"algo-1\", \"Operation\": \"training\", \"epoch\": 2, \"model\": 3}, \"Metrics\": {\"train_binary_classification_cross_entropy_objective\": {\"sum\": 0.5139077745023488, \"count\": 1, \"min\": 0.5139077745023488, \"max\": 0.5139077745023488}}}\u001b[0m\n",
      "\u001b[34m#metrics {\"StartTime\": 1686726825.533317, \"EndTime\": 1686726825.5333354, \"Dimensions\": {\"Algorithm\": \"Linear Learner\", \"Host\": \"algo-1\", \"Operation\": \"training\", \"epoch\": 2, \"model\": 4}, \"Metrics\": {\"train_binary_classification_cross_entropy_objective\": {\"sum\": 0.5139037183242471, \"count\": 1, \"min\": 0.5139037183242471, \"max\": 0.5139037183242471}}}\u001b[0m\n",
      "\u001b[34m#metrics {\"StartTime\": 1686726825.5334024, \"EndTime\": 1686726825.5334218, \"Dimensions\": {\"Algorithm\": \"Linear Learner\", \"Host\": \"algo-1\", \"Operation\": \"training\", \"epoch\": 2, \"model\": 5}, \"Metrics\": {\"train_binary_classification_cross_entropy_objective\": {\"sum\": 0.5152625676426319, \"count\": 1, \"min\": 0.5152625676426319, \"max\": 0.5152625676426319}}}\u001b[0m\n",
      "\u001b[34m#metrics {\"StartTime\": 1686726825.5334764, \"EndTime\": 1686726825.5334945, \"Dimensions\": {\"Algorithm\": \"Linear Learner\", \"Host\": \"algo-1\", \"Operation\": \"training\", \"epoch\": 2, \"model\": 6}, \"Metrics\": {\"train_binary_classification_cross_entropy_objective\": {\"sum\": 0.5139037163410711, \"count\": 1, \"min\": 0.5139037163410711, \"max\": 0.5139037163410711}}}\u001b[0m\n",
      "\u001b[34m#metrics {\"StartTime\": 1686726825.5335574, \"EndTime\": 1686726825.533577, \"Dimensions\": {\"Algorithm\": \"Linear Learner\", \"Host\": \"algo-1\", \"Operation\": \"training\", \"epoch\": 2, \"model\": 7}, \"Metrics\": {\"train_binary_classification_cross_entropy_objective\": {\"sum\": 0.5152625731021986, \"count\": 1, \"min\": 0.5152625731021986, \"max\": 0.5152625731021986}}}\u001b[0m\n",
      "\u001b[34m#metrics {\"StartTime\": 1686726825.5336347, \"EndTime\": 1686726825.533652, \"Dimensions\": {\"Algorithm\": \"Linear Learner\", \"Host\": \"algo-1\", \"Operation\": \"training\", \"epoch\": 2, \"model\": 8}, \"Metrics\": {\"train_binary_classification_cross_entropy_objective\": {\"sum\": 0.5137910021394035, \"count\": 1, \"min\": 0.5137910021394035, \"max\": 0.5137910021394035}}}\u001b[0m\n",
      "\u001b[34m#metrics {\"StartTime\": 1686726825.5337057, \"EndTime\": 1686726825.5337205, \"Dimensions\": {\"Algorithm\": \"Linear Learner\", \"Host\": \"algo-1\", \"Operation\": \"training\", \"epoch\": 2, \"model\": 9}, \"Metrics\": {\"train_binary_classification_cross_entropy_objective\": {\"sum\": 0.5139072518304947, \"count\": 1, \"min\": 0.5139072518304947, \"max\": 0.5139072518304947}}}\u001b[0m\n",
      "\u001b[34m#metrics {\"StartTime\": 1686726825.5337722, \"EndTime\": 1686726825.5337899, \"Dimensions\": {\"Algorithm\": \"Linear Learner\", \"Host\": \"algo-1\", \"Operation\": \"training\", \"epoch\": 2, \"model\": 10}, \"Metrics\": {\"train_binary_classification_cross_entropy_objective\": {\"sum\": 0.5137910061524185, \"count\": 1, \"min\": 0.5137910061524185, \"max\": 0.5137910061524185}}}\u001b[0m\n",
      "\u001b[34m#metrics {\"StartTime\": 1686726825.533857, \"EndTime\": 1686726825.5338728, \"Dimensions\": {\"Algorithm\": \"Linear Learner\", \"Host\": \"algo-1\", \"Operation\": \"training\", \"epoch\": 2, \"model\": 11}, \"Metrics\": {\"train_binary_classification_cross_entropy_objective\": {\"sum\": 0.5139072517838318, \"count\": 1, \"min\": 0.5139072517838318, \"max\": 0.5139072517838318}}}\u001b[0m\n",
      "\u001b[34m#metrics {\"StartTime\": 1686726825.5339262, \"EndTime\": 1686726825.533944, \"Dimensions\": {\"Algorithm\": \"Linear Learner\", \"Host\": \"algo-1\", \"Operation\": \"training\", \"epoch\": 2, \"model\": 12}, \"Metrics\": {\"train_binary_classification_cross_entropy_objective\": {\"sum\": 0.5139031935758912, \"count\": 1, \"min\": 0.5139031935758912, \"max\": 0.5139031935758912}}}\u001b[0m\n",
      "\u001b[34m#metrics {\"StartTime\": 1686726825.5339973, \"EndTime\": 1686726825.5340142, \"Dimensions\": {\"Algorithm\": \"Linear Learner\", \"Host\": \"algo-1\", \"Operation\": \"training\", \"epoch\": 2, \"model\": 13}, \"Metrics\": {\"train_binary_classification_cross_entropy_objective\": {\"sum\": 0.5152455704948589, \"count\": 1, \"min\": 0.5152455704948589, \"max\": 0.5152455704948589}}}\u001b[0m\n",
      "\u001b[34m#metrics {\"StartTime\": 1686726825.5340679, \"EndTime\": 1686726825.534084, \"Dimensions\": {\"Algorithm\": \"Linear Learner\", \"Host\": \"algo-1\", \"Operation\": \"training\", \"epoch\": 2, \"model\": 14}, \"Metrics\": {\"train_binary_classification_cross_entropy_objective\": {\"sum\": 0.5139031941125153, \"count\": 1, \"min\": 0.5139031941125153, \"max\": 0.5139031941125153}}}\u001b[0m\n",
      "\u001b[34m#metrics {\"StartTime\": 1686726825.534138, \"EndTime\": 1686726825.5341556, \"Dimensions\": {\"Algorithm\": \"Linear Learner\", \"Host\": \"algo-1\", \"Operation\": \"training\", \"epoch\": 2, \"model\": 15}, \"Metrics\": {\"train_binary_classification_cross_entropy_objective\": {\"sum\": 0.5152455686283404, \"count\": 1, \"min\": 0.5152455686283404, \"max\": 0.5152455686283404}}}\u001b[0m\n",
      "\u001b[34m#metrics {\"StartTime\": 1686726825.5342066, \"EndTime\": 1686726825.5342236, \"Dimensions\": {\"Algorithm\": \"Linear Learner\", \"Host\": \"algo-1\", \"Operation\": \"training\", \"epoch\": 2, \"model\": 16}, \"Metrics\": {\"train_binary_classification_cross_entropy_objective\": {\"sum\": 0.5138359284240536, \"count\": 1, \"min\": 0.5138359284240536, \"max\": 0.5138359284240536}}}\u001b[0m\n",
      "\u001b[34m#metrics {\"StartTime\": 1686726825.534279, \"EndTime\": 1686726825.5342953, \"Dimensions\": {\"Algorithm\": \"Linear Learner\", \"Host\": \"algo-1\", \"Operation\": \"training\", \"epoch\": 2, \"model\": 17}, \"Metrics\": {\"train_binary_classification_cross_entropy_objective\": {\"sum\": 0.5139432439308284, \"count\": 1, \"min\": 0.5139432439308284, \"max\": 0.5139432439308284}}}\u001b[0m\n",
      "\u001b[34m#metrics {\"StartTime\": 1686726825.5343595, \"EndTime\": 1686726825.5343766, \"Dimensions\": {\"Algorithm\": \"Linear Learner\", \"Host\": \"algo-1\", \"Operation\": \"training\", \"epoch\": 2, \"model\": 18}, \"Metrics\": {\"train_binary_classification_cross_entropy_objective\": {\"sum\": 0.5138359313871518, \"count\": 1, \"min\": 0.5138359313871518, \"max\": 0.5138359313871518}}}\u001b[0m\n",
      "\u001b[34m#metrics {\"StartTime\": 1686726825.5344374, \"EndTime\": 1686726825.534454, \"Dimensions\": {\"Algorithm\": \"Linear Learner\", \"Host\": \"algo-1\", \"Operation\": \"training\", \"epoch\": 2, \"model\": 19}, \"Metrics\": {\"train_binary_classification_cross_entropy_objective\": {\"sum\": 0.5139432447707617, \"count\": 1, \"min\": 0.5139432447707617, \"max\": 0.5139432447707617}}}\u001b[0m\n",
      "\u001b[34m#metrics {\"StartTime\": 1686726825.5345054, \"EndTime\": 1686726825.5345237, \"Dimensions\": {\"Algorithm\": \"Linear Learner\", \"Host\": \"algo-1\", \"Operation\": \"training\", \"epoch\": 2, \"model\": 20}, \"Metrics\": {\"train_binary_classification_cross_entropy_objective\": {\"sum\": 0.5139377794644884, \"count\": 1, \"min\": 0.5139377794644884, \"max\": 0.5139377794644884}}}\u001b[0m\n",
      "\u001b[34m#metrics {\"StartTime\": 1686726825.5345652, \"EndTime\": 1686726825.5345824, \"Dimensions\": {\"Algorithm\": \"Linear Learner\", \"Host\": \"algo-1\", \"Operation\": \"training\", \"epoch\": 2, \"model\": 21}, \"Metrics\": {\"train_binary_classification_cross_entropy_objective\": {\"sum\": 0.515118183194315, \"count\": 1, \"min\": 0.515118183194315, \"max\": 0.515118183194315}}}\u001b[0m\n",
      "\u001b[34m#metrics {\"StartTime\": 1686726825.5346453, \"EndTime\": 1686726825.5346618, \"Dimensions\": {\"Algorithm\": \"Linear Learner\", \"Host\": \"algo-1\", \"Operation\": \"training\", \"epoch\": 2, \"model\": 22}, \"Metrics\": {\"train_binary_classification_cross_entropy_objective\": {\"sum\": 0.513937783804144, \"count\": 1, \"min\": 0.513937783804144, \"max\": 0.513937783804144}}}\u001b[0m\n",
      "\u001b[34m#metrics {\"StartTime\": 1686726825.5347183, \"EndTime\": 1686726825.534736, \"Dimensions\": {\"Algorithm\": \"Linear Learner\", \"Host\": \"algo-1\", \"Operation\": \"training\", \"epoch\": 2, \"model\": 23}, \"Metrics\": {\"train_binary_classification_cross_entropy_objective\": {\"sum\": 0.5151181841275743, \"count\": 1, \"min\": 0.5151181841275743, \"max\": 0.5151181841275743}}}\u001b[0m\n",
      "\u001b[34m#metrics {\"StartTime\": 1686726825.5347831, \"EndTime\": 1686726825.534801, \"Dimensions\": {\"Algorithm\": \"Linear Learner\", \"Host\": \"algo-1\", \"Operation\": \"training\", \"epoch\": 2, \"model\": 24}, \"Metrics\": {\"train_binary_classification_cross_entropy_objective\": {\"sum\": 0.5138526364714363, \"count\": 1, \"min\": 0.5138526364714363, \"max\": 0.5138526364714363}}}\u001b[0m\n",
      "\u001b[34m#metrics {\"StartTime\": 1686726825.5348482, \"EndTime\": 1686726825.534863, \"Dimensions\": {\"Algorithm\": \"Linear Learner\", \"Host\": \"algo-1\", \"Operation\": \"training\", \"epoch\": 2, \"model\": 25}, \"Metrics\": {\"train_binary_classification_cross_entropy_objective\": {\"sum\": 0.5139594318028254, \"count\": 1, \"min\": 0.5139594318028254, \"max\": 0.5139594318028254}}}\u001b[0m\n",
      "\u001b[34m#metrics {\"StartTime\": 1686726825.5349166, \"EndTime\": 1686726825.534934, \"Dimensions\": {\"Algorithm\": \"Linear Learner\", \"Host\": \"algo-1\", \"Operation\": \"training\", \"epoch\": 2, \"model\": 26}, \"Metrics\": {\"train_binary_classification_cross_entropy_objective\": {\"sum\": 0.5138526034107267, \"count\": 1, \"min\": 0.5138526034107267, \"max\": 0.5138526034107267}}}\u001b[0m\n",
      "\u001b[34m#metrics {\"StartTime\": 1686726825.5349865, \"EndTime\": 1686726825.5350044, \"Dimensions\": {\"Algorithm\": \"Linear Learner\", \"Host\": \"algo-1\", \"Operation\": \"training\", \"epoch\": 2, \"model\": 27}, \"Metrics\": {\"train_binary_classification_cross_entropy_objective\": {\"sum\": 0.513959340926704, \"count\": 1, \"min\": 0.513959340926704, \"max\": 0.513959340926704}}}\u001b[0m\n",
      "\u001b[34m#metrics {\"StartTime\": 1686726825.5350564, \"EndTime\": 1686726825.5350718, \"Dimensions\": {\"Algorithm\": \"Linear Learner\", \"Host\": \"algo-1\", \"Operation\": \"training\", \"epoch\": 2, \"model\": 28}, \"Metrics\": {\"train_binary_classification_cross_entropy_objective\": {\"sum\": 0.5139538594983769, \"count\": 1, \"min\": 0.5139538594983769, \"max\": 0.5139538594983769}}}\u001b[0m\n",
      "\u001b[34m#metrics {\"StartTime\": 1686726825.5351276, \"EndTime\": 1686726825.5351458, \"Dimensions\": {\"Algorithm\": \"Linear Learner\", \"Host\": \"algo-1\", \"Operation\": \"training\", \"epoch\": 2, \"model\": 29}, \"Metrics\": {\"train_binary_classification_cross_entropy_objective\": {\"sum\": 0.5151141251263633, \"count\": 1, \"min\": 0.5151141251263633, \"max\": 0.5151141251263633}}}\u001b[0m\n",
      "\u001b[34m#metrics {\"StartTime\": 1686726825.5351944, \"EndTime\": 1686726825.5352108, \"Dimensions\": {\"Algorithm\": \"Linear Learner\", \"Host\": \"algo-1\", \"Operation\": \"training\", \"epoch\": 2, \"model\": 30}, \"Metrics\": {\"train_binary_classification_cross_entropy_objective\": {\"sum\": 0.5139538008197003, \"count\": 1, \"min\": 0.5139538008197003, \"max\": 0.5139538008197003}}}\u001b[0m\n",
      "\u001b[34m#metrics {\"StartTime\": 1686726825.5352745, \"EndTime\": 1686726825.535293, \"Dimensions\": {\"Algorithm\": \"Linear Learner\", \"Host\": \"algo-1\", \"Operation\": \"training\", \"epoch\": 2, \"model\": 31}, \"Metrics\": {\"train_binary_classification_cross_entropy_objective\": {\"sum\": 0.5151141344356245, \"count\": 1, \"min\": 0.5151141344356245, \"max\": 0.5151141344356245}}}\u001b[0m\n",
      "\u001b[34m[06/14/2023 07:13:45 INFO 140326266177344] #quality_metric: host=algo-1, epoch=2, train binary_classification_cross_entropy_objective <loss>=0.5137907845500048\u001b[0m\n",
      "\u001b[34m[2023-06-14 07:13:49.584] [tensorio] [info] epoch_stats={\"data_pipeline\": \"/opt/ml/input/data/validation\", \"epoch\": 8, \"duration\": 4025, \"num_examples\": 164, \"num_bytes\": 7850832}\u001b[0m\n",
      "\u001b[34m#metrics {\"StartTime\": 1686726829.5921178, \"EndTime\": 1686726829.5921717, \"Dimensions\": {\"Algorithm\": \"Linear Learner\", \"Host\": \"algo-1\", \"Operation\": \"training\", \"epoch\": 2, \"model\": 0}, \"Metrics\": {\"validation_binary_classification_cross_entropy_objective\": {\"sum\": 0.5137365722506982, \"count\": 1, \"min\": 0.5137365722506982, \"max\": 0.5137365722506982}}}\u001b[0m\n",
      "\u001b[34m#metrics {\"StartTime\": 1686726829.592265, \"EndTime\": 1686726829.592281, \"Dimensions\": {\"Algorithm\": \"Linear Learner\", \"Host\": \"algo-1\", \"Operation\": \"training\", \"epoch\": 2, \"model\": 1}, \"Metrics\": {\"validation_binary_classification_cross_entropy_objective\": {\"sum\": 0.514501624027217, \"count\": 1, \"min\": 0.514501624027217, \"max\": 0.514501624027217}}}\u001b[0m\n",
      "\u001b[34m#metrics {\"StartTime\": 1686726829.5923467, \"EndTime\": 1686726829.5923653, \"Dimensions\": {\"Algorithm\": \"Linear Learner\", \"Host\": \"algo-1\", \"Operation\": \"training\", \"epoch\": 2, \"model\": 2}, \"Metrics\": {\"validation_binary_classification_cross_entropy_objective\": {\"sum\": 0.5137365709446066, \"count\": 1, \"min\": 0.5137365709446066, \"max\": 0.5137365709446066}}}\u001b[0m\n",
      "\u001b[34m#metrics {\"StartTime\": 1686726829.5924263, \"EndTime\": 1686726829.5924437, \"Dimensions\": {\"Algorithm\": \"Linear Learner\", \"Host\": \"algo-1\", \"Operation\": \"training\", \"epoch\": 2, \"model\": 3}, \"Metrics\": {\"validation_binary_classification_cross_entropy_objective\": {\"sum\": 0.514501624027217, \"count\": 1, \"min\": 0.514501624027217, \"max\": 0.514501624027217}}}\u001b[0m\n",
      "\u001b[34m#metrics {\"StartTime\": 1686726829.5925236, \"EndTime\": 1686726829.5925488, \"Dimensions\": {\"Algorithm\": \"Linear Learner\", \"Host\": \"algo-1\", \"Operation\": \"training\", \"epoch\": 2, \"model\": 4}, \"Metrics\": {\"validation_binary_classification_cross_entropy_objective\": {\"sum\": 0.5139350033990625, \"count\": 1, \"min\": 0.5139350033990625, \"max\": 0.5139350033990625}}}\u001b[0m\n",
      "\u001b[34m#metrics {\"StartTime\": 1686726829.5926144, \"EndTime\": 1686726829.592636, \"Dimensions\": {\"Algorithm\": \"Linear Learner\", \"Host\": \"algo-1\", \"Operation\": \"training\", \"epoch\": 2, \"model\": 5}, \"Metrics\": {\"validation_binary_classification_cross_entropy_objective\": {\"sum\": 0.5138942180745939, \"count\": 1, \"min\": 0.5138942180745939, \"max\": 0.5138942180745939}}}\u001b[0m\n",
      "\u001b[34m#metrics {\"StartTime\": 1686726829.592707, \"EndTime\": 1686726829.5927243, \"Dimensions\": {\"Algorithm\": \"Linear Learner\", \"Host\": \"algo-1\", \"Operation\": \"training\", \"epoch\": 2, \"model\": 6}, \"Metrics\": {\"validation_binary_classification_cross_entropy_objective\": {\"sum\": 0.5139350007868791, \"count\": 1, \"min\": 0.5139350007868791, \"max\": 0.5139350007868791}}}\u001b[0m\n",
      "\u001b[34m#metrics {\"StartTime\": 1686726829.5927846, \"EndTime\": 1686726829.5927987, \"Dimensions\": {\"Algorithm\": \"Linear Learner\", \"Host\": \"algo-1\", \"Operation\": \"training\", \"epoch\": 2, \"model\": 7}, \"Metrics\": {\"validation_binary_classification_cross_entropy_objective\": {\"sum\": 0.513894223112376, \"count\": 1, \"min\": 0.513894223112376, \"max\": 0.513894223112376}}}\u001b[0m\n",
      "\u001b[34m#metrics {\"StartTime\": 1686726829.5928478, \"EndTime\": 1686726829.592867, \"Dimensions\": {\"Algorithm\": \"Linear Learner\", \"Host\": \"algo-1\", \"Operation\": \"training\", \"epoch\": 2, \"model\": 8}, \"Metrics\": {\"validation_binary_classification_cross_entropy_objective\": {\"sum\": 0.5137387304738849, \"count\": 1, \"min\": 0.5137387304738849, \"max\": 0.5137387304738849}}}\u001b[0m\n",
      "\u001b[34m#metrics {\"StartTime\": 1686726829.592931, \"EndTime\": 1686726829.5929508, \"Dimensions\": {\"Algorithm\": \"Linear Learner\", \"Host\": \"algo-1\", \"Operation\": \"training\", \"epoch\": 2, \"model\": 9}, \"Metrics\": {\"validation_binary_classification_cross_entropy_objective\": {\"sum\": 0.5145013587040241, \"count\": 1, \"min\": 0.5145013587040241, \"max\": 0.5145013587040241}}}\u001b[0m\n",
      "\u001b[34m#metrics {\"StartTime\": 1686726829.5930195, \"EndTime\": 1686726829.5930347, \"Dimensions\": {\"Algorithm\": \"Linear Learner\", \"Host\": \"algo-1\", \"Operation\": \"training\", \"epoch\": 2, \"model\": 10}, \"Metrics\": {\"validation_binary_classification_cross_entropy_objective\": {\"sum\": 0.513738719838567, \"count\": 1, \"min\": 0.513738719838567, \"max\": 0.513738719838567}}}\u001b[0m\n",
      "\u001b[34m#metrics {\"StartTime\": 1686726829.5930908, \"EndTime\": 1686726829.5931063, \"Dimensions\": {\"Algorithm\": \"Linear Learner\", \"Host\": \"algo-1\", \"Operation\": \"training\", \"epoch\": 2, \"model\": 11}, \"Metrics\": {\"validation_binary_classification_cross_entropy_objective\": {\"sum\": 0.5145013603832849, \"count\": 1, \"min\": 0.5145013603832849, \"max\": 0.5145013603832849}}}\u001b[0m\n",
      "\u001b[34m#metrics {\"StartTime\": 1686726829.593154, \"EndTime\": 1686726829.5931735, \"Dimensions\": {\"Algorithm\": \"Linear Learner\", \"Host\": \"algo-1\", \"Operation\": \"training\", \"epoch\": 2, \"model\": 12}, \"Metrics\": {\"validation_binary_classification_cross_entropy_objective\": {\"sum\": 0.513935458105547, \"count\": 1, \"min\": 0.513935458105547, \"max\": 0.513935458105547}}}\u001b[0m\n",
      "\u001b[34m#metrics {\"StartTime\": 1686726829.5932276, \"EndTime\": 1686726829.593245, \"Dimensions\": {\"Algorithm\": \"Linear Learner\", \"Host\": \"algo-1\", \"Operation\": \"training\", \"epoch\": 2, \"model\": 13}, \"Metrics\": {\"validation_binary_classification_cross_entropy_objective\": {\"sum\": 0.513893662052713, \"count\": 1, \"min\": 0.513893662052713, \"max\": 0.513893662052713}}}\u001b[0m\n",
      "\u001b[34m#metrics {\"StartTime\": 1686726829.593295, \"EndTime\": 1686726829.5933075, \"Dimensions\": {\"Algorithm\": \"Linear Learner\", \"Host\": \"algo-1\", \"Operation\": \"training\", \"epoch\": 2, \"model\": 14}, \"Metrics\": {\"validation_binary_classification_cross_entropy_objective\": {\"sum\": 0.5139354571726243, \"count\": 1, \"min\": 0.5139354571726243, \"max\": 0.5139354571726243}}}\u001b[0m\n",
      "\u001b[34m#metrics {\"StartTime\": 1686726829.5933666, \"EndTime\": 1686726829.593379, \"Dimensions\": {\"Algorithm\": \"Linear Learner\", \"Host\": \"algo-1\", \"Operation\": \"training\", \"epoch\": 2, \"model\": 15}, \"Metrics\": {\"validation_binary_classification_cross_entropy_objective\": {\"sum\": 0.5138936657844035, \"count\": 1, \"min\": 0.5138936657844035, \"max\": 0.5138936657844035}}}\u001b[0m\n",
      "\u001b[34m#metrics {\"StartTime\": 1686726829.5934477, \"EndTime\": 1686726829.5934558, \"Dimensions\": {\"Algorithm\": \"Linear Learner\", \"Host\": \"algo-1\", \"Operation\": \"training\", \"epoch\": 2, \"model\": 16}, \"Metrics\": {\"validation_binary_classification_cross_entropy_objective\": {\"sum\": 0.513816479498606, \"count\": 1, \"min\": 0.513816479498606, \"max\": 0.513816479498606}}}\u001b[0m\n",
      "\u001b[34m#metrics {\"StartTime\": 1686726829.5935042, \"EndTime\": 1686726829.5935178, \"Dimensions\": {\"Algorithm\": \"Linear Learner\", \"Host\": \"algo-1\", \"Operation\": \"training\", \"epoch\": 2, \"model\": 17}, \"Metrics\": {\"validation_binary_classification_cross_entropy_objective\": {\"sum\": 0.5146094172651263, \"count\": 1, \"min\": 0.5146094172651263, \"max\": 0.5146094172651263}}}\u001b[0m\n",
      "\u001b[34m#metrics {\"StartTime\": 1686726829.5935783, \"EndTime\": 1686726829.593595, \"Dimensions\": {\"Algorithm\": \"Linear Learner\", \"Host\": \"algo-1\", \"Operation\": \"training\", \"epoch\": 2, \"model\": 18}, \"Metrics\": {\"validation_binary_classification_cross_entropy_objective\": {\"sum\": 0.5138164492719132, \"count\": 1, \"min\": 0.5138164492719132, \"max\": 0.5138164492719132}}}\u001b[0m\n",
      "\u001b[34m#metrics {\"StartTime\": 1686726829.5936434, \"EndTime\": 1686726829.5936618, \"Dimensions\": {\"Algorithm\": \"Linear Learner\", \"Host\": \"algo-1\", \"Operation\": \"training\", \"epoch\": 2, \"model\": 19}, \"Metrics\": {\"validation_binary_classification_cross_entropy_objective\": {\"sum\": 0.5146094140931894, \"count\": 1, \"min\": 0.5146094140931894, \"max\": 0.5146094140931894}}}\u001b[0m\n",
      "\u001b[34m#metrics {\"StartTime\": 1686726829.5937078, \"EndTime\": 1686726829.5937304, \"Dimensions\": {\"Algorithm\": \"Linear Learner\", \"Host\": \"algo-1\", \"Operation\": \"training\", \"epoch\": 2, \"model\": 20}, \"Metrics\": {\"validation_binary_classification_cross_entropy_objective\": {\"sum\": 0.5140323837278687, \"count\": 1, \"min\": 0.5140323837278687, \"max\": 0.5140323837278687}}}\u001b[0m\n",
      "\u001b[34m#metrics {\"StartTime\": 1686726829.5937889, \"EndTime\": 1686726829.5938008, \"Dimensions\": {\"Algorithm\": \"Linear Learner\", \"Host\": \"algo-1\", \"Operation\": \"training\", \"epoch\": 2, \"model\": 21}, \"Metrics\": {\"validation_binary_classification_cross_entropy_objective\": {\"sum\": 0.5139502279498649, \"count\": 1, \"min\": 0.5139502279498649, \"max\": 0.5139502279498649}}}\u001b[0m\n",
      "\u001b[34m#metrics {\"StartTime\": 1686726829.5938568, \"EndTime\": 1686726829.5938687, \"Dimensions\": {\"Algorithm\": \"Linear Learner\", \"Host\": \"algo-1\", \"Operation\": \"training\", \"epoch\": 2, \"model\": 22}, \"Metrics\": {\"validation_binary_classification_cross_entropy_objective\": {\"sum\": 0.5140324029460747, \"count\": 1, \"min\": 0.5140324029460747, \"max\": 0.5140324029460747}}}\u001b[0m\n",
      "\u001b[34m#metrics {\"StartTime\": 1686726829.593923, \"EndTime\": 1686726829.5939398, \"Dimensions\": {\"Algorithm\": \"Linear Learner\", \"Host\": \"algo-1\", \"Operation\": \"training\", \"epoch\": 2, \"model\": 23}, \"Metrics\": {\"validation_binary_classification_cross_entropy_objective\": {\"sum\": 0.5139502352266613, \"count\": 1, \"min\": 0.5139502352266613, \"max\": 0.5139502352266613}}}\u001b[0m\n",
      "\u001b[34m#metrics {\"StartTime\": 1686726829.593992, \"EndTime\": 1686726829.5940096, \"Dimensions\": {\"Algorithm\": \"Linear Learner\", \"Host\": \"algo-1\", \"Operation\": \"training\", \"epoch\": 2, \"model\": 24}, \"Metrics\": {\"validation_binary_classification_cross_entropy_objective\": {\"sum\": 0.5138422483140163, \"count\": 1, \"min\": 0.5138422483140163, \"max\": 0.5138422483140163}}}\u001b[0m\n",
      "\u001b[34m#metrics {\"StartTime\": 1686726829.5940695, \"EndTime\": 1686726829.5940862, \"Dimensions\": {\"Algorithm\": \"Linear Learner\", \"Host\": \"algo-1\", \"Operation\": \"training\", \"epoch\": 2, \"model\": 25}, \"Metrics\": {\"validation_binary_classification_cross_entropy_objective\": {\"sum\": 0.514617269115056, \"count\": 1, \"min\": 0.514617269115056, \"max\": 0.514617269115056}}}\u001b[0m\n",
      "\u001b[34m#metrics {\"StartTime\": 1686726829.5941343, \"EndTime\": 1686726829.5941486, \"Dimensions\": {\"Algorithm\": \"Linear Learner\", \"Host\": \"algo-1\", \"Operation\": \"training\", \"epoch\": 2, \"model\": 26}, \"Metrics\": {\"validation_binary_classification_cross_entropy_objective\": {\"sum\": 0.5138424492655483, \"count\": 1, \"min\": 0.5138424492655483, \"max\": 0.5138424492655483}}}\u001b[0m\n",
      "\u001b[34m#metrics {\"StartTime\": 1686726829.594199, \"EndTime\": 1686726829.5942183, \"Dimensions\": {\"Algorithm\": \"Linear Learner\", \"Host\": \"algo-1\", \"Operation\": \"training\", \"epoch\": 2, \"model\": 27}, \"Metrics\": {\"validation_binary_classification_cross_entropy_objective\": {\"sum\": 0.5146164317237133, \"count\": 1, \"min\": 0.5146164317237133, \"max\": 0.5146164317237133}}}\u001b[0m\n",
      "\u001b[34m#metrics {\"StartTime\": 1686726829.5942657, \"EndTime\": 1686726829.5942817, \"Dimensions\": {\"Algorithm\": \"Linear Learner\", \"Host\": \"algo-1\", \"Operation\": \"training\", \"epoch\": 2, \"model\": 28}, \"Metrics\": {\"validation_binary_classification_cross_entropy_objective\": {\"sum\": 0.5140459327496476, \"count\": 1, \"min\": 0.5140459327496476, \"max\": 0.5140459327496476}}}\u001b[0m\n",
      "\u001b[34m#metrics {\"StartTime\": 1686726829.5943396, \"EndTime\": 1686726829.5943515, \"Dimensions\": {\"Algorithm\": \"Linear Learner\", \"Host\": \"algo-1\", \"Operation\": \"training\", \"epoch\": 2, \"model\": 29}, \"Metrics\": {\"validation_binary_classification_cross_entropy_objective\": {\"sum\": 0.5139884740455494, \"count\": 1, \"min\": 0.5139884740455494, \"max\": 0.5139884740455494}}}\u001b[0m\n",
      "\u001b[34m#metrics {\"StartTime\": 1686726829.5944102, \"EndTime\": 1686726829.5944257, \"Dimensions\": {\"Algorithm\": \"Linear Learner\", \"Host\": \"algo-1\", \"Operation\": \"training\", \"epoch\": 2, \"model\": 30}, \"Metrics\": {\"validation_binary_classification_cross_entropy_objective\": {\"sum\": 0.5140457351566369, \"count\": 1, \"min\": 0.5140457351566369, \"max\": 0.5140457351566369}}}\u001b[0m\n",
      "\u001b[34m#metrics {\"StartTime\": 1686726829.5944693, \"EndTime\": 1686726829.594486, \"Dimensions\": {\"Algorithm\": \"Linear Learner\", \"Host\": \"algo-1\", \"Operation\": \"training\", \"epoch\": 2, \"model\": 31}, \"Metrics\": {\"validation_binary_classification_cross_entropy_objective\": {\"sum\": 0.5139884677016756, \"count\": 1, \"min\": 0.5139884677016756, \"max\": 0.5139884677016756}}}\u001b[0m\n",
      "\u001b[34m[06/14/2023 07:13:49 INFO 140326266177344] #quality_metric: host=algo-1, epoch=2, validation binary_classification_cross_entropy_objective <loss>=0.5137365722506982\u001b[0m\n",
      "\u001b[34m[06/14/2023 07:13:49 INFO 140326266177344] #early_stopping_criteria_metric: host=algo-1, epoch=2, criteria=binary_classification_cross_entropy_objective, value=0.5137365709446066\u001b[0m\n",
      "\u001b[34m[06/14/2023 07:13:49 INFO 140326266177344] Saving model for epoch: 2\u001b[0m\n",
      "\u001b[34m[06/14/2023 07:13:49 INFO 140326266177344] Saved checkpoint to \"/tmp/tmpead5zb5o/mx-mod-0000.params\"\u001b[0m\n",
      "\u001b[34m[06/14/2023 07:13:49 INFO 140326266177344] #progress_metric: host=algo-1, completed 20.0 % of epochs\u001b[0m\n",
      "\u001b[34m#metrics {\"StartTime\": 1686726778.0599723, \"EndTime\": 1686726829.6010098, \"Dimensions\": {\"Algorithm\": \"Linear Learner\", \"Host\": \"algo-1\", \"Operation\": \"training\", \"epoch\": 2, \"Meta\": \"training_data_iter\"}, \"Metrics\": {\"Total Records Seen\": {\"sum\": 3937416.0, \"count\": 1, \"min\": 3937416, \"max\": 3937416}, \"Total Batches Seen\": {\"sum\": 3939.0, \"count\": 1, \"min\": 3939, \"max\": 3939}, \"Max Records Seen Between Resets\": {\"sum\": 1308472.0, \"count\": 1, \"min\": 1308472, \"max\": 1308472}, \"Max Batches Seen Between Resets\": {\"sum\": 1309.0, \"count\": 1, \"min\": 1309, \"max\": 1309}, \"Reset Count\": {\"sum\": 5.0, \"count\": 1, \"min\": 5, \"max\": 5}, \"Number of Records Since Last Reset\": {\"sum\": 1308472.0, \"count\": 1, \"min\": 1308472, \"max\": 1308472}, \"Number of Batches Since Last Reset\": {\"sum\": 1309.0, \"count\": 1, \"min\": 1309, \"max\": 1309}}}\u001b[0m\n",
      "\u001b[34m[06/14/2023 07:13:49 INFO 140326266177344] #throughput_metric: host=algo-1, train throughput=25386.920149558926 records/second\u001b[0m\n",
      "\u001b[34m[2023-06-14 07:14:36.431] [tensorio] [info] epoch_stats={\"data_pipeline\": \"/opt/ml/input/data/train\", \"epoch\": 9, \"duration\": 46826, \"num_examples\": 1309, \"num_bytes\": 62806656}\u001b[0m\n",
      "\u001b[34m#metrics {\"StartTime\": 1686726876.4311783, \"EndTime\": 1686726876.431303, \"Dimensions\": {\"Algorithm\": \"Linear Learner\", \"Host\": \"algo-1\", \"Operation\": \"training\", \"epoch\": 3, \"model\": 0}, \"Metrics\": {\"train_binary_classification_cross_entropy_objective\": {\"sum\": 0.5137856830281948, \"count\": 1, \"min\": 0.5137856830281948, \"max\": 0.5137856830281948}}}\u001b[0m\n",
      "\u001b[34m#metrics {\"StartTime\": 1686726876.4314704, \"EndTime\": 1686726876.431489, \"Dimensions\": {\"Algorithm\": \"Linear Learner\", \"Host\": \"algo-1\", \"Operation\": \"training\", \"epoch\": 3, \"model\": 1}, \"Metrics\": {\"train_binary_classification_cross_entropy_objective\": {\"sum\": 0.513894241099693, \"count\": 1, \"min\": 0.513894241099693, \"max\": 0.513894241099693}}}\u001b[0m\n",
      "\u001b[34m#metrics {\"StartTime\": 1686726876.4315534, \"EndTime\": 1686726876.4315672, \"Dimensions\": {\"Algorithm\": \"Linear Learner\", \"Host\": \"algo-1\", \"Operation\": \"training\", \"epoch\": 3, \"model\": 2}, \"Metrics\": {\"train_binary_classification_cross_entropy_objective\": {\"sum\": 0.5137874200103479, \"count\": 1, \"min\": 0.5137874200103479, \"max\": 0.5137874200103479}}}\u001b[0m\n",
      "\u001b[34m#metrics {\"StartTime\": 1686726876.4316297, \"EndTime\": 1686726876.4316537, \"Dimensions\": {\"Algorithm\": \"Linear Learner\", \"Host\": \"algo-1\", \"Operation\": \"training\", \"epoch\": 3, \"model\": 3}, \"Metrics\": {\"train_binary_classification_cross_entropy_objective\": {\"sum\": 0.513894241006367, \"count\": 1, \"min\": 0.513894241006367, \"max\": 0.513894241006367}}}\u001b[0m\n",
      "\u001b[34m#metrics {\"StartTime\": 1686726876.4317079, \"EndTime\": 1686726876.431726, \"Dimensions\": {\"Algorithm\": \"Linear Learner\", \"Host\": \"algo-1\", \"Operation\": \"training\", \"epoch\": 3, \"model\": 4}, \"Metrics\": {\"train_binary_classification_cross_entropy_objective\": {\"sum\": 0.5138081721734563, \"count\": 1, \"min\": 0.5138081721734563, \"max\": 0.5138081721734563}}}\u001b[0m\n",
      "\u001b[34m#metrics {\"StartTime\": 1686726876.4317796, \"EndTime\": 1686726876.4318018, \"Dimensions\": {\"Algorithm\": \"Linear Learner\", \"Host\": \"algo-1\", \"Operation\": \"training\", \"epoch\": 3, \"model\": 5}, \"Metrics\": {\"train_binary_classification_cross_entropy_objective\": {\"sum\": 0.515037196938051, \"count\": 1, \"min\": 0.515037196938051, \"max\": 0.515037196938051}}}\u001b[0m\n",
      "\u001b[34m#metrics {\"StartTime\": 1686726876.4318702, \"EndTime\": 1686726876.4318883, \"Dimensions\": {\"Algorithm\": \"Linear Learner\", \"Host\": \"algo-1\", \"Operation\": \"training\", \"epoch\": 3, \"model\": 6}, \"Metrics\": {\"train_binary_classification_cross_entropy_objective\": {\"sum\": 0.5138081712635285, \"count\": 1, \"min\": 0.5138081712635285, \"max\": 0.5138081712635285}}}\u001b[0m\n",
      "\u001b[34m#metrics {\"StartTime\": 1686726876.4319544, \"EndTime\": 1686726876.431976, \"Dimensions\": {\"Algorithm\": \"Linear Learner\", \"Host\": \"algo-1\", \"Operation\": \"training\", \"epoch\": 3, \"model\": 7}, \"Metrics\": {\"train_binary_classification_cross_entropy_objective\": {\"sum\": 0.5150372011143862, \"count\": 1, \"min\": 0.5150372011143862, \"max\": 0.5150372011143862}}}\u001b[0m\n",
      "\u001b[34m#metrics {\"StartTime\": 1686726876.432044, \"EndTime\": 1686726876.4320662, \"Dimensions\": {\"Algorithm\": \"Linear Learner\", \"Host\": \"algo-1\", \"Operation\": \"training\", \"epoch\": 3, \"model\": 8}, \"Metrics\": {\"train_binary_classification_cross_entropy_objective\": {\"sum\": 0.5137859105801363, \"count\": 1, \"min\": 0.5137859105801363, \"max\": 0.5137859105801363}}}\u001b[0m\n",
      "\u001b[34m#metrics {\"StartTime\": 1686726876.4321363, \"EndTime\": 1686726876.4321523, \"Dimensions\": {\"Algorithm\": \"Linear Learner\", \"Host\": \"algo-1\", \"Operation\": \"training\", \"epoch\": 3, \"model\": 9}, \"Metrics\": {\"train_binary_classification_cross_entropy_objective\": {\"sum\": 0.5138938048476472, \"count\": 1, \"min\": 0.5138938048476472, \"max\": 0.5138938048476472}}}\u001b[0m\n",
      "\u001b[34m#metrics {\"StartTime\": 1686726876.4322214, \"EndTime\": 1686726876.4322362, \"Dimensions\": {\"Algorithm\": \"Linear Learner\", \"Host\": \"algo-1\", \"Operation\": \"training\", \"epoch\": 3, \"model\": 10}, \"Metrics\": {\"train_binary_classification_cross_entropy_objective\": {\"sum\": 0.5137875575494328, \"count\": 1, \"min\": 0.5137875575494328, \"max\": 0.5137875575494328}}}\u001b[0m\n",
      "\u001b[34m#metrics {\"StartTime\": 1686726876.4323087, \"EndTime\": 1686726876.4323287, \"Dimensions\": {\"Algorithm\": \"Linear Learner\", \"Host\": \"algo-1\", \"Operation\": \"training\", \"epoch\": 3, \"model\": 11}, \"Metrics\": {\"train_binary_classification_cross_entropy_objective\": {\"sum\": 0.5138938042643603, \"count\": 1, \"min\": 0.5138938042643603, \"max\": 0.5138938042643603}}}\u001b[0m\n",
      "\u001b[34m#metrics {\"StartTime\": 1686726876.4324005, \"EndTime\": 1686726876.4324157, \"Dimensions\": {\"Algorithm\": \"Linear Learner\", \"Host\": \"algo-1\", \"Operation\": \"training\", \"epoch\": 3, \"model\": 12}, \"Metrics\": {\"train_binary_classification_cross_entropy_objective\": {\"sum\": 0.5138081121648853, \"count\": 1, \"min\": 0.5138081121648853, \"max\": 0.5138081121648853}}}\u001b[0m\n",
      "\u001b[34m#metrics {\"StartTime\": 1686726876.4325147, \"EndTime\": 1686726876.4325335, \"Dimensions\": {\"Algorithm\": \"Linear Learner\", \"Host\": \"algo-1\", \"Operation\": \"training\", \"epoch\": 3, \"model\": 13}, \"Metrics\": {\"train_binary_classification_cross_entropy_objective\": {\"sum\": 0.5150244000169479, \"count\": 1, \"min\": 0.5150244000169479, \"max\": 0.5150244000169479}}}\u001b[0m\n",
      "\u001b[34m#metrics {\"StartTime\": 1686726876.4325833, \"EndTime\": 1686726876.432599, \"Dimensions\": {\"Algorithm\": \"Linear Learner\", \"Host\": \"algo-1\", \"Operation\": \"training\", \"epoch\": 3, \"model\": 14}, \"Metrics\": {\"train_binary_classification_cross_entropy_objective\": {\"sum\": 0.5138081120015648, \"count\": 1, \"min\": 0.5138081120015648, \"max\": 0.5138081120015648}}}\u001b[0m\n",
      "\u001b[34m#metrics {\"StartTime\": 1686726876.4326484, \"EndTime\": 1686726876.4326634, \"Dimensions\": {\"Algorithm\": \"Linear Learner\", \"Host\": \"algo-1\", \"Operation\": \"training\", \"epoch\": 3, \"model\": 15}, \"Metrics\": {\"train_binary_classification_cross_entropy_objective\": {\"sum\": 0.5150244000636109, \"count\": 1, \"min\": 0.5150244000636109, \"max\": 0.5150244000636109}}}\u001b[0m\n",
      "\u001b[34m#metrics {\"StartTime\": 1686726876.4327137, \"EndTime\": 1686726876.4327242, \"Dimensions\": {\"Algorithm\": \"Linear Learner\", \"Host\": \"algo-1\", \"Operation\": \"training\", \"epoch\": 3, \"model\": 16}, \"Metrics\": {\"train_binary_classification_cross_entropy_objective\": {\"sum\": 0.5138313971469891, \"count\": 1, \"min\": 0.5138313971469891, \"max\": 0.5138313971469891}}}\u001b[0m\n",
      "\u001b[34m#metrics {\"StartTime\": 1686726876.4327517, \"EndTime\": 1686726876.4327593, \"Dimensions\": {\"Algorithm\": \"Linear Learner\", \"Host\": \"algo-1\", \"Operation\": \"training\", \"epoch\": 3, \"model\": 17}, \"Metrics\": {\"train_binary_classification_cross_entropy_objective\": {\"sum\": 0.5139313899282286, \"count\": 1, \"min\": 0.5139313899282286, \"max\": 0.5139313899282286}}}\u001b[0m\n",
      "\u001b[34m#metrics {\"StartTime\": 1686726876.4327915, \"EndTime\": 1686726876.4328094, \"Dimensions\": {\"Algorithm\": \"Linear Learner\", \"Host\": \"algo-1\", \"Operation\": \"training\", \"epoch\": 3, \"model\": 18}, \"Metrics\": {\"train_binary_classification_cross_entropy_objective\": {\"sum\": 0.5138328254303072, \"count\": 1, \"min\": 0.5138328254303072, \"max\": 0.5138328254303072}}}\u001b[0m\n",
      "\u001b[34m#metrics {\"StartTime\": 1686726876.4328716, \"EndTime\": 1686726876.4328818, \"Dimensions\": {\"Algorithm\": \"Linear Learner\", \"Host\": \"algo-1\", \"Operation\": \"training\", \"epoch\": 3, \"model\": 19}, \"Metrics\": {\"train_binary_classification_cross_entropy_objective\": {\"sum\": 0.513931389508262, \"count\": 1, \"min\": 0.513931389508262, \"max\": 0.513931389508262}}}\u001b[0m\n",
      "\u001b[34m#metrics {\"StartTime\": 1686726876.432946, \"EndTime\": 1686726876.4329662, \"Dimensions\": {\"Algorithm\": \"Linear Learner\", \"Host\": \"algo-1\", \"Operation\": \"training\", \"epoch\": 3, \"model\": 20}, \"Metrics\": {\"train_binary_classification_cross_entropy_objective\": {\"sum\": 0.5138520421019388, \"count\": 1, \"min\": 0.5138520421019388, \"max\": 0.5138520421019388}}}\u001b[0m\n",
      "\u001b[34m#metrics {\"StartTime\": 1686726876.4330325, \"EndTime\": 1686726876.4330466, \"Dimensions\": {\"Algorithm\": \"Linear Learner\", \"Host\": \"algo-1\", \"Operation\": \"training\", \"epoch\": 3, \"model\": 21}, \"Metrics\": {\"train_binary_classification_cross_entropy_objective\": {\"sum\": 0.5149096510767572, \"count\": 1, \"min\": 0.5149096510767572, \"max\": 0.5149096510767572}}}\u001b[0m\n",
      "\u001b[34m#metrics {\"StartTime\": 1686726876.433113, \"EndTime\": 1686726876.4331312, \"Dimensions\": {\"Algorithm\": \"Linear Learner\", \"Host\": \"algo-1\", \"Operation\": \"training\", \"epoch\": 3, \"model\": 22}, \"Metrics\": {\"train_binary_classification_cross_entropy_objective\": {\"sum\": 0.5138520416819721, \"count\": 1, \"min\": 0.5138520416819721, \"max\": 0.5138520416819721}}}\u001b[0m\n",
      "\u001b[34m#metrics {\"StartTime\": 1686726876.4331918, \"EndTime\": 1686726876.4332108, \"Dimensions\": {\"Algorithm\": \"Linear Learner\", \"Host\": \"algo-1\", \"Operation\": \"training\", \"epoch\": 3, \"model\": 23}, \"Metrics\": {\"train_binary_classification_cross_entropy_objective\": {\"sum\": 0.5149096511934146, \"count\": 1, \"min\": 0.5149096511934146, \"max\": 0.5149096511934146}}}\u001b[0m\n",
      "\u001b[34m#metrics {\"StartTime\": 1686726876.433279, \"EndTime\": 1686726876.4332924, \"Dimensions\": {\"Algorithm\": \"Linear Learner\", \"Host\": \"algo-1\", \"Operation\": \"training\", \"epoch\": 3, \"model\": 24}, \"Metrics\": {\"train_binary_classification_cross_entropy_objective\": {\"sum\": 0.5138479876503668, \"count\": 1, \"min\": 0.5138479876503668, \"max\": 0.5138479876503668}}}\u001b[0m\n",
      "\u001b[34m#metrics {\"StartTime\": 1686726876.433359, \"EndTime\": 1686726876.4333746, \"Dimensions\": {\"Algorithm\": \"Linear Learner\", \"Host\": \"algo-1\", \"Operation\": \"training\", \"epoch\": 3, \"model\": 25}, \"Metrics\": {\"train_binary_classification_cross_entropy_objective\": {\"sum\": 0.5139475463727199, \"count\": 1, \"min\": 0.5139475463727199, \"max\": 0.5139475463727199}}}\u001b[0m\n",
      "\u001b[34m#metrics {\"StartTime\": 1686726876.433443, \"EndTime\": 1686726876.4334645, \"Dimensions\": {\"Algorithm\": \"Linear Learner\", \"Host\": \"algo-1\", \"Operation\": \"training\", \"epoch\": 3, \"model\": 26}, \"Metrics\": {\"train_binary_classification_cross_entropy_objective\": {\"sum\": 0.513849569711481, \"count\": 1, \"min\": 0.513849569711481, \"max\": 0.513849569711481}}}\u001b[0m\n",
      "\u001b[34m#metrics {\"StartTime\": 1686726876.4335303, \"EndTime\": 1686726876.4335504, \"Dimensions\": {\"Algorithm\": \"Linear Learner\", \"Host\": \"algo-1\", \"Operation\": \"training\", \"epoch\": 3, \"model\": 27}, \"Metrics\": {\"train_binary_classification_cross_entropy_objective\": {\"sum\": 0.5139474916603952, \"count\": 1, \"min\": 0.5139474916603952, \"max\": 0.5139474916603952}}}\u001b[0m\n",
      "\u001b[34m#metrics {\"StartTime\": 1686726876.4336145, \"EndTime\": 1686726876.4336312, \"Dimensions\": {\"Algorithm\": \"Linear Learner\", \"Host\": \"algo-1\", \"Operation\": \"training\", \"epoch\": 3, \"model\": 28}, \"Metrics\": {\"train_binary_classification_cross_entropy_objective\": {\"sum\": 0.513868183147652, \"count\": 1, \"min\": 0.513868183147652, \"max\": 0.513868183147652}}}\u001b[0m\n",
      "\u001b[34m#metrics {\"StartTime\": 1686726876.4337058, \"EndTime\": 1686726876.4337244, \"Dimensions\": {\"Algorithm\": \"Linear Learner\", \"Host\": \"algo-1\", \"Operation\": \"training\", \"epoch\": 3, \"model\": 29}, \"Metrics\": {\"train_binary_classification_cross_entropy_objective\": {\"sum\": 0.5149108153410279, \"count\": 1, \"min\": 0.5149108153410279, \"max\": 0.5149108153410279}}}\u001b[0m\n",
      "\u001b[34m#metrics {\"StartTime\": 1686726876.4337912, \"EndTime\": 1686726876.4338095, \"Dimensions\": {\"Algorithm\": \"Linear Learner\", \"Host\": \"algo-1\", \"Operation\": \"training\", \"epoch\": 3, \"model\": 30}, \"Metrics\": {\"train_binary_classification_cross_entropy_objective\": {\"sum\": 0.5138681783646983, \"count\": 1, \"min\": 0.5138681783646983, \"max\": 0.5138681783646983}}}\u001b[0m\n",
      "\u001b[34m#metrics {\"StartTime\": 1686726876.4338634, \"EndTime\": 1686726876.4338813, \"Dimensions\": {\"Algorithm\": \"Linear Learner\", \"Host\": \"algo-1\", \"Operation\": \"training\", \"epoch\": 3, \"model\": 31}, \"Metrics\": {\"train_binary_classification_cross_entropy_objective\": {\"sum\": 0.5149108161576297, \"count\": 1, \"min\": 0.5149108161576297, \"max\": 0.5149108161576297}}}\u001b[0m\n",
      "\u001b[34m[06/14/2023 07:14:36 INFO 140326266177344] #quality_metric: host=algo-1, epoch=3, train binary_classification_cross_entropy_objective <loss>=0.5137856830281948\u001b[0m\n",
      "\u001b[34m[2023-06-14 07:14:40.427] [tensorio] [info] epoch_stats={\"data_pipeline\": \"/opt/ml/input/data/validation\", \"epoch\": 11, \"duration\": 3970, \"num_examples\": 164, \"num_bytes\": 7850832}\u001b[0m\n",
      "\u001b[34m#metrics {\"StartTime\": 1686726880.4349675, \"EndTime\": 1686726880.4350219, \"Dimensions\": {\"Algorithm\": \"Linear Learner\", \"Host\": \"algo-1\", \"Operation\": \"training\", \"epoch\": 3, \"model\": 0}, \"Metrics\": {\"validation_binary_classification_cross_entropy_objective\": {\"sum\": 0.5137359947715971, \"count\": 1, \"min\": 0.5137359947715971, \"max\": 0.5137359947715971}}}\u001b[0m\n",
      "\u001b[34m#metrics {\"StartTime\": 1686726880.4351091, \"EndTime\": 1686726880.4351308, \"Dimensions\": {\"Algorithm\": \"Linear Learner\", \"Host\": \"algo-1\", \"Operation\": \"training\", \"epoch\": 3, \"model\": 1}, \"Metrics\": {\"validation_binary_classification_cross_entropy_objective\": {\"sum\": 0.5143988889091627, \"count\": 1, \"min\": 0.5143988889091627, \"max\": 0.5143988889091627}}}\u001b[0m\n",
      "\u001b[34m#metrics {\"StartTime\": 1686726880.435201, \"EndTime\": 1686726880.4352212, \"Dimensions\": {\"Algorithm\": \"Linear Learner\", \"Host\": \"algo-1\", \"Operation\": \"training\", \"epoch\": 3, \"model\": 2}, \"Metrics\": {\"validation_binary_classification_cross_entropy_objective\": {\"sum\": 0.513737002141441, \"count\": 1, \"min\": 0.513737002141441, \"max\": 0.513737002141441}}}\u001b[0m\n",
      "\u001b[34m#metrics {\"StartTime\": 1686726880.4352713, \"EndTime\": 1686726880.4352887, \"Dimensions\": {\"Algorithm\": \"Linear Learner\", \"Host\": \"algo-1\", \"Operation\": \"training\", \"epoch\": 3, \"model\": 3}, \"Metrics\": {\"validation_binary_classification_cross_entropy_objective\": {\"sum\": 0.5143988889091627, \"count\": 1, \"min\": 0.5143988889091627, \"max\": 0.5143988889091627}}}\u001b[0m\n",
      "\u001b[34m#metrics {\"StartTime\": 1686726880.4353464, \"EndTime\": 1686726880.435365, \"Dimensions\": {\"Algorithm\": \"Linear Learner\", \"Host\": \"algo-1\", \"Operation\": \"training\", \"epoch\": 3, \"model\": 4}, \"Metrics\": {\"validation_binary_classification_cross_entropy_objective\": {\"sum\": 0.5137367202122256, \"count\": 1, \"min\": 0.5137367202122256, \"max\": 0.5137367202122256}}}\u001b[0m\n",
      "\u001b[34m#metrics {\"StartTime\": 1686726880.4354253, \"EndTime\": 1686726880.435444, \"Dimensions\": {\"Algorithm\": \"Linear Learner\", \"Host\": \"algo-1\", \"Operation\": \"training\", \"epoch\": 3, \"model\": 5}, \"Metrics\": {\"validation_binary_classification_cross_entropy_objective\": {\"sum\": 0.5138013001012584, \"count\": 1, \"min\": 0.5138013001012584, \"max\": 0.5138013001012584}}}\u001b[0m\n",
      "\u001b[34m#metrics {\"StartTime\": 1686726880.4355133, \"EndTime\": 1686726880.435532, \"Dimensions\": {\"Algorithm\": \"Linear Learner\", \"Host\": \"algo-1\", \"Operation\": \"training\", \"epoch\": 3, \"model\": 6}, \"Metrics\": {\"validation_binary_classification_cross_entropy_objective\": {\"sum\": 0.5137367189061339, \"count\": 1, \"min\": 0.5137367189061339, \"max\": 0.5137367189061339}}}\u001b[0m\n",
      "\u001b[34m#metrics {\"StartTime\": 1686726880.4355888, \"EndTime\": 1686726880.435606, \"Dimensions\": {\"Algorithm\": \"Linear Learner\", \"Host\": \"algo-1\", \"Operation\": \"training\", \"epoch\": 3, \"model\": 7}, \"Metrics\": {\"validation_binary_classification_cross_entropy_objective\": {\"sum\": 0.5138012911452012, \"count\": 1, \"min\": 0.5138012911452012, \"max\": 0.5138012911452012}}}\u001b[0m\n",
      "\u001b[34m#metrics {\"StartTime\": 1686726880.4356594, \"EndTime\": 1686726880.4356763, \"Dimensions\": {\"Algorithm\": \"Linear Learner\", \"Host\": \"algo-1\", \"Operation\": \"training\", \"epoch\": 3, \"model\": 8}, \"Metrics\": {\"validation_binary_classification_cross_entropy_objective\": {\"sum\": 0.5137383757767051, \"count\": 1, \"min\": 0.5137383757767051, \"max\": 0.5137383757767051}}}\u001b[0m\n",
      "\u001b[34m#metrics {\"StartTime\": 1686726880.4357352, \"EndTime\": 1686726880.4357522, \"Dimensions\": {\"Algorithm\": \"Linear Learner\", \"Host\": \"algo-1\", \"Operation\": \"training\", \"epoch\": 3, \"model\": 9}, \"Metrics\": {\"validation_binary_classification_cross_entropy_objective\": {\"sum\": 0.514398768935314, \"count\": 1, \"min\": 0.514398768935314, \"max\": 0.514398768935314}}}\u001b[0m\n",
      "\u001b[34m#metrics {\"StartTime\": 1686726880.4358118, \"EndTime\": 1686726880.4358292, \"Dimensions\": {\"Algorithm\": \"Linear Learner\", \"Host\": \"algo-1\", \"Operation\": \"training\", \"epoch\": 3, \"model\": 10}, \"Metrics\": {\"validation_binary_classification_cross_entropy_objective\": {\"sum\": 0.513739234625268, \"count\": 1, \"min\": 0.513739234625268, \"max\": 0.513739234625268}}}\u001b[0m\n",
      "\u001b[34m#metrics {\"StartTime\": 1686726880.4358826, \"EndTime\": 1686726880.4358983, \"Dimensions\": {\"Algorithm\": \"Linear Learner\", \"Host\": \"algo-1\", \"Operation\": \"training\", \"epoch\": 3, \"model\": 11}, \"Metrics\": {\"validation_binary_classification_cross_entropy_objective\": {\"sum\": 0.5143987627780247, \"count\": 1, \"min\": 0.5143987627780247, \"max\": 0.5143987627780247}}}\u001b[0m\n",
      "\u001b[34m#metrics {\"StartTime\": 1686726880.4359663, \"EndTime\": 1686726880.4359844, \"Dimensions\": {\"Algorithm\": \"Linear Learner\", \"Host\": \"algo-1\", \"Operation\": \"training\", \"epoch\": 3, \"model\": 12}, \"Metrics\": {\"validation_binary_classification_cross_entropy_objective\": {\"sum\": 0.5137383140172277, \"count\": 1, \"min\": 0.5137383140172277, \"max\": 0.5137383140172277}}}\u001b[0m\n",
      "\u001b[34m#metrics {\"StartTime\": 1686726880.4360514, \"EndTime\": 1686726880.4360688, \"Dimensions\": {\"Algorithm\": \"Linear Learner\", \"Host\": \"algo-1\", \"Operation\": \"training\", \"epoch\": 3, \"model\": 13}, \"Metrics\": {\"validation_binary_classification_cross_entropy_objective\": {\"sum\": 0.5137862563508595, \"count\": 1, \"min\": 0.5137862563508595, \"max\": 0.5137862563508595}}}\u001b[0m\n",
      "\u001b[34m#metrics {\"StartTime\": 1686726880.43614, \"EndTime\": 1686726880.436159, \"Dimensions\": {\"Algorithm\": \"Linear Learner\", \"Host\": \"algo-1\", \"Operation\": \"training\", \"epoch\": 3, \"model\": 14}, \"Metrics\": {\"validation_binary_classification_cross_entropy_objective\": {\"sum\": 0.5137383132708896, \"count\": 1, \"min\": 0.5137383132708896, \"max\": 0.5137383132708896}}}\u001b[0m\n",
      "\u001b[34m#metrics {\"StartTime\": 1686726880.4362202, \"EndTime\": 1686726880.4362388, \"Dimensions\": {\"Algorithm\": \"Linear Learner\", \"Host\": \"algo-1\", \"Operation\": \"training\", \"epoch\": 3, \"model\": 15}, \"Metrics\": {\"validation_binary_classification_cross_entropy_objective\": {\"sum\": 0.5137862541118452, \"count\": 1, \"min\": 0.5137862541118452, \"max\": 0.5137862541118452}}}\u001b[0m\n",
      "\u001b[34m#metrics {\"StartTime\": 1686726880.4363074, \"EndTime\": 1686726880.436325, \"Dimensions\": {\"Algorithm\": \"Linear Learner\", \"Host\": \"algo-1\", \"Operation\": \"training\", \"epoch\": 3, \"model\": 16}, \"Metrics\": {\"validation_binary_classification_cross_entropy_objective\": {\"sum\": 0.5138166561941501, \"count\": 1, \"min\": 0.5138166561941501, \"max\": 0.5138166561941501}}}\u001b[0m\n",
      "\u001b[34m#metrics {\"StartTime\": 1686726880.436394, \"EndTime\": 1686726880.4364119, \"Dimensions\": {\"Algorithm\": \"Linear Learner\", \"Host\": \"algo-1\", \"Operation\": \"training\", \"epoch\": 3, \"model\": 17}, \"Metrics\": {\"validation_binary_classification_cross_entropy_objective\": {\"sum\": 0.5145041500084999, \"count\": 1, \"min\": 0.5145041500084999, \"max\": 0.5145041500084999}}}\u001b[0m\n",
      "\u001b[34m#metrics {\"StartTime\": 1686726880.4364784, \"EndTime\": 1686726880.4365175, \"Dimensions\": {\"Algorithm\": \"Linear Learner\", \"Host\": \"algo-1\", \"Operation\": \"training\", \"epoch\": 3, \"model\": 18}, \"Metrics\": {\"validation_binary_classification_cross_entropy_objective\": {\"sum\": 0.5138166194369989, \"count\": 1, \"min\": 0.5138166194369989, \"max\": 0.5138166194369989}}}\u001b[0m\n",
      "\u001b[34m#metrics {\"StartTime\": 1686726880.4365823, \"EndTime\": 1686726880.4366, \"Dimensions\": {\"Algorithm\": \"Linear Learner\", \"Host\": \"algo-1\", \"Operation\": \"training\", \"epoch\": 3, \"model\": 19}, \"Metrics\": {\"validation_binary_classification_cross_entropy_objective\": {\"sum\": 0.5145041457170558, \"count\": 1, \"min\": 0.5145041457170558, \"max\": 0.5145041457170558}}}\u001b[0m\n",
      "\u001b[34m#metrics {\"StartTime\": 1686726880.4366539, \"EndTime\": 1686726880.436671, \"Dimensions\": {\"Algorithm\": \"Linear Learner\", \"Host\": \"algo-1\", \"Operation\": \"training\", \"epoch\": 3, \"model\": 20}, \"Metrics\": {\"validation_binary_classification_cross_entropy_objective\": {\"sum\": 0.5138135157900303, \"count\": 1, \"min\": 0.5138135157900303, \"max\": 0.5138135157900303}}}\u001b[0m\n",
      "\u001b[34m#metrics {\"StartTime\": 1686726880.436739, \"EndTime\": 1686726880.4367576, \"Dimensions\": {\"Algorithm\": \"Linear Learner\", \"Host\": \"algo-1\", \"Operation\": \"training\", \"epoch\": 3, \"model\": 21}, \"Metrics\": {\"validation_binary_classification_cross_entropy_objective\": {\"sum\": 0.5138405699862248, \"count\": 1, \"min\": 0.5138405699862248, \"max\": 0.5138405699862248}}}\u001b[0m\n",
      "\u001b[34m#metrics {\"StartTime\": 1686726880.4368165, \"EndTime\": 1686726880.4368343, \"Dimensions\": {\"Algorithm\": \"Linear Learner\", \"Host\": \"algo-1\", \"Operation\": \"training\", \"epoch\": 3, \"model\": 22}, \"Metrics\": {\"validation_binary_classification_cross_entropy_objective\": {\"sum\": 0.51381351784246, \"count\": 1, \"min\": 0.51381351784246, \"max\": 0.51381351784246}}}\u001b[0m\n",
      "\u001b[34m#metrics {\"StartTime\": 1686726880.436901, \"EndTime\": 1686726880.4369178, \"Dimensions\": {\"Algorithm\": \"Linear Learner\", \"Host\": \"algo-1\", \"Operation\": \"training\", \"epoch\": 3, \"model\": 23}, \"Metrics\": {\"validation_binary_classification_cross_entropy_objective\": {\"sum\": 0.5138405699862248, \"count\": 1, \"min\": 0.5138405699862248, \"max\": 0.5138405699862248}}}\u001b[0m\n",
      "\u001b[34m#metrics {\"StartTime\": 1686726880.436978, \"EndTime\": 1686726880.4369934, \"Dimensions\": {\"Algorithm\": \"Linear Learner\", \"Host\": \"algo-1\", \"Operation\": \"training\", \"epoch\": 3, \"model\": 24}, \"Metrics\": {\"validation_binary_classification_cross_entropy_objective\": {\"sum\": 0.5138401669636535, \"count\": 1, \"min\": 0.5138401669636535, \"max\": 0.5138401669636535}}}\u001b[0m\n",
      "\u001b[34m#metrics {\"StartTime\": 1686726880.4370508, \"EndTime\": 1686726880.4370677, \"Dimensions\": {\"Algorithm\": \"Linear Learner\", \"Host\": \"algo-1\", \"Operation\": \"training\", \"epoch\": 3, \"model\": 25}, \"Metrics\": {\"validation_binary_classification_cross_entropy_objective\": {\"sum\": 0.5145134753164139, \"count\": 1, \"min\": 0.5145134753164139, \"max\": 0.5145134753164139}}}\u001b[0m\n",
      "\u001b[34m#metrics {\"StartTime\": 1686726880.4371254, \"EndTime\": 1686726880.4371412, \"Dimensions\": {\"Algorithm\": \"Linear Learner\", \"Host\": \"algo-1\", \"Operation\": \"training\", \"epoch\": 3, \"model\": 26}, \"Metrics\": {\"validation_binary_classification_cross_entropy_objective\": {\"sum\": 0.5138423781768449, \"count\": 1, \"min\": 0.5138423781768449, \"max\": 0.5138423781768449}}}\u001b[0m\n",
      "\u001b[34m#metrics {\"StartTime\": 1686726880.437207, \"EndTime\": 1686726880.4372249, \"Dimensions\": {\"Algorithm\": \"Linear Learner\", \"Host\": \"algo-1\", \"Operation\": \"training\", \"epoch\": 3, \"model\": 27}, \"Metrics\": {\"validation_binary_classification_cross_entropy_objective\": {\"sum\": 0.5145130827425759, \"count\": 1, \"min\": 0.5145130827425759, \"max\": 0.5145130827425759}}}\u001b[0m\n",
      "\u001b[34m#metrics {\"StartTime\": 1686726880.4372823, \"EndTime\": 1686726880.4373004, \"Dimensions\": {\"Algorithm\": \"Linear Learner\", \"Host\": \"algo-1\", \"Operation\": \"training\", \"epoch\": 3, \"model\": 28}, \"Metrics\": {\"validation_binary_classification_cross_entropy_objective\": {\"sum\": 0.513844596107079, \"count\": 1, \"min\": 0.513844596107079, \"max\": 0.513844596107079}}}\u001b[0m\n",
      "\u001b[34m#metrics {\"StartTime\": 1686726880.4373672, \"EndTime\": 1686726880.4373848, \"Dimensions\": {\"Algorithm\": \"Linear Learner\", \"Host\": \"algo-1\", \"Operation\": \"training\", \"epoch\": 3, \"model\": 29}, \"Metrics\": {\"validation_binary_classification_cross_entropy_objective\": {\"sum\": 0.5138693543807085, \"count\": 1, \"min\": 0.5138693543807085, \"max\": 0.5138693543807085}}}\u001b[0m\n",
      "\u001b[34m#metrics {\"StartTime\": 1686726880.4374516, \"EndTime\": 1686726880.437469, \"Dimensions\": {\"Algorithm\": \"Linear Learner\", \"Host\": \"algo-1\", \"Operation\": \"training\", \"epoch\": 3, \"model\": 30}, \"Metrics\": {\"validation_binary_classification_cross_entropy_objective\": {\"sum\": 0.5138439107821231, \"count\": 1, \"min\": 0.5138439107821231, \"max\": 0.5138439107821231}}}\u001b[0m\n",
      "\u001b[34m#metrics {\"StartTime\": 1686726880.4375277, \"EndTime\": 1686726880.437544, \"Dimensions\": {\"Algorithm\": \"Linear Learner\", \"Host\": \"algo-1\", \"Operation\": \"training\", \"epoch\": 3, \"model\": 31}, \"Metrics\": {\"validation_binary_classification_cross_entropy_objective\": {\"sum\": 0.5138693530746168, \"count\": 1, \"min\": 0.5138693530746168, \"max\": 0.5138693530746168}}}\u001b[0m\n",
      "\u001b[34m[06/14/2023 07:14:40 INFO 140326266177344] #quality_metric: host=algo-1, epoch=3, validation binary_classification_cross_entropy_objective <loss>=0.5137359947715971\u001b[0m\n",
      "\u001b[34m[06/14/2023 07:14:40 INFO 140326266177344] #early_stopping_criteria_metric: host=algo-1, epoch=3, criteria=binary_classification_cross_entropy_objective, value=0.5137359947715971\u001b[0m\n",
      "\u001b[34m[06/14/2023 07:14:40 INFO 140326266177344] Saving model for epoch: 3\u001b[0m\n",
      "\u001b[34m[06/14/2023 07:14:40 INFO 140326266177344] Saved checkpoint to \"/tmp/tmpjzoisfl4/mx-mod-0000.params\"\u001b[0m\n",
      "\u001b[34m[06/14/2023 07:14:40 INFO 140326266177344] #progress_metric: host=algo-1, completed 26.666666666666668 % of epochs\u001b[0m\n",
      "\u001b[34m#metrics {\"StartTime\": 1686726829.6045878, \"EndTime\": 1686726880.443868, \"Dimensions\": {\"Algorithm\": \"Linear Learner\", \"Host\": \"algo-1\", \"Operation\": \"training\", \"epoch\": 3, \"Meta\": \"training_data_iter\"}, \"Metrics\": {\"Total Records Seen\": {\"sum\": 5245888.0, \"count\": 1, \"min\": 5245888, \"max\": 5245888}, \"Total Batches Seen\": {\"sum\": 5248.0, \"count\": 1, \"min\": 5248, \"max\": 5248}, \"Max Records Seen Between Resets\": {\"sum\": 1308472.0, \"count\": 1, \"min\": 1308472, \"max\": 1308472}, \"Max Batches Seen Between Resets\": {\"sum\": 1309.0, \"count\": 1, \"min\": 1309, \"max\": 1309}, \"Reset Count\": {\"sum\": 6.0, \"count\": 1, \"min\": 6, \"max\": 6}, \"Number of Records Since Last Reset\": {\"sum\": 1308472.0, \"count\": 1, \"min\": 1308472, \"max\": 1308472}, \"Number of Batches Since Last Reset\": {\"sum\": 1309.0, \"count\": 1, \"min\": 1309, \"max\": 1309}}}\u001b[0m\n",
      "\u001b[34m[06/14/2023 07:14:40 INFO 140326266177344] #throughput_metric: host=algo-1, train throughput=25737.353670322052 records/second\u001b[0m\n",
      "\u001b[34m[2023-06-14 07:15:26.947] [tensorio] [info] epoch_stats={\"data_pipeline\": \"/opt/ml/input/data/train\", \"epoch\": 11, \"duration\": 46499, \"num_examples\": 1309, \"num_bytes\": 62806656}\u001b[0m\n",
      "\u001b[34m#metrics {\"StartTime\": 1686726926.947135, \"EndTime\": 1686726926.9472237, \"Dimensions\": {\"Algorithm\": \"Linear Learner\", \"Host\": \"algo-1\", \"Operation\": \"training\", \"epoch\": 4, \"model\": 0}, \"Metrics\": {\"train_binary_classification_cross_entropy_objective\": {\"sum\": 0.5137833588159777, \"count\": 1, \"min\": 0.5137833588159777, \"max\": 0.5137833588159777}}}\u001b[0m\n",
      "\u001b[34m#metrics {\"StartTime\": 1686726926.9473295, \"EndTime\": 1686726926.9473512, \"Dimensions\": {\"Algorithm\": \"Linear Learner\", \"Host\": \"algo-1\", \"Operation\": \"training\", \"epoch\": 4, \"model\": 1}, \"Metrics\": {\"train_binary_classification_cross_entropy_objective\": {\"sum\": 0.5138792175852924, \"count\": 1, \"min\": 0.5138792175852924, \"max\": 0.5138792175852924}}}\u001b[0m\n",
      "\u001b[34m#metrics {\"StartTime\": 1686726926.9474185, \"EndTime\": 1686726926.9474328, \"Dimensions\": {\"Algorithm\": \"Linear Learner\", \"Host\": \"algo-1\", \"Operation\": \"training\", \"epoch\": 4, \"model\": 2}, \"Metrics\": {\"train_binary_classification_cross_entropy_objective\": {\"sum\": 0.5137874536776761, \"count\": 1, \"min\": 0.5137874536776761, \"max\": 0.5137874536776761}}}\u001b[0m\n",
      "\u001b[34m#metrics {\"StartTime\": 1686726926.9474862, \"EndTime\": 1686726926.9475086, \"Dimensions\": {\"Algorithm\": \"Linear Learner\", \"Host\": \"algo-1\", \"Operation\": \"training\", \"epoch\": 4, \"model\": 3}, \"Metrics\": {\"train_binary_classification_cross_entropy_objective\": {\"sum\": 0.5138792175852924, \"count\": 1, \"min\": 0.5138792175852924, \"max\": 0.5138792175852924}}}\u001b[0m\n",
      "\u001b[34m#metrics {\"StartTime\": 1686726926.9475582, \"EndTime\": 1686726926.9475777, \"Dimensions\": {\"Algorithm\": \"Linear Learner\", \"Host\": \"algo-1\", \"Operation\": \"training\", \"epoch\": 4, \"model\": 4}, \"Metrics\": {\"train_binary_classification_cross_entropy_objective\": {\"sum\": 0.5137935275156563, \"count\": 1, \"min\": 0.5137935275156563, \"max\": 0.5137935275156563}}}\u001b[0m\n",
      "\u001b[34m#metrics {\"StartTime\": 1686726926.947632, \"EndTime\": 1686726926.9476526, \"Dimensions\": {\"Algorithm\": \"Linear Learner\", \"Host\": \"algo-1\", \"Operation\": \"training\", \"epoch\": 4, \"model\": 5}, \"Metrics\": {\"train_binary_classification_cross_entropy_objective\": {\"sum\": 0.5148852358010202, \"count\": 1, \"min\": 0.5148852358010202, \"max\": 0.5148852358010202}}}\u001b[0m\n",
      "\u001b[34m#metrics {\"StartTime\": 1686726926.9477048, \"EndTime\": 1686726926.9477258, \"Dimensions\": {\"Algorithm\": \"Linear Learner\", \"Host\": \"algo-1\", \"Operation\": \"training\", \"epoch\": 4, \"model\": 6}, \"Metrics\": {\"train_binary_classification_cross_entropy_objective\": {\"sum\": 0.5137935271656842, \"count\": 1, \"min\": 0.5137935271656842, \"max\": 0.5137935271656842}}}\u001b[0m\n",
      "\u001b[34m#metrics {\"StartTime\": 1686726926.9477878, \"EndTime\": 1686726926.947806, \"Dimensions\": {\"Algorithm\": \"Linear Learner\", \"Host\": \"algo-1\", \"Operation\": \"training\", \"epoch\": 4, \"model\": 7}, \"Metrics\": {\"train_binary_classification_cross_entropy_objective\": {\"sum\": 0.514885238507472, \"count\": 1, \"min\": 0.514885238507472, \"max\": 0.514885238507472}}}\u001b[0m\n",
      "\u001b[34m#metrics {\"StartTime\": 1686726926.9478652, \"EndTime\": 1686726926.9478772, \"Dimensions\": {\"Algorithm\": \"Linear Learner\", \"Host\": \"algo-1\", \"Operation\": \"training\", \"epoch\": 4, \"model\": 8}, \"Metrics\": {\"train_binary_classification_cross_entropy_objective\": {\"sum\": 0.5137835634330726, \"count\": 1, \"min\": 0.5137835634330726, \"max\": 0.5137835634330726}}}\u001b[0m\n",
      "\u001b[34m#metrics {\"StartTime\": 1686726926.947932, \"EndTime\": 1686726926.9479475, \"Dimensions\": {\"Algorithm\": \"Linear Learner\", \"Host\": \"algo-1\", \"Operation\": \"training\", \"epoch\": 4, \"model\": 9}, \"Metrics\": {\"train_binary_classification_cross_entropy_objective\": {\"sum\": 0.5138788531242161, \"count\": 1, \"min\": 0.5138788531242161, \"max\": 0.5138788531242161}}}\u001b[0m\n",
      "\u001b[34m#metrics {\"StartTime\": 1686726926.948011, \"EndTime\": 1686726926.9480264, \"Dimensions\": {\"Algorithm\": \"Linear Learner\", \"Host\": \"algo-1\", \"Operation\": \"training\", \"epoch\": 4, \"model\": 10}, \"Metrics\": {\"train_binary_classification_cross_entropy_objective\": {\"sum\": 0.5137876240674873, \"count\": 1, \"min\": 0.5137876240674873, \"max\": 0.5137876240674873}}}\u001b[0m\n",
      "\u001b[34m#metrics {\"StartTime\": 1686726926.9480777, \"EndTime\": 1686726926.9480875, \"Dimensions\": {\"Algorithm\": \"Linear Learner\", \"Host\": \"algo-1\", \"Operation\": \"training\", \"epoch\": 4, \"model\": 11}, \"Metrics\": {\"train_binary_classification_cross_entropy_objective\": {\"sum\": 0.5138788529375642, \"count\": 1, \"min\": 0.5138788529375642, \"max\": 0.5138788529375642}}}\u001b[0m\n",
      "\u001b[34m#metrics {\"StartTime\": 1686726926.948138, \"EndTime\": 1686726926.9481516, \"Dimensions\": {\"Algorithm\": \"Linear Learner\", \"Host\": \"algo-1\", \"Operation\": \"training\", \"epoch\": 4, \"model\": 12}, \"Metrics\": {\"train_binary_classification_cross_entropy_objective\": {\"sum\": 0.5137936395301003, \"count\": 1, \"min\": 0.5137936395301003, \"max\": 0.5137936395301003}}}\u001b[0m\n",
      "\u001b[34m#metrics {\"StartTime\": 1686726926.9481997, \"EndTime\": 1686726926.9482155, \"Dimensions\": {\"Algorithm\": \"Linear Learner\", \"Host\": \"algo-1\", \"Operation\": \"training\", \"epoch\": 4, \"model\": 13}, \"Metrics\": {\"train_binary_classification_cross_entropy_objective\": {\"sum\": 0.5148746007516843, \"count\": 1, \"min\": 0.5148746007516843, \"max\": 0.5148746007516843}}}\u001b[0m\n",
      "\u001b[34m#metrics {\"StartTime\": 1686726926.948274, \"EndTime\": 1686726926.9482906, \"Dimensions\": {\"Algorithm\": \"Linear Learner\", \"Host\": \"algo-1\", \"Operation\": \"training\", \"epoch\": 4, \"model\": 14}, \"Metrics\": {\"train_binary_classification_cross_entropy_objective\": {\"sum\": 0.5137936395067687, \"count\": 1, \"min\": 0.5137936395067687, \"max\": 0.5137936395067687}}}\u001b[0m\n",
      "\u001b[34m#metrics {\"StartTime\": 1686726926.9483628, \"EndTime\": 1686726926.9483805, \"Dimensions\": {\"Algorithm\": \"Linear Learner\", \"Host\": \"algo-1\", \"Operation\": \"training\", \"epoch\": 4, \"model\": 15}, \"Metrics\": {\"train_binary_classification_cross_entropy_objective\": {\"sum\": 0.5148746005183695, \"count\": 1, \"min\": 0.5148746005183695, \"max\": 0.5148746005183695}}}\u001b[0m\n",
      "\u001b[34m#metrics {\"StartTime\": 1686726926.9484448, \"EndTime\": 1686726926.9484618, \"Dimensions\": {\"Algorithm\": \"Linear Learner\", \"Host\": \"algo-1\", \"Operation\": \"training\", \"epoch\": 4, \"model\": 16}, \"Metrics\": {\"train_binary_classification_cross_entropy_objective\": {\"sum\": 0.5138298485198881, \"count\": 1, \"min\": 0.5138298485198881, \"max\": 0.5138298485198881}}}\u001b[0m\n",
      "\u001b[34m#metrics {\"StartTime\": 1686726926.9485488, \"EndTime\": 1686726926.9485683, \"Dimensions\": {\"Algorithm\": \"Linear Learner\", \"Host\": \"algo-1\", \"Operation\": \"training\", \"epoch\": 4, \"model\": 17}, \"Metrics\": {\"train_binary_classification_cross_entropy_objective\": {\"sum\": 0.5139178302776558, \"count\": 1, \"min\": 0.5139178302776558, \"max\": 0.5139178302776558}}}\u001b[0m\n",
      "\u001b[34m#metrics {\"StartTime\": 1686726926.9486377, \"EndTime\": 1686726926.9486547, \"Dimensions\": {\"Algorithm\": \"Linear Learner\", \"Host\": \"algo-1\", \"Operation\": \"training\", \"epoch\": 4, \"model\": 18}, \"Metrics\": {\"train_binary_classification_cross_entropy_objective\": {\"sum\": 0.5138328999277284, \"count\": 1, \"min\": 0.5138328999277284, \"max\": 0.5138328999277284}}}\u001b[0m\n",
      "\u001b[34m#metrics {\"StartTime\": 1686726926.9487154, \"EndTime\": 1686726926.9487307, \"Dimensions\": {\"Algorithm\": \"Linear Learner\", \"Host\": \"algo-1\", \"Operation\": \"training\", \"epoch\": 4, \"model\": 19}, \"Metrics\": {\"train_binary_classification_cross_entropy_objective\": {\"sum\": 0.5139178303243188, \"count\": 1, \"min\": 0.5139178303243188, \"max\": 0.5139178303243188}}}\u001b[0m\n",
      "\u001b[34m#metrics {\"StartTime\": 1686726926.9487867, \"EndTime\": 1686726926.9488046, \"Dimensions\": {\"Algorithm\": \"Linear Learner\", \"Host\": \"algo-1\", \"Operation\": \"training\", \"epoch\": 4, \"model\": 20}, \"Metrics\": {\"train_binary_classification_cross_entropy_objective\": {\"sum\": 0.51383847416869, \"count\": 1, \"min\": 0.51383847416869, \"max\": 0.51383847416869}}}\u001b[0m\n",
      "\u001b[34m#metrics {\"StartTime\": 1686726926.948863, \"EndTime\": 1686726926.9488854, \"Dimensions\": {\"Algorithm\": \"Linear Learner\", \"Host\": \"algo-1\", \"Operation\": \"training\", \"epoch\": 4, \"model\": 21}, \"Metrics\": {\"train_binary_classification_cross_entropy_objective\": {\"sum\": 0.5147755161250404, \"count\": 1, \"min\": 0.5147755161250404, \"max\": 0.5147755161250404}}}\u001b[0m\n",
      "\u001b[34m#metrics {\"StartTime\": 1686726926.9489431, \"EndTime\": 1686726926.9489605, \"Dimensions\": {\"Algorithm\": \"Linear Learner\", \"Host\": \"algo-1\", \"Operation\": \"training\", \"epoch\": 4, \"model\": 22}, \"Metrics\": {\"train_binary_classification_cross_entropy_objective\": {\"sum\": 0.5138384742620159, \"count\": 1, \"min\": 0.5138384742620159, \"max\": 0.5138384742620159}}}\u001b[0m\n",
      "\u001b[34m#metrics {\"StartTime\": 1686726926.949016, \"EndTime\": 1686726926.9490237, \"Dimensions\": {\"Algorithm\": \"Linear Learner\", \"Host\": \"algo-1\", \"Operation\": \"training\", \"epoch\": 4, \"model\": 23}, \"Metrics\": {\"train_binary_classification_cross_entropy_objective\": {\"sum\": 0.5147755161250404, \"count\": 1, \"min\": 0.5147755161250404, \"max\": 0.5147755161250404}}}\u001b[0m\n",
      "\u001b[34m#metrics {\"StartTime\": 1686726926.9490805, \"EndTime\": 1686726926.9490905, \"Dimensions\": {\"Algorithm\": \"Linear Learner\", \"Host\": \"algo-1\", \"Operation\": \"training\", \"epoch\": 4, \"model\": 24}, \"Metrics\": {\"train_binary_classification_cross_entropy_objective\": {\"sum\": 0.5138460149269221, \"count\": 1, \"min\": 0.5138460149269221, \"max\": 0.5138460149269221}}}\u001b[0m\n",
      "\u001b[34m#metrics {\"StartTime\": 1686726926.9491444, \"EndTime\": 1686726926.9491587, \"Dimensions\": {\"Algorithm\": \"Linear Learner\", \"Host\": \"algo-1\", \"Operation\": \"training\", \"epoch\": 4, \"model\": 25}, \"Metrics\": {\"train_binary_classification_cross_entropy_objective\": {\"sum\": 0.5139340261290197, \"count\": 1, \"min\": 0.5139340261290197, \"max\": 0.5139340261290197}}}\u001b[0m\n",
      "\u001b[34m#metrics {\"StartTime\": 1686726926.949222, \"EndTime\": 1686726926.9492323, \"Dimensions\": {\"Algorithm\": \"Linear Learner\", \"Host\": \"algo-1\", \"Operation\": \"training\", \"epoch\": 4, \"model\": 26}, \"Metrics\": {\"train_binary_classification_cross_entropy_objective\": {\"sum\": 0.5138496298367095, \"count\": 1, \"min\": 0.5138496298367095, \"max\": 0.5138496298367095}}}\u001b[0m\n",
      "\u001b[34m#metrics {\"StartTime\": 1686726926.949279, \"EndTime\": 1686726926.9492972, \"Dimensions\": {\"Algorithm\": \"Linear Learner\", \"Host\": \"algo-1\", \"Operation\": \"training\", \"epoch\": 4, \"model\": 27}, \"Metrics\": {\"train_binary_classification_cross_entropy_objective\": {\"sum\": 0.5139340146265993, \"count\": 1, \"min\": 0.5139340146265993, \"max\": 0.5139340146265993}}}\u001b[0m\n",
      "\u001b[34m#metrics {\"StartTime\": 1686726926.949351, \"EndTime\": 1686726926.9493687, \"Dimensions\": {\"Algorithm\": \"Linear Learner\", \"Host\": \"algo-1\", \"Operation\": \"training\", \"epoch\": 4, \"model\": 28}, \"Metrics\": {\"train_binary_classification_cross_entropy_objective\": {\"sum\": 0.5138551226041368, \"count\": 1, \"min\": 0.5138551226041368, \"max\": 0.5138551226041368}}}\u001b[0m\n",
      "\u001b[34m#metrics {\"StartTime\": 1686726926.949419, \"EndTime\": 1686726926.949435, \"Dimensions\": {\"Algorithm\": \"Linear Learner\", \"Host\": \"algo-1\", \"Operation\": \"training\", \"epoch\": 4, \"model\": 29}, \"Metrics\": {\"train_binary_classification_cross_entropy_objective\": {\"sum\": 0.5147804420307871, \"count\": 1, \"min\": 0.5147804420307871, \"max\": 0.5147804420307871}}}\u001b[0m\n",
      "\u001b[34m#metrics {\"StartTime\": 1686726926.949501, \"EndTime\": 1686726926.9495184, \"Dimensions\": {\"Algorithm\": \"Linear Learner\", \"Host\": \"algo-1\", \"Operation\": \"training\", \"epoch\": 4, \"model\": 30}, \"Metrics\": {\"train_binary_classification_cross_entropy_objective\": {\"sum\": 0.5138551463789167, \"count\": 1, \"min\": 0.5138551463789167, \"max\": 0.5138551463789167}}}\u001b[0m\n",
      "\u001b[34m#metrics {\"StartTime\": 1686726926.949572, \"EndTime\": 1686726926.9495895, \"Dimensions\": {\"Algorithm\": \"Linear Learner\", \"Host\": \"algo-1\", \"Operation\": \"training\", \"epoch\": 4, \"model\": 31}, \"Metrics\": {\"train_binary_classification_cross_entropy_objective\": {\"sum\": 0.5147804425207482, \"count\": 1, \"min\": 0.5147804425207482, \"max\": 0.5147804425207482}}}\u001b[0m\n",
      "\u001b[34m[06/14/2023 07:15:26 INFO 140326266177344] #quality_metric: host=algo-1, epoch=4, train binary_classification_cross_entropy_objective <loss>=0.5137833588159777\u001b[0m\n",
      "\u001b[34m[2023-06-14 07:15:31.048] [tensorio] [info] epoch_stats={\"data_pipeline\": \"/opt/ml/input/data/validation\", \"epoch\": 14, \"duration\": 4076, \"num_examples\": 164, \"num_bytes\": 7850832}\u001b[0m\n",
      "\u001b[34m#metrics {\"StartTime\": 1686726931.055541, \"EndTime\": 1686726931.0555964, \"Dimensions\": {\"Algorithm\": \"Linear Learner\", \"Host\": \"algo-1\", \"Operation\": \"training\", \"epoch\": 4, \"model\": 0}, \"Metrics\": {\"validation_binary_classification_cross_entropy_objective\": {\"sum\": 0.5137360436567424, \"count\": 1, \"min\": 0.5137360436567424, \"max\": 0.5137360436567424}}}\u001b[0m\n",
      "\u001b[34m#metrics {\"StartTime\": 1686726931.0556836, \"EndTime\": 1686726931.0557055, \"Dimensions\": {\"Algorithm\": \"Linear Learner\", \"Host\": \"algo-1\", \"Operation\": \"training\", \"epoch\": 4, \"model\": 1}, \"Metrics\": {\"validation_binary_classification_cross_entropy_objective\": {\"sum\": 0.51426583940353, \"count\": 1, \"min\": 0.51426583940353, \"max\": 0.51426583940353}}}\u001b[0m\n",
      "\u001b[34m#metrics {\"StartTime\": 1686726931.0557742, \"EndTime\": 1686726931.0557942, \"Dimensions\": {\"Algorithm\": \"Linear Learner\", \"Host\": \"algo-1\", \"Operation\": \"training\", \"epoch\": 4, \"model\": 2}, \"Metrics\": {\"validation_binary_classification_cross_entropy_objective\": {\"sum\": 0.5137370987922244, \"count\": 1, \"min\": 0.5137370987922244, \"max\": 0.5137370987922244}}}\u001b[0m\n",
      "\u001b[34m#metrics {\"StartTime\": 1686726931.0558467, \"EndTime\": 1686726931.0558643, \"Dimensions\": {\"Algorithm\": \"Linear Learner\", \"Host\": \"algo-1\", \"Operation\": \"training\", \"epoch\": 4, \"model\": 3}, \"Metrics\": {\"validation_binary_classification_cross_entropy_objective\": {\"sum\": 0.51426583940353, \"count\": 1, \"min\": 0.51426583940353, \"max\": 0.51426583940353}}}\u001b[0m\n",
      "\u001b[34m#metrics {\"StartTime\": 1686726931.0559237, \"EndTime\": 1686726931.0559418, \"Dimensions\": {\"Algorithm\": \"Linear Learner\", \"Host\": \"algo-1\", \"Operation\": \"training\", \"epoch\": 4, \"model\": 4}, \"Metrics\": {\"validation_binary_classification_cross_entropy_objective\": {\"sum\": 0.5137375686120552, \"count\": 1, \"min\": 0.5137375686120552, \"max\": 0.5137375686120552}}}\u001b[0m\n",
      "\u001b[34m#metrics {\"StartTime\": 1686726931.0560105, \"EndTime\": 1686726931.0560284, \"Dimensions\": {\"Algorithm\": \"Linear Learner\", \"Host\": \"algo-1\", \"Operation\": \"training\", \"epoch\": 4, \"model\": 5}, \"Metrics\": {\"validation_binary_classification_cross_entropy_objective\": {\"sum\": 0.513860477062236, \"count\": 1, \"min\": 0.513860477062236, \"max\": 0.513860477062236}}}\u001b[0m\n",
      "\u001b[34m#metrics {\"StartTime\": 1686726931.0560865, \"EndTime\": 1686726931.056105, \"Dimensions\": {\"Algorithm\": \"Linear Learner\", \"Host\": \"algo-1\", \"Operation\": \"training\", \"epoch\": 4, \"model\": 6}, \"Metrics\": {\"validation_binary_classification_cross_entropy_objective\": {\"sum\": 0.5137375712242386, \"count\": 1, \"min\": 0.5137375712242386, \"max\": 0.5137375712242386}}}\u001b[0m\n",
      "\u001b[34m#metrics {\"StartTime\": 1686726931.0561748, \"EndTime\": 1686726931.0561924, \"Dimensions\": {\"Algorithm\": \"Linear Learner\", \"Host\": \"algo-1\", \"Operation\": \"training\", \"epoch\": 4, \"model\": 7}, \"Metrics\": {\"validation_binary_classification_cross_entropy_objective\": {\"sum\": 0.5138604779951587, \"count\": 1, \"min\": 0.5138604779951587, \"max\": 0.5138604779951587}}}\u001b[0m\n",
      "\u001b[34m#metrics {\"StartTime\": 1686726931.0562468, \"EndTime\": 1686726931.0562632, \"Dimensions\": {\"Algorithm\": \"Linear Learner\", \"Host\": \"algo-1\", \"Operation\": \"training\", \"epoch\": 4, \"model\": 8}, \"Metrics\": {\"validation_binary_classification_cross_entropy_objective\": {\"sum\": 0.5137384931383706, \"count\": 1, \"min\": 0.5137384931383706, \"max\": 0.5137384931383706}}}\u001b[0m\n",
      "\u001b[34m#metrics {\"StartTime\": 1686726931.0563283, \"EndTime\": 1686726931.0563457, \"Dimensions\": {\"Algorithm\": \"Linear Learner\", \"Host\": \"algo-1\", \"Operation\": \"training\", \"epoch\": 4, \"model\": 9}, \"Metrics\": {\"validation_binary_classification_cross_entropy_objective\": {\"sum\": 0.5142659020959299, \"count\": 1, \"min\": 0.5142659020959299, \"max\": 0.5142659020959299}}}\u001b[0m\n",
      "\u001b[34m#metrics {\"StartTime\": 1686726931.056414, \"EndTime\": 1686726931.0564325, \"Dimensions\": {\"Algorithm\": \"Linear Learner\", \"Host\": \"algo-1\", \"Operation\": \"training\", \"epoch\": 4, \"model\": 10}, \"Metrics\": {\"validation_binary_classification_cross_entropy_objective\": {\"sum\": 0.5137393284772835, \"count\": 1, \"min\": 0.5137393284772835, \"max\": 0.5137393284772835}}}\u001b[0m\n",
      "\u001b[34m#metrics {\"StartTime\": 1686726931.056528, \"EndTime\": 1686726931.0565472, \"Dimensions\": {\"Algorithm\": \"Linear Learner\", \"Host\": \"algo-1\", \"Operation\": \"training\", \"epoch\": 4, \"model\": 11}, \"Metrics\": {\"validation_binary_classification_cross_entropy_objective\": {\"sum\": 0.5142659017227609, \"count\": 1, \"min\": 0.5142659017227609, \"max\": 0.5142659017227609}}}\u001b[0m\n",
      "\u001b[34m#metrics {\"StartTime\": 1686726931.0566082, \"EndTime\": 1686726931.0566256, \"Dimensions\": {\"Algorithm\": \"Linear Learner\", \"Host\": \"algo-1\", \"Operation\": \"training\", \"epoch\": 4, \"model\": 12}, \"Metrics\": {\"validation_binary_classification_cross_entropy_objective\": {\"sum\": 0.5137397602338716, \"count\": 1, \"min\": 0.5137397602338716, \"max\": 0.5137397602338716}}}\u001b[0m\n",
      "\u001b[34m#metrics {\"StartTime\": 1686726931.056683, \"EndTime\": 1686726931.056701, \"Dimensions\": {\"Algorithm\": \"Linear Learner\", \"Host\": \"algo-1\", \"Operation\": \"training\", \"epoch\": 4, \"model\": 13}, \"Metrics\": {\"validation_binary_classification_cross_entropy_objective\": {\"sum\": 0.5138373719274872, \"count\": 1, \"min\": 0.5138373719274872, \"max\": 0.5138373719274872}}}\u001b[0m\n",
      "\u001b[34m#metrics {\"StartTime\": 1686726931.0567572, \"EndTime\": 1686726931.0567749, \"Dimensions\": {\"Algorithm\": \"Linear Learner\", \"Host\": \"algo-1\", \"Operation\": \"training\", \"epoch\": 4, \"model\": 14}, \"Metrics\": {\"validation_binary_classification_cross_entropy_objective\": {\"sum\": 0.5137397602338716, \"count\": 1, \"min\": 0.5137397602338716, \"max\": 0.5137397602338716}}}\u001b[0m\n",
      "\u001b[34m#metrics {\"StartTime\": 1686726931.0568416, \"EndTime\": 1686726931.056858, \"Dimensions\": {\"Algorithm\": \"Linear Learner\", \"Host\": \"algo-1\", \"Operation\": \"training\", \"epoch\": 4, \"model\": 15}, \"Metrics\": {\"validation_binary_classification_cross_entropy_objective\": {\"sum\": 0.5138373816298825, \"count\": 1, \"min\": 0.5138373816298825, \"max\": 0.5138373816298825}}}\u001b[0m\n",
      "\u001b[34m#metrics {\"StartTime\": 1686726931.056916, \"EndTime\": 1686726931.056936, \"Dimensions\": {\"Algorithm\": \"Linear Learner\", \"Host\": \"algo-1\", \"Operation\": \"training\", \"epoch\": 4, \"model\": 16}, \"Metrics\": {\"validation_binary_classification_cross_entropy_objective\": {\"sum\": 0.5138168549066678, \"count\": 1, \"min\": 0.5138168549066678, \"max\": 0.5138168549066678}}}\u001b[0m\n",
      "\u001b[34m#metrics {\"StartTime\": 1686726931.0570004, \"EndTime\": 1686726931.0570211, \"Dimensions\": {\"Algorithm\": \"Linear Learner\", \"Host\": \"algo-1\", \"Operation\": \"training\", \"epoch\": 4, \"model\": 17}, \"Metrics\": {\"validation_binary_classification_cross_entropy_objective\": {\"sum\": 0.5143691042350471, \"count\": 1, \"min\": 0.5143691042350471, \"max\": 0.5143691042350471}}}\u001b[0m\n",
      "\u001b[34m#metrics {\"StartTime\": 1686726931.0570962, \"EndTime\": 1686726931.0571156, \"Dimensions\": {\"Algorithm\": \"Linear Learner\", \"Host\": \"algo-1\", \"Operation\": \"training\", \"epoch\": 4, \"model\": 18}, \"Metrics\": {\"validation_binary_classification_cross_entropy_objective\": {\"sum\": 0.5138166298857322, \"count\": 1, \"min\": 0.5138166298857322, \"max\": 0.5138166298857322}}}\u001b[0m\n",
      "\u001b[34m#metrics {\"StartTime\": 1686726931.0571907, \"EndTime\": 1686726931.057211, \"Dimensions\": {\"Algorithm\": \"Linear Learner\", \"Host\": \"algo-1\", \"Operation\": \"training\", \"epoch\": 4, \"model\": 19}, \"Metrics\": {\"validation_binary_classification_cross_entropy_objective\": {\"sum\": 0.514369102369202, \"count\": 1, \"min\": 0.514369102369202, \"max\": 0.514369102369202}}}\u001b[0m\n",
      "\u001b[34m#metrics {\"StartTime\": 1686726931.057277, \"EndTime\": 1686726931.0572968, \"Dimensions\": {\"Algorithm\": \"Linear Learner\", \"Host\": \"algo-1\", \"Operation\": \"training\", \"epoch\": 4, \"model\": 20}, \"Metrics\": {\"validation_binary_classification_cross_entropy_objective\": {\"sum\": 0.5138167757948298, \"count\": 1, \"min\": 0.5138167757948298, \"max\": 0.5138167757948298}}}\u001b[0m\n",
      "\u001b[34m#metrics {\"StartTime\": 1686726931.057371, \"EndTime\": 1686726931.0573914, \"Dimensions\": {\"Algorithm\": \"Linear Learner\", \"Host\": \"algo-1\", \"Operation\": \"training\", \"epoch\": 4, \"model\": 21}, \"Metrics\": {\"validation_binary_classification_cross_entropy_objective\": {\"sum\": 0.5138612002638502, \"count\": 1, \"min\": 0.5138612002638502, \"max\": 0.5138612002638502}}}\u001b[0m\n",
      "\u001b[34m#metrics {\"StartTime\": 1686726931.057456, \"EndTime\": 1686726931.0574744, \"Dimensions\": {\"Algorithm\": \"Linear Learner\", \"Host\": \"algo-1\", \"Operation\": \"training\", \"epoch\": 4, \"model\": 22}, \"Metrics\": {\"validation_binary_classification_cross_entropy_objective\": {\"sum\": 0.5138167757948298, \"count\": 1, \"min\": 0.5138167757948298, \"max\": 0.5138167757948298}}}\u001b[0m\n",
      "\u001b[34m#metrics {\"StartTime\": 1686726931.0575497, \"EndTime\": 1686726931.0575693, \"Dimensions\": {\"Algorithm\": \"Linear Learner\", \"Host\": \"algo-1\", \"Operation\": \"training\", \"epoch\": 4, \"model\": 23}, \"Metrics\": {\"validation_binary_classification_cross_entropy_objective\": {\"sum\": 0.5138612002638502, \"count\": 1, \"min\": 0.5138612002638502, \"max\": 0.5138612002638502}}}\u001b[0m\n",
      "\u001b[34m#metrics {\"StartTime\": 1686726931.0576446, \"EndTime\": 1686726931.0576634, \"Dimensions\": {\"Algorithm\": \"Linear Learner\", \"Host\": \"algo-1\", \"Operation\": \"training\", \"epoch\": 4, \"model\": 24}, \"Metrics\": {\"validation_binary_classification_cross_entropy_objective\": {\"sum\": 0.5138397568508702, \"count\": 1, \"min\": 0.5138397568508702, \"max\": 0.5138397568508702}}}\u001b[0m\n",
      "\u001b[34m#metrics {\"StartTime\": 1686726931.0577328, \"EndTime\": 1686726931.0577517, \"Dimensions\": {\"Algorithm\": \"Linear Learner\", \"Host\": \"algo-1\", \"Operation\": \"training\", \"epoch\": 4, \"model\": 25}, \"Metrics\": {\"validation_binary_classification_cross_entropy_objective\": {\"sum\": 0.5143807282642942, \"count\": 1, \"min\": 0.5143807282642942, \"max\": 0.5143807282642942}}}\u001b[0m\n",
      "\u001b[34m#metrics {\"StartTime\": 1686726931.0578275, \"EndTime\": 1686726931.0578473, \"Dimensions\": {\"Algorithm\": \"Linear Learner\", \"Host\": \"algo-1\", \"Operation\": \"training\", \"epoch\": 4, \"model\": 26}, \"Metrics\": {\"validation_binary_classification_cross_entropy_objective\": {\"sum\": 0.5138423225746568, \"count\": 1, \"min\": 0.5138423225746568, \"max\": 0.5138423225746568}}}\u001b[0m\n",
      "\u001b[34m#metrics {\"StartTime\": 1686726931.0579078, \"EndTime\": 1686726931.0579255, \"Dimensions\": {\"Algorithm\": \"Linear Learner\", \"Host\": \"algo-1\", \"Operation\": \"training\", \"epoch\": 4, \"model\": 27}, \"Metrics\": {\"validation_binary_classification_cross_entropy_objective\": {\"sum\": 0.5143807053143977, \"count\": 1, \"min\": 0.5143807053143977, \"max\": 0.5143807053143977}}}\u001b[0m\n",
      "\u001b[34m#metrics {\"StartTime\": 1686726931.0579817, \"EndTime\": 1686726931.0579996, \"Dimensions\": {\"Algorithm\": \"Linear Learner\", \"Host\": \"algo-1\", \"Operation\": \"training\", \"epoch\": 4, \"model\": 28}, \"Metrics\": {\"validation_binary_classification_cross_entropy_objective\": {\"sum\": 0.5138435297765256, \"count\": 1, \"min\": 0.5138435297765256, \"max\": 0.5138435297765256}}}\u001b[0m\n",
      "\u001b[34m#metrics {\"StartTime\": 1686726931.058068, \"EndTime\": 1686726931.058086, \"Dimensions\": {\"Algorithm\": \"Linear Learner\", \"Host\": \"algo-1\", \"Operation\": \"training\", \"epoch\": 4, \"model\": 29}, \"Metrics\": {\"validation_binary_classification_cross_entropy_objective\": {\"sum\": 0.5138952776881044, \"count\": 1, \"min\": 0.5138952776881044, \"max\": 0.5138952776881044}}}\u001b[0m\n",
      "\u001b[34m#metrics {\"StartTime\": 1686726931.0581558, \"EndTime\": 1686726931.0581737, \"Dimensions\": {\"Algorithm\": \"Linear Learner\", \"Host\": \"algo-1\", \"Operation\": \"training\", \"epoch\": 4, \"model\": 30}, \"Metrics\": {\"validation_binary_classification_cross_entropy_objective\": {\"sum\": 0.5138437079647458, \"count\": 1, \"min\": 0.5138437079647458, \"max\": 0.5138437079647458}}}\u001b[0m\n",
      "\u001b[34m#metrics {\"StartTime\": 1686726931.0582418, \"EndTime\": 1686726931.0582595, \"Dimensions\": {\"Algorithm\": \"Linear Learner\", \"Host\": \"algo-1\", \"Operation\": \"training\", \"epoch\": 4, \"model\": 31}, \"Metrics\": {\"validation_binary_classification_cross_entropy_objective\": {\"sum\": 0.5138952789941961, \"count\": 1, \"min\": 0.5138952789941961, \"max\": 0.5138952789941961}}}\u001b[0m\n",
      "\u001b[34m[06/14/2023 07:15:31 INFO 140326266177344] #quality_metric: host=algo-1, epoch=4, validation binary_classification_cross_entropy_objective <loss>=0.5137360436567424\u001b[0m\n",
      "\u001b[34m[06/14/2023 07:15:31 INFO 140326266177344] #early_stopping_criteria_metric: host=algo-1, epoch=4, criteria=binary_classification_cross_entropy_objective, value=0.5137360436567424\u001b[0m\n",
      "\u001b[34m[06/14/2023 07:15:31 INFO 140326266177344] Saving model for epoch: 4\u001b[0m\n",
      "\u001b[34m[06/14/2023 07:15:31 INFO 140326266177344] Saved checkpoint to \"/tmp/tmpzjriig39/mx-mod-0000.params\"\u001b[0m\n",
      "\u001b[34m[06/14/2023 07:15:31 INFO 140326266177344] Early stop condition met. Stopping training.\u001b[0m\n",
      "\u001b[34m[06/14/2023 07:15:31 INFO 140326266177344] #progress_metric: host=algo-1, completed 100 % epochs\u001b[0m\n",
      "\u001b[34m#metrics {\"StartTime\": 1686726880.447524, \"EndTime\": 1686726931.0648353, \"Dimensions\": {\"Algorithm\": \"Linear Learner\", \"Host\": \"algo-1\", \"Operation\": \"training\", \"epoch\": 4, \"Meta\": \"training_data_iter\"}, \"Metrics\": {\"Total Records Seen\": {\"sum\": 6554360.0, \"count\": 1, \"min\": 6554360, \"max\": 6554360}, \"Total Batches Seen\": {\"sum\": 6557.0, \"count\": 1, \"min\": 6557, \"max\": 6557}, \"Max Records Seen Between Resets\": {\"sum\": 1308472.0, \"count\": 1, \"min\": 1308472, \"max\": 1308472}, \"Max Batches Seen Between Resets\": {\"sum\": 1309.0, \"count\": 1, \"min\": 1309, \"max\": 1309}, \"Reset Count\": {\"sum\": 7.0, \"count\": 1, \"min\": 7, \"max\": 7}, \"Number of Records Since Last Reset\": {\"sum\": 1308472.0, \"count\": 1, \"min\": 1308472, \"max\": 1308472}, \"Number of Batches Since Last Reset\": {\"sum\": 1309.0, \"count\": 1, \"min\": 1309, \"max\": 1309}}}\u001b[0m\n",
      "\u001b[34m[06/14/2023 07:15:31 INFO 140326266177344] #throughput_metric: host=algo-1, train throughput=25850.197301351993 records/second\u001b[0m\n",
      "\u001b[34m[06/14/2023 07:15:31 WARNING 140326266177344] wait_for_all_workers will not sync workers since the kv store is not running distributed\u001b[0m\n",
      "\u001b[34m[06/14/2023 07:15:31 WARNING 140326266177344] wait_for_all_workers will not sync workers since the kv store is not running distributed\u001b[0m\n",
      "\u001b[34m[2023-06-14 07:15:35.096] [tensorio] [info] epoch_stats={\"data_pipeline\": \"/opt/ml/input/data/validation\", \"epoch\": 17, \"duration\": 4011, \"num_examples\": 164, \"num_bytes\": 7850832}\u001b[0m\n",
      "\u001b[34m[06/14/2023 07:15:35 INFO 140326266177344] #early_stopping_criteria_metric: host=algo-1, epoch=4, criteria=binary_classification_cross_entropy_objective, value=0.5137360436567424\u001b[0m\n",
      "\u001b[34m[2023-06-14 07:15:35.759] [tensorio] [info] epoch_stats={\"data_pipeline\": \"/opt/ml/input/data/validation\", \"epoch\": 19, \"duration\": 651, \"num_examples\": 164, \"num_bytes\": 7850832}\u001b[0m\n",
      "\u001b[34m[06/14/2023 07:15:35 INFO 140326266177344] #validation_score (algo-1) : ('binary_classification_cross_entropy_objective', 0.5137310862925301)\u001b[0m\n",
      "\u001b[34m[06/14/2023 07:15:35 INFO 140326266177344] #validation_score (algo-1) : ('binary_classification_accuracy', 0.7900879804841067)\u001b[0m\n",
      "\u001b[34m[06/14/2023 07:15:35 INFO 140326266177344] #validation_score (algo-1) : ('binary_f_1.000', 0.0)\u001b[0m\n",
      "\u001b[34m[06/14/2023 07:15:35 INFO 140326266177344] #validation_score (algo-1) : ('precision', nan)\u001b[0m\n",
      "\u001b[34m[06/14/2023 07:15:35 INFO 140326266177344] #validation_score (algo-1) : ('recall', 0.0)\u001b[0m\n",
      "\u001b[34m[06/14/2023 07:15:35 INFO 140326266177344] #validation_score (algo-1) : ('roc_auc_score', 0.5110954663623657)\u001b[0m\n",
      "\u001b[34m[06/14/2023 07:15:35 INFO 140326266177344] #validation_score (algo-1) : ('binary_balanced_accuracy', 0.5)\u001b[0m\n",
      "\u001b[34m[06/14/2023 07:15:35 INFO 140326266177344] #validation_score (algo-1) : ('binary_log_loss', 0.7597138248791357)\u001b[0m\n",
      "\u001b[34m[06/14/2023 07:15:35 INFO 140326266177344] #quality_metric: host=algo-1, validation binary_classification_cross_entropy_objective <loss>=0.5137310862925301\u001b[0m\n",
      "\u001b[34m[06/14/2023 07:15:35 INFO 140326266177344] #quality_metric: host=algo-1, validation binary_classification_accuracy <score>=0.7900879804841067\u001b[0m\n",
      "\u001b[34m[06/14/2023 07:15:35 INFO 140326266177344] #quality_metric: host=algo-1, validation binary_f_1.000 <score>=0.0\u001b[0m\n",
      "\u001b[34m[06/14/2023 07:15:35 INFO 140326266177344] #quality_metric: host=algo-1, validation precision <score>=nan\u001b[0m\n",
      "\u001b[34m[06/14/2023 07:15:35 INFO 140326266177344] #quality_metric: host=algo-1, validation recall <score>=0.0\u001b[0m\n",
      "\u001b[34m[06/14/2023 07:15:35 INFO 140326266177344] #quality_metric: host=algo-1, validation roc_auc_score <score>=0.5110954663623657\u001b[0m\n",
      "\u001b[34m[06/14/2023 07:15:35 INFO 140326266177344] #quality_metric: host=algo-1, validation binary_balanced_accuracy <score>=0.5\u001b[0m\n",
      "\u001b[34m[06/14/2023 07:15:35 INFO 140326266177344] #quality_metric: host=algo-1, validation binary_log_loss <score>=0.7597138248791357\u001b[0m\n",
      "\u001b[34m[06/14/2023 07:15:35 INFO 140326266177344] Best model found for hyperparameters: {\"optimizer\": \"adam\", \"learning_rate\": 0.005, \"l1\": 0.0, \"wd\": 0.0001, \"lr_scheduler_step\": 10, \"lr_scheduler_factor\": 0.99, \"lr_scheduler_minimum_lr\": 1e-05}\u001b[0m\n",
      "\u001b[34m[06/14/2023 07:15:35 INFO 140326266177344] Saved checkpoint to \"/tmp/tmpqlr5u65z/mx-mod-0000.params\"\u001b[0m\n",
      "\u001b[34m[2023-06-14 07:15:35.997] [tensorio] [info] epoch_stats={\"data_pipeline\": \"/opt/ml/input/data/test\", \"epoch\": 0, \"duration\": 263743, \"num_examples\": 1, \"num_bytes\": 48000}\u001b[0m\n",
      "\u001b[34m[2023-06-14 07:15:36.630] [tensorio] [info] epoch_stats={\"data_pipeline\": \"/opt/ml/input/data/test\", \"epoch\": 1, \"duration\": 632, \"num_examples\": 164, \"num_bytes\": 7850832}\u001b[0m\n",
      "\u001b[34m#metrics {\"StartTime\": 1686726935.9974234, \"EndTime\": 1686726936.8623943, \"Dimensions\": {\"Algorithm\": \"Linear Learner\", \"Host\": \"algo-1\", \"Operation\": \"training\", \"Meta\": \"test_data_iter\"}, \"Metrics\": {\"Total Records Seen\": {\"sum\": 163559.0, \"count\": 1, \"min\": 163559, \"max\": 163559}, \"Total Batches Seen\": {\"sum\": 164.0, \"count\": 1, \"min\": 164, \"max\": 164}, \"Max Records Seen Between Resets\": {\"sum\": 163559.0, \"count\": 1, \"min\": 163559, \"max\": 163559}, \"Max Batches Seen Between Resets\": {\"sum\": 164.0, \"count\": 1, \"min\": 164, \"max\": 164}, \"Reset Count\": {\"sum\": 1.0, \"count\": 1, \"min\": 1, \"max\": 1}, \"Number of Records Since Last Reset\": {\"sum\": 163559.0, \"count\": 1, \"min\": 163559, \"max\": 163559}, \"Number of Batches Since Last Reset\": {\"sum\": 164.0, \"count\": 1, \"min\": 164, \"max\": 164}}}\u001b[0m\n",
      "\u001b[34m[06/14/2023 07:15:36 INFO 140326266177344] #test_score (algo-1) : ('binary_classification_cross_entropy_objective', 0.5137475652510858)\u001b[0m\n",
      "\u001b[34m[06/14/2023 07:15:36 INFO 140326266177344] #test_score (algo-1) : ('binary_classification_accuracy', 0.7900879804841067)\u001b[0m\n",
      "\u001b[34m[06/14/2023 07:15:36 INFO 140326266177344] #test_score (algo-1) : ('binary_f_1.000', 0.0)\u001b[0m\n",
      "\u001b[34m[06/14/2023 07:15:36 INFO 140326266177344] #test_score (algo-1) : ('precision', nan)\u001b[0m\n",
      "\u001b[34m[06/14/2023 07:15:36 INFO 140326266177344] #test_score (algo-1) : ('recall', 0.0)\u001b[0m\n",
      "\u001b[34m[06/14/2023 07:15:36 INFO 140326266177344] #test_score (algo-1) : ('roc_auc_score', 0.5107242205120074)\u001b[0m\n",
      "\u001b[34m[06/14/2023 07:15:36 INFO 140326266177344] #test_score (algo-1) : ('binary_balanced_accuracy', 0.5)\u001b[0m\n",
      "\u001b[34m[06/14/2023 07:15:36 INFO 140326266177344] #test_score (algo-1) : ('binary_log_loss', 0.7597171338443051)\u001b[0m\n",
      "\u001b[34m[06/14/2023 07:15:36 INFO 140326266177344] #quality_metric: host=algo-1, test binary_classification_cross_entropy_objective <loss>=0.5137475652510858\u001b[0m\n",
      "\u001b[34m[06/14/2023 07:15:36 INFO 140326266177344] #quality_metric: host=algo-1, test binary_classification_accuracy <score>=0.7900879804841067\u001b[0m\n",
      "\u001b[34m[06/14/2023 07:15:36 INFO 140326266177344] #quality_metric: host=algo-1, test binary_f_1.000 <score>=0.0\u001b[0m\n",
      "\u001b[34m[06/14/2023 07:15:36 INFO 140326266177344] #quality_metric: host=algo-1, test precision <score>=nan\u001b[0m\n",
      "\u001b[34m[06/14/2023 07:15:36 INFO 140326266177344] #quality_metric: host=algo-1, test recall <score>=0.0\u001b[0m\n",
      "\u001b[34m[06/14/2023 07:15:36 INFO 140326266177344] #quality_metric: host=algo-1, test roc_auc_score <score>=0.5107242205120074\u001b[0m\n",
      "\u001b[34m[06/14/2023 07:15:36 INFO 140326266177344] #quality_metric: host=algo-1, test binary_balanced_accuracy <score>=0.5\u001b[0m\n",
      "\u001b[34m[06/14/2023 07:15:36 INFO 140326266177344] #quality_metric: host=algo-1, test binary_log_loss <score>=0.7597171338443051\u001b[0m\n",
      "\u001b[34m#metrics {\"StartTime\": 1686726672.2465136, \"EndTime\": 1686726936.868043, \"Dimensions\": {\"Algorithm\": \"Linear Learner\", \"Host\": \"algo-1\", \"Operation\": \"training\"}, \"Metrics\": {\"initialize.time\": {\"sum\": 228.73377799987793, \"count\": 1, \"min\": 228.73377799987793, \"max\": 228.73377799987793}, \"epochs\": {\"sum\": 15.0, \"count\": 1, \"min\": 15, \"max\": 15}, \"check_early_stopping.time\": {\"sum\": 2.2339820861816406, \"count\": 6, \"min\": 0.18644332885742188, \"max\": 0.9205341339111328}, \"update.time\": {\"sum\": 258550.60625076294, \"count\": 5, \"min\": 50614.13240432739, \"max\": 53528.33843231201}, \"finalize.time\": {\"sum\": 4928.897857666016, \"count\": 1, \"min\": 4928.897857666016, \"max\": 4928.897857666016}, \"setuptime\": {\"sum\": 2.582073211669922, \"count\": 1, \"min\": 2.582073211669922, \"max\": 2.582073211669922}, \"totaltime\": {\"sum\": 264743.07656288147, \"count\": 1, \"min\": 264743.07656288147, \"max\": 264743.07656288147}}}\u001b[0m\n",
      "\n",
      "2023-06-14 07:15:53 Uploading - Uploading generated training model\n",
      "2023-06-14 07:15:53 Completed - Training job completed\n",
      "Training seconds: 409\n",
      "Billable seconds: 409\n"
     ]
    }
   ],
   "source": [
    "### Fit the classifier\n",
    "classifier_estimator.fit([train_records, val_records, test_records])"
   ]
  },
  {
   "attachments": {},
   "cell_type": "markdown",
   "metadata": {},
   "source": [
    "## Model evaluation\n"
   ]
  },
  {
   "attachments": {},
   "cell_type": "markdown",
   "metadata": {},
   "source": [
    "First, examine the metrics for the training job:"
   ]
  },
  {
   "cell_type": "code",
   "execution_count": 53,
   "metadata": {
    "tags": []
   },
   "outputs": [
    {
     "name": "stderr",
     "output_type": "stream",
     "text": [
      "INFO:botocore.credentials:Found credentials from IAM Role: BaseNotebookInstanceEc2InstanceRole\n",
      "WARNING:sagemaker.analytics:Warning: No metrics called test:precision found\n"
     ]
    },
    {
     "data": {
      "text/html": [
       "<div>\n",
       "<style scoped>\n",
       "    .dataframe tbody tr th:only-of-type {\n",
       "        vertical-align: middle;\n",
       "    }\n",
       "\n",
       "    .dataframe tbody tr th {\n",
       "        vertical-align: top;\n",
       "    }\n",
       "\n",
       "    .dataframe thead th {\n",
       "        text-align: right;\n",
       "    }\n",
       "</style>\n",
       "<table border=\"1\" class=\"dataframe\">\n",
       "  <thead>\n",
       "    <tr style=\"text-align: right;\">\n",
       "      <th></th>\n",
       "      <th>timestamp</th>\n",
       "      <th>metric_name</th>\n",
       "      <th>value</th>\n",
       "    </tr>\n",
       "  </thead>\n",
       "  <tbody>\n",
       "    <tr>\n",
       "      <th>0</th>\n",
       "      <td>0.0</td>\n",
       "      <td>test:objective_loss</td>\n",
       "      <td>0.513748</td>\n",
       "    </tr>\n",
       "    <tr>\n",
       "      <th>1</th>\n",
       "      <td>0.0</td>\n",
       "      <td>test:binary_f_beta</td>\n",
       "      <td>0.000000</td>\n",
       "    </tr>\n",
       "    <tr>\n",
       "      <th>2</th>\n",
       "      <td>0.0</td>\n",
       "      <td>test:recall</td>\n",
       "      <td>0.000000</td>\n",
       "    </tr>\n",
       "  </tbody>\n",
       "</table>\n",
       "</div>"
      ],
      "text/plain": [
       "   timestamp          metric_name     value\n",
       "0        0.0  test:objective_loss  0.513748\n",
       "1        0.0   test:binary_f_beta  0.000000\n",
       "2        0.0          test:recall  0.000000"
      ]
     },
     "execution_count": 53,
     "metadata": {},
     "output_type": "execute_result"
    }
   ],
   "source": [
    "sagemaker.analytics.TrainingJobAnalytics(classifier_estimator._current_job_name, \n",
    "                                         metric_names = ['test:objective_loss', \n",
    "                                                         'test:binary_f_beta',\n",
    "                                                         'test:precision',\n",
    "                                                         'test:recall']\n",
    "                                        ).dataframe()"
   ]
  },
  {
   "attachments": {},
   "cell_type": "markdown",
   "metadata": {},
   "source": [
    "inferences drawn.\n",
    "\n",
    "1.test:objective_loss value of 0.513748 a lower value for the objective loss indicates better performance, as it represents a lower error or discrepancy between the predicted values and the true value.\n",
    "2. test:binary_f_beta value of 0.0: The binary F-beta score typically ranges from 0 to 1, where a higher value indicates better performance. A value of 0 suggests that the model achieved no true positive predictions for the given timestamp. This could indicate poor performance or a specific issue with the predictions.\n",
    "3. set up some functions that will help load the test data into Amazon S3 and perform a prediction by using the batch prediction function."
   ]
  },
  {
   "cell_type": "code",
   "execution_count": 54,
   "metadata": {
    "tags": []
   },
   "outputs": [
    {
     "name": "stderr",
     "output_type": "stream",
     "text": [
      "INFO:botocore.credentials:Found credentials from IAM Role: BaseNotebookInstanceEc2InstanceRole\n"
     ]
    }
   ],
   "source": [
    "import io\n",
    "bucket='sagemaker-us-east-1-927091486932'\n",
    "prefix='flight-linear'\n",
    "train_file='flight_train.csv'\n",
    "test_file='flight_test.csv'\n",
    "validate_file='flight_validate.csv'\n",
    "whole_file='flight.csv'\n",
    "s3_resource = boto3.Session().resource('s3')\n",
    "\n",
    "def upload_s3_csv(filename, folder, dataframe):\n",
    "    csv_buffer = io.StringIO()\n",
    "    dataframe.to_csv(csv_buffer, header=False, index=False )\n",
    "    s3_resource.Bucket(bucket).Object(os.path.join(prefix, folder, filename)).put(Body=csv_buffer.getvalue())"
   ]
  },
  {
   "cell_type": "code",
   "execution_count": 55,
   "metadata": {
    "tags": []
   },
   "outputs": [],
   "source": [
    "def batch_linear_predict(test_data, estimator):\n",
    "    batch_X = test_data.iloc[:,1:];\n",
    "    batch_X_file='batch-in.csv'\n",
    "    upload_s3_csv(batch_X_file, 'batch-in', batch_X)\n",
    "\n",
    "    batch_output = \"s3://{}/{}/batch-out/\".format(bucket,prefix)\n",
    "    batch_input = \"s3://{}/{}/batch-in/{}\".format(bucket,prefix,batch_X_file)\n",
    "\n",
    "    classifier_transformer = estimator.transformer(instance_count=1,\n",
    "                                           instance_type='ml.m4.xlarge',\n",
    "                                           strategy='MultiRecord',\n",
    "                                           assemble_with='Line',\n",
    "                                           output_path=batch_output)\n",
    "\n",
    "    classifier_transformer.transform(data=batch_input,\n",
    "                             data_type='S3Prefix',\n",
    "                             content_type='text/csv',\n",
    "                             split_type='Line')\n",
    "    \n",
    "    classifier_transformer.wait()\n",
    "\n",
    "    s3 = boto3.client('s3')\n",
    "    obj = s3.get_object(Bucket=bucket, Key=\"{}/batch-out/{}\".format(prefix,'batch-in.csv.out'))\n",
    "    target_predicted_df = pd.read_json(io.BytesIO(obj['Body'].read()),orient=\"records\",lines=True)\n",
    "    return test_data.iloc[:,0], target_predicted_df.iloc[:,0]"
   ]
  },
  {
   "cell_type": "code",
   "execution_count": 56,
   "metadata": {
    "tags": []
   },
   "outputs": [
    {
     "name": "stderr",
     "output_type": "stream",
     "text": [
      "INFO:sagemaker.image_uris:Same images used for training and inference. Defaulting to image scope: inference.\n",
      "INFO:sagemaker.image_uris:Ignoring unnecessary instance type: None.\n",
      "INFO:sagemaker:Creating model with name: linear-learner-2023-06-14-07-21-55-001\n",
      "INFO:sagemaker:Creating transform job with name: linear-learner-2023-06-14-07-21-55-713\n"
     ]
    },
    {
     "name": "stdout",
     "output_type": "stream",
     "text": [
      "......................................\n",
      "\u001b[34mDocker entrypoint called with argument(s): serve\u001b[0m\n",
      "\u001b[34mRunning default environment configuration script\u001b[0m\n",
      "\u001b[34m[06/14/2023 07:28:20 INFO 140653275408192] Memory profiler is not enabled by the environment variable ENABLE_PROFILER.\u001b[0m\n",
      "\u001b[35mDocker entrypoint called with argument(s): serve\u001b[0m\n",
      "\u001b[35mRunning default environment configuration script\u001b[0m\n",
      "\u001b[35m[06/14/2023 07:28:20 INFO 140653275408192] Memory profiler is not enabled by the environment variable ENABLE_PROFILER.\u001b[0m\n",
      "\u001b[34m[06/14/2023 07:28:24 WARNING 140653275408192] Loggers have already been setup.\u001b[0m\n",
      "\u001b[34m[06/14/2023 07:28:24 INFO 140653275408192] loaded entry point class algorithm.serve.server_config:config_api\u001b[0m\n",
      "\u001b[34m[06/14/2023 07:28:24 INFO 140653275408192] loading entry points\u001b[0m\n",
      "\u001b[34m[06/14/2023 07:28:24 INFO 140653275408192] loaded request iterator application/json\u001b[0m\n",
      "\u001b[34m[06/14/2023 07:28:24 INFO 140653275408192] loaded request iterator application/jsonlines\u001b[0m\n",
      "\u001b[35m[06/14/2023 07:28:24 WARNING 140653275408192] Loggers have already been setup.\u001b[0m\n",
      "\u001b[35m[06/14/2023 07:28:24 INFO 140653275408192] loaded entry point class algorithm.serve.server_config:config_api\u001b[0m\n",
      "\u001b[35m[06/14/2023 07:28:24 INFO 140653275408192] loading entry points\u001b[0m\n",
      "\u001b[35m[06/14/2023 07:28:24 INFO 140653275408192] loaded request iterator application/json\u001b[0m\n",
      "\u001b[35m[06/14/2023 07:28:24 INFO 140653275408192] loaded request iterator application/jsonlines\u001b[0m\n",
      "\u001b[34m[06/14/2023 07:28:24 INFO 140653275408192] loaded request iterator application/x-recordio-protobuf\u001b[0m\n",
      "\u001b[34m[06/14/2023 07:28:24 INFO 140653275408192] loaded request iterator text/csv\u001b[0m\n",
      "\u001b[34m[06/14/2023 07:28:24 INFO 140653275408192] loaded response encoder application/json\u001b[0m\n",
      "\u001b[34m[06/14/2023 07:28:24 INFO 140653275408192] loaded response encoder application/jsonlines\u001b[0m\n",
      "\u001b[34m[06/14/2023 07:28:24 INFO 140653275408192] loaded response encoder application/x-recordio-protobuf\u001b[0m\n",
      "\u001b[34m[06/14/2023 07:28:24 INFO 140653275408192] loaded response encoder text/csv\u001b[0m\n",
      "\u001b[34m[06/14/2023 07:28:24 INFO 140653275408192] loaded entry point class algorithm:model\u001b[0m\n",
      "\u001b[34m[06/14/2023 07:28:24 INFO 140653275408192] Number of server workers: 4\u001b[0m\n",
      "\u001b[34m[06/14/2023 07:28:24 INFO 140653275408192] loading model...\u001b[0m\n",
      "\u001b[34m[06/14/2023 07:28:24 INFO 140653275408192] ...model loaded.\u001b[0m\n",
      "\u001b[34m[2023-06-14 07:28:25 +0000] [1] [INFO] Starting gunicorn 20.1.0\u001b[0m\n",
      "\u001b[34m[2023-06-14 07:28:25 +0000] [1] [INFO] Listening at: http://0.0.0.0:8080 (1)\u001b[0m\n",
      "\u001b[34m[2023-06-14 07:28:25 +0000] [1] [INFO] Using worker: sync\u001b[0m\n",
      "\u001b[34m[2023-06-14 07:28:25 +0000] [44] [INFO] Booting worker with pid: 44\u001b[0m\n",
      "\u001b[34m[2023-06-14 07:28:25 +0000] [53] [INFO] Booting worker with pid: 53\u001b[0m\n",
      "\u001b[34m[2023-06-14 07:28:25 +0000] [62] [INFO] Booting worker with pid: 62\u001b[0m\n",
      "\u001b[34m[2023-06-14 07:28:25 +0000] [71] [INFO] Booting worker with pid: 71\u001b[0m\n",
      "\u001b[35m[06/14/2023 07:28:24 INFO 140653275408192] loaded request iterator application/x-recordio-protobuf\u001b[0m\n",
      "\u001b[35m[06/14/2023 07:28:24 INFO 140653275408192] loaded request iterator text/csv\u001b[0m\n",
      "\u001b[35m[06/14/2023 07:28:24 INFO 140653275408192] loaded response encoder application/json\u001b[0m\n",
      "\u001b[35m[06/14/2023 07:28:24 INFO 140653275408192] loaded response encoder application/jsonlines\u001b[0m\n",
      "\u001b[35m[06/14/2023 07:28:24 INFO 140653275408192] loaded response encoder application/x-recordio-protobuf\u001b[0m\n",
      "\u001b[35m[06/14/2023 07:28:24 INFO 140653275408192] loaded response encoder text/csv\u001b[0m\n",
      "\u001b[35m[06/14/2023 07:28:24 INFO 140653275408192] loaded entry point class algorithm:model\u001b[0m\n",
      "\u001b[35m[06/14/2023 07:28:24 INFO 140653275408192] Number of server workers: 4\u001b[0m\n",
      "\u001b[35m[06/14/2023 07:28:24 INFO 140653275408192] loading model...\u001b[0m\n",
      "\u001b[35m[06/14/2023 07:28:24 INFO 140653275408192] ...model loaded.\u001b[0m\n",
      "\u001b[35m[2023-06-14 07:28:25 +0000] [1] [INFO] Starting gunicorn 20.1.0\u001b[0m\n",
      "\u001b[35m[2023-06-14 07:28:25 +0000] [1] [INFO] Listening at: http://0.0.0.0:8080 (1)\u001b[0m\n",
      "\u001b[35m[2023-06-14 07:28:25 +0000] [1] [INFO] Using worker: sync\u001b[0m\n",
      "\u001b[35m[2023-06-14 07:28:25 +0000] [44] [INFO] Booting worker with pid: 44\u001b[0m\n",
      "\u001b[35m[2023-06-14 07:28:25 +0000] [53] [INFO] Booting worker with pid: 53\u001b[0m\n",
      "\u001b[35m[2023-06-14 07:28:25 +0000] [62] [INFO] Booting worker with pid: 62\u001b[0m\n",
      "\u001b[35m[2023-06-14 07:28:25 +0000] [71] [INFO] Booting worker with pid: 71\u001b[0m\n",
      "\u001b[34m#metrics {\"StartTime\": 1686727704.9511724, \"EndTime\": 1686727706.1939185, \"Dimensions\": {\"Algorithm\": \"LinearLearnerModel\", \"Host\": \"UNKNOWN\", \"Operation\": \"scoring\"}, \"Metrics\": {\"execution_parameters.count\": {\"sum\": 1.0, \"count\": 1, \"min\": 1, \"max\": 1}}}\u001b[0m\n",
      "\u001b[35m#metrics {\"StartTime\": 1686727704.9511724, \"EndTime\": 1686727706.1939185, \"Dimensions\": {\"Algorithm\": \"LinearLearnerModel\", \"Host\": \"UNKNOWN\", \"Operation\": \"scoring\"}, \"Metrics\": {\"execution_parameters.count\": {\"sum\": 1.0, \"count\": 1, \"min\": 1, \"max\": 1}}}\u001b[0m\n",
      "\u001b[32m2023-06-14T07:28:26.211:[sagemaker logs]: MaxConcurrentTransforms=4, MaxPayloadInMB=6, BatchStrategy=MULTI_RECORD\u001b[0m\n",
      "\u001b[34m#metrics {\"StartTime\": 1686727704.9511724, \"EndTime\": 1686727708.439874, \"Dimensions\": {\"Algorithm\": \"LinearLearnerModel\", \"Host\": \"UNKNOWN\", \"Operation\": \"scoring\"}, \"Metrics\": {\"json.encoder.time\": {\"sum\": 383.46362113952637, \"count\": 1, \"min\": 383.46362113952637, \"max\": 383.46362113952637}, \"invocations.count\": {\"sum\": 1.0, \"count\": 1, \"min\": 1, \"max\": 1}}}\u001b[0m\n",
      "\u001b[35m#metrics {\"StartTime\": 1686727704.9511724, \"EndTime\": 1686727708.439874, \"Dimensions\": {\"Algorithm\": \"LinearLearnerModel\", \"Host\": \"UNKNOWN\", \"Operation\": \"scoring\"}, \"Metrics\": {\"json.encoder.time\": {\"sum\": 383.46362113952637, \"count\": 1, \"min\": 383.46362113952637, \"max\": 383.46362113952637}, \"invocations.count\": {\"sum\": 1.0, \"count\": 1, \"min\": 1, \"max\": 1}}}\u001b[0m\n"
     ]
    },
    {
     "name": "stderr",
     "output_type": "stream",
     "text": [
      "INFO:botocore.credentials:Found credentials from IAM Role: BaseNotebookInstanceEc2InstanceRole\n"
     ]
    },
    {
     "name": "stdout",
     "output_type": "stream",
     "text": [
      "\u001b[34mDocker entrypoint called with argument(s): serve\u001b[0m\n",
      "\u001b[34mRunning default environment configuration script\u001b[0m\n",
      "\u001b[34m[06/14/2023 07:28:20 INFO 140653275408192] Memory profiler is not enabled by the environment variable ENABLE_PROFILER.\u001b[0m\n",
      "\u001b[35mDocker entrypoint called with argument(s): serve\u001b[0m\n",
      "\u001b[35mRunning default environment configuration script\u001b[0m\n",
      "\u001b[35m[06/14/2023 07:28:20 INFO 140653275408192] Memory profiler is not enabled by the environment variable ENABLE_PROFILER.\u001b[0m\n",
      "\u001b[34m[06/14/2023 07:28:24 WARNING 140653275408192] Loggers have already been setup.\u001b[0m\n",
      "\u001b[34m[06/14/2023 07:28:24 INFO 140653275408192] loaded entry point class algorithm.serve.server_config:config_api\u001b[0m\n",
      "\u001b[34m[06/14/2023 07:28:24 INFO 140653275408192] loading entry points\u001b[0m\n",
      "\u001b[34m[06/14/2023 07:28:24 INFO 140653275408192] loaded request iterator application/json\u001b[0m\n",
      "\u001b[34m[06/14/2023 07:28:24 INFO 140653275408192] loaded request iterator application/jsonlines\u001b[0m\n",
      "\u001b[35m[06/14/2023 07:28:24 WARNING 140653275408192] Loggers have already been setup.\u001b[0m\n",
      "\u001b[35m[06/14/2023 07:28:24 INFO 140653275408192] loaded entry point class algorithm.serve.server_config:config_api\u001b[0m\n",
      "\u001b[35m[06/14/2023 07:28:24 INFO 140653275408192] loading entry points\u001b[0m\n",
      "\u001b[35m[06/14/2023 07:28:24 INFO 140653275408192] loaded request iterator application/json\u001b[0m\n",
      "\u001b[35m[06/14/2023 07:28:24 INFO 140653275408192] loaded request iterator application/jsonlines\u001b[0m\n",
      "\u001b[34m[06/14/2023 07:28:24 INFO 140653275408192] loaded request iterator application/x-recordio-protobuf\u001b[0m\n",
      "\u001b[34m[06/14/2023 07:28:24 INFO 140653275408192] loaded request iterator text/csv\u001b[0m\n",
      "\u001b[34m[06/14/2023 07:28:24 INFO 140653275408192] loaded response encoder application/json\u001b[0m\n",
      "\u001b[34m[06/14/2023 07:28:24 INFO 140653275408192] loaded response encoder application/jsonlines\u001b[0m\n",
      "\u001b[34m[06/14/2023 07:28:24 INFO 140653275408192] loaded response encoder application/x-recordio-protobuf\u001b[0m\n",
      "\u001b[34m[06/14/2023 07:28:24 INFO 140653275408192] loaded response encoder text/csv\u001b[0m\n",
      "\u001b[34m[06/14/2023 07:28:24 INFO 140653275408192] loaded entry point class algorithm:model\u001b[0m\n",
      "\u001b[34m[06/14/2023 07:28:24 INFO 140653275408192] Number of server workers: 4\u001b[0m\n",
      "\u001b[34m[06/14/2023 07:28:24 INFO 140653275408192] loading model...\u001b[0m\n",
      "\u001b[34m[06/14/2023 07:28:24 INFO 140653275408192] ...model loaded.\u001b[0m\n",
      "\u001b[34m[2023-06-14 07:28:25 +0000] [1] [INFO] Starting gunicorn 20.1.0\u001b[0m\n",
      "\u001b[34m[2023-06-14 07:28:25 +0000] [1] [INFO] Listening at: http://0.0.0.0:8080 (1)\u001b[0m\n",
      "\u001b[34m[2023-06-14 07:28:25 +0000] [1] [INFO] Using worker: sync\u001b[0m\n",
      "\u001b[34m[2023-06-14 07:28:25 +0000] [44] [INFO] Booting worker with pid: 44\u001b[0m\n",
      "\u001b[34m[2023-06-14 07:28:25 +0000] [53] [INFO] Booting worker with pid: 53\u001b[0m\n",
      "\u001b[34m[2023-06-14 07:28:25 +0000] [62] [INFO] Booting worker with pid: 62\u001b[0m\n",
      "\u001b[34m[2023-06-14 07:28:25 +0000] [71] [INFO] Booting worker with pid: 71\u001b[0m\n",
      "\u001b[35m[06/14/2023 07:28:24 INFO 140653275408192] loaded request iterator application/x-recordio-protobuf\u001b[0m\n",
      "\u001b[35m[06/14/2023 07:28:24 INFO 140653275408192] loaded request iterator text/csv\u001b[0m\n",
      "\u001b[35m[06/14/2023 07:28:24 INFO 140653275408192] loaded response encoder application/json\u001b[0m\n",
      "\u001b[35m[06/14/2023 07:28:24 INFO 140653275408192] loaded response encoder application/jsonlines\u001b[0m\n",
      "\u001b[35m[06/14/2023 07:28:24 INFO 140653275408192] loaded response encoder application/x-recordio-protobuf\u001b[0m\n",
      "\u001b[35m[06/14/2023 07:28:24 INFO 140653275408192] loaded response encoder text/csv\u001b[0m\n",
      "\u001b[35m[06/14/2023 07:28:24 INFO 140653275408192] loaded entry point class algorithm:model\u001b[0m\n",
      "\u001b[35m[06/14/2023 07:28:24 INFO 140653275408192] Number of server workers: 4\u001b[0m\n",
      "\u001b[35m[06/14/2023 07:28:24 INFO 140653275408192] loading model...\u001b[0m\n",
      "\u001b[35m[06/14/2023 07:28:24 INFO 140653275408192] ...model loaded.\u001b[0m\n",
      "\u001b[35m[2023-06-14 07:28:25 +0000] [1] [INFO] Starting gunicorn 20.1.0\u001b[0m\n",
      "\u001b[35m[2023-06-14 07:28:25 +0000] [1] [INFO] Listening at: http://0.0.0.0:8080 (1)\u001b[0m\n",
      "\u001b[35m[2023-06-14 07:28:25 +0000] [1] [INFO] Using worker: sync\u001b[0m\n",
      "\u001b[35m[2023-06-14 07:28:25 +0000] [44] [INFO] Booting worker with pid: 44\u001b[0m\n",
      "\u001b[35m[2023-06-14 07:28:25 +0000] [53] [INFO] Booting worker with pid: 53\u001b[0m\n",
      "\u001b[35m[2023-06-14 07:28:25 +0000] [62] [INFO] Booting worker with pid: 62\u001b[0m\n",
      "\u001b[35m[2023-06-14 07:28:25 +0000] [71] [INFO] Booting worker with pid: 71\u001b[0m\n",
      "\u001b[34m#metrics {\"StartTime\": 1686727704.9511724, \"EndTime\": 1686727706.1939185, \"Dimensions\": {\"Algorithm\": \"LinearLearnerModel\", \"Host\": \"UNKNOWN\", \"Operation\": \"scoring\"}, \"Metrics\": {\"execution_parameters.count\": {\"sum\": 1.0, \"count\": 1, \"min\": 1, \"max\": 1}}}\u001b[0m\n",
      "\u001b[35m#metrics {\"StartTime\": 1686727704.9511724, \"EndTime\": 1686727706.1939185, \"Dimensions\": {\"Algorithm\": \"LinearLearnerModel\", \"Host\": \"UNKNOWN\", \"Operation\": \"scoring\"}, \"Metrics\": {\"execution_parameters.count\": {\"sum\": 1.0, \"count\": 1, \"min\": 1, \"max\": 1}}}\u001b[0m\n",
      "\u001b[32m2023-06-14T07:28:26.211:[sagemaker logs]: MaxConcurrentTransforms=4, MaxPayloadInMB=6, BatchStrategy=MULTI_RECORD\u001b[0m\n",
      "\u001b[34m#metrics {\"StartTime\": 1686727704.9511724, \"EndTime\": 1686727708.439874, \"Dimensions\": {\"Algorithm\": \"LinearLearnerModel\", \"Host\": \"UNKNOWN\", \"Operation\": \"scoring\"}, \"Metrics\": {\"json.encoder.time\": {\"sum\": 383.46362113952637, \"count\": 1, \"min\": 383.46362113952637, \"max\": 383.46362113952637}, \"invocations.count\": {\"sum\": 1.0, \"count\": 1, \"min\": 1, \"max\": 1}}}\u001b[0m\n",
      "\u001b[35m#metrics {\"StartTime\": 1686727704.9511724, \"EndTime\": 1686727708.439874, \"Dimensions\": {\"Algorithm\": \"LinearLearnerModel\", \"Host\": \"UNKNOWN\", \"Operation\": \"scoring\"}, \"Metrics\": {\"json.encoder.time\": {\"sum\": 383.46362113952637, \"count\": 1, \"min\": 383.46362113952637, \"max\": 383.46362113952637}, \"invocations.count\": {\"sum\": 1.0, \"count\": 1, \"min\": 1, \"max\": 1}}}\u001b[0m\n"
     ]
    }
   ],
   "source": [
    "test_labels, target_predicted = batch_linear_predict(test, classifier_estimator)"
   ]
  },
  {
   "attachments": {},
   "cell_type": "markdown",
   "metadata": {},
   "source": [
    "To view a plot of the confusion matrix, and various scoring metrics, create a couple of functions:"
   ]
  },
  {
   "cell_type": "code",
   "execution_count": 59,
   "metadata": {
    "tags": []
   },
   "outputs": [],
   "source": [
    "from sklearn.metrics import confusion_matrix\n",
    "\n",
    "def plot_confusion_matrix(test_labels, target_predicted):\n",
    "    matrix = confusion_matrix(test_labels, target_predicted)\n",
    "    df_confusion = pd.DataFrame(matrix)\n",
    "    colormap = sns.color_palette(\"BrBG\", 10)\n",
    "    sns.heatmap(df_confusion, annot=True, fmt='.2f', cbar=None, cmap=colormap)\n",
    "    plt.title(\"Confusion Matrix\")\n",
    "    plt.tight_layout()\n",
    "    plt.ylabel(\"True Class\")\n",
    "    plt.xlabel(\"Predicted Class\")\n",
    "    plt.show()\n",
    "    "
   ]
  },
  {
   "cell_type": "code",
   "execution_count": 60,
   "metadata": {
    "tags": []
   },
   "outputs": [],
   "source": [
    "from sklearn import metrics\n",
    "\n",
    "def plot_roc(test_labels, target_predicted):\n",
    "    TN, FP, FN, TP = confusion_matrix(test_labels, target_predicted).ravel()\n",
    "    # Sensitivity, hit rate, recall, or true positive rate\n",
    "    Sensitivity  = float(TP)/(TP+FN)*100\n",
    "    # Specificity or true negative rate\n",
    "    Specificity  = float(TN)/(TN+FP)*100\n",
    "    # Precision or positive predictive value\n",
    "    Precision = float(TP)/(TP+FP)*100\n",
    "    # Negative predictive value\n",
    "    NPV = float(TN)/(TN+FN)*100\n",
    "    # Fall out or false positive rate\n",
    "    FPR = float(FP)/(FP+TN)*100\n",
    "    # False negative rate\n",
    "    FNR = float(FN)/(TP+FN)*100\n",
    "    # False discovery rate\n",
    "    FDR = float(FP)/(TP+FP)*100\n",
    "    # Overall accuracy\n",
    "    ACC = float(TP+TN)/(TP+FP+FN+TN)*100\n",
    "\n",
    "    print(\"Sensitivity or TPR: \", Sensitivity, \"%\") \n",
    "    print( \"Specificity or TNR: \",Specificity, \"%\") \n",
    "    print(\"Precision: \",Precision, \"%\") \n",
    "    print(\"Negative Predictive Value: \",NPV, \"%\") \n",
    "    print( \"False Positive Rate: \",FPR,\"%\")\n",
    "    print(\"False Negative Rate: \",FNR, \"%\") \n",
    "    print(\"False Discovery Rate: \",FDR, \"%\" )\n",
    "    print(\"Accuracy: \",ACC, \"%\") \n",
    "\n",
    "    test_labels = test.iloc[:,0];\n",
    "    print(\"Validation AUC\", metrics.roc_auc_score(test_labels, target_predicted) )\n",
    "\n",
    "    fpr, tpr, thresholds = metrics.roc_curve(test_labels, target_predicted)\n",
    "    roc_auc = metrics.auc(fpr, tpr)\n",
    "\n",
    "    plt.figure()\n",
    "    plt.plot(fpr, tpr, label='ROC curve (area = %0.2f)' % (roc_auc))\n",
    "    plt.plot([0, 1], [0, 1], 'k--')\n",
    "    plt.xlim([0.0, 1.0])\n",
    "    plt.ylim([0.0, 1.05])\n",
    "    plt.xlabel('False Positive Rate')\n",
    "    plt.ylabel('True Positive Rate')\n",
    "    plt.title('Receiver operating characteristic')\n",
    "    plt.legend(loc=\"lower right\")\n",
    "\n",
    "    # create the axis of thresholds (scores)\n",
    "    ax2 = plt.gca().twinx()\n",
    "    ax2.plot(fpr, thresholds, markeredgecolor='r',linestyle='dashed', color='r')\n",
    "    ax2.set_ylabel('Threshold',color='r')\n",
    "    ax2.set_ylim([thresholds[-1],thresholds[0]])\n",
    "    ax2.set_xlim([fpr[0],fpr[-1]])\n",
    "\n",
    "    print(plt.figure())"
   ]
  },
  {
   "cell_type": "code",
   "execution_count": 61,
   "metadata": {
    "tags": []
   },
   "outputs": [
    {
     "data": {
      "image/png": "[encoded data removed]",
      "text/plain": [
       "<Figure size 640x480 with 1 Axes>"
      ]
     },
     "metadata": {},
     "output_type": "display_data"
    }
   ],
   "source": [
    "plot_confusion_matrix(test_labels , target_predicted)"
   ]
  },
  {
   "cell_type": "code",
   "execution_count": 63,
   "metadata": {
    "tags": []
   },
   "outputs": [
    {
     "name": "stdout",
     "output_type": "stream",
     "text": [
      "Sensitivity or TPR:  0.0 %\n",
      "Specificity or TNR:  100.0 %\n",
      "Precision:  nan %\n",
      "Negative Predictive Value:  79.00879804841067 %\n",
      "False Positive Rate:  0.0 %\n",
      "False Negative Rate:  100.0 %\n",
      "False Discovery Rate:  nan %\n",
      "Accuracy:  79.00879804841067 %\n",
      "Validation AUC 0.5\n",
      "Figure(640x480)\n"
     ]
    },
    {
     "data": {
      "image/png": "[encoded data removed]",
      "text/plain": [
       "<Figure size 640x480 with 2 Axes>"
      ]
     },
     "metadata": {},
     "output_type": "display_data"
    },
    {
     "data": {
      "text/plain": [
       "<Figure size 640x480 with 0 Axes>"
      ]
     },
     "metadata": {},
     "output_type": "display_data"
    }
   ],
   "source": [
    "plot_roc(test_labels , target_predicted)"
   ]
  },
  {
   "attachments": {},
   "cell_type": "markdown",
   "metadata": {
    "jp-MarkdownHeadingCollapsed": true,
    "tags": []
   },
   "source": [
    "The model has a specificity of 100.0%, meaning it correctly identified all negative cases. This indicates a low false positive rate, suggesting the model performs well in identifying negative cases.\n",
    "\n",
    "The model has an NPV of 79.0%, indicating a relatively high accuracy in correctly identifying negative cases.\n",
    "\n",
    "##### False Positive Rate (FPR): The model has a false positive rate of 0.0%, which suggests it has a low rate of incorrectly identifying negative cases as positive.\n",
    "\n",
    "##### False Negative Rate (FNR): The model has a false negative rate of 100.0%, indicating it incorrectly identifies all positive cases as negative.\n",
    "\n",
    "False Discovery Rate (FDR): The precision value is \"nan,\" so it is not possible to determine the false discovery rate.\n",
    "\n",
    "#### Accuracy: The model has an accuracy of 79.0%, which represents the overall correctness of the predictions. (both true positives and true negatives) \n",
    "\n",
    "Validation AUC (Area Under the ROC Curve): 0.5\n",
    "\n",
    "The AUC score is 0.5, which indicates that the model's ability to distinguish between the two classes is random. An AUC of 0.5 suggests that the model is not performing better than random guessing."
   ]
  },
  {
   "cell_type": "markdown",
   "metadata": {},
   "source": [
    "Trying Feature Engineering "
   ]
  }
 ],
 "metadata": {
  "kernelspec": {
   "display_name": "conda_python3",
   "language": "python",
   "name": "conda_python3"
  },
  "language_info": {
   "codemirror_mode": {
    "name": "ipython",
    "version": 3
   },
   "file_extension": ".py",
   "mimetype": "text/x-python",
   "name": "python",
   "nbconvert_exporter": "python",
   "pygments_lexer": "ipython3",
   "version": "3.10.8"
  }
 },
 "nbformat": 4,
 "nbformat_minor": 4
}
