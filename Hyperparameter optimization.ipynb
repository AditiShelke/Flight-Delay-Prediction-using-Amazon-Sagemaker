{
 "cells": [
  {
   "attachments": {},
   "cell_type": "markdown",
   "metadata": {},
   "source": [
    "### Try different thresholds"
   ]
  },
  {
   "attachments": {},
   "cell_type": "markdown",
   "metadata": {},
   "source": [
    "### Hyperparameter optimization (HPO)"
   ]
  },
  {
   "cell_type": "code",
   "execution_count": 101,
   "metadata": {
    "tags": []
   },
   "outputs": [],
   "source": [
    "from sagemaker.tuner import IntegerParameter, CategoricalParameter, ContinuousParameter, HyperparameterTuner\n",
    "\n",
    "### You can spin up multiple instances to do hyperparameter optimization in parallel\n",
    "\n",
    "xgb = sagemaker.estimator.Estimator(container,\n",
    "                                    role=sagemaker.get_execution_role(), \n",
    "                                    instance_count= 1, # make sure you have a limit set for these instances\n",
    "                                    instance_type=instance_type, \n",
    "                                    output_path='s3://{}/{}/output'.format(bucket, prefix),\n",
    "                                    sagemaker_session=sess)\n",
    "\n",
    "xgb.set_hyperparameters(eval_metric='auc',\n",
    "                        objective='binary:logistic',\n",
    "                        num_round=100,\n",
    "                        rate_drop=0.3,\n",
    "                        tweedie_variance_power=1.4)\n",
    "\n",
    "hyperparameter_ranges = {'alpha': ContinuousParameter(0, 1000, scaling_type='Linear'),\n",
    "                         'eta': ContinuousParameter(0.1, 0.5, scaling_type='Linear'),\n",
    "                         'min_child_weight': ContinuousParameter(3, 10, scaling_type='Linear'),\n",
    "                         'subsample': ContinuousParameter(0.5, 1),\n",
    "                         'num_round': IntegerParameter(10,150)}\n",
    "\n",
    "objective_metric_name = 'validation:auc'\n",
    "\n",
    "tuner = HyperparameterTuner(xgb,\n",
    "                            objective_metric_name,\n",
    "                            hyperparameter_ranges,\n",
    "                            max_jobs=10, # Set this to 10 or above depending upon budget and available time.\n",
    "                            max_parallel_jobs=1)"
   ]
  },
  {
   "cell_type": "code",
   "execution_count": 102,
   "metadata": {
    "tags": []
   },
   "outputs": [
    {
     "name": "stderr",
     "output_type": "stream",
     "text": [
      "WARNING:sagemaker.estimator:No finished training job found associated with this estimator. Please make sure this estimator is only used for building workflow config\n",
      "WARNING:sagemaker.estimator:No finished training job found associated with this estimator. Please make sure this estimator is only used for building workflow config\n",
      "INFO:sagemaker:Creating hyperparameter tuning job with name: sagemaker-xgboost-230614-0832\n"
     ]
    },
    {
     "name": "stdout",
     "output_type": "stream",
     "text": [
      ".................................................................................................................................................................................................................................................................................................................................................................................................................................................................................................................................................................................................................................!\n",
      "!\n"
     ]
    }
   ],
   "source": [
    "tuner.fit(inputs=data_channels)\n",
    "tuner.wait()"
   ]
  },
  {
   "cell_type": "code",
   "execution_count": 103,
   "metadata": {
    "tags": []
   },
   "outputs": [
    {
     "data": {
      "text/plain": [
       "'Completed'"
      ]
     },
     "execution_count": 103,
     "metadata": {},
     "output_type": "execute_result"
    }
   ],
   "source": [
    "boto3.client('sagemaker').describe_hyper_parameter_tuning_job(\n",
    "    HyperParameterTuningJobName=tuner.latest_tuning_job.job_name)['HyperParameterTuningJobStatus']"
   ]
  },
  {
   "cell_type": "code",
   "execution_count": 104,
   "metadata": {
    "tags": []
   },
   "outputs": [
    {
     "name": "stderr",
     "output_type": "stream",
     "text": [
      "INFO:botocore.credentials:Found credentials from IAM Role: BaseNotebookInstanceEc2InstanceRole\n"
     ]
    },
    {
     "name": "stdout",
     "output_type": "stream",
     "text": [
      "tuning job name:sagemaker-xgboost-230614-0832\n",
      "best training job: sagemaker-xgboost-230614-0832-004-067096ed\n",
      "\n",
      "2023-06-14 08:56:43 Starting - Found matching resource for reuse\n",
      "2023-06-14 08:56:43 Downloading - Downloading input data\n",
      "2023-06-14 08:56:43 Training - Training image download completed. Training in progress.\n",
      "2023-06-14 08:56:43 Uploading - Uploading generated training model\n",
      "2023-06-14 08:56:43 Completed - Resource reused by training job: sagemaker-xgboost-230614-0832-005-94eedb2b\n"
     ]
    },
    {
     "data": {
      "text/html": [
       "<div>\n",
       "<style scoped>\n",
       "    .dataframe tbody tr th:only-of-type {\n",
       "        vertical-align: middle;\n",
       "    }\n",
       "\n",
       "    .dataframe tbody tr th {\n",
       "        vertical-align: top;\n",
       "    }\n",
       "\n",
       "    .dataframe thead th {\n",
       "        text-align: right;\n",
       "    }\n",
       "</style>\n",
       "<table border=\"1\" class=\"dataframe\">\n",
       "  <thead>\n",
       "    <tr style=\"text-align: right;\">\n",
       "      <th></th>\n",
       "      <th>alpha</th>\n",
       "      <th>eta</th>\n",
       "      <th>min_child_weight</th>\n",
       "      <th>num_round</th>\n",
       "      <th>subsample</th>\n",
       "      <th>TrainingJobName</th>\n",
       "      <th>TrainingJobStatus</th>\n",
       "      <th>FinalObjectiveValue</th>\n",
       "      <th>TrainingStartTime</th>\n",
       "      <th>TrainingEndTime</th>\n",
       "      <th>TrainingElapsedTimeSeconds</th>\n",
       "    </tr>\n",
       "  </thead>\n",
       "  <tbody>\n",
       "    <tr>\n",
       "      <th>0</th>\n",
       "      <td>342.717258</td>\n",
       "      <td>0.476374</td>\n",
       "      <td>7.402589</td>\n",
       "      <td>27.0</td>\n",
       "      <td>0.717950</td>\n",
       "      <td>sagemaker-xgboost-230614-0832-010-65f6cb3c</td>\n",
       "      <td>Completed</td>\n",
       "      <td>0.71425</td>\n",
       "      <td>2023-06-14 09:22:49+00:00</td>\n",
       "      <td>2023-06-14 09:24:41+00:00</td>\n",
       "      <td>112.0</td>\n",
       "    </tr>\n",
       "    <tr>\n",
       "      <th>1</th>\n",
       "      <td>444.129002</td>\n",
       "      <td>0.102858</td>\n",
       "      <td>5.244386</td>\n",
       "      <td>141.0</td>\n",
       "      <td>0.801704</td>\n",
       "      <td>sagemaker-xgboost-230614-0832-009-7adbd512</td>\n",
       "      <td>Completed</td>\n",
       "      <td>0.71685</td>\n",
       "      <td>2023-06-14 09:15:28+00:00</td>\n",
       "      <td>2023-06-14 09:22:07+00:00</td>\n",
       "      <td>399.0</td>\n",
       "    </tr>\n",
       "    <tr>\n",
       "      <th>2</th>\n",
       "      <td>947.813502</td>\n",
       "      <td>0.460997</td>\n",
       "      <td>6.031434</td>\n",
       "      <td>103.0</td>\n",
       "      <td>0.837927</td>\n",
       "      <td>sagemaker-xgboost-230614-0832-008-d3e2d74b</td>\n",
       "      <td>Completed</td>\n",
       "      <td>0.71178</td>\n",
       "      <td>2023-06-14 09:11:05+00:00</td>\n",
       "      <td>2023-06-14 09:14:38+00:00</td>\n",
       "      <td>213.0</td>\n",
       "    </tr>\n",
       "    <tr>\n",
       "      <th>3</th>\n",
       "      <td>823.142715</td>\n",
       "      <td>0.225853</td>\n",
       "      <td>6.975455</td>\n",
       "      <td>65.0</td>\n",
       "      <td>0.571492</td>\n",
       "      <td>sagemaker-xgboost-230614-0832-007-03b00a74</td>\n",
       "      <td>Completed</td>\n",
       "      <td>0.70866</td>\n",
       "      <td>2023-06-14 09:07:16+00:00</td>\n",
       "      <td>2023-06-14 09:10:48+00:00</td>\n",
       "      <td>212.0</td>\n",
       "    </tr>\n",
       "    <tr>\n",
       "      <th>4</th>\n",
       "      <td>737.200683</td>\n",
       "      <td>0.336504</td>\n",
       "      <td>3.914426</td>\n",
       "      <td>56.0</td>\n",
       "      <td>0.979797</td>\n",
       "      <td>sagemaker-xgboost-230614-0832-006-48a4026a</td>\n",
       "      <td>Completed</td>\n",
       "      <td>0.71549</td>\n",
       "      <td>2023-06-14 09:04:08+00:00</td>\n",
       "      <td>2023-06-14 09:06:55+00:00</td>\n",
       "      <td>167.0</td>\n",
       "    </tr>\n",
       "  </tbody>\n",
       "</table>\n",
       "</div>"
      ],
      "text/plain": [
       "        alpha       eta  min_child_weight  num_round  subsample  \\\n",
       "0  342.717258  0.476374          7.402589       27.0   0.717950   \n",
       "1  444.129002  0.102858          5.244386      141.0   0.801704   \n",
       "2  947.813502  0.460997          6.031434      103.0   0.837927   \n",
       "3  823.142715  0.225853          6.975455       65.0   0.571492   \n",
       "4  737.200683  0.336504          3.914426       56.0   0.979797   \n",
       "\n",
       "                              TrainingJobName TrainingJobStatus  \\\n",
       "0  sagemaker-xgboost-230614-0832-010-65f6cb3c         Completed   \n",
       "1  sagemaker-xgboost-230614-0832-009-7adbd512         Completed   \n",
       "2  sagemaker-xgboost-230614-0832-008-d3e2d74b         Completed   \n",
       "3  sagemaker-xgboost-230614-0832-007-03b00a74         Completed   \n",
       "4  sagemaker-xgboost-230614-0832-006-48a4026a         Completed   \n",
       "\n",
       "   FinalObjectiveValue         TrainingStartTime           TrainingEndTime  \\\n",
       "0              0.71425 2023-06-14 09:22:49+00:00 2023-06-14 09:24:41+00:00   \n",
       "1              0.71685 2023-06-14 09:15:28+00:00 2023-06-14 09:22:07+00:00   \n",
       "2              0.71178 2023-06-14 09:11:05+00:00 2023-06-14 09:14:38+00:00   \n",
       "3              0.70866 2023-06-14 09:07:16+00:00 2023-06-14 09:10:48+00:00   \n",
       "4              0.71549 2023-06-14 09:04:08+00:00 2023-06-14 09:06:55+00:00   \n",
       "\n",
       "   TrainingElapsedTimeSeconds  \n",
       "0                       112.0  \n",
       "1                       399.0  \n",
       "2                       213.0  \n",
       "3                       212.0  \n",
       "4                       167.0  "
      ]
     },
     "execution_count": 104,
     "metadata": {},
     "output_type": "execute_result"
    }
   ],
   "source": [
    "sage_client = boto3.Session().client('sagemaker')\n",
    "tuning_job_name = tuner.latest_tuning_job.job_name\n",
    "print(f'tuning job name:{tuning_job_name}')\n",
    "tuning_job_result = sage_client.describe_hyper_parameter_tuning_job(HyperParameterTuningJobName=tuning_job_name)\n",
    "best_training_job = tuning_job_result['BestTrainingJob']\n",
    "best_training_job_name = best_training_job['TrainingJobName']\n",
    "print(f\"best training job: {best_training_job_name}\")\n",
    "\n",
    "best_estimator = tuner.best_estimator()\n",
    "\n",
    "tuner_df = sagemaker.HyperparameterTuningJobAnalytics(tuning_job_name).dataframe()\n",
    "tuner_df.head()"
   ]
  },
  {
   "attachments": {},
   "cell_type": "markdown",
   "metadata": {},
   "source": [
    "Use the estimator `best_estimator` and train it by using the data. \n",
    "\n",
    "**Tip:** See the previous XGBoost estimator fit function."
   ]
  },
  {
   "cell_type": "code",
   "execution_count": 106,
   "metadata": {
    "tags": []
   },
   "outputs": [
    {
     "name": "stderr",
     "output_type": "stream",
     "text": [
      "INFO:sagemaker:Creating training-job with name: sagemaker-xgboost-2023-06-14-09-26-31-880\n"
     ]
    },
    {
     "name": "stdout",
     "output_type": "stream",
     "text": [
      "2023-06-14 09:26:31 Starting - Starting the training job......\n",
      "2023-06-14 09:27:11 Starting - Preparing the instances for training......\n",
      "2023-06-14 09:28:31 Downloading - Downloading input data......\n",
      "2023-06-14 09:29:06 Training - Downloading the training image...\n",
      "2023-06-14 09:29:47 Training - Training image download completed. Training in progress..\u001b[34m[2023-06-14 09:30:03.693 ip-10-0-105-15.ec2.internal:7 INFO utils.py:27] RULE_JOB_STOP_SIGNAL_FILENAME: None\u001b[0m\n",
      "\u001b[34mINFO:sagemaker-containers:Imported framework sagemaker_xgboost_container.training\u001b[0m\n",
      "\u001b[34mINFO:sagemaker-containers:Failed to parse hyperparameter _tuning_objective_metric value validation:auc to Json.\u001b[0m\n",
      "\u001b[34mReturning the value itself\u001b[0m\n",
      "\u001b[34mINFO:sagemaker-containers:Failed to parse hyperparameter eval_metric value auc to Json.\u001b[0m\n",
      "\u001b[34mReturning the value itself\u001b[0m\n",
      "\u001b[34mINFO:sagemaker-containers:Failed to parse hyperparameter objective value binary:logistic to Json.\u001b[0m\n",
      "\u001b[34mReturning the value itself\u001b[0m\n",
      "\u001b[34mINFO:sagemaker-containers:No GPUs detected (normal if no gpus installed)\u001b[0m\n",
      "\u001b[34mINFO:sagemaker_xgboost_container.training:Running XGBoost Sagemaker in algorithm mode\u001b[0m\n",
      "\u001b[34mINFO:root:Determined delimiter of CSV input is ','\u001b[0m\n",
      "\u001b[34mINFO:root:Determined delimiter of CSV input is ','\u001b[0m\n",
      "\u001b[34mINFO:root:Determined delimiter of CSV input is ','\u001b[0m\n",
      "\u001b[34mINFO:root:Determined delimiter of CSV input is ','\u001b[0m\n",
      "\u001b[34mINFO:root:Single node training.\u001b[0m\n",
      "\u001b[34mINFO:root:Setting up HPO optimized metric to be : auc\u001b[0m\n",
      "\u001b[34m[09:30:08] 1308472x84 matrix with 109911648 entries loaded from /opt/ml/input/data/train?format=csv&label_column=0&delimiter=,\u001b[0m\n",
      "\u001b[34m[09:30:09] 163559x84 matrix with 13738956 entries loaded from /opt/ml/input/data/validation?format=csv&label_column=0&delimiter=,\u001b[0m\n",
      "\u001b[34m[2023-06-14 09:30:09.201 ip-10-0-105-15.ec2.internal:7 INFO json_config.py:91] Creating hook from json_config at /opt/ml/input/config/debughookconfig.json.\u001b[0m\n",
      "\u001b[34m[2023-06-14 09:30:09.202 ip-10-0-105-15.ec2.internal:7 INFO hook.py:201] tensorboard_dir has not been set for the hook. SMDebug will not be exporting tensorboard summaries.\u001b[0m\n",
      "\u001b[34m[2023-06-14 09:30:09.202 ip-10-0-105-15.ec2.internal:7 INFO profiler_config_parser.py:102] User has disabled profiler.\u001b[0m\n",
      "\u001b[34m[2023-06-14 09:30:09.203 ip-10-0-105-15.ec2.internal:7 INFO hook.py:255] Saving to /opt/ml/output/tensors\u001b[0m\n",
      "\u001b[34m[2023-06-14 09:30:09.203 ip-10-0-105-15.ec2.internal:7 INFO state_store.py:77] The checkpoint config file /opt/ml/input/config/checkpointconfig.json does not exist.\u001b[0m\n",
      "\u001b[34mINFO:root:Debug hook created from config\u001b[0m\n",
      "\u001b[34mINFO:root:Train matrix has 1308472 rows\u001b[0m\n",
      "\u001b[34mINFO:root:Validation matrix has 163559 rows\u001b[0m\n",
      "\u001b[34m[0]#011train-auc:0.63921#011validation-auc:0.63759\u001b[0m\n",
      "\u001b[34m[2023-06-14 09:30:14.736 ip-10-0-105-15.ec2.internal:7 INFO hook.py:423] Monitoring the collections: metrics\u001b[0m\n",
      "\u001b[34m[2023-06-14 09:30:14.738 ip-10-0-105-15.ec2.internal:7 INFO hook.py:486] Hook is writing from the hook with pid: 7\u001b[0m\n",
      "\u001b[34m[1]#011train-auc:0.65601#011validation-auc:0.65417\u001b[0m\n",
      "\u001b[34m[2]#011train-auc:0.67370#011validation-auc:0.67192\u001b[0m\n",
      "\u001b[34m[3]#011train-auc:0.68265#011validation-auc:0.68122\u001b[0m\n",
      "\u001b[34m[4]#011train-auc:0.68773#011validation-auc:0.68634\u001b[0m\n",
      "\u001b[34m[5]#011train-auc:0.69195#011validation-auc:0.69051\u001b[0m\n",
      "\u001b[34m[6]#011train-auc:0.69468#011validation-auc:0.69320\u001b[0m\n",
      "\u001b[34m[7]#011train-auc:0.69706#011validation-auc:0.69568\u001b[0m\n",
      "\u001b[34m[8]#011train-auc:0.69822#011validation-auc:0.69698\u001b[0m\n",
      "\u001b[34m[9]#011train-auc:0.70035#011validation-auc:0.69913\u001b[0m\n",
      "\u001b[34m[10]#011train-auc:0.70149#011validation-auc:0.70029\u001b[0m\n",
      "\u001b[34m[11]#011train-auc:0.70360#011validation-auc:0.70221\u001b[0m\n",
      "\u001b[34m[12]#011train-auc:0.70440#011validation-auc:0.70291\u001b[0m\n",
      "\u001b[34m[13]#011train-auc:0.70595#011validation-auc:0.70451\u001b[0m\n",
      "\u001b[34m[14]#011train-auc:0.70711#011validation-auc:0.70577\u001b[0m\n",
      "\u001b[34m[15]#011train-auc:0.70788#011validation-auc:0.70657\u001b[0m\n",
      "\u001b[34m[16]#011train-auc:0.70845#011validation-auc:0.70722\u001b[0m\n",
      "\u001b[34m[17]#011train-auc:0.70912#011validation-auc:0.70771\u001b[0m\n",
      "\u001b[34m[18]#011train-auc:0.71026#011validation-auc:0.70889\u001b[0m\n",
      "\u001b[34m[19]#011train-auc:0.71081#011validation-auc:0.70930\u001b[0m\n",
      "\u001b[34m[20]#011train-auc:0.71158#011validation-auc:0.70995\u001b[0m\n",
      "\u001b[34m[21]#011train-auc:0.71264#011validation-auc:0.71112\u001b[0m\n",
      "\u001b[34m[22]#011train-auc:0.71309#011validation-auc:0.71150\u001b[0m\n",
      "\u001b[34m[23]#011train-auc:0.71350#011validation-auc:0.71192\u001b[0m\n",
      "\u001b[34m[24]#011train-auc:0.71374#011validation-auc:0.71218\u001b[0m\n",
      "\u001b[34m[25]#011train-auc:0.71415#011validation-auc:0.71257\u001b[0m\n",
      "\u001b[34m[26]#011train-auc:0.71475#011validation-auc:0.71311\u001b[0m\n",
      "\u001b[34m[27]#011train-auc:0.71496#011validation-auc:0.71326\u001b[0m\n",
      "\u001b[34m[28]#011train-auc:0.71552#011validation-auc:0.71385\u001b[0m\n",
      "\u001b[34m[29]#011train-auc:0.71582#011validation-auc:0.71413\u001b[0m\n",
      "\u001b[34m[30]#011train-auc:0.71600#011validation-auc:0.71428\u001b[0m\n",
      "\u001b[34m[31]#011train-auc:0.71625#011validation-auc:0.71450\u001b[0m\n",
      "\u001b[34m[32]#011train-auc:0.71647#011validation-auc:0.71470\u001b[0m\n",
      "\u001b[34m[33]#011train-auc:0.71675#011validation-auc:0.71501\u001b[0m\n",
      "\u001b[34m[34]#011train-auc:0.71701#011validation-auc:0.71516\u001b[0m\n",
      "\u001b[34m[35]#011train-auc:0.71732#011validation-auc:0.71543\u001b[0m\n",
      "\u001b[34m[36]#011train-auc:0.71751#011validation-auc:0.71555\u001b[0m\n",
      "\u001b[34m[37]#011train-auc:0.71767#011validation-auc:0.71566\u001b[0m\n",
      "\u001b[34m[38]#011train-auc:0.71780#011validation-auc:0.71578\u001b[0m\n",
      "\u001b[34m[39]#011train-auc:0.71789#011validation-auc:0.71584\u001b[0m\n",
      "\u001b[34m[40]#011train-auc:0.71818#011validation-auc:0.71609\u001b[0m\n",
      "\u001b[34m[41]#011train-auc:0.71842#011validation-auc:0.71632\u001b[0m\n",
      "\u001b[34m[42]#011train-auc:0.71876#011validation-auc:0.71661\u001b[0m\n",
      "\u001b[34m[43]#011train-auc:0.71890#011validation-auc:0.71671\u001b[0m\n",
      "\u001b[34m[44]#011train-auc:0.71898#011validation-auc:0.71683\u001b[0m\n",
      "\u001b[34m[45]#011train-auc:0.71927#011validation-auc:0.71715\u001b[0m\n",
      "\u001b[34m[46]#011train-auc:0.71942#011validation-auc:0.71729\u001b[0m\n",
      "\u001b[34m[47]#011train-auc:0.71953#011validation-auc:0.71740\u001b[0m\n",
      "\u001b[34m[48]#011train-auc:0.71966#011validation-auc:0.71747\u001b[0m\n",
      "\u001b[34m[49]#011train-auc:0.71982#011validation-auc:0.71758\u001b[0m\n",
      "\u001b[34m[50]#011train-auc:0.71999#011validation-auc:0.71775\u001b[0m\n",
      "\u001b[34m[51]#011train-auc:0.72004#011validation-auc:0.71779\u001b[0m\n",
      "\u001b[34m[52]#011train-auc:0.72008#011validation-auc:0.71783\u001b[0m\n",
      "\u001b[34m[53]#011train-auc:0.72015#011validation-auc:0.71789\u001b[0m\n",
      "\u001b[34m[54]#011train-auc:0.72026#011validation-auc:0.71802\u001b[0m\n",
      "\u001b[34m[55]#011train-auc:0.72026#011validation-auc:0.71802\u001b[0m\n",
      "\u001b[34m[56]#011train-auc:0.72039#011validation-auc:0.71811\u001b[0m\n",
      "\u001b[34m[57]#011train-auc:0.72055#011validation-auc:0.71820\u001b[0m\n",
      "\u001b[34m[58]#011train-auc:0.72062#011validation-auc:0.71827\u001b[0m\n",
      "\u001b[34m[59]#011train-auc:0.72074#011validation-auc:0.71838\u001b[0m\n",
      "\u001b[34m[60]#011train-auc:0.72079#011validation-auc:0.71842\u001b[0m\n",
      "\u001b[34m[61]#011train-auc:0.72103#011validation-auc:0.71867\u001b[0m\n",
      "\u001b[34m[62]#011train-auc:0.72108#011validation-auc:0.71873\u001b[0m\n",
      "\u001b[34m[63]#011train-auc:0.72125#011validation-auc:0.71885\u001b[0m\n",
      "\u001b[34m[64]#011train-auc:0.72132#011validation-auc:0.71890\u001b[0m\n",
      "\u001b[34m[65]#011train-auc:0.72142#011validation-auc:0.71903\u001b[0m\n",
      "\u001b[34m[66]#011train-auc:0.72149#011validation-auc:0.71912\u001b[0m\n",
      "\u001b[34m[67]#011train-auc:0.72171#011validation-auc:0.71932\u001b[0m\n",
      "\u001b[34m[68]#011train-auc:0.72187#011validation-auc:0.71947\u001b[0m\n",
      "\u001b[34m[69]#011train-auc:0.72189#011validation-auc:0.71947\u001b[0m\n",
      "\u001b[34m[70]#011train-auc:0.72192#011validation-auc:0.71952\u001b[0m\n",
      "\u001b[34m[71]#011train-auc:0.72204#011validation-auc:0.71965\u001b[0m\n",
      "\u001b[34m[72]#011train-auc:0.72209#011validation-auc:0.71966\u001b[0m\n",
      "\u001b[34m[73]#011train-auc:0.72220#011validation-auc:0.71975\u001b[0m\n",
      "\u001b[34m[74]#011train-auc:0.72232#011validation-auc:0.71986\u001b[0m\n",
      "\u001b[34m[75]#011train-auc:0.72239#011validation-auc:0.71991\u001b[0m\n",
      "\u001b[34m[76]#011train-auc:0.72246#011validation-auc:0.71996\u001b[0m\n",
      "\u001b[34m[77]#011train-auc:0.72247#011validation-auc:0.71998\u001b[0m\n",
      "\u001b[34m[78]#011train-auc:0.72257#011validation-auc:0.72007\u001b[0m\n",
      "\u001b[34m[79]#011train-auc:0.72260#011validation-auc:0.72011\u001b[0m\n",
      "\u001b[34m[80]#011train-auc:0.72260#011validation-auc:0.72011\u001b[0m\n",
      "\u001b[34m[81]#011train-auc:0.72270#011validation-auc:0.72020\u001b[0m\n",
      "\u001b[34m[82]#011train-auc:0.72280#011validation-auc:0.72030\u001b[0m\n",
      "\u001b[34m[83]#011train-auc:0.72285#011validation-auc:0.72036\u001b[0m\n",
      "\u001b[34m[84]#011train-auc:0.72287#011validation-auc:0.72037\u001b[0m\n",
      "\u001b[34m[85]#011train-auc:0.72301#011validation-auc:0.72049\u001b[0m\n",
      "\u001b[34m[86]#011train-auc:0.72313#011validation-auc:0.72057\u001b[0m\n",
      "\u001b[34m[87]#011train-auc:0.72330#011validation-auc:0.72071\u001b[0m\n",
      "\u001b[34m[88]#011train-auc:0.72335#011validation-auc:0.72074\u001b[0m\n",
      "\u001b[34m[89]#011train-auc:0.72342#011validation-auc:0.72080\u001b[0m\n",
      "\u001b[34m[90]#011train-auc:0.72343#011validation-auc:0.72083\u001b[0m\n",
      "\u001b[34m[91]#011train-auc:0.72349#011validation-auc:0.72086\u001b[0m\n",
      "\u001b[34m[92]#011train-auc:0.72351#011validation-auc:0.72092\u001b[0m\n",
      "\n",
      "2023-06-14 09:34:39 Uploading - Uploading generated training model\n",
      "2023-06-14 09:34:39 Completed - Training job completed\n",
      "Training seconds: 369\n",
      "Billable seconds: 369\n"
     ]
    }
   ],
   "source": [
    "best_estimator.fit(inputs=data_channels)"
   ]
  },
  {
   "attachments": {},
   "cell_type": "markdown",
   "metadata": {},
   "source": [
    "Use the batch transformer for your new model, and evaluate the model on the test dataset."
   ]
  },
  {
   "cell_type": "code",
   "execution_count": 107,
   "metadata": {
    "tags": []
   },
   "outputs": [
    {
     "name": "stderr",
     "output_type": "stream",
     "text": [
      "INFO:sagemaker:Creating model with name: sagemaker-xgboost-2023-06-14-09-39-31-895\n",
      "INFO:sagemaker:Creating transform job with name: sagemaker-xgboost-2023-06-14-09-39-32-594\n"
     ]
    },
    {
     "name": "stdout",
     "output_type": "stream",
     "text": [
      "..................................\u001b[34m[2023-06-14:09:45:18:INFO] No GPUs detected (normal if no gpus installed)\u001b[0m\n",
      "\u001b[34m[2023-06-14:09:45:18:INFO] No GPUs detected (normal if no gpus installed)\u001b[0m\n",
      "\u001b[34m[2023-06-14:09:45:18:INFO] nginx config: \u001b[0m\n",
      "\u001b[34mworker_processes auto;\u001b[0m\n",
      "\u001b[34mdaemon off;\u001b[0m\n",
      "\u001b[34mpid /tmp/nginx.pid;\u001b[0m\n",
      "\u001b[34merror_log  /dev/stderr;\u001b[0m\n",
      "\u001b[34mworker_rlimit_nofile 4096;\u001b[0m\n",
      "\u001b[34mevents {\n",
      "  worker_connections 2048;\u001b[0m\n",
      "\u001b[34m}\u001b[0m\n",
      "\u001b[34mhttp {\n",
      "  include /etc/nginx/mime.types;\n",
      "  default_type application/octet-stream;\n",
      "  access_log /dev/stdout combined;\n",
      "  upstream gunicorn {\n",
      "    server unix:/tmp/gunicorn.sock;\n",
      "  }\n",
      "  server {\n",
      "    listen 8080 deferred;\n",
      "    client_max_body_size 0;\n",
      "    keepalive_timeout 3;\n",
      "    location ~ ^/(ping|invocations|execution-parameters) {\n",
      "      proxy_set_header X-Forwarded-For $proxy_add_x_forwarded_for;\n",
      "      proxy_set_header Host $http_host;\n",
      "      proxy_redirect off;\n",
      "      proxy_read_timeout 60s;\n",
      "      proxy_pass http://gunicorn;\n",
      "    }\n",
      "    location / {\n",
      "      return 404 \"{}\";\n",
      "    }\n",
      "  }\u001b[0m\n",
      "\u001b[34m}\u001b[0m\n",
      "\u001b[34m[2023-06-14 09:45:19 +0000] [19] [INFO] Starting gunicorn 19.10.0\u001b[0m\n",
      "\u001b[34m[2023-06-14 09:45:19 +0000] [19] [INFO] Listening at: unix:/tmp/gunicorn.sock (19)\u001b[0m\n",
      "\u001b[34m[2023-06-14 09:45:19 +0000] [19] [INFO] Using worker: gevent\u001b[0m\n",
      "\u001b[34m[2023-06-14 09:45:19 +0000] [26] [INFO] Booting worker with pid: 26\u001b[0m\n",
      "\u001b[34m[2023-06-14 09:45:19 +0000] [27] [INFO] Booting worker with pid: 27\u001b[0m\n",
      "\u001b[34m[2023-06-14 09:45:19 +0000] [28] [INFO] Booting worker with pid: 28\u001b[0m\n",
      "\u001b[34m[2023-06-14 09:45:19 +0000] [29] [INFO] Booting worker with pid: 29\u001b[0m\n",
      "\u001b[34m[2023-06-14:09:45:25:INFO] No GPUs detected (normal if no gpus installed)\u001b[0m\n",
      "\u001b[34m169.254.255.130 - - [14/Jun/2023:09:45:25 +0000] \"GET /ping HTTP/1.1\" 200 0 \"-\" \"Go-http-client/1.1\"\u001b[0m\n",
      "\u001b[34m169.254.255.130 - - [14/Jun/2023:09:45:25 +0000] \"GET /execution-parameters HTTP/1.1\" 200 84 \"-\" \"Go-http-client/1.1\"\u001b[0m\n",
      "\u001b[35m[2023-06-14:09:45:25:INFO] No GPUs detected (normal if no gpus installed)\u001b[0m\n",
      "\u001b[35m169.254.255.130 - - [14/Jun/2023:09:45:25 +0000] \"GET /ping HTTP/1.1\" 200 0 \"-\" \"Go-http-client/1.1\"\u001b[0m\n",
      "\u001b[35m169.254.255.130 - - [14/Jun/2023:09:45:25 +0000] \"GET /execution-parameters HTTP/1.1\" 200 84 \"-\" \"Go-http-client/1.1\"\u001b[0m\n",
      "\u001b[34m[2023-06-14:09:45:26:INFO] No GPUs detected (normal if no gpus installed)\u001b[0m\n",
      "\u001b[35m[2023-06-14:09:45:26:INFO] No GPUs detected (normal if no gpus installed)\u001b[0m\n",
      "\u001b[34m[2023-06-14:09:45:26:INFO] Determined delimiter of CSV input is ','\u001b[0m\n",
      "\u001b[34m[2023-06-14:09:45:27:INFO] No GPUs detected (normal if no gpus installed)\u001b[0m\n",
      "\u001b[34m[2023-06-14:09:45:27:INFO] Determined delimiter of CSV input is ','\u001b[0m\n",
      "\u001b[34m[2023-06-14:09:45:27:INFO] Determined delimiter of CSV input is ','\u001b[0m\n",
      "\u001b[35m[2023-06-14:09:45:26:INFO] Determined delimiter of CSV input is ','\u001b[0m\n",
      "\u001b[35m[2023-06-14:09:45:27:INFO] No GPUs detected (normal if no gpus installed)\u001b[0m\n",
      "\u001b[35m[2023-06-14:09:45:27:INFO] Determined delimiter of CSV input is ','\u001b[0m\n",
      "\u001b[35m[2023-06-14:09:45:27:INFO] Determined delimiter of CSV input is ','\u001b[0m\n",
      "\u001b[32m2023-06-14T09:45:25.713:[sagemaker logs]: MaxConcurrentTransforms=4, MaxPayloadInMB=6, BatchStrategy=MULTI_RECORD\u001b[0m\n",
      "\u001b[34m[2023-06-14:09:45:29:INFO] No GPUs detected (normal if no gpus installed)\u001b[0m\n",
      "\u001b[34m169.254.255.130 - - [14/Jun/2023:09:45:29 +0000] \"POST /invocations HTTP/1.1\" 200 659692 \"-\" \"Go-http-client/1.1\"\u001b[0m\n",
      "\u001b[34m[2023-06-14:09:45:29:INFO] Determined delimiter of CSV input is ','\u001b[0m\n",
      "\u001b[35m[2023-06-14:09:45:29:INFO] No GPUs detected (normal if no gpus installed)\u001b[0m\n",
      "\u001b[35m169.254.255.130 - - [14/Jun/2023:09:45:29 +0000] \"POST /invocations HTTP/1.1\" 200 659692 \"-\" \"Go-http-client/1.1\"\u001b[0m\n",
      "\u001b[35m[2023-06-14:09:45:29:INFO] Determined delimiter of CSV input is ','\u001b[0m\n",
      "\n",
      "\u001b[34m169.254.255.130 - - [14/Jun/2023:09:45:31 +0000] \"POST /invocations HTTP/1.1\" 200 659519 \"-\" \"Go-http-client/1.1\"\u001b[0m\n",
      "\u001b[35m169.254.255.130 - - [14/Jun/2023:09:45:31 +0000] \"POST /invocations HTTP/1.1\" 200 659519 \"-\" \"Go-http-client/1.1\"\u001b[0m\n",
      "\u001b[34m169.254.255.130 - - [14/Jun/2023:09:45:33 +0000] \"POST /invocations HTTP/1.1\" 200 574720 \"-\" \"Go-http-client/1.1\"\u001b[0m\n",
      "\u001b[35m169.254.255.130 - - [14/Jun/2023:09:45:33 +0000] \"POST /invocations HTTP/1.1\" 200 574720 \"-\" \"Go-http-client/1.1\"\u001b[0m\n",
      "\u001b[34m[2023-06-14:09:45:18:INFO] No GPUs detected (normal if no gpus installed)\u001b[0m\n",
      "\u001b[35m[2023-06-14:09:45:18:INFO] No GPUs detected (normal if no gpus installed)\u001b[0m\n",
      "\u001b[34m[2023-06-14:09:45:18:INFO] No GPUs detected (normal if no gpus installed)\u001b[0m\n",
      "\u001b[34m[2023-06-14:09:45:18:INFO] nginx config: \u001b[0m\n",
      "\u001b[34mworker_processes auto;\u001b[0m\n",
      "\u001b[34mdaemon off;\u001b[0m\n",
      "\u001b[34mpid /tmp/nginx.pid;\u001b[0m\n",
      "\u001b[34merror_log  /dev/stderr;\u001b[0m\n",
      "\u001b[34mworker_rlimit_nofile 4096;\u001b[0m\n",
      "\u001b[34mevents {\n",
      "  worker_connections 2048;\u001b[0m\n",
      "\u001b[34m}\u001b[0m\n",
      "\u001b[35m[2023-06-14:09:45:18:INFO] No GPUs detected (normal if no gpus installed)\u001b[0m\n",
      "\u001b[35m[2023-06-14:09:45:18:INFO] nginx config: \u001b[0m\n",
      "\u001b[35mworker_processes auto;\u001b[0m\n",
      "\u001b[35mdaemon off;\u001b[0m\n",
      "\u001b[35mpid /tmp/nginx.pid;\u001b[0m\n",
      "\u001b[35merror_log  /dev/stderr;\u001b[0m\n",
      "\u001b[35mworker_rlimit_nofile 4096;\u001b[0m\n",
      "\u001b[35mevents {\n",
      "  worker_connections 2048;\u001b[0m\n",
      "\u001b[35m}\u001b[0m\n",
      "\u001b[34mhttp {\n",
      "  include /etc/nginx/mime.types;\n",
      "  default_type application/octet-stream;\n",
      "  access_log /dev/stdout combined;\n",
      "  upstream gunicorn {\n",
      "    server unix:/tmp/gunicorn.sock;\n",
      "  }\n",
      "  server {\n",
      "    listen 8080 deferred;\n",
      "    client_max_body_size 0;\n",
      "    keepalive_timeout 3;\n",
      "    location ~ ^/(ping|invocations|execution-parameters) {\n",
      "      proxy_set_header X-Forwarded-For $proxy_add_x_forwarded_for;\n",
      "      proxy_set_header Host $http_host;\n",
      "      proxy_redirect off;\n",
      "      proxy_read_timeout 60s;\n",
      "      proxy_pass http://gunicorn;\n",
      "    }\n",
      "    location / {\n",
      "      return 404 \"{}\";\n",
      "    }\n",
      "  }\u001b[0m\n",
      "\u001b[34m}\u001b[0m\n",
      "\u001b[35mhttp {\n",
      "  include /etc/nginx/mime.types;\n",
      "  default_type application/octet-stream;\n",
      "  access_log /dev/stdout combined;\n",
      "  upstream gunicorn {\n",
      "    server unix:/tmp/gunicorn.sock;\n",
      "  }\n",
      "  server {\n",
      "    listen 8080 deferred;\n",
      "    client_max_body_size 0;\n",
      "    keepalive_timeout 3;\n",
      "    location ~ ^/(ping|invocations|execution-parameters) {\n",
      "      proxy_set_header X-Forwarded-For $proxy_add_x_forwarded_for;\n",
      "      proxy_set_header Host $http_host;\n",
      "      proxy_redirect off;\n",
      "      proxy_read_timeout 60s;\n",
      "      proxy_pass http://gunicorn;\n",
      "    }\n",
      "    location / {\n",
      "      return 404 \"{}\";\n",
      "    }\n",
      "  }\u001b[0m\n",
      "\u001b[35m}\u001b[0m\n",
      "\u001b[34m[2023-06-14 09:45:19 +0000] [19] [INFO] Starting gunicorn 19.10.0\u001b[0m\n",
      "\u001b[34m[2023-06-14 09:45:19 +0000] [19] [INFO] Listening at: unix:/tmp/gunicorn.sock (19)\u001b[0m\n",
      "\u001b[35m[2023-06-14 09:45:19 +0000] [19] [INFO] Starting gunicorn 19.10.0\u001b[0m\n",
      "\u001b[35m[2023-06-14 09:45:19 +0000] [19] [INFO] Listening at: unix:/tmp/gunicorn.sock (19)\u001b[0m\n",
      "\u001b[34m[2023-06-14 09:45:19 +0000] [19] [INFO] Using worker: gevent\u001b[0m\n",
      "\u001b[34m[2023-06-14 09:45:19 +0000] [26] [INFO] Booting worker with pid: 26\u001b[0m\n",
      "\u001b[34m[2023-06-14 09:45:19 +0000] [27] [INFO] Booting worker with pid: 27\u001b[0m\n",
      "\u001b[34m[2023-06-14 09:45:19 +0000] [28] [INFO] Booting worker with pid: 28\u001b[0m\n",
      "\u001b[34m[2023-06-14 09:45:19 +0000] [29] [INFO] Booting worker with pid: 29\u001b[0m\n",
      "\u001b[35m[2023-06-14 09:45:19 +0000] [19] [INFO] Using worker: gevent\u001b[0m\n",
      "\u001b[35m[2023-06-14 09:45:19 +0000] [26] [INFO] Booting worker with pid: 26\u001b[0m\n",
      "\u001b[35m[2023-06-14 09:45:19 +0000] [27] [INFO] Booting worker with pid: 27\u001b[0m\n",
      "\u001b[35m[2023-06-14 09:45:19 +0000] [28] [INFO] Booting worker with pid: 28\u001b[0m\n",
      "\u001b[35m[2023-06-14 09:45:19 +0000] [29] [INFO] Booting worker with pid: 29\u001b[0m\n",
      "\u001b[34m[2023-06-14:09:45:25:INFO] No GPUs detected (normal if no gpus installed)\u001b[0m\n",
      "\u001b[34m169.254.255.130 - - [14/Jun/2023:09:45:25 +0000] \"GET /ping HTTP/1.1\" 200 0 \"-\" \"Go-http-client/1.1\"\u001b[0m\n",
      "\u001b[34m169.254.255.130 - - [14/Jun/2023:09:45:25 +0000] \"GET /execution-parameters HTTP/1.1\" 200 84 \"-\" \"Go-http-client/1.1\"\u001b[0m\n",
      "\u001b[35m[2023-06-14:09:45:25:INFO] No GPUs detected (normal if no gpus installed)\u001b[0m\n",
      "\u001b[35m169.254.255.130 - - [14/Jun/2023:09:45:25 +0000] \"GET /ping HTTP/1.1\" 200 0 \"-\" \"Go-http-client/1.1\"\u001b[0m\n",
      "\u001b[35m169.254.255.130 - - [14/Jun/2023:09:45:25 +0000] \"GET /execution-parameters HTTP/1.1\" 200 84 \"-\" \"Go-http-client/1.1\"\u001b[0m\n",
      "\u001b[34m[2023-06-14:09:45:26:INFO] No GPUs detected (normal if no gpus installed)\u001b[0m\n",
      "\u001b[35m[2023-06-14:09:45:26:INFO] No GPUs detected (normal if no gpus installed)\u001b[0m\n",
      "\u001b[34m[2023-06-14:09:45:26:INFO] Determined delimiter of CSV input is ','\u001b[0m\n",
      "\u001b[34m[2023-06-14:09:45:27:INFO] No GPUs detected (normal if no gpus installed)\u001b[0m\n",
      "\u001b[34m[2023-06-14:09:45:27:INFO] Determined delimiter of CSV input is ','\u001b[0m\n",
      "\u001b[34m[2023-06-14:09:45:27:INFO] Determined delimiter of CSV input is ','\u001b[0m\n",
      "\u001b[35m[2023-06-14:09:45:26:INFO] Determined delimiter of CSV input is ','\u001b[0m\n",
      "\u001b[35m[2023-06-14:09:45:27:INFO] No GPUs detected (normal if no gpus installed)\u001b[0m\n",
      "\u001b[35m[2023-06-14:09:45:27:INFO] Determined delimiter of CSV input is ','\u001b[0m\n",
      "\u001b[35m[2023-06-14:09:45:27:INFO] Determined delimiter of CSV input is ','\u001b[0m\n",
      "\u001b[32m2023-06-14T09:45:25.713:[sagemaker logs]: MaxConcurrentTransforms=4, MaxPayloadInMB=6, BatchStrategy=MULTI_RECORD\u001b[0m\n",
      "\u001b[34m[2023-06-14:09:45:29:INFO] No GPUs detected (normal if no gpus installed)\u001b[0m\n",
      "\u001b[34m169.254.255.130 - - [14/Jun/2023:09:45:29 +0000] \"POST /invocations HTTP/1.1\" 200 659692 \"-\" \"Go-http-client/1.1\"\u001b[0m\n",
      "\u001b[34m[2023-06-14:09:45:29:INFO] Determined delimiter of CSV input is ','\u001b[0m\n",
      "\u001b[35m[2023-06-14:09:45:29:INFO] No GPUs detected (normal if no gpus installed)\u001b[0m\n",
      "\u001b[35m169.254.255.130 - - [14/Jun/2023:09:45:29 +0000] \"POST /invocations HTTP/1.1\" 200 659692 \"-\" \"Go-http-client/1.1\"\u001b[0m\n",
      "\u001b[35m[2023-06-14:09:45:29:INFO] Determined delimiter of CSV input is ','\u001b[0m\n",
      "\u001b[34m169.254.255.130 - - [14/Jun/2023:09:45:31 +0000] \"POST /invocations HTTP/1.1\" 200 659559 \"-\" \"Go-http-client/1.1\"\u001b[0m\n",
      "\u001b[34m169.254.255.130 - - [14/Jun/2023:09:45:31 +0000] \"POST /invocations HTTP/1.1\" 200 659315 \"-\" \"Go-http-client/1.1\"\u001b[0m\n",
      "\u001b[34m[2023-06-14:09:45:31:INFO] Determined delimiter of CSV input is ','\u001b[0m\n",
      "\u001b[34m169.254.255.130 - - [14/Jun/2023:09:45:31 +0000] \"POST /invocations HTTP/1.1\" 200 659519 \"-\" \"Go-http-client/1.1\"\u001b[0m\n",
      "\u001b[35m169.254.255.130 - - [14/Jun/2023:09:45:31 +0000] \"POST /invocations HTTP/1.1\" 200 659559 \"-\" \"Go-http-client/1.1\"\u001b[0m\n",
      "\u001b[35m169.254.255.130 - - [14/Jun/2023:09:45:31 +0000] \"POST /invocations HTTP/1.1\" 200 659315 \"-\" \"Go-http-client/1.1\"\u001b[0m\n",
      "\u001b[35m[2023-06-14:09:45:31:INFO] Determined delimiter of CSV input is ','\u001b[0m\n",
      "\u001b[35m169.254.255.130 - - [14/Jun/2023:09:45:31 +0000] \"POST /invocations HTTP/1.1\" 200 659519 \"-\" \"Go-http-client/1.1\"\u001b[0m\n",
      "\u001b[34m169.254.255.130 - - [14/Jun/2023:09:45:33 +0000] \"POST /invocations HTTP/1.1\" 200 574720 \"-\" \"Go-http-client/1.1\"\u001b[0m\n",
      "\u001b[35m169.254.255.130 - - [14/Jun/2023:09:45:33 +0000] \"POST /invocations HTTP/1.1\" 200 574720 \"-\" \"Go-http-client/1.1\"\u001b[0m\n"
     ]
    }
   ],
   "source": [
    "batch_output = \"s3://{}/{}/batch-out/\".format(bucket,prefix)\n",
    "batch_input = \"s3://{}/{}/batch-in/{}\".format(bucket,prefix,batch_X_file)\n",
    "\n",
    "xgb_transformer = best_estimator.transformer(instance_count=1,\n",
    "                                       instance_type=instance_type,\n",
    "                                       strategy='MultiRecord',\n",
    "                                       assemble_with='Line',\n",
    "                                       output_path=batch_output)\n",
    "\n",
    "xgb_transformer.transform(data=batch_input,\n",
    "                         data_type='S3Prefix',\n",
    "                         content_type='text/csv',\n",
    "                         split_type='Line')\n",
    "xgb_transformer.wait()"
   ]
  },
  {
   "cell_type": "code",
   "execution_count": 108,
   "metadata": {
    "tags": []
   },
   "outputs": [],
   "source": [
    "s3 = boto3.client('s3')\n",
    "obj = s3.get_object(Bucket=bucket, Key=\"{}/batch-out/{}\".format(prefix,'batch-in.csv.out'))\n",
    "target_predicted = pd.read_csv(io.BytesIO(obj['Body'].read()),',',names=['target'])\n",
    "test_labels = test.iloc[:,0]"
   ]
  },
  {
   "attachments": {},
   "cell_type": "markdown",
   "metadata": {},
   "source": [
    "Get the predicted target and test labels."
   ]
  },
  {
   "cell_type": "code",
   "execution_count": 109,
   "metadata": {
    "tags": []
   },
   "outputs": [
    {
     "name": "stdout",
     "output_type": "stream",
     "text": [
      "     target\n",
      "0  0.100730\n",
      "1  0.076937\n",
      "2  0.255596\n",
      "3  0.272046\n",
      "4  0.444532\n",
      "   target\n",
      "0       0\n",
      "1       0\n",
      "2       0\n",
      "3       0\n",
      "4       0\n"
     ]
    }
   ],
   "source": [
    "print(target_predicted.head())\n",
    "\n",
    "def binary_convert(x):\n",
    "    threshold = 0.55\n",
    "    if x > threshold:\n",
    "        return 1\n",
    "    else:\n",
    "        return 0\n",
    "\n",
    "target_predicted['target'] = target_predicted['target'].apply(binary_convert)\n",
    "\n",
    "test_labels = test.iloc[:,0]\n",
    "\n",
    "print(target_predicted.head())"
   ]
  },
  {
   "cell_type": "code",
   "execution_count": 110,
   "metadata": {
    "tags": []
   },
   "outputs": [
    {
     "data": {
      "image/png": "[encoded data removed]",
      "text/plain": [
       "<Figure size 640x480 with 1 Axes>"
      ]
     },
     "metadata": {},
     "output_type": "display_data"
    }
   ],
   "source": [
    "plot_confusion_matrix(test_labels , target_predicted)"
   ]
  },
  {
   "cell_type": "code",
   "execution_count": 111,
   "metadata": {
    "tags": []
   },
   "outputs": [
    {
     "name": "stdout",
     "output_type": "stream",
     "text": [
      "Sensitivity or TPR:  8.86901814580724 %\n",
      "Specificity or TNR:  98.81680157243899 %\n",
      "Precision:  66.57192829033669 %\n",
      "Negative Predictive Value:  80.32015598955876 %\n",
      "False Positive Rate:  1.1831984275610172 %\n",
      "False Negative Rate:  91.13098185419275 %\n",
      "False Discovery Rate:  33.428071709663314 %\n",
      "Accuracy:  79.93568070237652 %\n",
      "Validation AUC 0.5384290985912312\n",
      "Figure(640x480)\n"
     ]
    },
    {
     "data": {
      "image/png": "[encoded data removed]",
      "text/plain": [
       "<Figure size 640x480 with 2 Axes>"
      ]
     },
     "metadata": {},
     "output_type": "display_data"
    },
    {
     "data": {
      "text/plain": [
       "<Figure size 640x480 with 0 Axes>"
      ]
     },
     "metadata": {},
     "output_type": "display_data"
    }
   ],
   "source": [
    "plot_roc(test_labels, target_predicted)"
   ]
  }
 ],
 "metadata": {
  "kernelspec": {
   "display_name": "conda_python3",
   "language": "python",
   "name": "conda_python3"
  },
  "language_info": {
   "codemirror_mode": {
    "name": "ipython",
    "version": 3
   },
   "file_extension": ".py",
   "mimetype": "text/x-python",
   "name": "python",
   "nbconvert_exporter": "python",
   "pygments_lexer": "ipython3",
   "version": "3.10.8"
  }
 },
 "nbformat": 4,
 "nbformat_minor": 4
}
